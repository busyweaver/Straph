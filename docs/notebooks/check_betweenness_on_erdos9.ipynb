{
 "cells": [
  {
   "cell_type": "code",
   "execution_count": 22,
   "metadata": {},
   "outputs": [
    {
     "name": "stdout",
     "output_type": "stream",
     "text": [
      "Processing /home/mehdi/Straph\n",
      "\u001b[33m  DEPRECATION: A future pip version will change local packages to be built in-place without first copying to a temporary directory. We recommend you use --use-feature=in-tree-build to test your packages with this new behavior before it becomes the default.\n",
      "   pip 21.3 will remove support for this functionality. You can find discussion regarding this at https://github.com/pypa/pip/issues/7555.\u001b[0m\n",
      "Building wheels for collected packages: straph\n",
      "  Building wheel for straph (setup.py) ... \u001b[?25ldone\n",
      "\u001b[?25h  Created wheel for straph: filename=straph-0.3-py3-none-any.whl size=123882 sha256=24d79205011a97bc08758a1bca4546531ac109a438aa0b485432f5790e6d491a\n",
      "  Stored in directory: /tmp/pip-ephem-wheel-cache-7jnisoxv/wheels/b5/a9/15/900863b02cb736e4f08449e03d1d2d6ad447e06de70afc5fed\n",
      "Successfully built straph\n",
      "Installing collected packages: straph\n",
      "  Attempting uninstall: straph\n",
      "    Found existing installation: straph 0.3\n",
      "    Uninstalling straph-0.3:\n",
      "      Successfully uninstalled straph-0.3\n",
      "Successfully installed straph-0.3\n",
      "\u001b[33mWARNING: You are using pip version 21.1.2; however, version 22.2.2 is available.\n",
      "You should consider upgrading via the '/home/mehdi/sage_github/sage/bin/python3 -m pip install --upgrade pip' command.\u001b[0m\n",
      "Note: you may need to restart the kernel to use updated packages.\n"
     ]
    }
   ],
   "source": [
    "pip install ../../"
   ]
  },
  {
   "cell_type": "code",
   "execution_count": 1,
   "metadata": {},
   "outputs": [],
   "source": [
    "import straph as sg\n",
    "import pandas as pd\n",
    "import matplotlib.pyplot as plt\n",
    "import straph.betweenness as bt\n",
    "import numpy"
   ]
  },
  {
   "cell_type": "code",
   "execution_count": 2,
   "metadata": {},
   "outputs": [],
   "source": [
    "plt.rcParams[\"figure.figsize\"] = (12,9)"
   ]
  },
  {
   "cell_type": "code",
   "execution_count": 3,
   "metadata": {},
   "outputs": [],
   "source": [
    "nb_erdos = 9"
   ]
  },
  {
   "cell_type": "code",
   "execution_count": 4,
   "metadata": {},
   "outputs": [
    {
     "name": "stdout",
     "output_type": "stream",
     "text": [
      "Nb of Nodes :  12\n",
      "Nb of segmented nodes :  12.0\n",
      "Nb of links :  46\n",
      "Nb of segmented links :  80.0\n",
      "Nb of event times :  64\n"
     ]
    }
   ],
   "source": [
    "path_directory = \"examples/\"\n",
    "S = sg.read_stream_graph(path_nodes=path_directory + \"erdos\"+str(nb_erdos)+\"_nodes.sg\",\n",
    "                      path_links=path_directory + \"erdos\"+ str(nb_erdos)+ \"_links.sg\")\n",
    "S.describe()"
   ]
  },
  {
   "cell_type": "code",
   "execution_count": 5,
   "metadata": {},
   "outputs": [],
   "source": [
    "bt.to_undirected(S)"
   ]
  },
  {
   "cell_type": "code",
   "execution_count": 6,
   "metadata": {},
   "outputs": [
    {
     "data": {
      "text/plain": [
       "<AxesSubplot:xlabel='t', ylabel='Nodes'>"
      ]
     },
     "execution_count": 6,
     "metadata": {},
     "output_type": "execute_result"
    },
    {
     "name": "stderr",
     "output_type": "stream",
     "text": [
      "findfont: Font family ['Garamond'] not found. Falling back to DejaVu Sans.\n"
     ]
    },
    {
     "data": {
      "image/png": "[encoded data removed]",
      "text/plain": [
       "<Figure size 864x648 with 1 Axes>"
      ]
     },
     "metadata": {
      "needs_background": "light"
     },
     "output_type": "display_data"
    }
   ],
   "source": [
    "S.plot()"
   ]
  },
  {
   "cell_type": "code",
   "execution_count": 7,
   "metadata": {},
   "outputs": [],
   "source": [
    "SS = S.stream_graph_to_link_stream()"
   ]
  },
  {
   "cell_type": "code",
   "execution_count": 8,
   "metadata": {},
   "outputs": [],
   "source": [
    "SS.write_to_matthieu_link_stream(\"erdos\" + str(nb_erdos))"
   ]
  },
  {
   "cell_type": "code",
   "execution_count": 9,
   "metadata": {},
   "outputs": [
    {
     "name": "stdout",
     "output_type": "stream",
     "text": [
      "lol\n",
      "lol\n",
      "lol\n",
      "lol\n",
      "lol\n",
      "lol\n",
      "lol\n",
      "lol\n",
      "lol\n",
      "lol\n",
      "lol\n",
      "lol\n",
      "lol\n",
      "lol\n",
      "lol\n",
      "lol\n",
      "lol\n",
      "lol\n",
      "lol\n",
      "lol\n",
      "lol\n",
      "lol\n",
      "lol\n",
      "lol\n",
      "lol\n",
      "lol\n",
      "lol\n",
      "lol\n",
      "lol\n",
      "lol\n",
      "lol\n",
      "lol\n",
      "lol\n",
      "lol\n",
      "lol\n",
      "lol\n",
      "lol\n",
      "lol\n",
      "lol\n",
      "lol\n",
      "lol\n",
      "lol\n",
      "lol\n",
      "lol\n",
      "lol\n",
      "lol\n",
      "lol\n",
      "lol\n",
      "lol\n",
      "lol\n",
      "lol\n",
      "lol\n",
      "lol\n",
      "v,t 4 79.42609013671806 l_nei[(v,t)] [[81.584398652186, [11]], [81.83786850826748, [11]], [83.43201144567504, [0, 11]], [84.42937459514606, [0, 11]], [88.0812366680568, [0, 11]], [88.42947958329005, [0, 11]]]\n",
      "w,t_p 0 88.42947958329005\n",
      "case cont\n",
      "yp,tpp 0 88.42947958329005\n",
      "s vol(0,0) contribution[yp][tpp] vol(0,0) (kappa(r,tpp,ev_prev)*sigma_r[(v,t)]/sigma_r[(yp,tpp)] ) vol(0.0696838690400213,0) r 0 coef vol(0,0)\n",
      "yp,tpp 3 88.42947958329005\n",
      "s vol(0,0) contribution[yp][tpp] vol(0,0) (kappa(r,tpp,ev_prev)*sigma_r[(v,t)]/sigma_r[(yp,tpp)] ) vol(0.00485584160438684,0) r 1 coef vol(0,0)\n",
      "yp,tpp 7 88.42947958329005\n",
      "s vol(0,0) contribution[yp][tpp] vol(0,0) (kappa(r,tpp,ev_prev)*sigma_r[(v,t)]/sigma_r[(yp,tpp)] ) vol(0.00485584160438684,0) r 1 coef vol(0,0)\n",
      "yp,tpp 8 88.42947958329005\n",
      "s vol(0,0) contribution[yp][tpp] vol(0,0) (kappa(r,tpp,ev_prev)*sigma_r[(v,t)]/sigma_r[(yp,tpp)] ) vol(0.00485584160438684,0) r 1 coef vol(0,0)\n",
      "yp,tpp 5 88.42947958329005\n",
      "s vol(0,0) contribution[yp][tpp] vol(0,0) (kappa(r,tpp,ev_prev)*sigma_r[(v,t)]/sigma_r[(yp,tpp)] ) vol(2.601403182327376e-05,0) r 3 coef vol(0,0)\n",
      "yp,tpp 9 88.42947958329005\n",
      "s vol(0,0) contribution[yp][tpp] vol(0,0) (kappa(r,tpp,ev_prev)*sigma_r[(v,t)]/sigma_r[(yp,tpp)] ) vol(9.381010257335888e-05,0) r 2 coef vol(0,0)\n",
      "w,t_p 11 88.42947958329005\n",
      "case cont\n",
      "yp,tpp 11 88.42947958329005\n",
      "s vol(0,0) contribution[yp][tpp] vol(0,0) (kappa(r,tpp,ev_prev)*sigma_r[(v,t)]/sigma_r[(yp,tpp)] ) vol(0.05087491568592374,0) r 0 coef vol(0,0)\n",
      "yp,tpp 1 88.42947958329005\n",
      "s vol(0,0) contribution[yp][tpp] vol(0,0) (kappa(r,tpp,ev_prev)*sigma_r[(v,t)]/sigma_r[(yp,tpp)] ) vol(0.003128721188368863,0) r 1 coef vol(0,0)\n",
      "yp,tpp 5 88.42947958329005\n",
      "s vol(0,0) contribution[yp][tpp] vol(0,0) (kappa(r,tpp,ev_prev)*sigma_r[(v,t)]/sigma_r[(yp,tpp)] ) vol(2.601403182327376e-05,0) r 3 coef vol(0,0)\n",
      "yp,tpp 9 88.42947958329005\n",
      "s vol(0,0) contribution[yp][tpp] vol(0,0) (kappa(r,tpp,ev_prev)*sigma_r[(v,t)]/sigma_r[(yp,tpp)] ) vol(9.381010257335888e-05,0) r 2 coef vol(0,0)\n",
      "w,t_p 0 88.0812366680568\n",
      "case cont\n",
      "yp,tpp 0 88.0812366680568\n",
      "s vol(0,0) contribution[yp][tpp] vol(0,0) (kappa(r,tpp,ev_prev)*sigma_r[(v,t)]/sigma_r[(yp,tpp)] ) vol(0.785477557707976,0) r 0 coef vol(0,0)\n",
      "yp,tpp 3 88.0812366680568\n",
      "s vol(0,0) contribution[yp][tpp] vol(0,0) (kappa(r,tpp,ev_prev)*sigma_r[(v,t)]/sigma_r[(yp,tpp)] ) vol(0.6169749936628868,0) r 1 coef vol(0,0)\n",
      "yp,tpp 7 88.0812366680568\n",
      "s vol(0,0) contribution[yp][tpp] vol(0,0) (kappa(r,tpp,ev_prev)*sigma_r[(v,t)]/sigma_r[(yp,tpp)] ) vol(0.6169749936628868,0) r 1 coef vol(0,0)\n",
      "yp,tpp 8 88.0812366680568\n",
      "s vol(0,0) contribution[yp][tpp] vol(0,0) (kappa(r,tpp,ev_prev)*sigma_r[(v,t)]/sigma_r[(yp,tpp)] ) vol(0.6169749936628868,0) r 1 coef vol(0,0)\n",
      "yp,tpp 9 88.0812366680568\n",
      "s vol(24.198826959542323,0) contribution[yp][tpp] vol(90.3110967451333,0) (kappa(r,tpp,ev_prev)*sigma_r[(v,t)]/sigma_r[(yp,tpp)] ) vol(0.13397482608274466,0) r 2 coef vol(12.099413479771162,0)\n",
      "w,t_p 11 88.0812366680568\n",
      "case cont\n",
      "yp,tpp 11 88.0812366680568\n",
      "s vol(24.198826959542323,0) contribution[yp][tpp] vol(0,0) (kappa(r,tpp,ev_prev)*sigma_r[(v,t)]/sigma_r[(yp,tpp)] ) vol(0.562098372160394,0) r 0 coef vol(0,0)\n",
      "yp,tpp 1 88.0812366680568\n",
      "s vol(24.198826959542323,0) contribution[yp][tpp] vol(0,0) (kappa(r,tpp,ev_prev)*sigma_r[(v,t)]/sigma_r[(yp,tpp)] ) vol(0.3909157353169745,0) r 1 coef vol(0,0)\n",
      "yp,tpp 9 88.0812366680568\n",
      "s vol(36.29824043931349,0) contribution[yp][tpp] vol(90.3110967451333,0) (kappa(r,tpp,ev_prev)*sigma_r[(v,t)]/sigma_r[(yp,tpp)] ) vol(0.13397482608274466,0) r 2 coef vol(12.099413479771162,0)\n",
      "w,t_p 0 84.42937459514606\n",
      "case cont\n",
      "yp,tpp 0 84.42937459514606\n",
      "s vol(56.12512693284104,0) contribution[yp][tpp] vol(19.82688649352755,0) (kappa(r,tpp,ev_prev)*sigma_r[(v,t)]/sigma_r[(yp,tpp)] ) vol(1.0,0) r 0 coef vol(19.82688649352755,0)\n",
      "yp,tpp 3 84.42937459514606\n",
      "s vol(58.832595829883395,0) contribution[yp][tpp] vol(2.7074688970423555,0) (kappa(r,tpp,ev_prev)*sigma_r[(v,t)]/sigma_r[(yp,tpp)] ) vol(1.0,0) r 1 coef vol(2.7074688970423555,0)\n",
      "yp,tpp 7 84.42937459514606\n",
      "s vol(61.54006472692575,0) contribution[yp][tpp] vol(2.7074688970423555,0) (kappa(r,tpp,ev_prev)*sigma_r[(v,t)]/sigma_r[(yp,tpp)] ) vol(1.0,0) r 1 coef vol(2.7074688970423555,0)\n",
      "yp,tpp 8 84.42937459514606\n",
      "s vol(61.54006472692575,0) contribution[yp][tpp] vol(0,0) (kappa(r,tpp,ev_prev)*sigma_r[(v,t)]/sigma_r[(yp,tpp)] ) vol(1.0,0) r 1 coef vol(0,0)\n",
      "yp,tpp 9 84.42937459514606\n",
      "s vol(62.03302414549741,0) contribution[yp][tpp] vol(0.49295941857166137,0) (kappa(r,tpp,ev_prev)*sigma_r[(v,t)]/sigma_r[(yp,tpp)] ) vol(0.5000000000000001,0) r 2 coef vol(0.24647970928583074,0)\n",
      "w,t_p 11 84.42937459514606\n",
      "case cont\n",
      "yp,tpp 11 84.42937459514606\n",
      "s vol(71.94646739226118,0) contribution[yp][tpp] vol(28.2780725996359,0) (kappa(r,tpp,ev_prev)*sigma_r[(v,t)]/sigma_r[(yp,tpp)] ) vol(0.35056997650156035,0) r 0 coef vol(9.913443246763777,0)\n",
      "w,t_p 0 83.43201144567504\n",
      "case discret\n",
      "s vol(3591.857549205538,0) (sigma_r[(v,t)]/sigma_r[(w,t_p)] ) vol(1.0,0) (sigma_r[(v,t)]/sigma_r[(w,t_p)] ) vol(1.0,0) coef vol(3519.9110818132767,0)\n",
      "w,t_p 11 83.43201144567504\n",
      "case cont\n",
      "yp,tpp 11 83.43201144567504\n",
      "s vol(3607.70277623804,0) contribution[yp][tpp] vol(18.364629352872125,0) (kappa(r,tpp,ev_prev)*sigma_r[(v,t)]/sigma_r[(yp,tpp)] ) vol(0.8628122423839545,0) r 0 coef vol(15.84522703250179,0)\n",
      "w,t_p 11 81.83786850826748\n",
      "case cont\n",
      "yp,tpp 11 81.83786850826748\n",
      "s vol(3610.22217855841,0) contribution[yp][tpp] vol(2.519402320370336,0) (kappa(r,tpp,ev_prev)*sigma_r[(v,t)]/sigma_r[(yp,tpp)] ) vol(1.0,0) r 0 coef vol(2.519402320370336,0)\n",
      "w,t_p 11 81.584398652186\n",
      "case discret\n",
      "s vol(3961.866805006257,0) (sigma_r[(v,t)]/sigma_r[(w,t_p)] ) vol(1.0,0) (sigma_r[(v,t)]/sigma_r[(w,t_p)] ) vol(1.0,0) coef vol(351.6446264478468,0)\n",
      "lol\n",
      "lol\n",
      "lol\n",
      "lol\n",
      "lol\n",
      "lol\n",
      "lol\n",
      "lol\n",
      "lol\n",
      "lol\n",
      "lol\n",
      "v,t 4 79.42609013671806 l_nei[(v,t)] [[79.42609013671806, [2]]]\n",
      "w,t_p 2 79.42609013671806\n",
      "case discret\n",
      "s vol(0,0) (sigma_r[(v,t)]/sigma_r[(w,t_p)] ) vol(1.0,0) (sigma_r[(v,t)]/sigma_r[(w,t_p)] ) vol(1.0,0) coef vol(0,0)\n",
      "lol\n",
      "lol\n",
      "lol\n",
      "lol\n",
      "lol\n",
      "lol\n",
      "lol\n",
      "lol\n",
      "lol\n",
      "lol\n",
      "lol\n",
      "lol\n",
      "lol\n",
      "lol\n",
      "lol\n",
      "lol\n",
      "lol\n",
      "lol\n",
      "lol\n",
      "lol\n",
      "lol\n",
      "lol\n",
      "lol\n",
      "lol\n",
      "lol\n",
      "lol\n",
      "lol\n",
      "lol\n",
      "lol\n",
      "lol\n",
      "lol\n",
      "lol\n",
      "lol\n",
      "lol\n",
      "lol\n",
      "lol\n",
      "lol\n",
      "lol\n",
      "lol\n",
      "lol\n",
      "lol\n",
      "lol\n",
      "lol\n",
      "lol\n",
      "lol\n",
      "lol\n",
      "lol\n",
      "lol\n",
      "lol\n",
      "lol\n",
      "lol\n",
      "lol\n",
      "lol\n",
      "lol\n",
      "lol\n",
      "lol\n",
      "lol\n",
      "lol\n",
      "lol\n",
      "lol\n",
      "lol\n",
      "lol\n",
      "lol\n",
      "lol\n",
      "lol\n",
      "lol\n",
      "lol\n",
      "lol\n",
      "lol\n",
      "lol\n",
      "lol\n",
      "lol\n",
      "lol\n",
      "lol\n",
      "lol\n",
      "lol\n",
      "lol\n",
      "lol\n",
      "lol\n",
      "lol\n",
      "lol\n",
      "lol\n",
      "lol\n",
      "lol\n",
      "lol\n",
      "lol\n",
      "lol\n",
      "lol\n",
      "lol\n",
      "lol\n",
      "lol\n",
      "lol\n",
      "lol\n",
      "lol\n",
      "lol\n",
      "lol\n",
      "lol\n"
     ]
    }
   ],
   "source": [
    "betweenness, general_contri, nouveau, events, sigma_r, latency, prev_next , contri, before, after, deltasvvt, no_succ ,features = bt.betweenness_all(SS)"
   ]
  },
  {
   "cell_type": "code",
   "execution_count": 10,
   "metadata": {},
   "outputs": [
    {
     "name": "stdout",
     "output_type": "stream",
     "text": [
      "lol\n",
      "lol\n",
      "lol\n",
      "lol\n",
      "lol\n",
      "lol\n",
      "lol\n",
      "lol\n",
      "lol\n",
      "lol\n",
      "lol\n",
      "lol\n",
      "lol\n",
      "lol\n",
      "lol\n",
      "lol\n",
      "lol\n",
      "lol\n",
      "lol\n",
      "lol\n",
      "lol\n",
      "lol\n",
      "lol\n",
      "lol\n",
      "lol\n",
      "lol\n",
      "lol\n",
      "lol\n",
      "lol\n",
      "lol\n",
      "lol\n",
      "lol\n",
      "lol\n",
      "lol\n",
      "lol\n",
      "lol\n",
      "lol\n",
      "lol\n",
      "lol\n",
      "lol\n",
      "lol\n",
      "lol\n",
      "lol\n",
      "lol\n",
      "lol\n",
      "lol\n",
      "lol\n",
      "lol\n",
      "lol\n",
      "lol\n",
      "lol\n",
      "lol\n",
      "lol\n",
      "v,t 4 79.42609013671806 l_nei[(v,t)] [[81.584398652186, [11]], [81.83786850826748, [11]], [83.43201144567504, [0, 11]], [84.42937459514606, [0, 11]], [88.0812366680568, [0, 11]], [88.42947958329005, [0, 11]]]\n",
      "w,t_p 0 88.42947958329005\n",
      "case cont\n",
      "yp,tpp 0 88.42947958329005\n",
      "s vol(0,0) contribution[yp][tpp] vol(0,0) (kappa(r,tpp,ev_prev)*sigma_r[(v,t)]/sigma_r[(yp,tpp)] ) vol(0.0696838690400213,0) r 0 coef vol(0,0)\n",
      "yp,tpp 3 88.42947958329005\n",
      "s vol(0,0) contribution[yp][tpp] vol(0,0) (kappa(r,tpp,ev_prev)*sigma_r[(v,t)]/sigma_r[(yp,tpp)] ) vol(0.00485584160438684,0) r 1 coef vol(0,0)\n",
      "yp,tpp 7 88.42947958329005\n",
      "s vol(0,0) contribution[yp][tpp] vol(0,0) (kappa(r,tpp,ev_prev)*sigma_r[(v,t)]/sigma_r[(yp,tpp)] ) vol(0.00485584160438684,0) r 1 coef vol(0,0)\n",
      "yp,tpp 8 88.42947958329005\n",
      "s vol(0,0) contribution[yp][tpp] vol(0,0) (kappa(r,tpp,ev_prev)*sigma_r[(v,t)]/sigma_r[(yp,tpp)] ) vol(0.00485584160438684,0) r 1 coef vol(0,0)\n",
      "yp,tpp 5 88.42947958329005\n",
      "s vol(0,0) contribution[yp][tpp] vol(0,0) (kappa(r,tpp,ev_prev)*sigma_r[(v,t)]/sigma_r[(yp,tpp)] ) vol(2.601403182327376e-05,0) r 3 coef vol(0,0)\n",
      "yp,tpp 9 88.42947958329005\n",
      "s vol(0,0) contribution[yp][tpp] vol(0,0) (kappa(r,tpp,ev_prev)*sigma_r[(v,t)]/sigma_r[(yp,tpp)] ) vol(9.381010257335888e-05,0) r 2 coef vol(0,0)\n",
      "w,t_p 11 88.42947958329005\n",
      "case cont\n",
      "yp,tpp 11 88.42947958329005\n",
      "s vol(0,0) contribution[yp][tpp] vol(0,0) (kappa(r,tpp,ev_prev)*sigma_r[(v,t)]/sigma_r[(yp,tpp)] ) vol(0.05087491568592374,0) r 0 coef vol(0,0)\n",
      "yp,tpp 1 88.42947958329005\n",
      "s vol(0,0) contribution[yp][tpp] vol(0,0) (kappa(r,tpp,ev_prev)*sigma_r[(v,t)]/sigma_r[(yp,tpp)] ) vol(0.003128721188368863,0) r 1 coef vol(0,0)\n",
      "yp,tpp 5 88.42947958329005\n",
      "s vol(0,0) contribution[yp][tpp] vol(0,0) (kappa(r,tpp,ev_prev)*sigma_r[(v,t)]/sigma_r[(yp,tpp)] ) vol(2.601403182327376e-05,0) r 3 coef vol(0,0)\n",
      "yp,tpp 9 88.42947958329005\n",
      "s vol(0,0) contribution[yp][tpp] vol(0,0) (kappa(r,tpp,ev_prev)*sigma_r[(v,t)]/sigma_r[(yp,tpp)] ) vol(9.381010257335888e-05,0) r 2 coef vol(0,0)\n",
      "w,t_p 0 88.0812366680568\n",
      "case cont\n",
      "yp,tpp 0 88.0812366680568\n",
      "s vol(0,0) contribution[yp][tpp] vol(0,0) (kappa(r,tpp,ev_prev)*sigma_r[(v,t)]/sigma_r[(yp,tpp)] ) vol(0.785477557707976,0) r 0 coef vol(0,0)\n",
      "yp,tpp 3 88.0812366680568\n",
      "s vol(0,0) contribution[yp][tpp] vol(0,0) (kappa(r,tpp,ev_prev)*sigma_r[(v,t)]/sigma_r[(yp,tpp)] ) vol(0.6169749936628868,0) r 1 coef vol(0,0)\n",
      "yp,tpp 7 88.0812366680568\n",
      "s vol(0,0) contribution[yp][tpp] vol(0,0) (kappa(r,tpp,ev_prev)*sigma_r[(v,t)]/sigma_r[(yp,tpp)] ) vol(0.6169749936628868,0) r 1 coef vol(0,0)\n",
      "yp,tpp 8 88.0812366680568\n",
      "s vol(0,0) contribution[yp][tpp] vol(0,0) (kappa(r,tpp,ev_prev)*sigma_r[(v,t)]/sigma_r[(yp,tpp)] ) vol(0.6169749936628868,0) r 1 coef vol(0,0)\n",
      "yp,tpp 9 88.0812366680568\n",
      "s vol(24.198826959542323,0) contribution[yp][tpp] vol(90.3110967451333,0) (kappa(r,tpp,ev_prev)*sigma_r[(v,t)]/sigma_r[(yp,tpp)] ) vol(0.13397482608274466,0) r 2 coef vol(12.099413479771162,0)\n",
      "w,t_p 11 88.0812366680568\n",
      "case cont\n",
      "yp,tpp 11 88.0812366680568\n",
      "s vol(24.198826959542323,0) contribution[yp][tpp] vol(0,0) (kappa(r,tpp,ev_prev)*sigma_r[(v,t)]/sigma_r[(yp,tpp)] ) vol(0.562098372160394,0) r 0 coef vol(0,0)\n",
      "yp,tpp 1 88.0812366680568\n",
      "s vol(24.198826959542323,0) contribution[yp][tpp] vol(0,0) (kappa(r,tpp,ev_prev)*sigma_r[(v,t)]/sigma_r[(yp,tpp)] ) vol(0.3909157353169745,0) r 1 coef vol(0,0)\n",
      "yp,tpp 9 88.0812366680568\n",
      "s vol(36.29824043931349,0) contribution[yp][tpp] vol(90.3110967451333,0) (kappa(r,tpp,ev_prev)*sigma_r[(v,t)]/sigma_r[(yp,tpp)] ) vol(0.13397482608274466,0) r 2 coef vol(12.099413479771162,0)\n",
      "w,t_p 0 84.42937459514606\n",
      "case cont\n",
      "yp,tpp 0 84.42937459514606\n",
      "s vol(56.12512693284104,0) contribution[yp][tpp] vol(19.82688649352755,0) (kappa(r,tpp,ev_prev)*sigma_r[(v,t)]/sigma_r[(yp,tpp)] ) vol(1.0,0) r 0 coef vol(19.82688649352755,0)\n",
      "yp,tpp 3 84.42937459514606\n",
      "s vol(58.832595829883395,0) contribution[yp][tpp] vol(2.7074688970423555,0) (kappa(r,tpp,ev_prev)*sigma_r[(v,t)]/sigma_r[(yp,tpp)] ) vol(1.0,0) r 1 coef vol(2.7074688970423555,0)\n",
      "yp,tpp 7 84.42937459514606\n",
      "s vol(61.54006472692575,0) contribution[yp][tpp] vol(2.7074688970423555,0) (kappa(r,tpp,ev_prev)*sigma_r[(v,t)]/sigma_r[(yp,tpp)] ) vol(1.0,0) r 1 coef vol(2.7074688970423555,0)\n",
      "yp,tpp 8 84.42937459514606\n",
      "s vol(61.54006472692575,0) contribution[yp][tpp] vol(0,0) (kappa(r,tpp,ev_prev)*sigma_r[(v,t)]/sigma_r[(yp,tpp)] ) vol(1.0,0) r 1 coef vol(0,0)\n",
      "yp,tpp 9 84.42937459514606\n",
      "s vol(62.03302414549741,0) contribution[yp][tpp] vol(0.49295941857166137,0) (kappa(r,tpp,ev_prev)*sigma_r[(v,t)]/sigma_r[(yp,tpp)] ) vol(0.5000000000000001,0) r 2 coef vol(0.24647970928583074,0)\n",
      "w,t_p 11 84.42937459514606\n",
      "case cont\n",
      "yp,tpp 11 84.42937459514606\n",
      "s vol(71.94646739226118,0) contribution[yp][tpp] vol(28.2780725996359,0) (kappa(r,tpp,ev_prev)*sigma_r[(v,t)]/sigma_r[(yp,tpp)] ) vol(0.35056997650156035,0) r 0 coef vol(9.913443246763777,0)\n",
      "w,t_p 0 83.43201144567504\n",
      "case discret\n",
      "s vol(3591.857549205538,0) (sigma_r[(v,t)]/sigma_r[(w,t_p)] ) vol(1.0,0) (sigma_r[(v,t)]/sigma_r[(w,t_p)] ) vol(1.0,0) coef vol(3519.9110818132767,0)\n",
      "w,t_p 11 83.43201144567504\n",
      "case cont\n",
      "yp,tpp 11 83.43201144567504\n",
      "s vol(3607.70277623804,0) contribution[yp][tpp] vol(18.364629352872125,0) (kappa(r,tpp,ev_prev)*sigma_r[(v,t)]/sigma_r[(yp,tpp)] ) vol(0.8628122423839545,0) r 0 coef vol(15.84522703250179,0)\n",
      "w,t_p 11 81.83786850826748\n",
      "case cont\n",
      "yp,tpp 11 81.83786850826748\n",
      "s vol(3610.22217855841,0) contribution[yp][tpp] vol(2.519402320370336,0) (kappa(r,tpp,ev_prev)*sigma_r[(v,t)]/sigma_r[(yp,tpp)] ) vol(1.0,0) r 0 coef vol(2.519402320370336,0)\n",
      "w,t_p 11 81.584398652186\n",
      "case discret\n",
      "s vol(3961.866805006257,0) (sigma_r[(v,t)]/sigma_r[(w,t_p)] ) vol(1.0,0) (sigma_r[(v,t)]/sigma_r[(w,t_p)] ) vol(1.0,0) coef vol(351.6446264478468,0)\n",
      "lol\n",
      "lol\n",
      "lol\n",
      "lol\n",
      "lol\n",
      "lol\n",
      "lol\n",
      "lol\n",
      "lol\n",
      "lol\n",
      "lol\n",
      "v,t 4 79.42609013671806 l_nei[(v,t)] [[79.42609013671806, [2]]]\n",
      "w,t_p 2 79.42609013671806\n",
      "case discret\n",
      "s vol(0,0) (sigma_r[(v,t)]/sigma_r[(w,t_p)] ) vol(1.0,0) (sigma_r[(v,t)]/sigma_r[(w,t_p)] ) vol(1.0,0) coef vol(0,0)\n",
      "lol\n",
      "lol\n",
      "lol\n",
      "lol\n",
      "lol\n",
      "lol\n",
      "lol\n",
      "lol\n",
      "lol\n",
      "lol\n",
      "lol\n",
      "lol\n",
      "lol\n",
      "lol\n",
      "lol\n",
      "lol\n",
      "lol\n",
      "lol\n",
      "lol\n",
      "lol\n",
      "lol\n",
      "lol\n",
      "lol\n",
      "lol\n",
      "lol\n",
      "lol\n",
      "lol\n",
      "lol\n",
      "lol\n",
      "lol\n",
      "lol\n",
      "lol\n",
      "lol\n",
      "lol\n",
      "lol\n",
      "lol\n",
      "lol\n",
      "lol\n",
      "lol\n",
      "lol\n",
      "lol\n",
      "lol\n",
      "lol\n",
      "lol\n",
      "lol\n",
      "lol\n",
      "lol\n",
      "lol\n",
      "lol\n",
      "lol\n",
      "lol\n",
      "lol\n",
      "lol\n",
      "lol\n",
      "lol\n",
      "lol\n",
      "lol\n",
      "lol\n",
      "lol\n",
      "lol\n",
      "lol\n",
      "lol\n",
      "lol\n",
      "lol\n",
      "lol\n",
      "lol\n",
      "lol\n",
      "lol\n",
      "lol\n",
      "lol\n",
      "lol\n",
      "lol\n",
      "lol\n",
      "lol\n",
      "lol\n",
      "lol\n",
      "lol\n",
      "lol\n",
      "lol\n",
      "lol\n",
      "lol\n",
      "lol\n",
      "lol\n",
      "lol\n",
      "lol\n",
      "lol\n",
      "lol\n",
      "lol\n",
      "lol\n",
      "lol\n",
      "lol\n",
      "lol\n",
      "lol\n",
      "lol\n",
      "lol\n",
      "lol\n",
      "lol\n"
     ]
    }
   ],
   "source": [
    "bt.simulations(SS, \"papier\")"
   ]
  },
  {
   "cell_type": "code",
   "execution_count": 11,
   "metadata": {},
   "outputs": [],
   "source": [
    "bet_moi = bt.read_dictionary(\"papier_betweenness.pic\")"
   ]
  },
  {
   "cell_type": "code",
   "execution_count": 12,
   "metadata": {},
   "outputs": [
    {
     "data": {
      "text/plain": [
       "0"
      ]
     },
     "execution_count": 12,
     "metadata": {},
     "output_type": "execute_result"
    }
   ],
   "source": [
    "import os\n",
    "cmd = 'mv erdos'+str(nb_erdos)+'_mat.ls archive_code/Test'\n",
    "os.system(cmd)"
   ]
  },
  {
   "cell_type": "code",
   "execution_count": 18,
   "metadata": {},
   "outputs": [],
   "source": [
    "#import os\n",
    "#cmd = 'python2 archive_code/betweenness_all.py Test/erdos'+str(nb_erdos)+'_mat.ls -1 res'\n",
    "#os.system(cmd)"
   ]
  },
  {
   "cell_type": "code",
   "execution_count": 14,
   "metadata": {},
   "outputs": [],
   "source": [
    "bet_mat = bt.read_dictionary(\"res_betweenness.pic\")"
   ]
  },
  {
   "cell_type": "code",
   "execution_count": 15,
   "metadata": {},
   "outputs": [
    {
     "data": {
      "text/plain": [
       "dict_keys(['11', '10', '1', '0', '3', '2', '5', '4', '7', '6', '9', '8'])"
      ]
     },
     "execution_count": 15,
     "metadata": {},
     "output_type": "execute_result"
    }
   ],
   "source": [
    "bet_mat.keys()"
   ]
  },
  {
   "cell_type": "code",
   "execution_count": 16,
   "metadata": {},
   "outputs": [
    {
     "data": {
      "text/plain": [
       "dict_keys(['0', '1', '2', '3', '4', '5', '6', '7', '8', '9', '10', '11'])"
      ]
     },
     "execution_count": 16,
     "metadata": {},
     "output_type": "execute_result"
    }
   ],
   "source": [
    "bet_moi.keys()"
   ]
  },
  {
   "cell_type": "code",
   "execution_count": 17,
   "metadata": {},
   "outputs": [],
   "source": [
    "for v in bet_moi.keys():\n",
    "    for t in bet_moi[v].keys():\n",
    "        if (v.lower() in bet_mat ):\n",
    "            if not (abs(bet_moi[v][t] - bet_mat[v.lower()][t]) < 1/100):\n",
    "                print(\"erreur \",v,t,\"=>   \", bet_moi[v][t], bet_mat[v.lower()][t])"
   ]
  },
  {
   "cell_type": "code",
   "execution_count": 18,
   "metadata": {},
   "outputs": [],
   "source": [
    "#contribution check\n",
    "node = 2"
   ]
  },
  {
   "cell_type": "code",
   "execution_count": 19,
   "metadata": {},
   "outputs": [
    {
     "name": "stdout",
     "output_type": "stream",
     "text": [
      "python2 archive_code/betweenness_tout.py Test/erdos9_mat.ls -1 2 cont\n"
     ]
    },
    {
     "data": {
      "text/plain": [
       "0"
      ]
     },
     "execution_count": 19,
     "metadata": {},
     "output_type": "execute_result"
    }
   ],
   "source": [
    "import os\n",
    "cmd = 'python2 archive_code/betweenness_tout.py Test/erdos'+str(nb_erdos)+'_mat.ls -1 ' + S.node_to_label[node].lower() + \" cont\"\n",
    "print (cmd)\n",
    "os.system(cmd)"
   ]
  },
  {
   "cell_type": "code",
   "execution_count": 20,
   "metadata": {},
   "outputs": [],
   "source": [
    "cont_mat = bt.read_dictionary(\"cont_contri.pic\")"
   ]
  },
  {
   "cell_type": "code",
   "execution_count": 21,
   "metadata": {},
   "outputs": [
    {
     "name": "stdout",
     "output_type": "stream",
     "text": [
      "erreur  4 84.42937459514606 =>    ( 0 24.198826959542323 ) 36.29824043931348\n",
      "erreur  4 83.43201144567504 =>    ( 0 3579.511656016481 ) 3591.857549205538\n",
      "erreur  4 81.83786850826748 =>    ( 0 3595.356883048983 ) 3607.70277623804\n",
      "erreur  4 81.584398652186 =>    ( 0 3949.5209118172 ) 3961.866805006257\n",
      "erreur  4 79.42609013671806 =>    ( 0 3949.5209118172 ) 3961.866805006257\n",
      "erreur  2 79.42609013671806 =>    ( 0 3949.5209118172 ) 3961.866805006257\n"
     ]
    }
   ],
   "source": [
    "for v in general_contri[node].keys():\n",
    "    for t in general_contri[node][v].keys():\n",
    "        if S.node_to_label[v].lower() in cont_mat:\n",
    "            if abs(general_contri[node][v][t].val - cont_mat[S.node_to_label[v].lower()][t]) > 1/100:\n",
    "                print(\"erreur \",v,t,\"=>   \", \"(\",general_contri[node][v][t].dim,general_contri[node][v][t].val,\")\" ,cont_mat[S.node_to_label[v].lower()][t])"
   ]
  },
  {
   "cell_type": "code",
   "execution_count": 23,
   "metadata": {},
   "outputs": [],
   "source": [
    "SS.write_to_sg(\"examples/erdos2\")"
   ]
  },
  {
   "cell_type": "code",
   "execution_count": 126,
   "metadata": {},
   "outputs": [
    {
     "data": {
      "text/plain": [
       "1.1308940848602123"
      ]
     },
     "execution_count": 126,
     "metadata": {},
     "output_type": "execute_result"
    }
   ],
   "source": [
    "SS.alpha"
   ]
  },
  {
   "cell_type": "code",
   "execution_count": 127,
   "metadata": {},
   "outputs": [
    {
     "data": {
      "text/plain": [
       "100"
      ]
     },
     "execution_count": 127,
     "metadata": {},
     "output_type": "execute_result"
    }
   ],
   "source": [
    "SS.omega"
   ]
  },
  {
   "cell_type": "code",
   "execution_count": null,
   "metadata": {},
   "outputs": [],
   "source": [
    "(4, 79.42609013671806)"
   ]
  }
 ],
 "metadata": {
  "kernelspec": {
   "display_name": "Python 3",
   "language": "python",
   "name": "python3"
  },
  "language_info": {
   "codemirror_mode": {
    "name": "ipython",
    "version": 3
   },
   "file_extension": ".py",
   "mimetype": "text/x-python",
   "name": "python",
   "nbconvert_exporter": "python",
   "pygments_lexer": "ipython3",
   "version": "3.9.5"
  }
 },
 "nbformat": 4,
 "nbformat_minor": 4
}
