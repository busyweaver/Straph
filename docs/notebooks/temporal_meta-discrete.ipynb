{
 "cells": [
  {
   "cell_type": "code",
   "execution_count": 10,
   "metadata": {},
   "outputs": [
    {
     "name": "stdout",
     "output_type": "stream",
     "text": [
      "Processing /home/mehdi/Straph\n",
      "\u001b[33m  DEPRECATION: A future pip version will change local packages to be built in-place without first copying to a temporary directory. We recommend you use --use-feature=in-tree-build to test your packages with this new behavior before it becomes the default.\n",
      "   pip 21.3 will remove support for this functionality. You can find discussion regarding this at https://github.com/pypa/pip/issues/7555.\u001b[0m\n",
      "Building wheels for collected packages: straph\n",
      "  Building wheel for straph (setup.py) ... \u001b[?25ldone\n",
      "\u001b[?25h  Created wheel for straph: filename=straph-0.3-py3-none-any.whl size=122126 sha256=8858f66be2e42fb882c56c1fadd4c422bd93955e6218485cc50ed892929e8650\n",
      "  Stored in directory: /tmp/pip-ephem-wheel-cache-1yk2wc_e/wheels/a5/b6/52/18c617da8ab7981501f28a49d398fa4ccca532d1baece44b1e\n",
      "Successfully built straph\n",
      "Installing collected packages: straph\n",
      "  Attempting uninstall: straph\n",
      "    Found existing installation: straph 0.3\n",
      "    Uninstalling straph-0.3:\n",
      "      Successfully uninstalled straph-0.3\n",
      "Successfully installed straph-0.3\n",
      "\u001b[33mWARNING: You are using pip version 21.2.4; however, version 22.0.4 is available.\n",
      "You should consider upgrading via the '/home/mehdi/sage/local/bin/python3 -m pip install --upgrade pip' command.\u001b[0m\n",
      "Note: you may need to restart the kernel to use updated packages.\n"
     ]
    }
   ],
   "source": [
    "pip install ../../"
   ]
  },
  {
   "cell_type": "code",
   "execution_count": 1,
   "metadata": {},
   "outputs": [
    {
     "data": {
      "text/html": [
       "\n",
       "\t\t\t<script type=\"text/javascript\">\n",
       "\t\t\t<!--\n",
       "\t\t\t\t\n",
       "\t\t\t{\n",
       "\t\t\t\tvar element = document.getElementById('NetworKit_script');\n",
       "\t\t\t\tif (element) {\n",
       "\t\t\t\t\telement.parentNode.removeChild(element);\n",
       "\t\t\t\t}\n",
       "\t\t\t\telement = document.createElement('script');\n",
       "\t\t\t\telement.type = 'text/javascript';\n",
       "\t\t\t\telement.innerHTML = 'function NetworKit_pageEmbed(id) { var i, j; var elements; elements = document.getElementById(id).getElementsByClassName(\"Plot\"); for (i=0; i<elements.length; i++) { elements[i].id = id + \"_Plot_\" + i; var data = elements[i].getAttribute(\"data-image\").split(\"|\"); elements[i].removeAttribute(\"data-image\"); var content = \"<div class=\\\\\"Image\\\\\" id=\\\\\"\" + elements[i].id + \"_Image\\\\\" />\"; elements[i].innerHTML = content; elements[i].setAttribute(\"data-image-index\", 0); elements[i].setAttribute(\"data-image-length\", data.length); for (j=0; j<data.length; j++) { elements[i].setAttribute(\"data-image-\" + j, data[j]); } NetworKit_plotUpdate(elements[i]); elements[i].onclick = function (e) { NetworKit_overlayShow((e.target) ? e.target : e.srcElement); } } elements = document.getElementById(id).getElementsByClassName(\"HeatCell\"); for (i=0; i<elements.length; i++) { var data = parseFloat(elements[i].getAttribute(\"data-heat\")); var color = \"#00FF00\"; if (data <= 1 && data > 0) { color = \"hsla(0, 100%, 75%, \" + (data) + \")\"; } else if (data <= 0 && data >= -1) { color = \"hsla(240, 100%, 75%, \" + (-data) + \")\"; } elements[i].style.backgroundColor = color; } elements = document.getElementById(id).getElementsByClassName(\"Details\"); for (i=0; i<elements.length; i++) { elements[i].setAttribute(\"data-title\", \"-\"); NetworKit_toggleDetails(elements[i]); elements[i].onclick = function (e) { NetworKit_toggleDetails((e.target) ? e.target : e.srcElement); } } elements = document.getElementById(id).getElementsByClassName(\"MathValue\"); for (i=elements.length-1; i>=0; i--) { value = elements[i].innerHTML.trim(); if (value === \"nan\") { elements[i].parentNode.innerHTML = \"\" } } elements = document.getElementById(id).getElementsByClassName(\"SubCategory\"); for (i=elements.length-1; i>=0; i--) { value = elements[i].innerHTML.trim(); if (value === \"\") { elements[i].parentNode.removeChild(elements[i]) } } elements = document.getElementById(id).getElementsByClassName(\"Category\"); for (i=elements.length-1; i>=0; i--) { value = elements[i].innerHTML.trim(); if (value === \"\") { elements[i].parentNode.removeChild(elements[i]) } } var isFirefox = false; try { isFirefox = typeof InstallTrigger !== \"undefined\"; } catch (e) {} if (!isFirefox) { alert(\"Currently the function\\'s output is only fully supported by Firefox.\"); } } function NetworKit_plotUpdate(source) { var index = source.getAttribute(\"data-image-index\"); var data = source.getAttribute(\"data-image-\" + index); var image = document.getElementById(source.id + \"_Image\"); image.style.backgroundImage = \"url(\" + data + \")\"; } function NetworKit_showElement(id, show) { var element = document.getElementById(id); element.style.display = (show) ? \"block\" : \"none\"; } function NetworKit_overlayShow(source) { NetworKit_overlayUpdate(source); NetworKit_showElement(\"NetworKit_Overlay\", true); } function NetworKit_overlayUpdate(source) { document.getElementById(\"NetworKit_Overlay_Title\").innerHTML = source.title; var index = source.getAttribute(\"data-image-index\"); var data = source.getAttribute(\"data-image-\" + index); var image = document.getElementById(\"NetworKit_Overlay_Image\"); image.setAttribute(\"data-id\", source.id); image.style.backgroundImage = \"url(\" + data + \")\"; var link = document.getElementById(\"NetworKit_Overlay_Toolbar_Bottom_Save\"); link.href = data; link.download = source.title + \".svg\"; } function NetworKit_overlayImageShift(delta) { var image = document.getElementById(\"NetworKit_Overlay_Image\"); var source = document.getElementById(image.getAttribute(\"data-id\")); var index = parseInt(source.getAttribute(\"data-image-index\")); var length = parseInt(source.getAttribute(\"data-image-length\")); var index = (index+delta) % length; if (index < 0) { index = length + index; } source.setAttribute(\"data-image-index\", index); NetworKit_overlayUpdate(source); } function NetworKit_toggleDetails(source) { var childs = source.children; var show = false; if (source.getAttribute(\"data-title\") == \"-\") { source.setAttribute(\"data-title\", \"+\"); show = false; } else { source.setAttribute(\"data-title\", \"-\"); show = true; } for (i=0; i<childs.length; i++) { if (show) { childs[i].style.display = \"block\"; } else { childs[i].style.display = \"none\"; } } }';\n",
       "\t\t\t\telement.setAttribute('id', 'NetworKit_script');\n",
       "\t\t\t\tdocument.head.appendChild(element);\n",
       "\t\t\t}\n",
       "\t\t\n",
       "\t\t\t\t\n",
       "\t\t\t{\n",
       "\t\t\t\tvar element = document.getElementById('NetworKit_style');\n",
       "\t\t\t\tif (element) {\n",
       "\t\t\t\t\telement.parentNode.removeChild(element);\n",
       "\t\t\t\t}\n",
       "\t\t\t\telement = document.createElement('style');\n",
       "\t\t\t\telement.type = 'text/css';\n",
       "\t\t\t\telement.innerHTML = '.NetworKit_Page { font-family: Arial, Helvetica, sans-serif; font-size: 14px; } .NetworKit_Page .Value:before { font-family: Arial, Helvetica, sans-serif; font-size: 1.05em; content: attr(data-title) \":\"; margin-left: -2.5em; padding-right: 0.5em; } .NetworKit_Page .Details .Value:before { display: block; } .NetworKit_Page .Value { font-family: monospace; white-space: pre; padding-left: 2.5em; white-space: -moz-pre-wrap !important; white-space: -pre-wrap; white-space: -o-pre-wrap; white-space: pre-wrap; word-wrap: break-word; tab-size: 4; -moz-tab-size: 4; } .NetworKit_Page .Category { clear: both; padding-left: 1em; margin-bottom: 1.5em; } .NetworKit_Page .Category:before { content: attr(data-title); font-size: 1.75em; display: block; margin-left: -0.8em; margin-bottom: 0.5em; } .NetworKit_Page .SubCategory { margin-bottom: 1.5em; padding-left: 1em; } .NetworKit_Page .SubCategory:before { font-size: 1.6em; display: block; margin-left: -0.8em; margin-bottom: 0.5em; } .NetworKit_Page .SubCategory[data-title]:before { content: attr(data-title); } .NetworKit_Page .Block { display: block; } .NetworKit_Page .Block:after { content: \".\"; visibility: hidden; display: block; height: 0; clear: both; } .NetworKit_Page .Block .Thumbnail_Overview, .NetworKit_Page .Block .Thumbnail_ScatterPlot { width: 260px; float: left; } .NetworKit_Page .Block .Thumbnail_Overview img, .NetworKit_Page .Block .Thumbnail_ScatterPlot img { width: 260px; } .NetworKit_Page .Block .Thumbnail_Overview:before, .NetworKit_Page .Block .Thumbnail_ScatterPlot:before { display: block; text-align: center; font-weight: bold; } .NetworKit_Page .Block .Thumbnail_Overview:before { content: attr(data-title); } .NetworKit_Page .HeatCell { font-family: \"Courier New\", Courier, monospace; cursor: pointer; } .NetworKit_Page .HeatCell, .NetworKit_Page .HeatCellName { display: inline; padding: 0.1em; margin-right: 2px; background-color: #FFFFFF } .NetworKit_Page .HeatCellName { margin-left: 0.25em; } .NetworKit_Page .HeatCell:before { content: attr(data-heat); display: inline-block; color: #000000; width: 4em; text-align: center; } .NetworKit_Page .Measure { clear: both; } .NetworKit_Page .Measure .Details { cursor: pointer; } .NetworKit_Page .Measure .Details:before { content: \"[\" attr(data-title) \"]\"; display: block; } .NetworKit_Page .Measure .Details .Value { border-left: 1px dotted black; margin-left: 0.4em; padding-left: 3.5em; pointer-events: none; } .NetworKit_Page .Measure .Details .Spacer:before { content: \".\"; opacity: 0.0; pointer-events: none; } .NetworKit_Page .Measure .Plot { width: 440px; height: 440px; cursor: pointer; float: left; margin-left: -0.9em; margin-right: 20px; } .NetworKit_Page .Measure .Plot .Image { background-repeat: no-repeat; background-position: center center; background-size: contain; height: 100%; pointer-events: none; } .NetworKit_Page .Measure .Stat { width: 500px; float: left; } .NetworKit_Page .Measure .Stat .Group { padding-left: 1.25em; margin-bottom: 0.75em; } .NetworKit_Page .Measure .Stat .Group .Title { font-size: 1.1em; display: block; margin-bottom: 0.3em; margin-left: -0.75em; border-right-style: dotted; border-right-width: 1px; border-bottom-style: dotted; border-bottom-width: 1px; background-color: #D0D0D0; padding-left: 0.2em; } .NetworKit_Page .Measure .Stat .Group .List { -webkit-column-count: 3; -moz-column-count: 3; column-count: 3; } .NetworKit_Page .Measure .Stat .Group .List .Entry { position: relative; line-height: 1.75em; } .NetworKit_Page .Measure .Stat .Group .List .Entry[data-tooltip]:before { position: absolute; left: 0; top: -40px; background-color: #808080; color: #ffffff; height: 30px; line-height: 30px; border-radius: 5px; padding: 0 15px; content: attr(data-tooltip); white-space: nowrap; display: none; } .NetworKit_Page .Measure .Stat .Group .List .Entry[data-tooltip]:after { position: absolute; left: 15px; top: -10px; border-top: 7px solid #808080; border-left: 7px solid transparent; border-right: 7px solid transparent; content: \"\"; display: none; } .NetworKit_Page .Measure .Stat .Group .List .Entry[data-tooltip]:hover:after, .NetworKit_Page .Measure .Stat .Group .List .Entry[data-tooltip]:hover:before { display: block; } .NetworKit_Page .Measure .Stat .Group .List .Entry .MathValue { font-family: \"Courier New\", Courier, monospace; } .NetworKit_Page .Measure:after { content: \".\"; visibility: hidden; display: block; height: 0; clear: both; } .NetworKit_Page .PartitionPie { clear: both; } .NetworKit_Page .PartitionPie img { width: 600px; } #NetworKit_Overlay { left: 0px; top: 0px; display: none; position: absolute; width: 100%; height: 100%; background-color: rgba(0,0,0,0.6); z-index: 1000; } #NetworKit_Overlay_Title { position: absolute; color: white; transform: rotate(-90deg); width: 32em; height: 32em; padding-right: 0.5em; padding-top: 0.5em; text-align: right; font-size: 40px; } #NetworKit_Overlay .button { background: white; cursor: pointer; } #NetworKit_Overlay .button:before { size: 13px; display: inline-block; text-align: center; margin-top: 0.5em; margin-bottom: 0.5em; width: 1.5em; height: 1.5em; } #NetworKit_Overlay .icon-close:before { content: \"X\"; } #NetworKit_Overlay .icon-previous:before { content: \"P\"; } #NetworKit_Overlay .icon-next:before { content: \"N\"; } #NetworKit_Overlay .icon-save:before { content: \"S\"; } #NetworKit_Overlay_Toolbar_Top, #NetworKit_Overlay_Toolbar_Bottom { position: absolute; width: 40px; right: 13px; text-align: right; z-index: 1100; } #NetworKit_Overlay_Toolbar_Top { top: 0.5em; } #NetworKit_Overlay_Toolbar_Bottom { Bottom: 0.5em; } #NetworKit_Overlay_ImageContainer { position: absolute; top: 5%; left: 5%; height: 90%; width: 90%; background-repeat: no-repeat; background-position: center center; background-size: contain; } #NetworKit_Overlay_Image { height: 100%; width: 100%; background-repeat: no-repeat; background-position: center center; background-size: contain; }';\n",
       "\t\t\t\telement.setAttribute('id', 'NetworKit_style');\n",
       "\t\t\t\tdocument.head.appendChild(element);\n",
       "\t\t\t}\n",
       "\t\t\n",
       "\t\t\t\t\n",
       "\t\t\t{\n",
       "\t\t\t\tvar element = document.getElementById('NetworKit_Overlay');\n",
       "\t\t\t\tif (element) {\n",
       "\t\t\t\t\telement.parentNode.removeChild(element);\n",
       "\t\t\t\t}\n",
       "\t\t\t\telement = document.createElement('div');\n",
       "\t\t\t\telement.innerHTML = '<div id=\"NetworKit_Overlay_Toolbar_Top\"><div class=\"button icon-close\" id=\"NetworKit_Overlay_Close\" /></div><div id=\"NetworKit_Overlay_Title\" /> <div id=\"NetworKit_Overlay_ImageContainer\"> <div id=\"NetworKit_Overlay_Image\" /> </div> <div id=\"NetworKit_Overlay_Toolbar_Bottom\"> <div class=\"button icon-previous\" onclick=\"NetworKit_overlayImageShift(-1)\" /> <div class=\"button icon-next\" onclick=\"NetworKit_overlayImageShift(1)\" /> <a id=\"NetworKit_Overlay_Toolbar_Bottom_Save\"><div class=\"button icon-save\" /></a> </div>';\n",
       "\t\t\t\telement.setAttribute('id', 'NetworKit_Overlay');\n",
       "\t\t\t\tdocument.body.appendChild(element);\n",
       "\t\t\t\tdocument.getElementById('NetworKit_Overlay_Close').onclick = function (e) {\n",
       "\t\t\t\t\tdocument.getElementById('NetworKit_Overlay').style.display = 'none';\n",
       "\t\t\t\t}\n",
       "\t\t\t}\n",
       "\t\t\n",
       "\t\t\t-->\n",
       "\t\t\t</script>\n",
       "\t\t"
      ]
     },
     "metadata": {},
     "output_type": "display_data"
    },
    {
     "name": "stdout",
     "output_type": "stream",
     "text": [
      "Nb of Nodes :  6\n",
      "Nb of segmented nodes :  6.0\n",
      "Nb of links :  10\n",
      "Nb of segmented links :  15.0\n",
      "Nb of event times :  12\n"
     ]
    }
   ],
   "source": [
    "#sigmasv_links.sg\n",
    "import matplotlib.pyplot as plt\n",
    "plt.rcParams[\"figure.figsize\"] = (25,20)\n",
    "import straph as sg\n",
    "path_directory = \"examples/\"\n",
    "S = sg.read_stream_graph(path_nodes=path_directory + \"discrete_paper_ex_nodes.sg\",\n",
    "                      path_links=path_directory + \"discrete_paper_ex_links.sg\")\n",
    "S.describe()"
   ]
  },
  {
   "cell_type": "code",
   "execution_count": 2,
   "metadata": {},
   "outputs": [
    {
     "data": {
      "text/plain": [
       "[(0, 1),\n",
       " (1, 2),\n",
       " (2, 3),\n",
       " (4, 5),\n",
       " (1, 4),\n",
       " (3, 4),\n",
       " (3, 5),\n",
       " (0, 2),\n",
       " (2, 5),\n",
       " (4, 5)]"
      ]
     },
     "execution_count": 2,
     "metadata": {},
     "output_type": "execute_result"
    }
   ],
   "source": [
    "S.links"
   ]
  },
  {
   "cell_type": "code",
   "execution_count": 3,
   "metadata": {},
   "outputs": [
    {
     "data": {
      "text/plain": [
       "[[2.0, 2.0, 6.0, 6.0, 13.0, 13.0],\n",
       " [2.0, 2.0, 7.0, 7.0, 8.0, 8.0],\n",
       " [3.0, 3.0, 10.0, 10.0],\n",
       " [4.0, 4.0],\n",
       " [6.0, 6.0],\n",
       " [10.0, 10.0],\n",
       " [11.0, 11.0],\n",
       " [13.0, 13.0],\n",
       " [13.0, 13.0],\n",
       " [14.0, 14.0]]"
      ]
     },
     "execution_count": 3,
     "metadata": {},
     "output_type": "execute_result"
    }
   ],
   "source": [
    "S.link_presence"
   ]
  },
  {
   "cell_type": "code",
   "execution_count": 4,
   "metadata": {},
   "outputs": [
    {
     "data": {
      "text/plain": [
       "<AxesSubplot:xlabel='t', ylabel='Nodes'>"
      ]
     },
     "execution_count": 4,
     "metadata": {},
     "output_type": "execute_result"
    },
    {
     "name": "stderr",
     "output_type": "stream",
     "text": [
      "findfont: Font family ['Garamond'] not found. Falling back to DejaVu Sans.\n"
     ]
    },
    {
     "data": {
      "image/png": "[encoded data removed]",
      "text/plain": [
       "<Figure size 1800x1440 with 1 Axes>"
      ]
     },
     "metadata": {
      "needs_background": "light"
     },
     "output_type": "display_data"
    }
   ],
   "source": [
    "S.plot()"
   ]
  },
  {
   "cell_type": "code",
   "execution_count": 5,
   "metadata": {},
   "outputs": [],
   "source": [
    "for i in range(0,2*int(max(list(S.event_times())))):\n",
    "    S.add_point(i/2)\n",
    "nouveau = S.fragmented_stream_graph()"
   ]
  },
  {
   "cell_type": "code",
   "execution_count": 6,
   "metadata": {},
   "outputs": [
    {
     "data": {
      "text/plain": [
       "31"
      ]
     },
     "execution_count": 6,
     "metadata": {},
     "output_type": "execute_result"
    }
   ],
   "source": [
    "len(nouveau.event_times())"
   ]
  },
  {
   "cell_type": "code",
   "execution_count": 7,
   "metadata": {},
   "outputs": [
    {
     "data": {
      "image/png": "[encoded data removed]",
      "text/plain": [
       "<Figure size 1800x1440 with 1 Axes>"
      ]
     },
     "metadata": {
      "needs_background": "light"
     },
     "output_type": "display_data"
    }
   ],
   "source": [
    "nouveau.plot()\n",
    "plt.savefig(\"link_s.png\",dpi=300,bbox_inches ='tight' )"
   ]
  },
  {
   "cell_type": "code",
   "execution_count": 8,
   "metadata": {},
   "outputs": [],
   "source": [
    "node = 0"
   ]
  },
  {
   "cell_type": "code",
   "execution_count": 9,
   "metadata": {},
   "outputs": [
    {
     "name": "stdout",
     "output_type": "stream",
     "text": [
      "resultat : \n"
     ]
    }
   ],
   "source": [
    "llll = nouveau.count_walks_paper(node)\n",
    "print(\"resultat : \")"
   ]
  },
  {
   "cell_type": "code",
   "execution_count": 10,
   "metadata": {},
   "outputs": [
    {
     "name": "stdout",
     "output_type": "stream",
     "text": [
      "{0.0: (-inf, inf), 0.5: (-inf, inf), 2.0: (-inf, inf), 3.0: (-inf, inf), 4.0: (-inf, inf), 1.0: (-inf, inf), 6.0: (-inf, inf), 7.0: (-inf, inf), 8.0: (-inf, inf), 1.5: (-inf, inf), 10.0: (-inf, inf), 11.0: (6.0, 4), 2.5: (-inf, inf), 13.0: (13.0, 2), 14.0: (13.0, 2), 15.0: (13.0, 2), 3.5: (-inf, inf), 8.5: (-inf, inf), 9.0: (-inf, inf), 12.0: (6.0, 4), 11.5: (6.0, 4), 4.5: (-inf, inf), 13.5: (13.0, 2), 14.5: (13.0, 2), 5.0: (-inf, inf), 5.5: (-inf, inf), 6.5: (-inf, inf), 7.5: (-inf, inf), 9.5: (-inf, inf), 10.5: (-inf, inf), 12.5: (6.0, 4)}\n"
     ]
    }
   ],
   "source": [
    "#cur_best\n",
    "print(llll[1][5])"
   ]
  },
  {
   "cell_type": "code",
   "execution_count": 11,
   "metadata": {},
   "outputs": [
    {
     "name": "stdout",
     "output_type": "stream",
     "text": [
      "{0.0: {}, 0.5: {}, 2.0: {}, 3.0: {}, 4.0: {}, 1.0: {}, 6.0: {}, 7.0: {}, 8.0: {}, 1.5: {}, 10.0: {}, 11.0: {(3, 10.0): (11.0, 11.0)}, 2.5: {}, 13.0: {(2, 13.0): (13.0, 13.0)}, 14.0: {}, 15.0: {}, 3.5: {}, 8.5: {}, 9.0: {}, 12.0: {}, 11.5: {}, 4.5: {}, 13.5: {}, 14.5: {}, 5.0: {}, 5.5: {}, 6.5: {}, 7.5: {}, 9.5: {}, 10.5: {}, 12.5: {}}\n"
     ]
    }
   ],
   "source": [
    "#pre\n",
    "print(llll[0][5])"
   ]
  },
  {
   "cell_type": "code",
   "execution_count": 12,
   "metadata": {},
   "outputs": [
    {
     "name": "stdout",
     "output_type": "stream",
     "text": [
      "{0.0: (-inf, inf), 0.5: (-inf, inf), 2.0: (-inf, inf), 3.0: (-inf, inf), 4.0: (-inf, inf), 1.0: (-inf, inf), 6.0: (6.0, 2), 7.0: (6.0, 2), 8.0: (6.0, 2), 1.5: (-inf, inf), 10.0: (6.0, 2), 11.0: (6.0, 2), 2.5: (-inf, inf), 13.0: (6.0, 2), 14.0: (13.0, 3), 15.0: (13.0, 3), 3.5: (-inf, inf), 8.5: (6.0, 2), 9.0: (6.0, 2), 12.0: (6.0, 2), 11.5: (6.0, 2), 4.5: (-inf, inf), 13.5: (6.0, 2), 14.5: (13.0, 3), 5.0: (-inf, inf), 5.5: (-inf, inf), 6.5: (6.0, 2), 7.5: (6.0, 2), 9.5: (6.0, 2), 10.5: (6.0, 2), 12.5: (6.0, 2)}\n"
     ]
    }
   ],
   "source": [
    "#cur_best\n",
    "print(llll[1][4])"
   ]
  },
  {
   "cell_type": "code",
   "execution_count": 13,
   "metadata": {},
   "outputs": [
    {
     "name": "stdout",
     "output_type": "stream",
     "text": [
      "{0.0: {}, 0.5: {}, 2.0: {}, 3.0: {}, 4.0: {}, 1.0: {}, 6.0: {(1, 6.0): (6.0, 6.0)}, 7.0: {}, 8.0: {}, 1.5: {}, 10.0: {}, 11.0: {}, 2.5: {}, 13.0: {}, 14.0: {(5, 13.0): (14.0, 14.0)}, 15.0: {}, 3.5: {}, 8.5: {}, 9.0: {}, 12.0: {}, 11.5: {}, 4.5: {}, 13.5: {}, 14.5: {}, 5.0: {}, 5.5: {}, 6.5: {}, 7.5: {}, 9.5: {}, 10.5: {}, 12.5: {}}\n"
     ]
    }
   ],
   "source": [
    "#pre\n",
    "print(llll[0][4])"
   ]
  },
  {
   "cell_type": "code",
   "execution_count": 14,
   "metadata": {},
   "outputs": [
    {
     "name": "stdout",
     "output_type": "stream",
     "text": [
      "{0.0: (-inf, inf), 0.5: (-inf, inf), 2.0: (-inf, inf), 3.0: (2.0, 3), 4.0: (2.0, 3), 1.0: (-inf, inf), 6.0: (2.0, 3), 7.0: (2.0, 3), 8.0: (2.0, 3), 1.5: (-inf, inf), 10.0: (6.0, 3), 11.0: (6.0, 3), 2.5: (-inf, inf), 13.0: (6.0, 3), 14.0: (6.0, 3), 15.0: (6.0, 3), 3.5: (2.0, 3), 8.5: (2.0, 3), 9.0: (2.0, 3), 12.0: (6.0, 3), 11.5: (6.0, 3), 4.5: (2.0, 3), 13.5: (6.0, 3), 14.5: (6.0, 3), 5.0: (2.0, 3), 5.5: (2.0, 3), 6.5: (2.0, 3), 7.5: (2.0, 3), 9.5: (2.0, 3), 10.5: (6.0, 3), 12.5: (6.0, 3)}\n"
     ]
    }
   ],
   "source": [
    "#cur_best\n",
    "print(llll[1][3])"
   ]
  },
  {
   "cell_type": "code",
   "execution_count": 15,
   "metadata": {},
   "outputs": [
    {
     "name": "stdout",
     "output_type": "stream",
     "text": [
      "{0.0: {}, 0.5: {}, 2.0: {}, 3.0: {(2, 2.0): (3.0, 3.0)}, 4.0: {}, 1.0: {}, 6.0: {}, 7.0: {}, 8.0: {}, 1.5: {}, 10.0: {(2, 7.0): (10.0, 10.0), (2, 8.0): (10.0, 10.0), (4, 6.0): (10.0, 10.0)}, 11.0: {}, 2.5: {}, 13.0: {}, 14.0: {}, 15.0: {}, 3.5: {}, 8.5: {}, 9.0: {}, 12.0: {}, 11.5: {}, 4.5: {}, 13.5: {}, 14.5: {}, 5.0: {}, 5.5: {}, 6.5: {}, 7.5: {}, 9.5: {}, 10.5: {}, 12.5: {}}\n"
     ]
    }
   ],
   "source": [
    "#pre\n",
    "print(llll[0][3])"
   ]
  },
  {
   "cell_type": "code",
   "execution_count": 16,
   "metadata": {},
   "outputs": [
    {
     "name": "stdout",
     "output_type": "stream",
     "text": [
      "{0.0: (-inf, inf), 0.5: (-inf, inf), 2.0: (2.0, 2), 3.0: (2.0, 2), 4.0: (2.0, 2), 1.0: (-inf, inf), 6.0: (2.0, 2), 7.0: (6.0, 2), 8.0: (6.0, 2), 1.5: (-inf, inf), 10.0: (6.0, 2), 11.0: (6.0, 2), 2.5: (2.0, 2), 13.0: (13.0, 1), 14.0: (13.0, 1), 15.0: (13.0, 1), 3.5: (2.0, 2), 8.5: (6.0, 2), 9.0: (6.0, 2), 12.0: (6.0, 2), 11.5: (6.0, 2), 4.5: (2.0, 2), 13.5: (13.0, 1), 14.5: (13.0, 1), 5.0: (2.0, 2), 5.5: (2.0, 2), 6.5: (2.0, 2), 7.5: (6.0, 2), 9.5: (6.0, 2), 10.5: (6.0, 2), 12.5: (6.0, 2)}\n"
     ]
    }
   ],
   "source": [
    "#cur_best\n",
    "print(llll[1][2])"
   ]
  },
  {
   "cell_type": "code",
   "execution_count": 17,
   "metadata": {},
   "outputs": [
    {
     "name": "stdout",
     "output_type": "stream",
     "text": [
      "{0.0: {}, 0.5: {}, 2.0: {(1, 2.0): (2.0, 2.0)}, 3.0: {}, 4.0: {}, 1.0: {}, 6.0: {}, 7.0: {(1, 6.0): (7.0, 7.0)}, 8.0: {(1, 6.0): (8.0, 8.0)}, 1.5: {}, 10.0: {}, 11.0: {}, 2.5: {}, 13.0: {(0, 13.0): (13.0, 13.0)}, 14.0: {}, 15.0: {}, 3.5: {}, 8.5: {}, 9.0: {}, 12.0: {}, 11.5: {}, 4.5: {}, 13.5: {}, 14.5: {}, 5.0: {}, 5.5: {}, 6.5: {}, 7.5: {}, 9.5: {}, 10.5: {}, 12.5: {}}\n"
     ]
    }
   ],
   "source": [
    "#pre\n",
    "print(llll[0][2])"
   ]
  },
  {
   "cell_type": "code",
   "execution_count": 18,
   "metadata": {},
   "outputs": [
    {
     "name": "stdout",
     "output_type": "stream",
     "text": [
      "{0.0: (-inf, inf), 0.5: (-inf, inf), 2.0: (2.0, 1), 3.0: (2.0, 1), 4.0: (2.0, 1), 1.0: (-inf, inf), 6.0: (6.0, 1), 7.0: (6.0, 1), 8.0: (6.0, 1), 1.5: (-inf, inf), 10.0: (6.0, 1), 11.0: (6.0, 1), 2.5: (2.0, 1), 13.0: (13.0, 1), 14.0: (13.0, 1), 15.0: (13.0, 1), 3.5: (2.0, 1), 8.5: (6.0, 1), 9.0: (6.0, 1), 12.0: (6.0, 1), 11.5: (6.0, 1), 4.5: (2.0, 1), 13.5: (13.0, 1), 14.5: (13.0, 1), 5.0: (2.0, 1), 5.5: (2.0, 1), 6.5: (6.0, 1), 7.5: (6.0, 1), 9.5: (6.0, 1), 10.5: (6.0, 1), 12.5: (6.0, 1)}\n"
     ]
    }
   ],
   "source": [
    "#cur_best\n",
    "print(llll[1][1])"
   ]
  },
  {
   "cell_type": "code",
   "execution_count": 19,
   "metadata": {},
   "outputs": [
    {
     "name": "stdout",
     "output_type": "stream",
     "text": [
      "{0.0: {}, 0.5: {}, 2.0: {(0, 2.0): (2.0, 2.0)}, 3.0: {}, 4.0: {}, 1.0: {}, 6.0: {(0, 6.0): (6.0, 6.0)}, 7.0: {}, 8.0: {}, 1.5: {}, 10.0: {}, 11.0: {}, 2.5: {}, 13.0: {(0, 13.0): (13.0, 13.0)}, 14.0: {}, 15.0: {}, 3.5: {}, 8.5: {}, 9.0: {}, 12.0: {}, 11.5: {}, 4.5: {}, 13.5: {}, 14.5: {}, 5.0: {}, 5.5: {}, 6.5: {}, 7.5: {}, 9.5: {}, 10.5: {}, 12.5: {}}\n"
     ]
    }
   ],
   "source": [
    "#pre\n",
    "print(llll[0][1])"
   ]
  },
  {
   "cell_type": "code",
   "execution_count": 20,
   "metadata": {},
   "outputs": [
    {
     "name": "stdout",
     "output_type": "stream",
     "text": [
      "{0.0: (0.0, 0), 0.5: (0.5, 0), 2.0: (2.0, 0), 3.0: (3.0, 0), 4.0: (4.0, 0), 1.0: (1.0, 0), 6.0: (6.0, 0), 7.0: (7.0, 0), 8.0: (8.0, 0), 1.5: (1.5, 0), 10.0: (10.0, 0), 11.0: (11.0, 0), 2.5: (2.5, 0), 13.0: (13.0, 0), 14.0: (14.0, 0), 15.0: (15.0, 0), 3.5: (3.5, 0), 8.5: (8.5, 0), 9.0: (9.0, 0), 12.0: (12.0, 0), 11.5: (11.5, 0), 4.5: (4.5, 0), 13.5: (13.5, 0), 14.5: (14.5, 0), 5.0: (5.0, 0), 5.5: (5.5, 0), 6.5: (6.5, 0), 7.5: (7.5, 0), 9.5: (9.5, 0), 10.5: (10.5, 0), 12.5: (12.5, 0)}\n"
     ]
    }
   ],
   "source": [
    "#cur_best\n",
    "print(llll[1][0])"
   ]
  },
  {
   "cell_type": "code",
   "execution_count": 21,
   "metadata": {},
   "outputs": [
    {
     "name": "stdout",
     "output_type": "stream",
     "text": [
      "{0.0: {(0, 0): (-1, -1)}, 0.5: {(0, 0): (-1, -1)}, 2.0: {(0, 0): (-1, -1)}, 3.0: {(0, 0): (-1, -1)}, 4.0: {(0, 0): (-1, -1)}, 1.0: {(0, 0): (-1, -1)}, 6.0: {(0, 0): (-1, -1)}, 7.0: {(0, 0): (-1, -1)}, 8.0: {(0, 0): (-1, -1)}, 1.5: {(0, 0): (-1, -1)}, 10.0: {(0, 0): (-1, -1)}, 11.0: {(0, 0): (-1, -1)}, 2.5: {(0, 0): (-1, -1)}, 13.0: {(0, 0): (-1, -1)}, 14.0: {(0, 0): (-1, -1)}, 15.0: {(0, 0): (-1, -1)}, 3.5: {(0, 0): (-1, -1)}, 8.5: {(0, 0): (-1, -1)}, 9.0: {(0, 0): (-1, -1)}, 12.0: {(0, 0): (-1, -1)}, 11.5: {(0, 0): (-1, -1)}, 4.5: {(0, 0): (-1, -1)}, 13.5: {(0, 0): (-1, -1)}, 14.5: {(0, 0): (-1, -1)}, 5.0: {(0, 0): (-1, -1)}, 5.5: {(0, 0): (-1, -1)}, 6.5: {(0, 0): (-1, -1)}, 7.5: {(0, 0): (-1, -1)}, 9.5: {(0, 0): (-1, -1)}, 10.5: {(0, 0): (-1, -1)}, 12.5: {(0, 0): (-1, -1)}}\n"
     ]
    }
   ],
   "source": [
    "#pre\n",
    "print(llll[0][0])"
   ]
  },
  {
   "cell_type": "code",
   "execution_count": 22,
   "metadata": {},
   "outputs": [],
   "source": [
    "lat = nouveau.latencies(llll[1])\n",
    "node_check = 3"
   ]
  },
  {
   "cell_type": "code",
   "execution_count": 23,
   "metadata": {},
   "outputs": [
    {
     "data": {
      "text/plain": [
       "[{0.0: (0.0, 0),\n",
       "  0.5: (0.5, 0),\n",
       "  2.0: (2.0, 0),\n",
       "  3.0: (3.0, 0),\n",
       "  4.0: (4.0, 0),\n",
       "  1.0: (1.0, 0),\n",
       "  6.0: (6.0, 0),\n",
       "  7.0: (7.0, 0),\n",
       "  8.0: (8.0, 0),\n",
       "  1.5: (1.5, 0),\n",
       "  10.0: (10.0, 0),\n",
       "  11.0: (11.0, 0),\n",
       "  2.5: (2.5, 0),\n",
       "  13.0: (13.0, 0),\n",
       "  14.0: (14.0, 0),\n",
       "  15.0: (15.0, 0),\n",
       "  3.5: (3.5, 0),\n",
       "  8.5: (8.5, 0),\n",
       "  9.0: (9.0, 0),\n",
       "  12.0: (12.0, 0),\n",
       "  11.5: (11.5, 0),\n",
       "  4.5: (4.5, 0),\n",
       "  13.5: (13.5, 0),\n",
       "  14.5: (14.5, 0),\n",
       "  5.0: (5.0, 0),\n",
       "  5.5: (5.5, 0),\n",
       "  6.5: (6.5, 0),\n",
       "  7.5: (7.5, 0),\n",
       "  9.5: (9.5, 0),\n",
       "  10.5: (10.5, 0),\n",
       "  12.5: (12.5, 0)},\n",
       " {2.0: (2.0, 1), 6.0: (6.0, 1), 13.0: (13.0, 1)},\n",
       " {2.0: (2.0, 2), 7.0: (6.0, 2), 13.0: (13.0, 1)},\n",
       " {3.0: (2.0, 3), 10.0: (6.0, 3)},\n",
       " {6.0: (6.0, 2), 14.0: (13.0, 3)},\n",
       " {11.0: (6.0, 4), 13.0: (13.0, 2)}]"
      ]
     },
     "execution_count": 23,
     "metadata": {},
     "output_type": "execute_result"
    }
   ],
   "source": [
    "lat"
   ]
  },
  {
   "cell_type": "code",
   "execution_count": 24,
   "metadata": {},
   "outputs": [
    {
     "data": {
      "text/plain": [
       "{3.0: (2.0, 3), 10.0: (6.0, 3)}"
      ]
     },
     "execution_count": 24,
     "metadata": {},
     "output_type": "execute_result"
    }
   ],
   "source": [
    "lat[3]"
   ]
  },
  {
   "cell_type": "code",
   "execution_count": 25,
   "metadata": {},
   "outputs": [],
   "source": [
    "#contri, prev_next = nouveau.contribution_each_latency(lat)"
   ]
  },
  {
   "cell_type": "code",
   "execution_count": 26,
   "metadata": {},
   "outputs": [],
   "source": [
    "#contri"
   ]
  },
  {
   "cell_type": "code",
   "execution_count": 27,
   "metadata": {},
   "outputs": [],
   "source": [
    "#prev_next"
   ]
  },
  {
   "cell_type": "code",
   "execution_count": 28,
   "metadata": {},
   "outputs": [],
   "source": [
    "#prev_next[1]"
   ]
  },
  {
   "cell_type": "code",
   "execution_count": 29,
   "metadata": {},
   "outputs": [],
   "source": [
    "G = nouveau.predecessor_graph_dis(llll[0],node)"
   ]
  },
  {
   "cell_type": "code",
   "execution_count": 30,
   "metadata": {},
   "outputs": [
    {
     "data": {
      "image/png": "[encoded data removed]",
      "text/plain": [
       "<Figure size 2160x2160 with 1 Axes>"
      ]
     },
     "metadata": {},
     "output_type": "display_data"
    }
   ],
   "source": [
    "import networkx as nx\n",
    "fig, ax = plt.subplots(figsize=(30,30))\n",
    "nx.draw_networkx(G,arrows=True,width = 1,ax = ax)"
   ]
  },
  {
   "cell_type": "code",
   "execution_count": 32,
   "metadata": {},
   "outputs": [],
   "source": [
    "import matplotlib.pyplot as plt"
   ]
  },
  {
   "cell_type": "code",
   "execution_count": 33,
   "metadata": {},
   "outputs": [],
   "source": [
    "cc = nx.connected_components(nx.to_undirected(G))\n",
    "sg = []\n",
    "for e in cc:\n",
    "    sg.append(G.subgraph(list(e)))"
   ]
  },
  {
   "cell_type": "code",
   "execution_count": 81,
   "metadata": {},
   "outputs": [
    {
     "data": {
      "image/png": "[encoded data removed]",
      "text/plain": [
       "<Figure size 504x504 with 1 Axes>"
      ]
     },
     "metadata": {},
     "output_type": "display_data"
    },
    {
     "data": {
      "image/png": "[encoded data removed]",
      "text/plain": [
       "<Figure size 504x504 with 1 Axes>"
      ]
     },
     "metadata": {},
     "output_type": "display_data"
    },
    {
     "data": {
      "image/png": "[encoded data removed]",
      "text/plain": [
       "<Figure size 504x504 with 1 Axes>"
      ]
     },
     "metadata": {},
     "output_type": "display_data"
    }
   ],
   "source": [
    "for i in range(0,len(sg)):\n",
    "    fig, ax = plt.subplots(figsize=(7,7))\n",
    "    pos = nx.planar_layout(G)\n",
    "    nx.draw(\n",
    "    sg[i], pos, edge_color='black',\n",
    "    node_size=1000, node_color='pink', alpha=0.9, with_labels = True\n",
    "    \n",
    ")\n",
    "#    edge_l = dict()\n",
    "#    for e in G.edges():\n",
    "#        edge_l[e] = G[e[0]][e[1]]['weight']\n",
    "#    nx.draw_networkx_edge_labels(\n",
    "#    sg[i], pos,\n",
    "#    edge_labels=edge_l,\n",
    "#    font_color='red'\n",
    "#)\n",
    "    plt.savefig(\"cc_\"+str(i)+\".png\" )"
   ]
  },
  {
   "cell_type": "code",
   "execution_count": 68,
   "metadata": {},
   "outputs": [],
   "source": [
    "nx.write_gexf(G, \"test.gexf\")"
   ]
  },
  {
   "cell_type": "code",
   "execution_count": 34,
   "metadata": {},
   "outputs": [
    {
     "data": {
      "text/plain": [
       "[]"
      ]
     },
     "execution_count": 34,
     "metadata": {},
     "output_type": "execute_result"
    }
   ],
   "source": [
    "(list(nx.simple_cycles(G)))"
   ]
  },
  {
   "cell_type": "code",
   "execution_count": 35,
   "metadata": {},
   "outputs": [
    {
     "name": "stdout",
     "output_type": "stream",
     "text": [
      "(1, 13.0) [(0, 13.0)] {}\n",
      "(3, 3.0) [(2, 2.0)] {(1, 13.0): 1}\n",
      "(2, 2.0) [(1, 2.0)] {(1, 13.0): 1}\n",
      "(1, 2.0) [(0, 2.0)] {(1, 13.0): 1}\n",
      "(4, 14.0) [(5, 13.0)] {(1, 13.0): 1, (1, 2.0): 1, (2, 2.0): 1, (3, 3.0): 1}\n",
      "(5, 13.0) [(2, 13.0)] {(1, 13.0): 1, (1, 2.0): 1, (2, 2.0): 1, (3, 3.0): 1}\n",
      "(2, 13.0) [(0, 13.0)] {(1, 13.0): 1, (1, 2.0): 1, (2, 2.0): 1, (3, 3.0): 1}\n",
      "(5, 11.0) [(3, 10.0)] {(1, 13.0): 1, (1, 2.0): 1, (2, 2.0): 1, (3, 3.0): 1, (2, 13.0): 1, (5, 13.0): 1, (4, 14.0): 1}\n",
      "(3, 10.0) [(2, 7.0), (2, 8.0), (4, 6.0)] {(1, 13.0): 1, (1, 2.0): 1, (2, 2.0): 1, (3, 3.0): 1, (2, 13.0): 1, (5, 13.0): 1, (4, 14.0): 1}\n",
      "(2, 7.0) [(1, 6.0)] {(1, 13.0): 1, (1, 2.0): 1, (2, 2.0): 1, (3, 3.0): 1, (2, 13.0): 1, (5, 13.0): 1, (4, 14.0): 1}\n",
      "(1, 6.0) [(0, 6.0)] {(1, 13.0): 1, (1, 2.0): 1, (2, 2.0): 1, (3, 3.0): 1, (2, 13.0): 1, (5, 13.0): 1, (4, 14.0): 1}\n",
      "(2, 8.0) [(1, 6.0)] {(1, 13.0): 1, (1, 2.0): 1, (2, 2.0): 1, (3, 3.0): 1, (2, 13.0): 1, (5, 13.0): 1, (4, 14.0): 1, (1, 6.0): 1, (2, 7.0): 1}\n",
      "(1, 6.0) [(0, 6.0)] {(1, 13.0): 1, (1, 2.0): 1, (2, 2.0): 1, (3, 3.0): 1, (2, 13.0): 1, (5, 13.0): 1, (4, 14.0): 1, (1, 6.0): 1, (2, 7.0): 1}\n",
      "(4, 6.0) [(1, 6.0)] {(1, 13.0): 1, (1, 2.0): 1, (2, 2.0): 1, (3, 3.0): 1, (2, 13.0): 1, (5, 13.0): 1, (4, 14.0): 1, (1, 6.0): 1, (2, 7.0): 1, (2, 8.0): 1}\n",
      "(1, 6.0) [(0, 6.0)] {(1, 13.0): 1, (1, 2.0): 1, (2, 2.0): 1, (3, 3.0): 1, (2, 13.0): 1, (5, 13.0): 1, (4, 14.0): 1, (1, 6.0): 1, (2, 7.0): 1, (2, 8.0): 1}\n"
     ]
    }
   ],
   "source": [
    "sigma = nouveau.volume_metapaths_dis(G, node)"
   ]
  },
  {
   "cell_type": "code",
   "execution_count": 36,
   "metadata": {},
   "outputs": [
    {
     "data": {
      "text/plain": [
       "{(1, 13.0): 1,\n",
       " (1, 2.0): 1,\n",
       " (2, 2.0): 1,\n",
       " (3, 3.0): 1,\n",
       " (2, 13.0): 1,\n",
       " (5, 13.0): 1,\n",
       " (4, 14.0): 1,\n",
       " (1, 6.0): 1,\n",
       " (2, 7.0): 1,\n",
       " (2, 8.0): 1,\n",
       " (4, 6.0): 1,\n",
       " (3, 10.0): 3,\n",
       " (5, 11.0): 3}"
      ]
     },
     "execution_count": 36,
     "metadata": {},
     "output_type": "execute_result"
    }
   ],
   "source": [
    "sigma"
   ]
  },
  {
   "cell_type": "code",
   "execution_count": 40,
   "metadata": {},
   "outputs": [
    {
     "name": "stdout",
     "output_type": "stream",
     "text": [
      "noder (1, 2.0) predr (-1, -1) last inter (2.0, 2.0) before last inter (-1, -1) pred_depar -1 actual_depar 2.0 {(0, 2.0): ((-1, -1), Polynomial([0.], domain=[-1,  1], window=[-1,  1]))}\n",
      "succ\n",
      "noder (2, 2.0) predr (-1, -1) last inter (2.0, 2.0) before last inter (2.0, 2.0) pred_depar -1 actual_depar 2.0 {(0, 2.0): ((-1, -1), Polynomial([0.], domain=[-1,  1], window=[-1,  1])), (1, 2.0): ((-1, -1), 1)}\n",
      "succ\n",
      "noder (3, 3.0) predr (-1, -1) last inter (3.0, 3.0) before last inter (2.0, 2.0) pred_depar -1 actual_depar 2.0 {(0, 2.0): ((-1, -1), Polynomial([0.], domain=[-1,  1], window=[-1,  1])), (1, 2.0): ((-1, -1), 1), (2, 2.0): ((-1, -1), 1)}\n",
      "succ\n",
      "noder (1, 6.0) predr (-1, -1) last inter (6.0, 6.0) before last inter (-1, -1) pred_depar -1 actual_depar 6.0 {(0, 2.0): ((-1, -1), Polynomial([0.], domain=[-1,  1], window=[-1,  1])), (1, 2.0): ((-1, -1), 1), (2, 2.0): ((-1, -1), 1), (3, 3.0): ((-1, -1), 1), (0, 6.0): ((-1, -1), Polynomial([0.], domain=[-1,  1], window=[-1,  1]))}\n",
      "succ\n",
      "noder (2, 7.0) predr (-1, -1) last inter (7.0, 7.0) before last inter (6.0, 6.0) pred_depar -1 actual_depar 6.0 {(0, 2.0): ((-1, -1), Polynomial([0.], domain=[-1,  1], window=[-1,  1])), (1, 2.0): ((-1, -1), 1), (2, 2.0): ((-1, -1), 1), (3, 3.0): ((-1, -1), 1), (0, 6.0): ((-1, -1), Polynomial([0.], domain=[-1,  1], window=[-1,  1])), (1, 6.0): ((-1, -1), 1)}\n",
      "succ\n",
      "noder (3, 10.0) predr (-1, -1) last inter (10.0, 10.0) before last inter (7.0, 7.0) pred_depar -1 actual_depar 6.0 {(0, 2.0): ((-1, -1), Polynomial([0.], domain=[-1,  1], window=[-1,  1])), (1, 2.0): ((-1, -1), 1), (2, 2.0): ((-1, -1), 1), (3, 3.0): ((-1, -1), 1), (0, 6.0): ((-1, -1), Polynomial([0.], domain=[-1,  1], window=[-1,  1])), (1, 6.0): ((-1, -1), 1), (2, 7.0): ((-1, -1), 1)}\n",
      "succ\n",
      "noder (5, 11.0) predr (-1, -1) last inter (11.0, 11.0) before last inter (10.0, 10.0) pred_depar -1 actual_depar 6.0 {(0, 2.0): ((-1, -1), Polynomial([0.], domain=[-1,  1], window=[-1,  1])), (1, 2.0): ((-1, -1), 1), (2, 2.0): ((-1, -1), 1), (3, 3.0): ((-1, -1), 1), (0, 6.0): ((-1, -1), Polynomial([0.], domain=[-1,  1], window=[-1,  1])), (1, 6.0): ((-1, -1), 1), (2, 7.0): ((-1, -1), 1), (3, 10.0): ((-1, -1), 3)}\n",
      "succ\n",
      "noder (2, 8.0) predr (2, 7.0) last inter (8.0, 8.0) before last inter (6.0, 6.0) pred_depar 6.0 actual_depar 6.0 {(0, 2.0): ((-1, -1), Polynomial([0.], domain=[-1,  1], window=[-1,  1])), (1, 2.0): ((-1, -1), 1), (2, 2.0): ((-1, -1), 1), (3, 3.0): ((-1, -1), 1), (0, 6.0): ((-1, -1), Polynomial([0.], domain=[-1,  1], window=[-1,  1])), (1, 6.0): ((-1, -1), 1), (2, 7.0): ((-1, -1), 1), (3, 10.0): ((-1, -1), 3), (5, 11.0): ((-1, -1), 3)}\n",
      "succ\n",
      "noder (3, 10.0) predr (-1, -1) last inter (10.0, 10.0) before last inter (8.0, 8.0) pred_depar -1 actual_depar 6.0 {(0, 2.0): ((-1, -1), Polynomial([0.], domain=[-1,  1], window=[-1,  1])), (1, 2.0): ((-1, -1), 1), (2, 2.0): ((-1, -1), 1), (3, 3.0): ((-1, -1), 1), (0, 6.0): ((-1, -1), Polynomial([0.], domain=[-1,  1], window=[-1,  1])), (1, 6.0): ((-1, -1), 1), (2, 7.0): ((-1, -1), 1), (3, 10.0): ((-1, -1), 3), (5, 11.0): ((-1, -1), 3), (2, 8.0): ((2, 7.0), 2)}\n",
      "succ\n",
      "noder (5, 11.0) predr (-1, -1) last inter (11.0, 11.0) before last inter (10.0, 10.0) pred_depar -1 actual_depar 6.0 {(0, 2.0): ((-1, -1), Polynomial([0.], domain=[-1,  1], window=[-1,  1])), (1, 2.0): ((-1, -1), 1), (2, 2.0): ((-1, -1), 1), (3, 3.0): ((-1, -1), 1), (0, 6.0): ((-1, -1), Polynomial([0.], domain=[-1,  1], window=[-1,  1])), (1, 6.0): ((-1, -1), 1), (2, 7.0): ((-1, -1), 1), (3, 10.0): ((-1, -1), 3), (5, 11.0): ((-1, -1), 3), (2, 8.0): ((2, 7.0), 2)}\n",
      "succ\n",
      "noder (4, 6.0) predr (-1, -1) last inter (6.0, 6.0) before last inter (6.0, 6.0) pred_depar -1 actual_depar 6.0 {(0, 2.0): ((-1, -1), Polynomial([0.], domain=[-1,  1], window=[-1,  1])), (1, 2.0): ((-1, -1), 1), (2, 2.0): ((-1, -1), 1), (3, 3.0): ((-1, -1), 1), (0, 6.0): ((-1, -1), Polynomial([0.], domain=[-1,  1], window=[-1,  1])), (1, 6.0): ((-1, -1), 1), (2, 7.0): ((-1, -1), 1), (3, 10.0): ((-1, -1), 3), (5, 11.0): ((-1, -1), 3), (2, 8.0): ((2, 7.0), 2)}\n",
      "succ\n",
      "noder (3, 10.0) predr (-1, -1) last inter (10.0, 10.0) before last inter (6.0, 6.0) pred_depar -1 actual_depar 6.0 {(0, 2.0): ((-1, -1), Polynomial([0.], domain=[-1,  1], window=[-1,  1])), (1, 2.0): ((-1, -1), 1), (2, 2.0): ((-1, -1), 1), (3, 3.0): ((-1, -1), 1), (0, 6.0): ((-1, -1), Polynomial([0.], domain=[-1,  1], window=[-1,  1])), (1, 6.0): ((-1, -1), 1), (2, 7.0): ((-1, -1), 1), (3, 10.0): ((-1, -1), 3), (5, 11.0): ((-1, -1), 3), (2, 8.0): ((2, 7.0), 2), (4, 6.0): ((-1, -1), 1)}\n",
      "succ\n",
      "noder (5, 11.0) predr (-1, -1) last inter (11.0, 11.0) before last inter (10.0, 10.0) pred_depar -1 actual_depar 6.0 {(0, 2.0): ((-1, -1), Polynomial([0.], domain=[-1,  1], window=[-1,  1])), (1, 2.0): ((-1, -1), 1), (2, 2.0): ((-1, -1), 1), (3, 3.0): ((-1, -1), 1), (0, 6.0): ((-1, -1), Polynomial([0.], domain=[-1,  1], window=[-1,  1])), (1, 6.0): ((-1, -1), 1), (2, 7.0): ((-1, -1), 1), (3, 10.0): ((-1, -1), 3), (5, 11.0): ((-1, -1), 3), (2, 8.0): ((2, 7.0), 2), (4, 6.0): ((-1, -1), 1)}\n",
      "succ\n",
      "noder (1, 13.0) predr (-1, -1) last inter (13.0, 13.0) before last inter (-1, -1) pred_depar -1 actual_depar 13.0 {(0, 2.0): ((-1, -1), Polynomial([0.], domain=[-1,  1], window=[-1,  1])), (1, 2.0): ((-1, -1), 1), (2, 2.0): ((-1, -1), 1), (3, 3.0): ((-1, -1), 1), (0, 6.0): ((-1, -1), Polynomial([0.], domain=[-1,  1], window=[-1,  1])), (1, 6.0): ((-1, -1), 1), (2, 7.0): ((-1, -1), 1), (3, 10.0): ((-1, -1), 3), (5, 11.0): ((-1, -1), 3), (2, 8.0): ((2, 7.0), 2), (4, 6.0): ((-1, -1), 1), (0, 13.0): ((-1, -1), Polynomial([0.], domain=[-1,  1], window=[-1,  1]))}\n",
      "succ\n",
      "noder (2, 13.0) predr (-1, -1) last inter (13.0, 13.0) before last inter (-1, -1) pred_depar -1 actual_depar 13.0 {(0, 2.0): ((-1, -1), Polynomial([0.], domain=[-1,  1], window=[-1,  1])), (1, 2.0): ((-1, -1), 1), (2, 2.0): ((-1, -1), 1), (3, 3.0): ((-1, -1), 1), (0, 6.0): ((-1, -1), Polynomial([0.], domain=[-1,  1], window=[-1,  1])), (1, 6.0): ((-1, -1), 1), (2, 7.0): ((-1, -1), 1), (3, 10.0): ((-1, -1), 3), (5, 11.0): ((-1, -1), 3), (2, 8.0): ((2, 7.0), 2), (4, 6.0): ((-1, -1), 1), (0, 13.0): ((-1, -1), Polynomial([0.], domain=[-1,  1], window=[-1,  1])), (1, 13.0): ((-1, -1), 1)}\n",
      "succ\n",
      "noder (5, 13.0) predr (-1, -1) last inter (13.0, 13.0) before last inter (13.0, 13.0) pred_depar -1 actual_depar 13.0 {(0, 2.0): ((-1, -1), Polynomial([0.], domain=[-1,  1], window=[-1,  1])), (1, 2.0): ((-1, -1), 1), (2, 2.0): ((-1, -1), 1), (3, 3.0): ((-1, -1), 1), (0, 6.0): ((-1, -1), Polynomial([0.], domain=[-1,  1], window=[-1,  1])), (1, 6.0): ((-1, -1), 1), (2, 7.0): ((-1, -1), 1), (3, 10.0): ((-1, -1), 3), (5, 11.0): ((-1, -1), 3), (2, 8.0): ((2, 7.0), 2), (4, 6.0): ((-1, -1), 1), (0, 13.0): ((-1, -1), Polynomial([0.], domain=[-1,  1], window=[-1,  1])), (1, 13.0): ((-1, -1), 1), (2, 13.0): ((-1, -1), 1)}\n",
      "succ\n",
      "noder (4, 14.0) predr (-1, -1) last inter (14.0, 14.0) before last inter (13.0, 13.0) pred_depar -1 actual_depar 13.0 {(0, 2.0): ((-1, -1), Polynomial([0.], domain=[-1,  1], window=[-1,  1])), (1, 2.0): ((-1, -1), 1), (2, 2.0): ((-1, -1), 1), (3, 3.0): ((-1, -1), 1), (0, 6.0): ((-1, -1), Polynomial([0.], domain=[-1,  1], window=[-1,  1])), (1, 6.0): ((-1, -1), 1), (2, 7.0): ((-1, -1), 1), (3, 10.0): ((-1, -1), 3), (5, 11.0): ((-1, -1), 3), (2, 8.0): ((2, 7.0), 2), (4, 6.0): ((-1, -1), 1), (0, 13.0): ((-1, -1), Polynomial([0.], domain=[-1,  1], window=[-1,  1])), (1, 13.0): ((-1, -1), 1), (2, 13.0): ((-1, -1), 1), (5, 13.0): ((-1, -1), 1)}\n",
      "succ\n"
     ]
    }
   ],
   "source": [
    "sigma_r = nouveau.volume_metapaths_with_restingpaths_dis(G, sigma)"
   ]
  },
  {
   "cell_type": "code",
   "execution_count": 41,
   "metadata": {},
   "outputs": [
    {
     "name": "stdout",
     "output_type": "stream",
     "text": [
      "(0, 2.0) 0.0\n",
      "(1, 2.0) 1\n",
      "(2, 2.0) 1\n",
      "(3, 3.0) 1\n",
      "(0, 6.0) 0.0\n",
      "(1, 6.0) 1\n",
      "(2, 7.0) 1\n",
      "(3, 10.0) 3\n",
      "(5, 11.0) 3\n",
      "(2, 8.0) 2\n",
      "(4, 6.0) 1\n",
      "(0, 13.0) 0.0\n",
      "(1, 13.0) 1\n",
      "(2, 13.0) 1\n",
      "(5, 13.0) 1\n",
      "(4, 14.0) 1\n"
     ]
    }
   ],
   "source": [
    "for e in sigma_r.keys():\n",
    "    print(e,sigma_r[e][1])"
   ]
  },
  {
   "cell_type": "code",
   "execution_count": 42,
   "metadata": {},
   "outputs": [],
   "source": [
    "pre, cur_best = llll\n",
    "events = list(nouveau.event_times())\n",
    "events.sort()\n",
    "close_arrival = nouveau.closest_arrival_contri(cur_best, events)"
   ]
  },
  {
   "cell_type": "code",
   "execution_count": 43,
   "metadata": {},
   "outputs": [],
   "source": [
    "events_reverse = dict()\n",
    "for i in range(0,len(events)):\n",
    "    events_reverse[events[i]] = i "
   ]
  },
  {
   "cell_type": "code",
   "execution_count": 44,
   "metadata": {},
   "outputs": [
    {
     "name": "stdout",
     "output_type": "stream",
     "text": [
      "{0.0: 0, 0.5: 1, 1.0: 2, 1.5: 3, 2.0: 4, 2.5: 5, 3.0: 6, 3.5: 7, 4.0: 8, 4.5: 9, 5.0: 10, 5.5: 11, 6.0: 12, 6.5: 13, 7.0: 14, 7.5: 15, 8.0: 16, 8.5: 17, 9.0: 18, 9.5: 19, 10.0: 20, 10.5: 21, 11.0: 22, 11.5: 23, 12.0: 24, 12.5: 25, 13.0: 26, 13.5: 27, 14.0: 28, 14.5: 29, 15.0: 30}\n"
     ]
    }
   ],
   "source": [
    "print(events_reverse)"
   ]
  },
  {
   "cell_type": "code",
   "execution_count": 64,
   "metadata": {},
   "outputs": [
    {
     "name": "stdout",
     "output_type": "stream",
     "text": [
      "lat[i] (1.0, 1) latj[j] (1.5, 1) node 1\n",
      "ok = > lat[i] (1.0, 1) latj[j] (1.5, 1) node 1\n",
      "lat[i] (1.5, 1) latj[j] (1.0, 1) node 1\n",
      "ok = > lat[i] (1.5, 1) latj[j] (1.0, 1) node 1\n",
      "lat[i] (1.5, 1) latj[j] (2.0, 1) node 1\n",
      "ok = > lat[i] (1.5, 1) latj[j] (2.0, 1) node 1\n",
      "lat[i] (2.0, 1) latj[j] (1.5, 1) node 1\n",
      "ok = > lat[i] (2.0, 1) latj[j] (1.5, 1) node 1\n",
      "lat[i] (15.0, 1) latj[j] (15.5, 1) node 1\n",
      "ok = > lat[i] (15.0, 1) latj[j] (15.5, 1) node 1\n",
      "lat[i] (15.5, 1) latj[j] (15.0, 1) node 1\n",
      "ok = > lat[i] (15.5, 1) latj[j] (15.0, 1) node 1\n",
      "lat[i] (15.5, 1) latj[j] (16.0, 1) node 1\n",
      "ok = > lat[i] (15.5, 1) latj[j] (16.0, 1) node 1\n",
      "lat[i] (16.0, 1) latj[j] (15.5, 1) node 1\n",
      "ok = > lat[i] (16.0, 1) latj[j] (15.5, 1) node 1\n",
      "lat[i] (23.0, 1) latj[j] (23.5, 1) node 1\n",
      "ok = > lat[i] (23.0, 1) latj[j] (23.5, 1) node 1\n",
      "lat[i] (23.5, 1) latj[j] (23.0, 1) node 1\n",
      "ok = > lat[i] (23.5, 1) latj[j] (23.0, 1) node 1\n",
      "lat[i] (23.5, 1) latj[j] (24.0, 1) node 1\n",
      "ok = > lat[i] (23.5, 1) latj[j] (24.0, 1) node 1\n",
      "lat[i] (24.0, 1) latj[j] (23.5, 1) node 1\n",
      "ok = > lat[i] (24.0, 1) latj[j] (23.5, 1) node 1\n",
      "lat[i] (8.0, 1) latj[j] (8.5, 1) node 2\n",
      "ok = > lat[i] (8.0, 1) latj[j] (8.5, 1) node 2\n",
      "lat[i] (8.5, 1) latj[j] (8.0, 1) node 2\n",
      "ok = > lat[i] (8.5, 1) latj[j] (8.0, 1) node 2\n",
      "lat[i] (8.5, 1) latj[j] (9.0, 1) node 2\n",
      "ok = > lat[i] (8.5, 1) latj[j] (9.0, 1) node 2\n",
      "lat[i] (9.0, 1) latj[j] (8.5, 1) node 2\n",
      "ok = > lat[i] (9.0, 1) latj[j] (8.5, 1) node 2\n"
     ]
    }
   ],
   "source": [
    "contri, prev_next = nouveau.contribution_each_latency(lat, sigma_r, events_reverse)"
   ]
  },
  {
   "cell_type": "code",
   "execution_count": 65,
   "metadata": {},
   "outputs": [
    {
     "data": {
      "text/plain": [
       "{9.0: (2.0, 4), 16.0: (9.0, 4), 23.0: (16.0, 4), 30.0: (24.0, 4)}"
      ]
     },
     "execution_count": 65,
     "metadata": {},
     "output_type": "execute_result"
    }
   ],
   "source": [
    "nodec = 4\n",
    "lat[nodec]"
   ]
  },
  {
   "cell_type": "code",
   "execution_count": 66,
   "metadata": {},
   "outputs": [
    {
     "data": {
      "text/plain": [
       "{9.0: (0, 30.0), 16.0: (0, 30.0), 23.0: (0, 30.0), 30.0: (0, 32.0)}"
      ]
     },
     "execution_count": 66,
     "metadata": {},
     "output_type": "execute_result"
    }
   ],
   "source": [
    "contri[nodec]"
   ]
  },
  {
   "cell_type": "code",
   "execution_count": 67,
   "metadata": {},
   "outputs": [
    {
     "data": {
      "text/plain": [
       "{9.0: [16.0, 23.0], 16.0: [9.0, 23.0], 23.0: [16.0, 9.0]}"
      ]
     },
     "execution_count": 67,
     "metadata": {},
     "output_type": "execute_result"
    }
   ],
   "source": [
    "prev_next[nodec]"
   ]
  },
  {
   "cell_type": "code",
   "execution_count": 68,
   "metadata": {},
   "outputs": [
    {
     "name": "stdout",
     "output_type": "stream",
     "text": [
      "(1, 24.0)\n"
     ]
    }
   ],
   "source": [
    "pointer = nouveau.pointers(sigma_r)\n",
    "#print(pointer)\n",
    "print(pointer[(1,27.5)])"
   ]
  },
  {
   "cell_type": "code",
   "execution_count": 69,
   "metadata": {},
   "outputs": [],
   "source": [
    "pointer2 = nouveau.pointers2(contri)\n",
    "#print(pointer2)\n",
    "#print(pointer2[(1,4)])"
   ]
  },
  {
   "cell_type": "code",
   "execution_count": 70,
   "metadata": {},
   "outputs": [],
   "source": [
    "pointer3 = nouveau.pointers3(llll[1])\n",
    "#print(pointer3)\n",
    "#print(pointer3[(1,5)])"
   ]
  },
  {
   "cell_type": "code",
   "execution_count": 71,
   "metadata": {},
   "outputs": [],
   "source": [
    "#vol_bet = nouveau.volume_between_direct_arrivals(node, G, pre)"
   ]
  },
  {
   "cell_type": "code",
   "execution_count": 72,
   "metadata": {},
   "outputs": [],
   "source": [
    "#vv,tt = 2,27\n",
    "#for e in vol_bet[vv][tt]:\n",
    "#    print(e,vol_bet[vv][tt][e])"
   ]
  },
  {
   "cell_type": "code",
   "execution_count": 73,
   "metadata": {},
   "outputs": [
    {
     "name": "stdout",
     "output_type": "stream",
     "text": [
      "{9.0: 12.0, 16.0: 19.0, 24.0: 27.0, 2.0: 6.0, 0.0: 0.0}\n"
     ]
    }
   ],
   "source": [
    "lat_rev = nouveau.latencies_rev(lat, events)\n",
    "print(lat_rev[3])"
   ]
  },
  {
   "cell_type": "code",
   "execution_count": 74,
   "metadata": {},
   "outputs": [
    {
     "ename": "KeyError",
     "evalue": "(-1, -1)",
     "output_type": "error",
     "traceback": [
      "\u001b[0;31m---------------------------------------------------------------------------\u001b[0m",
      "\u001b[0;31mKeyError\u001b[0m                                  Traceback (most recent call last)",
      "\u001b[0;32m<ipython-input-74-533c76a75ead>\u001b[0m in \u001b[0;36m<module>\u001b[0;34m\u001b[0m\n\u001b[0;32m----> 1\u001b[0;31m \u001b[0msigma_r\u001b[0m\u001b[0;34m[\u001b[0m\u001b[0mpointer\u001b[0m\u001b[0;34m[\u001b[0m\u001b[0;34m(\u001b[0m\u001b[0;36m3\u001b[0m\u001b[0;34m,\u001b[0m \u001b[0;36m4\u001b[0m\u001b[0;34m)\u001b[0m\u001b[0;34m]\u001b[0m\u001b[0;34m]\u001b[0m\u001b[0;34m[\u001b[0m\u001b[0;36m1\u001b[0m\u001b[0;34m]\u001b[0m\u001b[0;34m\u001b[0m\u001b[0;34m\u001b[0m\u001b[0m\n\u001b[0m",
      "\u001b[0;31mKeyError\u001b[0m: (-1, -1)"
     ]
    }
   ],
   "source": [
    "sigma_r[pointer[(3, 4)]][1]"
   ]
  },
  {
   "cell_type": "code",
   "execution_count": 75,
   "metadata": {},
   "outputs": [
    {
     "name": "stdout",
     "output_type": "stream",
     "text": [
      "call svvt,  s 0 v 3 t 28.0\n"
     ]
    },
    {
     "data": {
      "text/plain": [
       "0"
      ]
     },
     "execution_count": 75,
     "metadata": {},
     "output_type": "execute_result"
    }
   ],
   "source": [
    "nouveau.delta_svvt( node, 3, 28.0, lat, contri, prev_next, sigma_r, pointer, pointer2,{},lat_rev)"
   ]
  },
  {
   "cell_type": "code",
   "execution_count": 76,
   "metadata": {},
   "outputs": [
    {
     "data": {
      "text/plain": [
       "85"
      ]
     },
     "execution_count": 76,
     "metadata": {},
     "output_type": "execute_result"
    }
   ],
   "source": [
    "141-56"
   ]
  },
  {
   "cell_type": "code",
   "execution_count": 77,
   "metadata": {},
   "outputs": [],
   "source": [
    "#(v,t) = (1,27.5)\n",
    "#print(node)\n",
    "#nouveau.delta_svt(node, v, t, Gp, lat, contri, prev_next, sigma_r, pointer, pointer2, lat_rev)"
   ]
  },
  {
   "cell_type": "code",
   "execution_count": 78,
   "metadata": {},
   "outputs": [
    {
     "name": "stdout",
     "output_type": "stream",
     "text": [
      "******** new call contri_delta_svt v 1 t 24\n",
      "///////// call svvt,  s 0 v 1 t 24\n",
      "t_contri 1 24\n",
      "t_sigma 1 24.0\n",
      "prev [24.0]\n",
      "next [32.0]\n",
      "vol_tv 1.0 [1.]\n",
      "s_prime 24.0 s_left 24.0 a_right 32.0 a_prime 24\n",
      "enum poly 0.0\n",
      "actual enum -1\n",
      "left 0 vol_tv 1.0 right 0\n",
      "denum poly 1.0\n",
      "actual denum 0\n",
      "enum 0.0 denum 1.0\n",
      "enum-denum degree -1 0\n",
      "contrib 0.0\n",
      "end svvt 0.0\n",
      "dic_nodes {25.0: [2], 25.5: [2], 26.0: [2], 26.5: [2], 27.0: [2], 27.5: [2], 28.0: [2]}\n",
      "(w,t') (2, 28.0)\n",
      "******** new call contri_delta_svt v 2 t 28.0\n",
      "///////// call svvt,  s 0 v 2 t 28.0\n",
      "dic_nodes {28.0: [3], 28.5: [3], 29.0: [3]}\n",
      "(w,t') (3, 29.0)\n",
      "******** new call contri_delta_svt v 3 t 29.0\n",
      "///////// call svvt,  s 0 v 3 t 29.0\n",
      "dic_nodes {30.0: [4], 31.0: [4], 30.5: [4]}\n",
      "(w,t') (4, 31.0)\n",
      "******** new call contri_delta_svt v 4 t 31.0\n",
      "///////// call svvt,  s 0 v 4 t 31.0\n",
      "dic_nodes {}\n",
      "******** end call contri_delta_svt v 4 t 31.0 contribution[v][t] 0.0\n",
      "divison_volume v 3 t 29.0 w 4 t_p 31.0 t1 30.5 t2 31.0 chev 1\n",
      "st1t2 0.0 + 0.5·x¹\n",
      "svt 1.0 + 4.0·x¹ + 5.5·x²\n",
      "svt*st1t2 (2.75, 3)\n",
      "actual svt*st1t2 3\n",
      "svt_hight 0.0 + 0.0·x¹ + 0.0·x² + 2.75·x³\n",
      "swtp 1.0 + 5.0·x¹ + 9.5·x² + 5.5·x³\n",
      "actual swtp 3\n",
      "swtp_high 1.0 + 5.0·x¹ + 9.5·x² + 5.5·x³\n",
      "res_div [0.5]\n",
      "******** half call contri_delta_svt v 3 t 29.0 sum 0.0\n",
      "u 4 dic_nodes[u] [30.0, 31.0, 30.5]\n",
      "******** half after call contri_delta_svt v 3 t 29.0\n",
      "dic_nodes[u] [30.0, 31.0, 30.5] u 4\n",
      "v 3 t 29.0 event[jj] 30.5 dic_nodes[u][ii] 31.0 index actual event 61 index succ events 62 contri event time 31.0\n",
      "comp vol 1.0 + 4.0·x¹ + 5.5·x² 1.0 + 4.0·x¹ + 5.5·x²\n",
      "add_contri_local v 3 event[jjj] 31.0 w,t_p 4 31.0\n",
      "la\n",
      "divison_volume v 3 t 31.0 w 4 t_p 31.0 t1 31.0 t2 30.5 chev 1\n",
      "st1t2 1.0\n",
      "svt 1.0 + 4.0·x¹ + 5.5·x²\n",
      "svt*st1t2 (5.5, 2)\n",
      "actual svt*st1t2 2\n",
      "svt_hight 0.0 + 0.0·x¹ + 5.5·x²\n",
      "swtp 1.0 + 5.0·x¹ + 9.5·x² + 5.5·x³\n",
      "actual swtp 3\n",
      "swtp_high 1.0 + 5.0·x¹ + 9.5·x² + 5.5·x³\n",
      "res_div [0]\n",
      "contrib_local[v][event[jjj]] 0.0 partial_sum[l_ord[ii]] 0.0 contribution[w][t_p] 0.0 res 0.5\n",
      "(w,t') (4, 30.5)\n",
      "******** new call contri_delta_svt v 4 t 30.5\n",
      "///////// call svvt,  s 0 v 4 t 30.5\n",
      "dic_nodes {}\n",
      "******** end call contri_delta_svt v 4 t 30.5 contribution[v][t] 0.0\n",
      "divison_volume v 3 t 29.0 w 4 t_p 30.5 t1 30.0 t2 30.5 chev 1\n",
      "st1t2 0.0 + 0.5·x¹\n",
      "svt 1.0 + 4.0·x¹ + 5.5·x²\n",
      "svt*st1t2 (2.75, 3)\n",
      "actual svt*st1t2 3\n",
      "svt_hight 0.0 + 0.0·x¹ + 0.0·x² + 2.75·x³\n",
      "swtp 1.0 + 4.5·x¹ + 7.5·x² + 2.75·x³\n",
      "actual swtp 3\n",
      "swtp_high 1.0 + 4.5·x¹ + 7.5·x² + 2.75·x³\n",
      "res_div [1.0]\n",
      "******** half call contri_delta_svt v 3 t 29.0 sum 0.0\n",
      "u 4 dic_nodes[u] [30.0, 31.0, 30.5]\n",
      "******** half after call contri_delta_svt v 3 t 29.0\n",
      "dic_nodes[u] [30.0, 31.0, 30.5] u 4\n",
      "v 3 t 29.0 event[jj] 30.0 dic_nodes[u][ii] 30.5 index actual event 60 index succ events 61 contri event time 30.5\n",
      "comp vol 1.0 + 4.0·x¹ + 5.5·x² 1.0 + 4.0·x¹ + 5.5·x²\n",
      "add_contri_local v 3 event[jjj] 30.5 w,t_p 4 30.5\n",
      "la\n",
      "divison_volume v 3 t 30.5 w 4 t_p 30.5 t1 30.5 t2 30.0 chev 1\n",
      "st1t2 1.0\n",
      "svt 1.0 + 4.0·x¹ + 5.5·x²\n",
      "svt*st1t2 (5.5, 2)\n",
      "actual svt*st1t2 2\n",
      "svt_hight 0.0 + 0.0·x¹ + 5.5·x²\n",
      "swtp 1.0 + 4.5·x¹ + 7.5·x² + 2.75·x³\n",
      "actual swtp 3\n",
      "swtp_high 1.0 + 4.5·x¹ + 7.5·x² + 2.75·x³\n",
      "res_div [0]\n",
      "contrib_local[v][event[jjj]] 0.0 partial_sum[l_ord[ii]] 0.0 contribution[w][t_p] 0.0 res 1.0\n",
      "(w,t') (4, 30.0)\n",
      "******** new call contri_delta_svt v 4 t 30.0\n",
      "///////// call svvt,  s 0 v 4 t 30.0\n",
      "t_contri 4 30.0\n",
      "t_sigma 4 30.0\n",
      "prev [0]\n",
      "next [32.0]\n",
      "vol_tv 1.0 + 4.0·x¹ + 5.5·x² [1.  4.  5.5]\n",
      "s_prime 24.0 s_left 0 a_right 32.0 a_prime 30.0\n",
      "enum poly 48.0 + 192.0·x¹ + 264.0·x²\n",
      "actual enum 2\n",
      "left 0 vol_tv 1.0 + 4.0·x¹ + 5.5·x² right 0\n",
      "denum poly 1.0 + 4.0·x¹ + 5.5·x²\n",
      "actual denum 2\n",
      "enum 48.0 + 192.0·x¹ + 264.0·x² denum 1.0 + 4.0·x¹ + 5.5·x²\n",
      "enum-denum degree 2 2\n",
      "contrib 48.0\n",
      "end svvt 48.0\n",
      "dic_nodes {}\n",
      "******** end call contri_delta_svt v 4 t 30.0 contribution[v][t] 48.0\n",
      "divison_volume v 3 t 29.0 w 4 t_p 30.0 t1 30.0 t2 30.0 chev 1\n",
      "st1t2 1.0\n",
      "svt 1.0 + 4.0·x¹ + 5.5·x²\n",
      "svt*st1t2 (5.5, 2)\n",
      "actual svt*st1t2 2\n",
      "svt_hight 0.0 + 0.0·x¹ + 5.5·x²\n",
      "swtp 1.0 + 4.0·x¹ + 5.5·x²\n",
      "actual swtp 2\n",
      "swtp_high 1.0 + 4.0·x¹ + 5.5·x²\n",
      "res_div [1.0]\n",
      "******** half call contri_delta_svt v 3 t 29.0 sum 48.0\n",
      "u 4 dic_nodes[u] [30.0, 31.0, 30.5]\n",
      "******** half after call contri_delta_svt v 3 t 29.0\n",
      "dic_nodes[u] [30.0, 31.0, 30.5] u 4\n",
      "v 3 t 29.0 event[jj] 29.0 dic_nodes[u][ii] 30.0 index actual event 58 index succ events 59 contri event time 29.5\n",
      "comp vol 1.0 + 4.0·x¹ + 5.5·x² 1.0 + 4.0·x¹ + 5.5·x²\n",
      "add_contri_local v 3 event[jjj] 29.5 w,t_p 4 30.0\n",
      "ici\n",
      "contrib_local[v][event[jjj]] 48.0 partial_sum[l_ord[ii]] 48.0 contribution[w][t_p] 48.0 res 1.0\n",
      "v 3 t 29.0 event[jj] 29.0 dic_nodes[u][ii] 30.0 index actual event 58 index succ events 60 contri event time 30.0\n",
      "comp vol 1.0 + 4.0·x¹ + 5.5·x² 1.0 + 4.0·x¹ + 5.5·x²\n",
      "add_contri_local v 3 event[jjj] 30.0 w,t_p 4 30.0\n",
      "la\n",
      "divison_volume v 3 t 30.0 w 4 t_p 30.0 t1 30.0 t2 30.0 chev 1\n",
      "st1t2 1.0\n",
      "svt 1.0 + 4.0·x¹ + 5.5·x²\n",
      "svt*st1t2 (5.5, 2)\n",
      "actual svt*st1t2 2\n",
      "svt_hight 0.0 + 0.0·x¹ + 5.5·x²\n",
      "swtp 1.0 + 4.0·x¹ + 5.5·x²\n",
      "actual swtp 2\n",
      "swtp_high 1.0 + 4.0·x¹ + 5.5·x²\n",
      "res_div [1.0]\n",
      "contrib_local[v][event[jjj]] 48.0 partial_sum[l_ord[ii]] 48.0 contribution[w][t_p] 48.0 res 1.0\n",
      "******** end call contri_delta_svt v 3 t 29.0 contribution[v][t] 48.0\n",
      "divison_volume v 2 t 28.0 w 3 t_p 29.0 t1 28.5 t2 29.0 chev 1\n",
      "st1t2 0.0 + 0.5·x¹\n",
      "svt 1.0 + 3.0·x¹\n",
      "svt*st1t2 (1.5, 2)\n",
      "actual svt*st1t2 2\n",
      "svt_hight 0.0 + 0.0·x¹ + 1.5·x²\n",
      "swtp 1.0 + 4.0·x¹ + 5.5·x²\n",
      "actual swtp 2\n",
      "swtp_high 1.0 + 4.0·x¹ + 5.5·x²\n",
      "res_div [0.2727272727272727]\n",
      "******** half call contri_delta_svt v 2 t 28.0 sum 13.09090909090909\n",
      "u 3 dic_nodes[u] [28.0, 28.5, 29.0]\n",
      "******** half after call contri_delta_svt v 2 t 28.0\n",
      "dic_nodes[u] [28.0, 28.5, 29.0] u 3\n",
      "v 2 t 28.0 event[jj] 28.5 dic_nodes[u][ii] 29.0 index actual event 57 index succ events 58 contri event time 29.0\n",
      "comp vol 1.0 + 3.0·x¹ 1.0 + 3.0·x¹\n",
      "add_contri_local v 2 event[jjj] 29.0 w,t_p 3 29.0\n",
      "la\n",
      "divison_volume v 2 t 29.0 w 3 t_p 29.0 t1 29.0 t2 28.5 chev 1\n",
      "st1t2 1.0\n",
      "svt 1.0 + 3.0·x¹\n",
      "svt*st1t2 (3.0, 1)\n",
      "actual svt*st1t2 1\n",
      "svt_hight 0.0 + 3.0·x¹\n",
      "swtp 1.0 + 4.0·x¹ + 5.5·x²\n",
      "actual swtp 2\n",
      "swtp_high 1.0 + 4.0·x¹ + 5.5·x²\n",
      "res_div [0]\n",
      "contrib_local[v][event[jjj]] 0.0 partial_sum[l_ord[ii]] 13.09090909090909 contribution[w][t_p] 48.0 res 0.2727272727272727\n",
      "(w,t') (3, 28.5)\n",
      "******** new call contri_delta_svt v 3 t 28.5\n",
      "///////// call svvt,  s 0 v 3 t 28.5\n",
      "dic_nodes {30.0: [4], 31.0: [4], 30.5: [4]}\n",
      "(w,t') (4, 31.0)\n",
      "******** new call contri_delta_svt v 4 t 31.0\n",
      "******** end call contri_delta_svt v 4 t 31.0 contribution[v][t] 0.0\n",
      "divison_volume v 3 t 28.5 w 4 t_p 31.0 t1 30.5 t2 31.0 chev 1\n",
      "st1t2 0.0 + 0.5·x¹\n",
      "svt 1.0 + 3.5·x¹ + 4.0·x²\n",
      "svt*st1t2 (2.0, 3)\n",
      "actual svt*st1t2 3\n",
      "svt_hight 0.0 + 0.0·x¹ + 0.0·x² + 2.0·x³\n",
      "swtp 1.0 + 5.0·x¹ + 9.5·x² + 5.5·x³\n",
      "actual swtp 3\n",
      "swtp_high 1.0 + 5.0·x¹ + 9.5·x² + 5.5·x³\n",
      "res_div [0.36363636363636365]\n",
      "******** half call contri_delta_svt v 3 t 28.5 sum 0.0\n",
      "u 4 dic_nodes[u] [30.0, 31.0, 30.5]\n",
      "******** half after call contri_delta_svt v 3 t 28.5\n",
      "dic_nodes[u] [30.0, 31.0, 30.5] u 4\n",
      "v 3 t 28.5 event[jj] 30.5 dic_nodes[u][ii] 31.0 index actual event 61 index succ events 62 contri event time 31.0\n",
      "comp vol 1.0 + 3.5·x¹ + 4.0·x² 1.0 + 4.0·x¹ + 5.5·x²\n",
      "(w,t') (4, 30.5)\n",
      "******** new call contri_delta_svt v 4 t 30.5\n",
      "******** end call contri_delta_svt v 4 t 30.5 contribution[v][t] 0.0\n",
      "divison_volume v 3 t 28.5 w 4 t_p 30.5 t1 30.0 t2 30.5 chev 1\n",
      "st1t2 0.0 + 0.5·x¹\n",
      "svt 1.0 + 3.5·x¹ + 4.0·x²\n",
      "svt*st1t2 (2.0, 3)\n",
      "actual svt*st1t2 3\n",
      "svt_hight 0.0 + 0.0·x¹ + 0.0·x² + 2.0·x³\n",
      "swtp 1.0 + 4.5·x¹ + 7.5·x² + 2.75·x³\n",
      "actual swtp 3\n",
      "swtp_high 1.0 + 4.5·x¹ + 7.5·x² + 2.75·x³\n",
      "res_div [0.7272727272727273]\n",
      "******** half call contri_delta_svt v 3 t 28.5 sum 0.0\n",
      "u 4 dic_nodes[u] [30.0, 31.0, 30.5]\n",
      "******** half after call contri_delta_svt v 3 t 28.5\n",
      "dic_nodes[u] [30.0, 31.0, 30.5] u 4\n",
      "v 3 t 28.5 event[jj] 30.0 dic_nodes[u][ii] 30.5 index actual event 60 index succ events 61 contri event time 30.5\n",
      "comp vol 1.0 + 3.5·x¹ + 4.0·x² 1.0 + 4.0·x¹ + 5.5·x²\n",
      "(w,t') (4, 30.0)\n",
      "******** new call contri_delta_svt v 4 t 30.0\n",
      "******** end call contri_delta_svt v 4 t 30.0 contribution[v][t] 48.0\n",
      "divison_volume v 3 t 28.5 w 4 t_p 30.0 t1 30.0 t2 30.0 chev 1\n",
      "st1t2 1.0\n",
      "svt 1.0 + 3.5·x¹ + 4.0·x²\n",
      "svt*st1t2 (4.0, 2)\n",
      "actual svt*st1t2 2\n",
      "svt_hight 0.0 + 0.0·x¹ + 4.0·x²\n",
      "swtp 1.0 + 4.0·x¹ + 5.5·x²\n",
      "actual swtp 2\n",
      "swtp_high 1.0 + 4.0·x¹ + 5.5·x²\n",
      "res_div [0.7272727272727273]\n",
      "******** half call contri_delta_svt v 3 t 28.5 sum 34.90909090909091\n",
      "u 4 dic_nodes[u] [30.0, 31.0, 30.5]\n",
      "******** half after call contri_delta_svt v 3 t 28.5\n",
      "dic_nodes[u] [30.0, 31.0, 30.5] u 4\n",
      "v 3 t 28.5 event[jj] 28.5 dic_nodes[u][ii] 30.0 index actual event 57 index succ events 58 contri event time 29.0\n",
      "comp vol 1.0 + 3.5·x¹ + 4.0·x² 1.0 + 4.0·x¹ + 5.5·x²\n",
      "v 3 t 28.5 event[jj] 28.5 dic_nodes[u][ii] 30.0 index actual event 57 index succ events 59 contri event time 29.5\n",
      "comp vol 1.0 + 3.5·x¹ + 4.0·x² 1.0 + 4.0·x¹ + 5.5·x²\n",
      "v 3 t 28.5 event[jj] 28.5 dic_nodes[u][ii] 30.0 index actual event 57 index succ events 60 contri event time 30.0\n",
      "comp vol 1.0 + 3.5·x¹ + 4.0·x² 1.0 + 4.0·x¹ + 5.5·x²\n",
      "******** end call contri_delta_svt v 3 t 28.5 contribution[v][t] 34.90909090909091\n",
      "divison_volume v 2 t 28.0 w 3 t_p 28.5 t1 28.0 t2 28.5 chev 1\n",
      "st1t2 0.0 + 0.5·x¹\n",
      "svt 1.0 + 3.0·x¹\n",
      "svt*st1t2 (1.5, 2)\n",
      "actual svt*st1t2 2\n",
      "svt_hight 0.0 + 0.0·x¹ + 1.5·x²\n",
      "swtp 1.0 + 3.5·x¹ + 4.0·x²\n",
      "actual swtp 2\n",
      "swtp_high 1.0 + 3.5·x¹ + 4.0·x²\n",
      "res_div [0.375]\n",
      "******** half call contri_delta_svt v 2 t 28.0 sum 26.18181818181818\n",
      "u 3 dic_nodes[u] [28.0, 28.5, 29.0]\n",
      "******** half after call contri_delta_svt v 2 t 28.0\n",
      "dic_nodes[u] [28.0, 28.5, 29.0] u 3\n",
      "v 2 t 28.0 event[jj] 28.0 dic_nodes[u][ii] 28.5 index actual event 56 index succ events 57 contri event time 28.5\n",
      "comp vol 1.0 + 3.0·x¹ 1.0 + 3.0·x¹\n",
      "add_contri_local v 2 event[jjj] 28.5 w,t_p 3 28.5\n",
      "la\n",
      "divison_volume v 2 t 28.5 w 3 t_p 28.5 t1 28.5 t2 28.0 chev 1\n",
      "st1t2 1.0\n",
      "svt 1.0 + 3.0·x¹\n",
      "svt*st1t2 (3.0, 1)\n",
      "actual svt*st1t2 1\n",
      "svt_hight 0.0 + 3.0·x¹\n",
      "swtp 1.0 + 3.5·x¹ + 4.0·x²\n",
      "actual swtp 2\n",
      "swtp_high 1.0 + 3.5·x¹ + 4.0·x²\n",
      "res_div [0]\n",
      "contrib_local[v][event[jjj]] 13.09090909090909 partial_sum[l_ord[ii]] 26.18181818181818 contribution[w][t_p] 34.90909090909091 res 0.375\n",
      "(w,t') (3, 28.0)\n",
      "******** new call contri_delta_svt v 3 t 28.0\n",
      "///////// call svvt,  s 0 v 3 t 28.0\n",
      "dic_nodes {30.0: [4], 31.0: [4], 30.5: [4]}\n",
      "(w,t') (4, 31.0)\n",
      "******** new call contri_delta_svt v 4 t 31.0\n",
      "******** end call contri_delta_svt v 4 t 31.0 contribution[v][t] 0.0\n",
      "divison_volume v 3 t 28.0 w 4 t_p 31.0 t1 30.5 t2 31.0 chev 1\n",
      "st1t2 0.0 + 0.5·x¹\n",
      "svt 1.0 + 3.0·x¹ + 2.5·x²\n",
      "svt*st1t2 (1.25, 3)\n",
      "actual svt*st1t2 3\n",
      "svt_hight 0.0 + 0.0·x¹ + 0.0·x² + 1.25·x³\n",
      "swtp 1.0 + 5.0·x¹ + 9.5·x² + 5.5·x³\n",
      "actual swtp 3\n",
      "swtp_high 1.0 + 5.0·x¹ + 9.5·x² + 5.5·x³\n",
      "res_div [0.22727272727272727]\n",
      "******** half call contri_delta_svt v 3 t 28.0 sum 0.0\n",
      "u 4 dic_nodes[u] [30.0, 31.0, 30.5]\n",
      "******** half after call contri_delta_svt v 3 t 28.0\n",
      "dic_nodes[u] [30.0, 31.0, 30.5] u 4\n",
      "v 3 t 28.0 event[jj] 30.5 dic_nodes[u][ii] 31.0 index actual event 61 index succ events 62 contri event time 31.0\n",
      "comp vol 1.0 + 3.0·x¹ + 2.5·x² 1.0 + 4.0·x¹ + 5.5·x²\n",
      "(w,t') (4, 30.5)\n",
      "******** new call contri_delta_svt v 4 t 30.5\n",
      "******** end call contri_delta_svt v 4 t 30.5 contribution[v][t] 0.0\n",
      "divison_volume v 3 t 28.0 w 4 t_p 30.5 t1 30.0 t2 30.5 chev 1\n",
      "st1t2 0.0 + 0.5·x¹\n",
      "svt 1.0 + 3.0·x¹ + 2.5·x²\n",
      "svt*st1t2 (1.25, 3)\n",
      "actual svt*st1t2 3\n",
      "svt_hight 0.0 + 0.0·x¹ + 0.0·x² + 1.25·x³\n",
      "swtp 1.0 + 4.5·x¹ + 7.5·x² + 2.75·x³\n",
      "actual swtp 3\n",
      "swtp_high 1.0 + 4.5·x¹ + 7.5·x² + 2.75·x³\n",
      "res_div [0.45454545454545453]\n",
      "******** half call contri_delta_svt v 3 t 28.0 sum 0.0\n",
      "u 4 dic_nodes[u] [30.0, 31.0, 30.5]\n",
      "******** half after call contri_delta_svt v 3 t 28.0\n",
      "dic_nodes[u] [30.0, 31.0, 30.5] u 4\n",
      "v 3 t 28.0 event[jj] 30.0 dic_nodes[u][ii] 30.5 index actual event 60 index succ events 61 contri event time 30.5\n",
      "comp vol 1.0 + 3.0·x¹ + 2.5·x² 1.0 + 4.0·x¹ + 5.5·x²\n",
      "(w,t') (4, 30.0)\n",
      "******** new call contri_delta_svt v 4 t 30.0\n",
      "******** end call contri_delta_svt v 4 t 30.0 contribution[v][t] 48.0\n",
      "divison_volume v 3 t 28.0 w 4 t_p 30.0 t1 30.0 t2 30.0 chev 1\n",
      "st1t2 1.0\n",
      "svt 1.0 + 3.0·x¹ + 2.5·x²\n",
      "svt*st1t2 (2.5, 2)\n",
      "actual svt*st1t2 2\n",
      "svt_hight 0.0 + 0.0·x¹ + 2.5·x²\n",
      "swtp 1.0 + 4.0·x¹ + 5.5·x²\n",
      "actual swtp 2\n",
      "swtp_high 1.0 + 4.0·x¹ + 5.5·x²\n",
      "res_div [0.45454545454545453]\n",
      "******** half call contri_delta_svt v 3 t 28.0 sum 21.818181818181817\n",
      "u 4 dic_nodes[u] [30.0, 31.0, 30.5]\n",
      "******** half after call contri_delta_svt v 3 t 28.0\n",
      "dic_nodes[u] [30.0, 31.0, 30.5] u 4\n",
      "v 3 t 28.0 event[jj] 28.0 dic_nodes[u][ii] 30.0 index actual event 56 index succ events 57 contri event time 28.5\n",
      "comp vol 1.0 + 3.0·x¹ + 2.5·x² 1.0 + 3.5·x¹ + 4.0·x²\n",
      "v 3 t 28.0 event[jj] 28.0 dic_nodes[u][ii] 30.0 index actual event 56 index succ events 58 contri event time 29.0\n",
      "comp vol 1.0 + 3.0·x¹ + 2.5·x² 1.0 + 4.0·x¹ + 5.5·x²\n",
      "v 3 t 28.0 event[jj] 28.0 dic_nodes[u][ii] 30.0 index actual event 56 index succ events 59 contri event time 29.5\n",
      "comp vol 1.0 + 3.0·x¹ + 2.5·x² 1.0 + 4.0·x¹ + 5.5·x²\n",
      "v 3 t 28.0 event[jj] 28.0 dic_nodes[u][ii] 30.0 index actual event 56 index succ events 60 contri event time 30.0\n",
      "comp vol 1.0 + 3.0·x¹ + 2.5·x² 1.0 + 4.0·x¹ + 5.5·x²\n",
      "******** end call contri_delta_svt v 3 t 28.0 contribution[v][t] 21.818181818181817\n",
      "divison_volume v 2 t 28.0 w 3 t_p 28.0 t1 27.5 t2 28.0 chev 1\n",
      "st1t2 1.0\n",
      "svt 1.0 + 3.0·x¹\n",
      "svt*st1t2 (3.0, 1)\n",
      "actual svt*st1t2 1\n",
      "svt_hight 0.0 + 3.0·x¹\n",
      "swtp 1.0 + 3.0·x¹ + 2.5·x²\n",
      "actual swtp 2\n",
      "swtp_high 1.0 + 3.0·x¹ + 2.5·x²\n",
      "res_div [0]\n",
      "******** half call contri_delta_svt v 2 t 28.0 sum 26.18181818181818\n",
      "u 3 dic_nodes[u] [28.0, 28.5, 29.0]\n",
      "******** half after call contri_delta_svt v 2 t 28.0\n",
      "dic_nodes[u] [28.0, 28.5, 29.0] u 3\n",
      "******** end call contri_delta_svt v 2 t 28.0 contribution[v][t] 26.18181818181818\n",
      "*!*!*!*!*!*!  instant graph v 1 t 24 t1 27.5 t2 28.0 w 2 t_p 28.0 yp 3 tpp 28.0\n",
      "******** new call contri_delta_svt v 3 t 28.0\n",
      "******** end call contri_delta_svt v 3 t 28.0 contribution[v][t] 21.818181818181817\n",
      "divison_volume v 1 t 24 w 3 t_p 28.0 t1 27.5 t2 28.0 chev 2\n",
      "st1t2 0.0 + 0.0·x¹ + 0.125·x²\n",
      "svt 1.0\n",
      "svt*st1t2 (0.125, 2)\n",
      "actual svt*st1t2 2\n",
      "svt_hight 0.0 + 0.0·x¹ + 0.125·x²\n",
      "swtp 1.0 + 3.0·x¹ + 2.5·x²\n",
      "actual swtp 2\n",
      "swtp_high 1.0 + 3.0·x¹ + 2.5·x²\n",
      "res_div [0.05]\n",
      "divison_volume v 1 t 24 w 2 t_p 28.0 t1 27.5 t2 28.0 chev 1\n",
      "st1t2 0.0 + 0.5·x¹\n",
      "svt 1.0\n",
      "svt*st1t2 (0.5, 1)\n",
      "actual svt*st1t2 1\n",
      "svt_hight 0.0 + 0.5·x¹\n",
      "swtp 1.0 + 3.0·x¹\n",
      "actual swtp 1\n",
      "swtp_high 1.0 + 3.0·x¹\n",
      "res_div [0.16666666666666666]\n",
      "******** half call contri_delta_svt v 1 t 24 sum 5.454545454545454\n",
      "u 2 dic_nodes[u] [25.0, 25.5, 26.0, 26.5, 27.0, 27.5, 28.0]\n",
      "******** half after call contri_delta_svt v 1 t 24\n",
      "dic_nodes[u] [25.0, 25.5, 26.0, 26.5, 27.0, 27.5, 28.0] u 2\n",
      "v 1 t 24 event[jj] 27.5 dic_nodes[u][ii] 28.0 index actual event 55 index succ events 56 contri event time 28.0\n",
      "comp vol 1.0 1.0\n",
      "add_contri_local v 1 event[jjj] 28.0 w,t_p 2 28.0\n",
      "la\n",
      "divison_volume v 1 t 28.0 w 2 t_p 28.0 t1 28.0 t2 27.5 chev 1\n",
      "st1t2 1.0\n",
      "svt 1.0\n",
      "svt*st1t2 (1.0, 0)\n",
      "actual svt*st1t2 0\n",
      "svt_hight 1.0\n",
      "swtp 1.0 + 3.0·x¹\n",
      "actual swtp 1\n",
      "swtp_high 1.0 + 3.0·x¹\n",
      "res_div [0]\n",
      "contrib_local[v][event[jjj]] 0.0 partial_sum[l_ord[ii]] 5.454545454545454 contribution[w][t_p] 26.18181818181818 res 0.16666666666666666\n",
      "(w,t') (2, 27.5)\n",
      "******** new call contri_delta_svt v 2 t 27.5\n",
      "///////// call svvt,  s 0 v 2 t 27.5\n",
      "dic_nodes {27.5: [3], 28.0: [3], 28.5: [3], 29.0: [3]}\n",
      "(w,t') (3, 29.0)\n",
      "******** new call contri_delta_svt v 3 t 29.0\n",
      "******** end call contri_delta_svt v 3 t 29.0 contribution[v][t] 48.0\n",
      "divison_volume v 2 t 27.5 w 3 t_p 29.0 t1 28.5 t2 29.0 chev 1\n",
      "st1t2 0.0 + 0.5·x¹\n",
      "svt 1.0 + 2.5·x¹\n",
      "svt*st1t2 (1.25, 2)\n",
      "actual svt*st1t2 2\n",
      "svt_hight 0.0 + 0.0·x¹ + 1.25·x²\n",
      "swtp 1.0 + 4.0·x¹ + 5.5·x²\n",
      "actual swtp 2\n",
      "swtp_high 1.0 + 4.0·x¹ + 5.5·x²\n",
      "res_div [0.22727272727272727]\n",
      "******** half call contri_delta_svt v 2 t 27.5 sum 10.909090909090908\n",
      "u 3 dic_nodes[u] [27.5, 28.0, 28.5, 29.0]\n",
      "******** half after call contri_delta_svt v 2 t 27.5\n",
      "dic_nodes[u] [27.5, 28.0, 28.5, 29.0] u 3\n",
      "v 2 t 27.5 event[jj] 28.5 dic_nodes[u][ii] 29.0 index actual event 57 index succ events 58 contri event time 29.0\n",
      "comp vol 1.0 + 2.5·x¹ 1.0 + 3.0·x¹\n",
      "(w,t') (3, 28.5)\n",
      "******** new call contri_delta_svt v 3 t 28.5\n",
      "******** end call contri_delta_svt v 3 t 28.5 contribution[v][t] 34.90909090909091\n",
      "divison_volume v 2 t 27.5 w 3 t_p 28.5 t1 28.0 t2 28.5 chev 1\n",
      "st1t2 0.0 + 0.5·x¹\n",
      "svt 1.0 + 2.5·x¹\n",
      "svt*st1t2 (1.25, 2)\n",
      "actual svt*st1t2 2\n",
      "svt_hight 0.0 + 0.0·x¹ + 1.25·x²\n",
      "swtp 1.0 + 3.5·x¹ + 4.0·x²\n",
      "actual swtp 2\n",
      "swtp_high 1.0 + 3.5·x¹ + 4.0·x²\n",
      "res_div [0.3125]\n",
      "******** half call contri_delta_svt v 2 t 27.5 sum 21.818181818181817\n",
      "u 3 dic_nodes[u] [27.5, 28.0, 28.5, 29.0]\n",
      "******** half after call contri_delta_svt v 2 t 27.5\n",
      "dic_nodes[u] [27.5, 28.0, 28.5, 29.0] u 3\n",
      "v 2 t 27.5 event[jj] 28.0 dic_nodes[u][ii] 28.5 index actual event 56 index succ events 57 contri event time 28.5\n",
      "comp vol 1.0 + 2.5·x¹ 1.0 + 3.0·x¹\n",
      "(w,t') (3, 28.0)\n",
      "******** new call contri_delta_svt v 3 t 28.0\n",
      "******** end call contri_delta_svt v 3 t 28.0 contribution[v][t] 21.818181818181817\n",
      "divison_volume v 2 t 27.5 w 3 t_p 28.0 t1 27.5 t2 28.0 chev 1\n",
      "st1t2 0.0 + 0.5·x¹\n",
      "svt 1.0 + 2.5·x¹\n",
      "svt*st1t2 (1.25, 2)\n",
      "actual svt*st1t2 2\n",
      "svt_hight 0.0 + 0.0·x¹ + 1.25·x²\n",
      "swtp 1.0 + 3.0·x¹ + 2.5·x²\n",
      "actual swtp 2\n",
      "swtp_high 1.0 + 3.0·x¹ + 2.5·x²\n",
      "res_div [0.5]\n",
      "******** half call contri_delta_svt v 2 t 27.5 sum 32.72727272727273\n",
      "u 3 dic_nodes[u] [27.5, 28.0, 28.5, 29.0]\n",
      "******** half after call contri_delta_svt v 2 t 27.5\n",
      "dic_nodes[u] [27.5, 28.0, 28.5, 29.0] u 3\n",
      "v 2 t 27.5 event[jj] 27.5 dic_nodes[u][ii] 28.0 index actual event 55 index succ events 56 contri event time 28.0\n",
      "comp vol 1.0 + 2.5·x¹ 1.0 + 3.0·x¹\n",
      "(w,t') (3, 27.5)\n",
      "******** new call contri_delta_svt v 3 t 27.5\n",
      "///////// call svvt,  s 0 v 3 t 27.5\n",
      "dic_nodes {30.0: [4], 31.0: [4], 30.5: [4]}\n",
      "(w,t') (4, 31.0)\n",
      "******** new call contri_delta_svt v 4 t 31.0\n",
      "******** end call contri_delta_svt v 4 t 31.0 contribution[v][t] 0.0\n",
      "divison_volume v 3 t 27.5 w 4 t_p 31.0 t1 30.5 t2 31.0 chev 1\n",
      "st1t2 0.0 + 0.5·x¹\n",
      "svt 1.0 + 2.5·x¹ + 1.125·x²\n",
      "svt*st1t2 (0.5625, 3)\n",
      "actual svt*st1t2 3\n",
      "svt_hight 0.0 + 0.0·x¹ + 0.0·x² + 0.5625·x³\n",
      "swtp 1.0 + 5.0·x¹ + 9.5·x² + 5.5·x³\n",
      "actual swtp 3\n",
      "swtp_high 1.0 + 5.0·x¹ + 9.5·x² + 5.5·x³\n",
      "res_div [0.10227272727272728]\n",
      "******** half call contri_delta_svt v 3 t 27.5 sum 0.0\n",
      "u 4 dic_nodes[u] [30.0, 31.0, 30.5]\n",
      "******** half after call contri_delta_svt v 3 t 27.5\n",
      "dic_nodes[u] [30.0, 31.0, 30.5] u 4\n",
      "v 3 t 27.5 event[jj] 30.5 dic_nodes[u][ii] 31.0 index actual event 61 index succ events 62 contri event time 31.0\n",
      "comp vol 1.0 + 2.5·x¹ + 1.125·x² 1.0 + 4.0·x¹ + 5.5·x²\n",
      "(w,t') (4, 30.5)\n",
      "******** new call contri_delta_svt v 4 t 30.5\n",
      "******** end call contri_delta_svt v 4 t 30.5 contribution[v][t] 0.0\n",
      "divison_volume v 3 t 27.5 w 4 t_p 30.5 t1 30.0 t2 30.5 chev 1\n",
      "st1t2 0.0 + 0.5·x¹\n",
      "svt 1.0 + 2.5·x¹ + 1.125·x²\n",
      "svt*st1t2 (0.5625, 3)\n",
      "actual svt*st1t2 3\n",
      "svt_hight 0.0 + 0.0·x¹ + 0.0·x² + 0.5625·x³\n",
      "swtp 1.0 + 4.5·x¹ + 7.5·x² + 2.75·x³\n",
      "actual swtp 3\n",
      "swtp_high 1.0 + 4.5·x¹ + 7.5·x² + 2.75·x³\n",
      "res_div [0.20454545454545456]\n",
      "******** half call contri_delta_svt v 3 t 27.5 sum 0.0\n",
      "u 4 dic_nodes[u] [30.0, 31.0, 30.5]\n",
      "******** half after call contri_delta_svt v 3 t 27.5\n",
      "dic_nodes[u] [30.0, 31.0, 30.5] u 4\n",
      "v 3 t 27.5 event[jj] 30.0 dic_nodes[u][ii] 30.5 index actual event 60 index succ events 61 contri event time 30.5\n",
      "comp vol 1.0 + 2.5·x¹ + 1.125·x² 1.0 + 4.0·x¹ + 5.5·x²\n",
      "(w,t') (4, 30.0)\n",
      "******** new call contri_delta_svt v 4 t 30.0\n",
      "******** end call contri_delta_svt v 4 t 30.0 contribution[v][t] 48.0\n",
      "divison_volume v 3 t 27.5 w 4 t_p 30.0 t1 30.0 t2 30.0 chev 1\n",
      "st1t2 1.0\n",
      "svt 1.0 + 2.5·x¹ + 1.125·x²\n",
      "svt*st1t2 (1.125, 2)\n",
      "actual svt*st1t2 2\n",
      "svt_hight 0.0 + 0.0·x¹ + 1.125·x²\n",
      "swtp 1.0 + 4.0·x¹ + 5.5·x²\n",
      "actual swtp 2\n",
      "swtp_high 1.0 + 4.0·x¹ + 5.5·x²\n",
      "res_div [0.20454545454545456]\n",
      "******** half call contri_delta_svt v 3 t 27.5 sum 9.818181818181818\n",
      "u 4 dic_nodes[u] [30.0, 31.0, 30.5]\n",
      "******** half after call contri_delta_svt v 3 t 27.5\n",
      "dic_nodes[u] [30.0, 31.0, 30.5] u 4\n",
      "v 3 t 27.5 event[jj] 27.5 dic_nodes[u][ii] 30.0 index actual event 55 index succ events 56 contri event time 28.0\n",
      "comp vol 1.0 + 2.5·x¹ + 1.125·x² 1.0 + 3.0·x¹ + 2.5·x²\n",
      "v 3 t 27.5 event[jj] 27.5 dic_nodes[u][ii] 30.0 index actual event 55 index succ events 57 contri event time 28.5\n",
      "comp vol 1.0 + 2.5·x¹ + 1.125·x² 1.0 + 3.5·x¹ + 4.0·x²\n",
      "v 3 t 27.5 event[jj] 27.5 dic_nodes[u][ii] 30.0 index actual event 55 index succ events 58 contri event time 29.0\n",
      "comp vol 1.0 + 2.5·x¹ + 1.125·x² 1.0 + 4.0·x¹ + 5.5·x²\n",
      "v 3 t 27.5 event[jj] 27.5 dic_nodes[u][ii] 30.0 index actual event 55 index succ events 59 contri event time 29.5\n",
      "comp vol 1.0 + 2.5·x¹ + 1.125·x² 1.0 + 4.0·x¹ + 5.5·x²\n",
      "v 3 t 27.5 event[jj] 27.5 dic_nodes[u][ii] 30.0 index actual event 55 index succ events 60 contri event time 30.0\n",
      "comp vol 1.0 + 2.5·x¹ + 1.125·x² 1.0 + 4.0·x¹ + 5.5·x²\n",
      "******** end call contri_delta_svt v 3 t 27.5 contribution[v][t] 9.818181818181818\n",
      "divison_volume v 2 t 27.5 w 3 t_p 27.5 t1 27.0 t2 27.5 chev 1\n",
      "st1t2 1.0\n",
      "svt 1.0 + 2.5·x¹\n",
      "svt*st1t2 (2.5, 1)\n",
      "actual svt*st1t2 1\n",
      "svt_hight 0.0 + 2.5·x¹\n",
      "swtp 1.0 + 2.5·x¹ + 1.125·x²\n",
      "actual swtp 2\n",
      "swtp_high 1.0 + 2.5·x¹ + 1.125·x²\n",
      "res_div [0]\n",
      "******** half call contri_delta_svt v 2 t 27.5 sum 32.72727272727273\n",
      "u 3 dic_nodes[u] [27.5, 28.0, 28.5, 29.0]\n",
      "******** half after call contri_delta_svt v 2 t 27.5\n",
      "dic_nodes[u] [27.5, 28.0, 28.5, 29.0] u 3\n",
      "******** end call contri_delta_svt v 2 t 27.5 contribution[v][t] 32.72727272727273\n",
      "*!*!*!*!*!*!  instant graph v 1 t 24 t1 27.0 t2 27.5 w 2 t_p 27.5 yp 3 tpp 27.5\n",
      "******** new call contri_delta_svt v 3 t 27.5\n",
      "******** end call contri_delta_svt v 3 t 27.5 contribution[v][t] 9.818181818181818\n",
      "divison_volume v 1 t 24 w 3 t_p 27.5 t1 27.0 t2 27.5 chev 2\n",
      "st1t2 0.0 + 0.0·x¹ + 0.125·x²\n",
      "svt 1.0\n",
      "svt*st1t2 (0.125, 2)\n",
      "actual svt*st1t2 2\n",
      "svt_hight 0.0 + 0.0·x¹ + 0.125·x²\n",
      "swtp 1.0 + 2.5·x¹ + 1.125·x²\n",
      "actual swtp 2\n",
      "swtp_high 1.0 + 2.5·x¹ + 1.125·x²\n",
      "res_div [0.1111111111111111]\n",
      "divison_volume v 1 t 24 w 2 t_p 27.5 t1 27.0 t2 27.5 chev 1\n",
      "st1t2 0.0 + 0.5·x¹\n",
      "svt 1.0\n",
      "svt*st1t2 (0.5, 1)\n",
      "actual svt*st1t2 1\n",
      "svt_hight 0.0 + 0.5·x¹\n",
      "swtp 1.0 + 2.5·x¹\n",
      "actual swtp 1\n",
      "swtp_high 1.0 + 2.5·x¹\n",
      "res_div [0.2]\n",
      "******** half call contri_delta_svt v 1 t 24 sum 13.09090909090909\n",
      "u 2 dic_nodes[u] [25.0, 25.5, 26.0, 26.5, 27.0, 27.5, 28.0]\n",
      "******** half after call contri_delta_svt v 1 t 24\n",
      "dic_nodes[u] [25.0, 25.5, 26.0, 26.5, 27.0, 27.5, 28.0] u 2\n",
      "v 1 t 24 event[jj] 27.0 dic_nodes[u][ii] 27.5 index actual event 54 index succ events 55 contri event time 27.5\n",
      "comp vol 1.0 1.0\n",
      "add_contri_local v 1 event[jjj] 27.5 w,t_p 2 27.5\n",
      "la\n",
      "divison_volume v 1 t 27.5 w 2 t_p 27.5 t1 27.5 t2 27.0 chev 1\n",
      "st1t2 1.0\n",
      "svt 1.0\n",
      "svt*st1t2 (1.0, 0)\n",
      "actual svt*st1t2 0\n",
      "svt_hight 1.0\n",
      "swtp 1.0 + 2.5·x¹\n",
      "actual swtp 1\n",
      "swtp_high 1.0 + 2.5·x¹\n",
      "res_div [0]\n",
      "contrib_local[v][event[jjj]] 5.454545454545454 partial_sum[l_ord[ii]] 13.09090909090909 contribution[w][t_p] 32.72727272727273 res 0.2\n",
      "(w,t') (2, 27.0)\n",
      "******** new call contri_delta_svt v 2 t 27.0\n",
      "///////// call svvt,  s 0 v 2 t 27.0\n",
      "dic_nodes {27.0: [3], 27.5: [3], 28.0: [3], 28.5: [3], 29.0: [3]}\n",
      "(w,t') (3, 29.0)\n",
      "******** new call contri_delta_svt v 3 t 29.0\n",
      "******** end call contri_delta_svt v 3 t 29.0 contribution[v][t] 48.0\n",
      "divison_volume v 2 t 27.0 w 3 t_p 29.0 t1 28.5 t2 29.0 chev 1\n",
      "st1t2 0.0 + 0.5·x¹\n",
      "svt 1.0 + 2.0·x¹\n",
      "svt*st1t2 (1.0, 2)\n",
      "actual svt*st1t2 2\n",
      "svt_hight 0.0 + 0.0·x¹ + 1.0·x²\n",
      "swtp 1.0 + 4.0·x¹ + 5.5·x²\n",
      "actual swtp 2\n",
      "swtp_high 1.0 + 4.0·x¹ + 5.5·x²\n",
      "res_div [0.18181818181818182]\n",
      "******** half call contri_delta_svt v 2 t 27.0 sum 8.727272727272727\n",
      "u 3 dic_nodes[u] [27.0, 27.5, 28.0, 28.5, 29.0]\n",
      "******** half after call contri_delta_svt v 2 t 27.0\n",
      "dic_nodes[u] [27.0, 27.5, 28.0, 28.5, 29.0] u 3\n",
      "v 2 t 27.0 event[jj] 28.5 dic_nodes[u][ii] 29.0 index actual event 57 index succ events 58 contri event time 29.0\n",
      "comp vol 1.0 + 2.0·x¹ 1.0 + 3.0·x¹\n",
      "(w,t') (3, 28.5)\n",
      "******** new call contri_delta_svt v 3 t 28.5\n",
      "******** end call contri_delta_svt v 3 t 28.5 contribution[v][t] 34.90909090909091\n",
      "divison_volume v 2 t 27.0 w 3 t_p 28.5 t1 28.0 t2 28.5 chev 1\n",
      "st1t2 0.0 + 0.5·x¹\n",
      "svt 1.0 + 2.0·x¹\n",
      "svt*st1t2 (1.0, 2)\n",
      "actual svt*st1t2 2\n",
      "svt_hight 0.0 + 0.0·x¹ + 1.0·x²\n",
      "swtp 1.0 + 3.5·x¹ + 4.0·x²\n",
      "actual swtp 2\n",
      "swtp_high 1.0 + 3.5·x¹ + 4.0·x²\n",
      "res_div [0.25]\n",
      "******** half call contri_delta_svt v 2 t 27.0 sum 17.454545454545453\n",
      "u 3 dic_nodes[u] [27.0, 27.5, 28.0, 28.5, 29.0]\n",
      "******** half after call contri_delta_svt v 2 t 27.0\n",
      "dic_nodes[u] [27.0, 27.5, 28.0, 28.5, 29.0] u 3\n",
      "v 2 t 27.0 event[jj] 28.0 dic_nodes[u][ii] 28.5 index actual event 56 index succ events 57 contri event time 28.5\n",
      "comp vol 1.0 + 2.0·x¹ 1.0 + 3.0·x¹\n",
      "(w,t') (3, 28.0)\n",
      "******** new call contri_delta_svt v 3 t 28.0\n",
      "******** end call contri_delta_svt v 3 t 28.0 contribution[v][t] 21.818181818181817\n",
      "divison_volume v 2 t 27.0 w 3 t_p 28.0 t1 27.5 t2 28.0 chev 1\n",
      "st1t2 0.0 + 0.5·x¹\n",
      "svt 1.0 + 2.0·x¹\n",
      "svt*st1t2 (1.0, 2)\n",
      "actual svt*st1t2 2\n",
      "svt_hight 0.0 + 0.0·x¹ + 1.0·x²\n",
      "swtp 1.0 + 3.0·x¹ + 2.5·x²\n",
      "actual swtp 2\n",
      "swtp_high 1.0 + 3.0·x¹ + 2.5·x²\n",
      "res_div [0.4]\n",
      "******** half call contri_delta_svt v 2 t 27.0 sum 26.18181818181818\n",
      "u 3 dic_nodes[u] [27.0, 27.5, 28.0, 28.5, 29.0]\n",
      "******** half after call contri_delta_svt v 2 t 27.0\n",
      "dic_nodes[u] [27.0, 27.5, 28.0, 28.5, 29.0] u 3\n",
      "v 2 t 27.0 event[jj] 27.5 dic_nodes[u][ii] 28.0 index actual event 55 index succ events 56 contri event time 28.0\n",
      "comp vol 1.0 + 2.0·x¹ 1.0 + 3.0·x¹\n",
      "(w,t') (3, 27.5)\n",
      "******** new call contri_delta_svt v 3 t 27.5\n",
      "******** end call contri_delta_svt v 3 t 27.5 contribution[v][t] 9.818181818181818\n",
      "divison_volume v 2 t 27.0 w 3 t_p 27.5 t1 27.0 t2 27.5 chev 1\n",
      "st1t2 0.0 + 0.5·x¹\n",
      "svt 1.0 + 2.0·x¹\n",
      "svt*st1t2 (1.0, 2)\n",
      "actual svt*st1t2 2\n",
      "svt_hight 0.0 + 0.0·x¹ + 1.0·x²\n",
      "swtp 1.0 + 2.5·x¹ + 1.125·x²\n",
      "actual swtp 2\n",
      "swtp_high 1.0 + 2.5·x¹ + 1.125·x²\n",
      "res_div [0.8888888888888888]\n",
      "******** half call contri_delta_svt v 2 t 27.0 sum 34.90909090909091\n",
      "u 3 dic_nodes[u] [27.0, 27.5, 28.0, 28.5, 29.0]\n",
      "******** half after call contri_delta_svt v 2 t 27.0\n",
      "dic_nodes[u] [27.0, 27.5, 28.0, 28.5, 29.0] u 3\n",
      "v 2 t 27.0 event[jj] 27.0 dic_nodes[u][ii] 27.5 index actual event 54 index succ events 55 contri event time 27.5\n",
      "comp vol 1.0 + 2.0·x¹ 1.0 + 2.5·x¹\n",
      "(w,t') (3, 27.0)\n",
      "******** new call contri_delta_svt v 3 t 27.0\n",
      "///////// call svvt,  s 0 v 3 t 27.0\n",
      "t_contri 3 27.0\n",
      "t_sigma 3 27.0\n",
      "prev [16.0, 9.0, 0]\n",
      "next [32.0]\n",
      "vol_tv 1.0 + 2.0·x¹ [1. 2.]\n",
      "s_prime 24.0 s_left 16.0 a_right 32.0 a_prime 27.0\n"
     ]
    },
    {
     "name": "stdout",
     "output_type": "stream",
     "text": [
      "enum poly 40.0 + 80.0·x¹\n",
      "actual enum 1\n",
      "left 0 vol_tv 1.0 + 2.0·x¹ right 0\n",
      "denum poly 1.0 + 2.0·x¹\n",
      "actual denum 1\n",
      "enum 40.0 + 80.0·x¹ denum 1.0 + 2.0·x¹\n",
      "enum-denum degree 1 1\n",
      "contrib 40.0\n",
      "s_prime 16.0 s_left 9.0 a_right 32.0 a_prime 27.0\n",
      "enum poly 35.0 + 70.0·x¹\n",
      "actual enum 1\n",
      "left 1.0 vol_tv 1.0 + 2.0·x¹ right 0\n",
      "denum poly 2.0 + 2.0·x¹\n",
      "actual denum 1\n",
      "enum 35.0 + 70.0·x¹ denum 2.0 + 2.0·x¹\n",
      "enum-denum degree 1 1\n",
      "contrib 75.0\n",
      "s_prime 9.0 s_left 0 a_right 32.0 a_prime 27.0\n",
      "enum poly 45.0 + 90.0·x¹\n",
      "actual enum 1\n",
      "left 2.0 vol_tv 1.0 + 2.0·x¹ right 0\n",
      "denum poly 3.0 + 2.0·x¹\n",
      "actual denum 1\n",
      "enum 45.0 + 90.0·x¹ denum 3.0 + 2.0·x¹\n",
      "enum-denum degree 1 1\n",
      "contrib 120.0\n",
      "end svvt 120.0\n",
      "dic_nodes {30.0: [4], 31.0: [4], 30.5: [4]}\n",
      "(w,t') (4, 31.0)\n",
      "******** new call contri_delta_svt v 4 t 31.0\n",
      "******** end call contri_delta_svt v 4 t 31.0 contribution[v][t] 0.0\n",
      "divison_volume v 3 t 27.0 w 4 t_p 31.0 t1 30.5 t2 31.0 chev 1\n",
      "st1t2 0.0 + 0.5·x¹\n",
      "svt 1.0 + 2.0·x¹\n",
      "svt*st1t2 (1.0, 2)\n",
      "actual svt*st1t2 2\n",
      "svt_hight 0.0 + 0.0·x¹ + 1.0·x²\n",
      "swtp 1.0 + 5.0·x¹ + 9.5·x² + 5.5·x³\n",
      "actual swtp 3\n",
      "swtp_high 1.0 + 5.0·x¹ + 9.5·x² + 5.5·x³\n",
      "res_div [0]\n",
      "******** half call contri_delta_svt v 3 t 27.0 sum 0.0\n",
      "u 4 dic_nodes[u] [30.0, 31.0, 30.5]\n",
      "******** half after call contri_delta_svt v 3 t 27.0\n",
      "dic_nodes[u] [30.0, 31.0, 30.5] u 4\n",
      "v 3 t 27.0 event[jj] 30.5 dic_nodes[u][ii] 31.0 index actual event 61 index succ events 62 contri event time 31.0\n",
      "comp vol 1.0 + 2.0·x¹ 1.0 + 4.0·x¹ + 5.5·x²\n",
      "(w,t') (4, 30.5)\n",
      "******** new call contri_delta_svt v 4 t 30.5\n",
      "******** end call contri_delta_svt v 4 t 30.5 contribution[v][t] 0.0\n",
      "divison_volume v 3 t 27.0 w 4 t_p 30.5 t1 30.0 t2 30.5 chev 1\n",
      "st1t2 0.0 + 0.5·x¹\n",
      "svt 1.0 + 2.0·x¹\n",
      "svt*st1t2 (1.0, 2)\n",
      "actual svt*st1t2 2\n",
      "svt_hight 0.0 + 0.0·x¹ + 1.0·x²\n",
      "swtp 1.0 + 4.5·x¹ + 7.5·x² + 2.75·x³\n",
      "actual swtp 3\n",
      "swtp_high 1.0 + 4.5·x¹ + 7.5·x² + 2.75·x³\n",
      "res_div [0]\n",
      "******** half call contri_delta_svt v 3 t 27.0 sum 0.0\n",
      "u 4 dic_nodes[u] [30.0, 31.0, 30.5]\n",
      "******** half after call contri_delta_svt v 3 t 27.0\n",
      "dic_nodes[u] [30.0, 31.0, 30.5] u 4\n",
      "v 3 t 27.0 event[jj] 30.0 dic_nodes[u][ii] 30.5 index actual event 60 index succ events 61 contri event time 30.5\n",
      "comp vol 1.0 + 2.0·x¹ 1.0 + 4.0·x¹ + 5.5·x²\n",
      "(w,t') (4, 30.0)\n",
      "******** new call contri_delta_svt v 4 t 30.0\n",
      "******** end call contri_delta_svt v 4 t 30.0 contribution[v][t] 48.0\n",
      "divison_volume v 3 t 27.0 w 4 t_p 30.0 t1 30.0 t2 30.0 chev 1\n",
      "st1t2 1.0\n",
      "svt 1.0 + 2.0·x¹\n",
      "svt*st1t2 (2.0, 1)\n",
      "actual svt*st1t2 1\n",
      "svt_hight 0.0 + 2.0·x¹\n",
      "swtp 1.0 + 4.0·x¹ + 5.5·x²\n",
      "actual swtp 2\n",
      "swtp_high 1.0 + 4.0·x¹ + 5.5·x²\n",
      "res_div [0]\n",
      "******** half call contri_delta_svt v 3 t 27.0 sum 0.0\n",
      "u 4 dic_nodes[u] [30.0, 31.0, 30.5]\n",
      "******** half after call contri_delta_svt v 3 t 27.0\n",
      "dic_nodes[u] [30.0, 31.0, 30.5] u 4\n",
      "v 3 t 27.0 event[jj] 27.0 dic_nodes[u][ii] 30.0 index actual event 54 index succ events 55 contri event time 27.5\n",
      "comp vol 1.0 + 2.0·x¹ 1.0 + 2.5·x¹ + 1.125·x²\n",
      "v 3 t 27.0 event[jj] 27.0 dic_nodes[u][ii] 30.0 index actual event 54 index succ events 56 contri event time 28.0\n",
      "comp vol 1.0 + 2.0·x¹ 1.0 + 3.0·x¹ + 2.5·x²\n",
      "v 3 t 27.0 event[jj] 27.0 dic_nodes[u][ii] 30.0 index actual event 54 index succ events 57 contri event time 28.5\n",
      "comp vol 1.0 + 2.0·x¹ 1.0 + 3.5·x¹ + 4.0·x²\n",
      "v 3 t 27.0 event[jj] 27.0 dic_nodes[u][ii] 30.0 index actual event 54 index succ events 58 contri event time 29.0\n",
      "comp vol 1.0 + 2.0·x¹ 1.0 + 4.0·x¹ + 5.5·x²\n",
      "v 3 t 27.0 event[jj] 27.0 dic_nodes[u][ii] 30.0 index actual event 54 index succ events 59 contri event time 29.5\n",
      "comp vol 1.0 + 2.0·x¹ 1.0 + 4.0·x¹ + 5.5·x²\n",
      "v 3 t 27.0 event[jj] 27.0 dic_nodes[u][ii] 30.0 index actual event 54 index succ events 60 contri event time 30.0\n",
      "comp vol 1.0 + 2.0·x¹ 1.0 + 4.0·x¹ + 5.5·x²\n",
      "******** end call contri_delta_svt v 3 t 27.0 contribution[v][t] 120.0\n",
      "divison_volume v 2 t 27.0 w 3 t_p 27.0 t1 27.0 t2 27.0 chev 1\n",
      "st1t2 1.0\n",
      "svt 1.0 + 2.0·x¹\n",
      "svt*st1t2 (2.0, 1)\n",
      "actual svt*st1t2 1\n",
      "svt_hight 0.0 + 2.0·x¹\n",
      "swtp 1.0 + 2.0·x¹\n",
      "actual swtp 1\n",
      "swtp_high 1.0 + 2.0·x¹\n",
      "res_div [1.0]\n",
      "******** half call contri_delta_svt v 2 t 27.0 sum 154.9090909090909\n",
      "u 3 dic_nodes[u] [27.0, 27.5, 28.0, 28.5, 29.0]\n",
      "******** half after call contri_delta_svt v 2 t 27.0\n",
      "dic_nodes[u] [27.0, 27.5, 28.0, 28.5, 29.0] u 3\n",
      "******** end call contri_delta_svt v 2 t 27.0 contribution[v][t] 154.9090909090909\n",
      "divison_volume v 1 t 24 w 2 t_p 27.0 t1 26.5 t2 27.0 chev 1\n",
      "st1t2 0.0 + 0.5·x¹\n",
      "svt 1.0\n",
      "svt*st1t2 (0.5, 1)\n",
      "actual svt*st1t2 1\n",
      "svt_hight 0.0 + 0.5·x¹\n",
      "swtp 1.0 + 2.0·x¹\n",
      "actual swtp 1\n",
      "swtp_high 1.0 + 2.0·x¹\n",
      "res_div [0.25]\n",
      "******** half call contri_delta_svt v 1 t 24 sum 51.81818181818181\n",
      "u 2 dic_nodes[u] [25.0, 25.5, 26.0, 26.5, 27.0, 27.5, 28.0]\n",
      "******** half after call contri_delta_svt v 1 t 24\n",
      "dic_nodes[u] [25.0, 25.5, 26.0, 26.5, 27.0, 27.5, 28.0] u 2\n",
      "v 1 t 24 event[jj] 26.5 dic_nodes[u][ii] 27.0 index actual event 53 index succ events 54 contri event time 27.0\n",
      "comp vol 1.0 1.0\n",
      "add_contri_local v 1 event[jjj] 27.0 w,t_p 2 27.0\n",
      "la\n",
      "divison_volume v 1 t 27.0 w 2 t_p 27.0 t1 27.0 t2 26.5 chev 1\n",
      "st1t2 1.0\n",
      "svt 1.0\n",
      "svt*st1t2 (1.0, 0)\n",
      "actual svt*st1t2 0\n",
      "svt_hight 1.0\n",
      "swtp 1.0 + 2.0·x¹\n",
      "actual swtp 1\n",
      "swtp_high 1.0 + 2.0·x¹\n",
      "res_div [0]\n",
      "contrib_local[v][event[jjj]] 13.09090909090909 partial_sum[l_ord[ii]] 51.81818181818181 contribution[w][t_p] 154.9090909090909 res 0.25\n",
      "(w,t') (2, 26.5)\n",
      "******** new call contri_delta_svt v 2 t 26.5\n",
      "///////// call svvt,  s 0 v 2 t 26.5\n",
      "dic_nodes {27.0: [3], 27.5: [3], 28.0: [3], 28.5: [3], 29.0: [3]}\n",
      "(w,t') (3, 29.0)\n",
      "******** new call contri_delta_svt v 3 t 29.0\n",
      "******** end call contri_delta_svt v 3 t 29.0 contribution[v][t] 48.0\n",
      "divison_volume v 2 t 26.5 w 3 t_p 29.0 t1 28.5 t2 29.0 chev 1\n",
      "st1t2 0.0 + 0.5·x¹\n",
      "svt 1.0 + 1.5·x¹\n",
      "svt*st1t2 (0.75, 2)\n",
      "actual svt*st1t2 2\n",
      "svt_hight 0.0 + 0.0·x¹ + 0.75·x²\n",
      "swtp 1.0 + 4.0·x¹ + 5.5·x²\n",
      "actual swtp 2\n",
      "swtp_high 1.0 + 4.0·x¹ + 5.5·x²\n",
      "res_div [0.13636363636363635]\n",
      "******** half call contri_delta_svt v 2 t 26.5 sum 6.545454545454545\n",
      "u 3 dic_nodes[u] [27.0, 27.5, 28.0, 28.5, 29.0]\n",
      "******** half after call contri_delta_svt v 2 t 26.5\n",
      "dic_nodes[u] [27.0, 27.5, 28.0, 28.5, 29.0] u 3\n",
      "v 2 t 26.5 event[jj] 28.5 dic_nodes[u][ii] 29.0 index actual event 57 index succ events 58 contri event time 29.0\n",
      "comp vol 1.0 + 1.5·x¹ 1.0 + 3.0·x¹\n",
      "(w,t') (3, 28.5)\n",
      "******** new call contri_delta_svt v 3 t 28.5\n",
      "******** end call contri_delta_svt v 3 t 28.5 contribution[v][t] 34.90909090909091\n",
      "divison_volume v 2 t 26.5 w 3 t_p 28.5 t1 28.0 t2 28.5 chev 1\n",
      "st1t2 0.0 + 0.5·x¹\n",
      "svt 1.0 + 1.5·x¹\n",
      "svt*st1t2 (0.75, 2)\n",
      "actual svt*st1t2 2\n",
      "svt_hight 0.0 + 0.0·x¹ + 0.75·x²\n",
      "swtp 1.0 + 3.5·x¹ + 4.0·x²\n",
      "actual swtp 2\n",
      "swtp_high 1.0 + 3.5·x¹ + 4.0·x²\n",
      "res_div [0.1875]\n",
      "******** half call contri_delta_svt v 2 t 26.5 sum 13.09090909090909\n",
      "u 3 dic_nodes[u] [27.0, 27.5, 28.0, 28.5, 29.0]\n",
      "******** half after call contri_delta_svt v 2 t 26.5\n",
      "dic_nodes[u] [27.0, 27.5, 28.0, 28.5, 29.0] u 3\n",
      "v 2 t 26.5 event[jj] 28.0 dic_nodes[u][ii] 28.5 index actual event 56 index succ events 57 contri event time 28.5\n",
      "comp vol 1.0 + 1.5·x¹ 1.0 + 3.0·x¹\n",
      "(w,t') (3, 28.0)\n",
      "******** new call contri_delta_svt v 3 t 28.0\n",
      "******** end call contri_delta_svt v 3 t 28.0 contribution[v][t] 21.818181818181817\n",
      "divison_volume v 2 t 26.5 w 3 t_p 28.0 t1 27.5 t2 28.0 chev 1\n",
      "st1t2 0.0 + 0.5·x¹\n",
      "svt 1.0 + 1.5·x¹\n",
      "svt*st1t2 (0.75, 2)\n",
      "actual svt*st1t2 2\n",
      "svt_hight 0.0 + 0.0·x¹ + 0.75·x²\n",
      "swtp 1.0 + 3.0·x¹ + 2.5·x²\n",
      "actual swtp 2\n",
      "swtp_high 1.0 + 3.0·x¹ + 2.5·x²\n",
      "res_div [0.3]\n",
      "******** half call contri_delta_svt v 2 t 26.5 sum 19.636363636363633\n",
      "u 3 dic_nodes[u] [27.0, 27.5, 28.0, 28.5, 29.0]\n",
      "******** half after call contri_delta_svt v 2 t 26.5\n",
      "dic_nodes[u] [27.0, 27.5, 28.0, 28.5, 29.0] u 3\n",
      "v 2 t 26.5 event[jj] 27.5 dic_nodes[u][ii] 28.0 index actual event 55 index succ events 56 contri event time 28.0\n",
      "comp vol 1.0 + 1.5·x¹ 1.0 + 3.0·x¹\n",
      "(w,t') (3, 27.5)\n",
      "******** new call contri_delta_svt v 3 t 27.5\n",
      "******** end call contri_delta_svt v 3 t 27.5 contribution[v][t] 9.818181818181818\n",
      "divison_volume v 2 t 26.5 w 3 t_p 27.5 t1 27.0 t2 27.5 chev 1\n",
      "st1t2 0.0 + 0.5·x¹\n",
      "svt 1.0 + 1.5·x¹\n",
      "svt*st1t2 (0.75, 2)\n",
      "actual svt*st1t2 2\n",
      "svt_hight 0.0 + 0.0·x¹ + 0.75·x²\n",
      "swtp 1.0 + 2.5·x¹ + 1.125·x²\n",
      "actual swtp 2\n",
      "swtp_high 1.0 + 2.5·x¹ + 1.125·x²\n",
      "res_div [0.6666666666666666]\n",
      "******** half call contri_delta_svt v 2 t 26.5 sum 26.18181818181818\n",
      "u 3 dic_nodes[u] [27.0, 27.5, 28.0, 28.5, 29.0]\n",
      "******** half after call contri_delta_svt v 2 t 26.5\n",
      "dic_nodes[u] [27.0, 27.5, 28.0, 28.5, 29.0] u 3\n",
      "v 2 t 26.5 event[jj] 27.0 dic_nodes[u][ii] 27.5 index actual event 54 index succ events 55 contri event time 27.5\n",
      "comp vol 1.0 + 1.5·x¹ 1.0 + 2.5·x¹\n",
      "(w,t') (3, 27.0)\n",
      "******** new call contri_delta_svt v 3 t 27.0\n",
      "******** end call contri_delta_svt v 3 t 27.0 contribution[v][t] 120.0\n",
      "divison_volume v 2 t 26.5 w 3 t_p 27.0 t1 27.0 t2 27.0 chev 1\n",
      "st1t2 1.0\n",
      "svt 1.0 + 1.5·x¹\n",
      "svt*st1t2 (1.5, 1)\n",
      "actual svt*st1t2 1\n",
      "svt_hight 0.0 + 1.5·x¹\n",
      "swtp 1.0 + 2.0·x¹\n",
      "actual swtp 1\n",
      "swtp_high 1.0 + 2.0·x¹\n",
      "res_div [0.75]\n",
      "******** half call contri_delta_svt v 2 t 26.5 sum 116.18181818181819\n",
      "u 3 dic_nodes[u] [27.0, 27.5, 28.0, 28.5, 29.0]\n",
      "******** half after call contri_delta_svt v 2 t 26.5\n",
      "dic_nodes[u] [27.0, 27.5, 28.0, 28.5, 29.0] u 3\n",
      "v 2 t 26.5 event[jj] 26.5 dic_nodes[u][ii] 27.0 index actual event 53 index succ events 54 contri event time 27.0\n",
      "comp vol 1.0 + 1.5·x¹ 1.0 + 2.0·x¹\n",
      "******** end call contri_delta_svt v 2 t 26.5 contribution[v][t] 116.18181818181819\n",
      "divison_volume v 1 t 24 w 2 t_p 26.5 t1 26.0 t2 26.5 chev 1\n",
      "st1t2 0.0 + 0.5·x¹\n",
      "svt 1.0\n",
      "svt*st1t2 (0.5, 1)\n",
      "actual svt*st1t2 1\n",
      "svt_hight 0.0 + 0.5·x¹\n",
      "swtp 1.0 + 1.5·x¹\n",
      "actual swtp 1\n",
      "swtp_high 1.0 + 1.5·x¹\n",
      "res_div [0.3333333333333333]\n",
      "******** half call contri_delta_svt v 1 t 24 sum 90.54545454545453\n",
      "u 2 dic_nodes[u] [25.0, 25.5, 26.0, 26.5, 27.0, 27.5, 28.0]\n",
      "******** half after call contri_delta_svt v 1 t 24\n",
      "dic_nodes[u] [25.0, 25.5, 26.0, 26.5, 27.0, 27.5, 28.0] u 2\n",
      "v 1 t 24 event[jj] 26.0 dic_nodes[u][ii] 26.5 index actual event 52 index succ events 53 contri event time 26.5\n",
      "comp vol 1.0 1.0\n",
      "add_contri_local v 1 event[jjj] 26.5 w,t_p 2 26.5\n",
      "la\n",
      "divison_volume v 1 t 26.5 w 2 t_p 26.5 t1 26.5 t2 26.0 chev 1\n",
      "st1t2 1.0\n",
      "svt 1.0\n",
      "svt*st1t2 (1.0, 0)\n",
      "actual svt*st1t2 0\n",
      "svt_hight 1.0\n",
      "swtp 1.0 + 1.5·x¹\n",
      "actual swtp 1\n",
      "swtp_high 1.0 + 1.5·x¹\n",
      "res_div [0]\n",
      "contrib_local[v][event[jjj]] 51.81818181818181 partial_sum[l_ord[ii]] 90.54545454545453 contribution[w][t_p] 116.18181818181819 res 0.3333333333333333\n",
      "(w,t') (2, 26.0)\n",
      "******** new call contri_delta_svt v 2 t 26.0\n",
      "///////// call svvt,  s 0 v 2 t 26.0\n",
      "dic_nodes {27.0: [3], 27.5: [3], 28.0: [3], 28.5: [3], 29.0: [3]}\n",
      "(w,t') (3, 29.0)\n",
      "******** new call contri_delta_svt v 3 t 29.0\n",
      "******** end call contri_delta_svt v 3 t 29.0 contribution[v][t] 48.0\n",
      "divison_volume v 2 t 26.0 w 3 t_p 29.0 t1 28.5 t2 29.0 chev 1\n",
      "st1t2 0.0 + 0.5·x¹\n",
      "svt 1.0 + 1.0·x¹\n",
      "svt*st1t2 (0.5, 2)\n",
      "actual svt*st1t2 2\n",
      "svt_hight 0.0 + 0.0·x¹ + 0.5·x²\n",
      "swtp 1.0 + 4.0·x¹ + 5.5·x²\n",
      "actual swtp 2\n",
      "swtp_high 1.0 + 4.0·x¹ + 5.5·x²\n",
      "res_div [0.09090909090909091]\n",
      "******** half call contri_delta_svt v 2 t 26.0 sum 4.363636363636363\n",
      "u 3 dic_nodes[u] [27.0, 27.5, 28.0, 28.5, 29.0]\n",
      "******** half after call contri_delta_svt v 2 t 26.0\n",
      "dic_nodes[u] [27.0, 27.5, 28.0, 28.5, 29.0] u 3\n",
      "v 2 t 26.0 event[jj] 28.5 dic_nodes[u][ii] 29.0 index actual event 57 index succ events 58 contri event time 29.0\n",
      "comp vol 1.0 + 1.0·x¹ 1.0 + 3.0·x¹\n",
      "(w,t') (3, 28.5)\n",
      "******** new call contri_delta_svt v 3 t 28.5\n",
      "******** end call contri_delta_svt v 3 t 28.5 contribution[v][t] 34.90909090909091\n",
      "divison_volume v 2 t 26.0 w 3 t_p 28.5 t1 28.0 t2 28.5 chev 1\n",
      "st1t2 0.0 + 0.5·x¹\n",
      "svt 1.0 + 1.0·x¹\n",
      "svt*st1t2 (0.5, 2)\n",
      "actual svt*st1t2 2\n",
      "svt_hight 0.0 + 0.0·x¹ + 0.5·x²\n",
      "swtp 1.0 + 3.5·x¹ + 4.0·x²\n",
      "actual swtp 2\n",
      "swtp_high 1.0 + 3.5·x¹ + 4.0·x²\n",
      "res_div [0.125]\n",
      "******** half call contri_delta_svt v 2 t 26.0 sum 8.727272727272727\n",
      "u 3 dic_nodes[u] [27.0, 27.5, 28.0, 28.5, 29.0]\n",
      "******** half after call contri_delta_svt v 2 t 26.0\n",
      "dic_nodes[u] [27.0, 27.5, 28.0, 28.5, 29.0] u 3\n",
      "v 2 t 26.0 event[jj] 28.0 dic_nodes[u][ii] 28.5 index actual event 56 index succ events 57 contri event time 28.5\n",
      "comp vol 1.0 + 1.0·x¹ 1.0 + 3.0·x¹\n",
      "(w,t') (3, 28.0)\n",
      "******** new call contri_delta_svt v 3 t 28.0\n",
      "******** end call contri_delta_svt v 3 t 28.0 contribution[v][t] 21.818181818181817\n",
      "divison_volume v 2 t 26.0 w 3 t_p 28.0 t1 27.5 t2 28.0 chev 1\n",
      "st1t2 0.0 + 0.5·x¹\n",
      "svt 1.0 + 1.0·x¹\n",
      "svt*st1t2 (0.5, 2)\n",
      "actual svt*st1t2 2\n",
      "svt_hight 0.0 + 0.0·x¹ + 0.5·x²\n",
      "swtp 1.0 + 3.0·x¹ + 2.5·x²\n",
      "actual swtp 2\n",
      "swtp_high 1.0 + 3.0·x¹ + 2.5·x²\n",
      "res_div [0.2]\n",
      "******** half call contri_delta_svt v 2 t 26.0 sum 13.09090909090909\n",
      "u 3 dic_nodes[u] [27.0, 27.5, 28.0, 28.5, 29.0]\n",
      "******** half after call contri_delta_svt v 2 t 26.0\n",
      "dic_nodes[u] [27.0, 27.5, 28.0, 28.5, 29.0] u 3\n",
      "v 2 t 26.0 event[jj] 27.5 dic_nodes[u][ii] 28.0 index actual event 55 index succ events 56 contri event time 28.0\n",
      "comp vol 1.0 + 1.0·x¹ 1.0 + 3.0·x¹\n",
      "(w,t') (3, 27.5)\n",
      "******** new call contri_delta_svt v 3 t 27.5\n",
      "******** end call contri_delta_svt v 3 t 27.5 contribution[v][t] 9.818181818181818\n",
      "divison_volume v 2 t 26.0 w 3 t_p 27.5 t1 27.0 t2 27.5 chev 1\n",
      "st1t2 0.0 + 0.5·x¹\n",
      "svt 1.0 + 1.0·x¹\n",
      "svt*st1t2 (0.5, 2)\n",
      "actual svt*st1t2 2\n",
      "svt_hight 0.0 + 0.0·x¹ + 0.5·x²\n",
      "swtp 1.0 + 2.5·x¹ + 1.125·x²\n",
      "actual swtp 2\n",
      "swtp_high 1.0 + 2.5·x¹ + 1.125·x²\n",
      "res_div [0.4444444444444444]\n",
      "******** half call contri_delta_svt v 2 t 26.0 sum 17.454545454545453\n",
      "u 3 dic_nodes[u] [27.0, 27.5, 28.0, 28.5, 29.0]\n",
      "******** half after call contri_delta_svt v 2 t 26.0\n",
      "dic_nodes[u] [27.0, 27.5, 28.0, 28.5, 29.0] u 3\n",
      "v 2 t 26.0 event[jj] 27.0 dic_nodes[u][ii] 27.5 index actual event 54 index succ events 55 contri event time 27.5\n",
      "comp vol 1.0 + 1.0·x¹ 1.0 + 2.5·x¹\n",
      "(w,t') (3, 27.0)\n",
      "******** new call contri_delta_svt v 3 t 27.0\n",
      "******** end call contri_delta_svt v 3 t 27.0 contribution[v][t] 120.0\n",
      "divison_volume v 2 t 26.0 w 3 t_p 27.0 t1 27.0 t2 27.0 chev 1\n",
      "st1t2 1.0\n",
      "svt 1.0 + 1.0·x¹\n",
      "svt*st1t2 (1.0, 1)\n",
      "actual svt*st1t2 1\n",
      "svt_hight 0.0 + 1.0·x¹\n",
      "swtp 1.0 + 2.0·x¹\n",
      "actual swtp 1\n",
      "swtp_high 1.0 + 2.0·x¹\n",
      "res_div [0.5]\n",
      "******** half call contri_delta_svt v 2 t 26.0 sum 77.45454545454545\n",
      "u 3 dic_nodes[u] [27.0, 27.5, 28.0, 28.5, 29.0]\n",
      "******** half after call contri_delta_svt v 2 t 26.0\n",
      "dic_nodes[u] [27.0, 27.5, 28.0, 28.5, 29.0] u 3\n",
      "v 2 t 26.0 event[jj] 26.0 dic_nodes[u][ii] 27.0 index actual event 52 index succ events 53 contri event time 26.5\n",
      "comp vol 1.0 + 1.0·x¹ 1.0 + 1.5·x¹\n",
      "v 2 t 26.0 event[jj] 26.0 dic_nodes[u][ii] 27.0 index actual event 52 index succ events 54 contri event time 27.0\n",
      "comp vol 1.0 + 1.0·x¹ 1.0 + 2.0·x¹\n",
      "******** end call contri_delta_svt v 2 t 26.0 contribution[v][t] 77.45454545454545\n",
      "divison_volume v 1 t 24 w 2 t_p 26.0 t1 25.5 t2 26.0 chev 1\n",
      "st1t2 0.0 + 0.5·x¹\n",
      "svt 1.0\n",
      "svt*st1t2 (0.5, 1)\n",
      "actual svt*st1t2 1\n",
      "svt_hight 0.0 + 0.5·x¹\n",
      "swtp 1.0 + 1.0·x¹\n",
      "actual swtp 1\n",
      "swtp_high 1.0 + 1.0·x¹\n",
      "res_div [0.5]\n",
      "******** half call contri_delta_svt v 1 t 24 sum 129.27272727272725\n",
      "u 2 dic_nodes[u] [25.0, 25.5, 26.0, 26.5, 27.0, 27.5, 28.0]\n",
      "******** half after call contri_delta_svt v 1 t 24\n",
      "dic_nodes[u] [25.0, 25.5, 26.0, 26.5, 27.0, 27.5, 28.0] u 2\n",
      "v 1 t 24 event[jj] 25.5 dic_nodes[u][ii] 26.0 index actual event 51 index succ events 52 contri event time 26.0\n",
      "comp vol 1.0 1.0\n",
      "add_contri_local v 1 event[jjj] 26.0 w,t_p 2 26.0\n",
      "la\n",
      "divison_volume v 1 t 26.0 w 2 t_p 26.0 t1 26.0 t2 25.5 chev 1\n",
      "st1t2 1.0\n",
      "svt 1.0\n",
      "svt*st1t2 (1.0, 0)\n",
      "actual svt*st1t2 0\n",
      "svt_hight 1.0\n",
      "swtp 1.0 + 1.0·x¹\n",
      "actual swtp 1\n",
      "swtp_high 1.0 + 1.0·x¹\n",
      "res_div [0]\n",
      "contrib_local[v][event[jjj]] 90.54545454545453 partial_sum[l_ord[ii]] 129.27272727272725 contribution[w][t_p] 77.45454545454545 res 0.5\n",
      "(w,t') (2, 25.5)\n",
      "******** new call contri_delta_svt v 2 t 25.5\n",
      "///////// call svvt,  s 0 v 2 t 25.5\n",
      "dic_nodes {27.0: [3], 27.5: [3], 28.0: [3], 28.5: [3], 29.0: [3]}\n",
      "(w,t') (3, 29.0)\n",
      "******** new call contri_delta_svt v 3 t 29.0\n",
      "******** end call contri_delta_svt v 3 t 29.0 contribution[v][t] 48.0\n",
      "divison_volume v 2 t 25.5 w 3 t_p 29.0 t1 28.5 t2 29.0 chev 1\n",
      "st1t2 0.0 + 0.5·x¹\n",
      "svt 1.0 + 0.5·x¹\n",
      "svt*st1t2 (0.25, 2)\n",
      "actual svt*st1t2 2\n",
      "svt_hight 0.0 + 0.0·x¹ + 0.25·x²\n",
      "swtp 1.0 + 4.0·x¹ + 5.5·x²\n",
      "actual swtp 2\n",
      "swtp_high 1.0 + 4.0·x¹ + 5.5·x²\n",
      "res_div [0.045454545454545456]\n",
      "******** half call contri_delta_svt v 2 t 25.5 sum 2.1818181818181817\n",
      "u 3 dic_nodes[u] [27.0, 27.5, 28.0, 28.5, 29.0]\n",
      "******** half after call contri_delta_svt v 2 t 25.5\n",
      "dic_nodes[u] [27.0, 27.5, 28.0, 28.5, 29.0] u 3\n",
      "v 2 t 25.5 event[jj] 28.5 dic_nodes[u][ii] 29.0 index actual event 57 index succ events 58 contri event time 29.0\n",
      "comp vol 1.0 + 0.5·x¹ 1.0 + 3.0·x¹\n",
      "(w,t') (3, 28.5)\n",
      "******** new call contri_delta_svt v 3 t 28.5\n",
      "******** end call contri_delta_svt v 3 t 28.5 contribution[v][t] 34.90909090909091\n",
      "divison_volume v 2 t 25.5 w 3 t_p 28.5 t1 28.0 t2 28.5 chev 1\n",
      "st1t2 0.0 + 0.5·x¹\n",
      "svt 1.0 + 0.5·x¹\n",
      "svt*st1t2 (0.25, 2)\n",
      "actual svt*st1t2 2\n",
      "svt_hight 0.0 + 0.0·x¹ + 0.25·x²\n",
      "swtp 1.0 + 3.5·x¹ + 4.0·x²\n",
      "actual swtp 2\n",
      "swtp_high 1.0 + 3.5·x¹ + 4.0·x²\n",
      "res_div [0.0625]\n",
      "******** half call contri_delta_svt v 2 t 25.5 sum 4.363636363636363\n",
      "u 3 dic_nodes[u] [27.0, 27.5, 28.0, 28.5, 29.0]\n",
      "******** half after call contri_delta_svt v 2 t 25.5\n",
      "dic_nodes[u] [27.0, 27.5, 28.0, 28.5, 29.0] u 3\n",
      "v 2 t 25.5 event[jj] 28.0 dic_nodes[u][ii] 28.5 index actual event 56 index succ events 57 contri event time 28.5\n",
      "comp vol 1.0 + 0.5·x¹ 1.0 + 3.0·x¹\n",
      "(w,t') (3, 28.0)\n",
      "******** new call contri_delta_svt v 3 t 28.0\n",
      "******** end call contri_delta_svt v 3 t 28.0 contribution[v][t] 21.818181818181817\n",
      "divison_volume v 2 t 25.5 w 3 t_p 28.0 t1 27.5 t2 28.0 chev 1\n",
      "st1t2 0.0 + 0.5·x¹\n",
      "svt 1.0 + 0.5·x¹\n",
      "svt*st1t2 (0.25, 2)\n",
      "actual svt*st1t2 2\n",
      "svt_hight 0.0 + 0.0·x¹ + 0.25·x²\n",
      "swtp 1.0 + 3.0·x¹ + 2.5·x²\n",
      "actual swtp 2\n",
      "swtp_high 1.0 + 3.0·x¹ + 2.5·x²\n",
      "res_div [0.1]\n",
      "******** half call contri_delta_svt v 2 t 25.5 sum 6.545454545454545\n",
      "u 3 dic_nodes[u] [27.0, 27.5, 28.0, 28.5, 29.0]\n",
      "******** half after call contri_delta_svt v 2 t 25.5\n",
      "dic_nodes[u] [27.0, 27.5, 28.0, 28.5, 29.0] u 3\n",
      "v 2 t 25.5 event[jj] 27.5 dic_nodes[u][ii] 28.0 index actual event 55 index succ events 56 contri event time 28.0\n",
      "comp vol 1.0 + 0.5·x¹ 1.0 + 3.0·x¹\n",
      "(w,t') (3, 27.5)\n",
      "******** new call contri_delta_svt v 3 t 27.5\n",
      "******** end call contri_delta_svt v 3 t 27.5 contribution[v][t] 9.818181818181818\n",
      "divison_volume v 2 t 25.5 w 3 t_p 27.5 t1 27.0 t2 27.5 chev 1\n",
      "st1t2 0.0 + 0.5·x¹\n",
      "svt 1.0 + 0.5·x¹\n",
      "svt*st1t2 (0.25, 2)\n",
      "actual svt*st1t2 2\n",
      "svt_hight 0.0 + 0.0·x¹ + 0.25·x²\n",
      "swtp 1.0 + 2.5·x¹ + 1.125·x²\n",
      "actual swtp 2\n",
      "swtp_high 1.0 + 2.5·x¹ + 1.125·x²\n",
      "res_div [0.2222222222222222]\n",
      "******** half call contri_delta_svt v 2 t 25.5 sum 8.727272727272727\n",
      "u 3 dic_nodes[u] [27.0, 27.5, 28.0, 28.5, 29.0]\n",
      "******** half after call contri_delta_svt v 2 t 25.5\n",
      "dic_nodes[u] [27.0, 27.5, 28.0, 28.5, 29.0] u 3\n",
      "v 2 t 25.5 event[jj] 27.0 dic_nodes[u][ii] 27.5 index actual event 54 index succ events 55 contri event time 27.5\n",
      "comp vol 1.0 + 0.5·x¹ 1.0 + 2.5·x¹\n",
      "(w,t') (3, 27.0)\n",
      "******** new call contri_delta_svt v 3 t 27.0\n",
      "******** end call contri_delta_svt v 3 t 27.0 contribution[v][t] 120.0\n",
      "divison_volume v 2 t 25.5 w 3 t_p 27.0 t1 27.0 t2 27.0 chev 1\n",
      "st1t2 1.0\n",
      "svt 1.0 + 0.5·x¹\n",
      "svt*st1t2 (0.5, 1)\n",
      "actual svt*st1t2 1\n",
      "svt_hight 0.0 + 0.5·x¹\n",
      "swtp 1.0 + 2.0·x¹\n",
      "actual swtp 1\n",
      "swtp_high 1.0 + 2.0·x¹\n",
      "res_div [0.25]\n",
      "******** half call contri_delta_svt v 2 t 25.5 sum 38.72727272727273\n",
      "u 3 dic_nodes[u] [27.0, 27.5, 28.0, 28.5, 29.0]\n",
      "******** half after call contri_delta_svt v 2 t 25.5\n",
      "dic_nodes[u] [27.0, 27.5, 28.0, 28.5, 29.0] u 3\n",
      "v 2 t 25.5 event[jj] 25.5 dic_nodes[u][ii] 27.0 index actual event 51 index succ events 52 contri event time 26.0\n",
      "comp vol 1.0 + 0.5·x¹ 1.0 + 1.0·x¹\n",
      "v 2 t 25.5 event[jj] 25.5 dic_nodes[u][ii] 27.0 index actual event 51 index succ events 53 contri event time 26.5\n",
      "comp vol 1.0 + 0.5·x¹ 1.0 + 1.5·x¹\n",
      "v 2 t 25.5 event[jj] 25.5 dic_nodes[u][ii] 27.0 index actual event 51 index succ events 54 contri event time 27.0\n",
      "comp vol 1.0 + 0.5·x¹ 1.0 + 2.0·x¹\n",
      "******** end call contri_delta_svt v 2 t 25.5 contribution[v][t] 38.72727272727273\n",
      "divison_volume v 1 t 24 w 2 t_p 25.5 t1 25.0 t2 25.5 chev 1\n",
      "st1t2 0.0 + 0.5·x¹\n",
      "svt 1.0\n",
      "svt*st1t2 (0.5, 1)\n",
      "actual svt*st1t2 1\n",
      "svt_hight 0.0 + 0.5·x¹\n",
      "swtp 1.0 + 0.5·x¹\n",
      "actual swtp 1\n",
      "swtp_high 1.0 + 0.5·x¹\n",
      "res_div [1.0]\n",
      "******** half call contri_delta_svt v 1 t 24 sum 167.99999999999997\n",
      "u 2 dic_nodes[u] [25.0, 25.5, 26.0, 26.5, 27.0, 27.5, 28.0]\n",
      "******** half after call contri_delta_svt v 1 t 24\n",
      "dic_nodes[u] [25.0, 25.5, 26.0, 26.5, 27.0, 27.5, 28.0] u 2\n",
      "v 1 t 24 event[jj] 25.0 dic_nodes[u][ii] 25.5 index actual event 50 index succ events 51 contri event time 25.5\n",
      "comp vol 1.0 1.0\n",
      "add_contri_local v 1 event[jjj] 25.5 w,t_p 2 25.5\n",
      "la\n",
      "divison_volume v 1 t 25.5 w 2 t_p 25.5 t1 25.5 t2 25.0 chev 1\n",
      "st1t2 1.0\n",
      "svt 1.0\n",
      "svt*st1t2 (1.0, 0)\n",
      "actual svt*st1t2 0\n",
      "svt_hight 1.0\n",
      "swtp 1.0 + 0.5·x¹\n",
      "actual swtp 1\n",
      "swtp_high 1.0 + 0.5·x¹\n",
      "res_div [0]\n",
      "contrib_local[v][event[jjj]] 129.27272727272725 partial_sum[l_ord[ii]] 167.99999999999997 contribution[w][t_p] 38.72727272727273 res 1.0\n",
      "(w,t') (2, 25.0)\n",
      "******** new call contri_delta_svt v 2 t 25.0\n",
      "///////// call svvt,  s 0 v 2 t 25.0\n",
      "t_contri 2 25.0\n",
      "t_sigma 2 25.0\n",
      "prev [9.0]\n",
      "next [32.0]\n",
      "vol_tv 1.0 + 0.0·x¹ + 0.0·x² + 0.0·x³ + 0.0·x⁴ [1. 0. 0. 0. 0.]\n",
      "s_prime 24.0 s_left 9.0 a_right 32.0 a_prime 25.0\n",
      "enum poly 105.0\n",
      "actual enum 0\n",
      "left 0 vol_tv 1.0 + 0.0·x¹ + 0.0·x² + 0.0·x³ + 0.0·x⁴ right 0\n",
      "denum poly 1.0\n",
      "actual denum 0\n",
      "enum 105.0 denum 1.0\n",
      "enum-denum degree 0 0\n",
      "contrib 105.0\n",
      "end svvt 105.0\n",
      "dic_nodes {27.0: [3], 27.5: [3], 28.0: [3], 28.5: [3], 29.0: [3]}\n",
      "(w,t') (3, 29.0)\n",
      "******** new call contri_delta_svt v 3 t 29.0\n",
      "******** end call contri_delta_svt v 3 t 29.0 contribution[v][t] 48.0\n",
      "divison_volume v 2 t 25.0 w 3 t_p 29.0 t1 28.5 t2 29.0 chev 1\n",
      "st1t2 0.0 + 0.5·x¹\n",
      "svt 1.0 + 0.0·x¹ + 0.0·x² + 0.0·x³ + 0.0·x⁴\n",
      "svt*st1t2 (0.5, 1)\n",
      "actual svt*st1t2 1\n",
      "svt_hight 0.0 + 0.5·x¹\n",
      "swtp 1.0 + 4.0·x¹ + 5.5·x²\n",
      "actual swtp 2\n",
      "swtp_high 1.0 + 4.0·x¹ + 5.5·x²\n",
      "res_div [0]\n",
      "******** half call contri_delta_svt v 2 t 25.0 sum 0.0\n",
      "u 3 dic_nodes[u] [27.0, 27.5, 28.0, 28.5, 29.0]\n",
      "******** half after call contri_delta_svt v 2 t 25.0\n",
      "dic_nodes[u] [27.0, 27.5, 28.0, 28.5, 29.0] u 3\n",
      "v 2 t 25.0 event[jj] 28.5 dic_nodes[u][ii] 29.0 index actual event 57 index succ events 58 contri event time 29.0\n",
      "comp vol 1.0 + 0.0·x¹ + 0.0·x² + 0.0·x³ + 0.0·x⁴ 1.0 + 3.0·x¹\n",
      "(w,t') (3, 28.5)\n",
      "******** new call contri_delta_svt v 3 t 28.5\n",
      "******** end call contri_delta_svt v 3 t 28.5 contribution[v][t] 34.90909090909091\n",
      "divison_volume v 2 t 25.0 w 3 t_p 28.5 t1 28.0 t2 28.5 chev 1\n",
      "st1t2 0.0 + 0.5·x¹\n",
      "svt 1.0 + 0.0·x¹ + 0.0·x² + 0.0·x³ + 0.0·x⁴\n",
      "svt*st1t2 (0.5, 1)\n",
      "actual svt*st1t2 1\n",
      "svt_hight 0.0 + 0.5·x¹\n",
      "swtp 1.0 + 3.5·x¹ + 4.0·x²\n",
      "actual swtp 2\n",
      "swtp_high 1.0 + 3.5·x¹ + 4.0·x²\n",
      "res_div [0]\n",
      "******** half call contri_delta_svt v 2 t 25.0 sum 0.0\n",
      "u 3 dic_nodes[u] [27.0, 27.5, 28.0, 28.5, 29.0]\n",
      "******** half after call contri_delta_svt v 2 t 25.0\n",
      "dic_nodes[u] [27.0, 27.5, 28.0, 28.5, 29.0] u 3\n",
      "v 2 t 25.0 event[jj] 28.0 dic_nodes[u][ii] 28.5 index actual event 56 index succ events 57 contri event time 28.5\n",
      "comp vol 1.0 + 0.0·x¹ + 0.0·x² + 0.0·x³ + 0.0·x⁴ 1.0 + 3.0·x¹\n",
      "(w,t') (3, 28.0)\n",
      "******** new call contri_delta_svt v 3 t 28.0\n",
      "******** end call contri_delta_svt v 3 t 28.0 contribution[v][t] 21.818181818181817\n",
      "divison_volume v 2 t 25.0 w 3 t_p 28.0 t1 27.5 t2 28.0 chev 1\n",
      "st1t2 0.0 + 0.5·x¹\n",
      "svt 1.0 + 0.0·x¹ + 0.0·x² + 0.0·x³ + 0.0·x⁴\n",
      "svt*st1t2 (0.5, 1)\n",
      "actual svt*st1t2 1\n",
      "svt_hight 0.0 + 0.5·x¹\n",
      "swtp 1.0 + 3.0·x¹ + 2.5·x²\n",
      "actual swtp 2\n",
      "swtp_high 1.0 + 3.0·x¹ + 2.5·x²\n",
      "res_div [0]\n",
      "******** half call contri_delta_svt v 2 t 25.0 sum 0.0\n",
      "u 3 dic_nodes[u] [27.0, 27.5, 28.0, 28.5, 29.0]\n",
      "******** half after call contri_delta_svt v 2 t 25.0\n",
      "dic_nodes[u] [27.0, 27.5, 28.0, 28.5, 29.0] u 3\n",
      "v 2 t 25.0 event[jj] 27.5 dic_nodes[u][ii] 28.0 index actual event 55 index succ events 56 contri event time 28.0\n",
      "comp vol 1.0 + 0.0·x¹ + 0.0·x² + 0.0·x³ + 0.0·x⁴ 1.0 + 3.0·x¹\n",
      "(w,t') (3, 27.5)\n",
      "******** new call contri_delta_svt v 3 t 27.5\n",
      "******** end call contri_delta_svt v 3 t 27.5 contribution[v][t] 9.818181818181818\n",
      "divison_volume v 2 t 25.0 w 3 t_p 27.5 t1 27.0 t2 27.5 chev 1\n",
      "st1t2 0.0 + 0.5·x¹\n",
      "svt 1.0 + 0.0·x¹ + 0.0·x² + 0.0·x³ + 0.0·x⁴\n",
      "svt*st1t2 (0.5, 1)\n",
      "actual svt*st1t2 1\n",
      "svt_hight 0.0 + 0.5·x¹\n",
      "swtp 1.0 + 2.5·x¹ + 1.125·x²\n",
      "actual swtp 2\n",
      "swtp_high 1.0 + 2.5·x¹ + 1.125·x²\n",
      "res_div [0]\n",
      "******** half call contri_delta_svt v 2 t 25.0 sum 0.0\n",
      "u 3 dic_nodes[u] [27.0, 27.5, 28.0, 28.5, 29.0]\n",
      "******** half after call contri_delta_svt v 2 t 25.0\n",
      "dic_nodes[u] [27.0, 27.5, 28.0, 28.5, 29.0] u 3\n",
      "v 2 t 25.0 event[jj] 27.0 dic_nodes[u][ii] 27.5 index actual event 54 index succ events 55 contri event time 27.5\n",
      "comp vol 1.0 + 0.0·x¹ + 0.0·x² + 0.0·x³ + 0.0·x⁴ 1.0 + 2.5·x¹\n",
      "(w,t') (3, 27.0)\n",
      "******** new call contri_delta_svt v 3 t 27.0\n",
      "******** end call contri_delta_svt v 3 t 27.0 contribution[v][t] 120.0\n",
      "divison_volume v 2 t 25.0 w 3 t_p 27.0 t1 27.0 t2 27.0 chev 1\n",
      "st1t2 1.0\n",
      "svt 1.0 + 0.0·x¹ + 0.0·x² + 0.0·x³ + 0.0·x⁴\n",
      "svt*st1t2 (1.0, 0)\n",
      "actual svt*st1t2 0\n",
      "svt_hight 1.0\n",
      "swtp 1.0 + 2.0·x¹\n",
      "actual swtp 1\n",
      "swtp_high 1.0 + 2.0·x¹\n",
      "res_div [0]\n",
      "******** half call contri_delta_svt v 2 t 25.0 sum 0.0\n",
      "u 3 dic_nodes[u] [27.0, 27.5, 28.0, 28.5, 29.0]\n",
      "******** half after call contri_delta_svt v 2 t 25.0\n",
      "dic_nodes[u] [27.0, 27.5, 28.0, 28.5, 29.0] u 3\n",
      "v 2 t 25.0 event[jj] 25.0 dic_nodes[u][ii] 27.0 index actual event 50 index succ events 51 contri event time 25.5\n",
      "comp vol 1.0 + 0.0·x¹ + 0.0·x² + 0.0·x³ + 0.0·x⁴ 1.0 + 0.5·x¹\n",
      "v 2 t 25.0 event[jj] 25.0 dic_nodes[u][ii] 27.0 index actual event 50 index succ events 52 contri event time 26.0\n",
      "comp vol 1.0 + 0.0·x¹ + 0.0·x² + 0.0·x³ + 0.0·x⁴ 1.0 + 1.0·x¹\n",
      "v 2 t 25.0 event[jj] 25.0 dic_nodes[u][ii] 27.0 index actual event 50 index succ events 53 contri event time 26.5\n",
      "comp vol 1.0 + 0.0·x¹ + 0.0·x² + 0.0·x³ + 0.0·x⁴ 1.0 + 1.5·x¹\n",
      "v 2 t 25.0 event[jj] 25.0 dic_nodes[u][ii] 27.0 index actual event 50 index succ events 54 contri event time 27.0\n",
      "comp vol 1.0 + 0.0·x¹ + 0.0·x² + 0.0·x³ + 0.0·x⁴ 1.0 + 2.0·x¹\n",
      "******** end call contri_delta_svt v 2 t 25.0 contribution[v][t] 105.0\n",
      "divison_volume v 1 t 24 w 2 t_p 25.0 t1 25.0 t2 25.0 chev 1\n",
      "st1t2 1.0\n",
      "svt 1.0\n",
      "svt*st1t2 (1.0, 0)\n",
      "actual svt*st1t2 0\n",
      "svt_hight 1.0\n",
      "swtp 1.0 + 0.0·x¹ + 0.0·x² + 0.0·x³ + 0.0·x⁴\n",
      "actual swtp 0\n",
      "swtp_high 1.0 + 0.0·x¹ + 0.0·x² + 0.0·x³ + 0.0·x⁴\n",
      "res_div [1.0]\n",
      "******** half call contri_delta_svt v 1 t 24 sum 273.0\n",
      "u 2 dic_nodes[u] [25.0, 25.5, 26.0, 26.5, 27.0, 27.5, 28.0]\n",
      "******** half after call contri_delta_svt v 1 t 24\n",
      "dic_nodes[u] [25.0, 25.5, 26.0, 26.5, 27.0, 27.5, 28.0] u 2\n",
      "v 1 t 24 event[jj] 24.0 dic_nodes[u][ii] 25.0 index actual event 48 index succ events 49 contri event time 24.5\n",
      "comp vol 1.0 1.0\n",
      "add_contri_local v 1 event[jjj] 24.5 w,t_p 2 25.0\n",
      "ici\n",
      "contrib_local[v][event[jjj]] 273.0 partial_sum[l_ord[ii]] 273.0 contribution[w][t_p] 105.0 res 1.0\n",
      "v 1 t 24 event[jj] 24.0 dic_nodes[u][ii] 25.0 index actual event 48 index succ events 50 contri event time 25.0\n",
      "comp vol 1.0 1.0\n",
      "add_contri_local v 1 event[jjj] 25.0 w,t_p 2 25.0\n",
      "la\n",
      "divison_volume v 1 t 25.0 w 2 t_p 25.0 t1 25.0 t2 25.0 chev 1\n",
      "st1t2 1.0\n",
      "svt 1.0\n",
      "svt*st1t2 (1.0, 0)\n",
      "actual svt*st1t2 0\n",
      "svt_hight 1.0\n",
      "swtp 1.0 + 0.0·x¹ + 0.0·x² + 0.0·x³ + 0.0·x⁴\n",
      "actual swtp 0\n",
      "swtp_high 1.0 + 0.0·x¹ + 0.0·x² + 0.0·x³ + 0.0·x⁴\n",
      "res_div [1.0]\n",
      "contrib_local[v][event[jjj]] 273.0 partial_sum[l_ord[ii]] 273.0 contribution[w][t_p] 105.0 res 1.0\n",
      "******** end call contri_delta_svt v 1 t 24 contribution[v][t] 273.0\n"
     ]
    }
   ],
   "source": [
    "contribution, partial = nouveau.contri_delta_svt(node, 1, 24, Gp, lat, contri, prev_next, sigma_r, {}, {}, {}, pointer, lat_rev, events, events_reverse, pre, GT)"
   ]
  },
  {
   "cell_type": "code",
   "execution_count": 79,
   "metadata": {},
   "outputs": [],
   "source": [
    "#contribution_finale = nouveau.contri_link_stream(contribution, partial, events, events_reverse, close_arrival, sigma_r, pointer)"
   ]
  },
  {
   "cell_type": "code",
   "execution_count": 80,
   "metadata": {},
   "outputs": [
    {
     "name": "stdout",
     "output_type": "stream",
     "text": [
      "4 31.0 => 0.0\n",
      "4 30.5 => 0.0\n",
      "4 30.0 => 48.0\n",
      "3 31.0 => 0.0\n",
      "3 30.5 => 0.0\n",
      "3 29.5 => 48.0\n",
      "3 30.0 => 48.0\n",
      "3 29.0 => 48.0\n",
      "3 28.5 => 34.90909090909091\n",
      "3 28.0 => 21.818181818181817\n",
      "3 27.5 => 9.818181818181818\n",
      "3 27.0 => 120.0\n",
      "2 29.0 => 0.0\n",
      "2 28.5 => 13.09090909090909\n",
      "2 28.0 => 26.18181818181818\n",
      "2 27.5 => 32.72727272727273\n",
      "2 27.0 => 154.9090909090909\n",
      "2 26.5 => 116.18181818181819\n",
      "2 26.0 => 77.45454545454545\n",
      "2 25.5 => 38.72727272727273\n",
      "2 25.0 => 105.0\n",
      "1 28.0 => 0.0\n",
      "1 27.5 => 5.454545454545454\n",
      "1 27.0 => 13.09090909090909\n",
      "1 26.5 => 51.81818181818181\n",
      "1 26.0 => 90.54545454545453\n",
      "1 25.5 => 129.27272727272725\n",
      "1 24.5 => 273.0\n",
      "1 25.0 => 273.0\n",
      "1 24 => 273.0\n"
     ]
    }
   ],
   "source": [
    "for k in contribution:\n",
    "    for e in contribution[k].keys():\n",
    "        print(k,e,\"=>\" ,contribution[k][e])"
   ]
  },
  {
   "cell_type": "code",
   "execution_count": 81,
   "metadata": {},
   "outputs": [
    {
     "data": {
      "text/latex": [
       "$x \\mapsto \\text{5.454545454545454}$"
      ],
      "text/plain": [
       "Polynomial([5.45454545], domain=[-1.,  1.], window=[-1.,  1.])"
      ]
     },
     "execution_count": 81,
     "metadata": {},
     "output_type": "execute_result"
    }
   ],
   "source": [
    "contribution[1][27.5]"
   ]
  },
  {
   "cell_type": "code",
   "execution_count": 82,
   "metadata": {},
   "outputs": [
    {
     "name": "stdout",
     "output_type": "stream",
     "text": [
      "(2, 25.0)\n",
      "(2, 25.5)\n",
      "(2, 26.0)\n",
      "(2, 26.5)\n",
      "(2, 27.0)\n",
      "(2, 27.5)\n",
      "(2, 28.0)\n"
     ]
    }
   ],
   "source": [
    "for e in Gp[(1,24)]:\n",
    "    print(e)"
   ]
  },
  {
   "cell_type": "code",
   "execution_count": 88,
   "metadata": {},
   "outputs": [
    {
     "name": "stdout",
     "output_type": "stream",
     "text": [
      "2 25.0 105.0\n",
      "2 25.5 38.72727272727273\n",
      "2 26.0 77.45454545454545\n",
      "2 26.5 116.18181818181819\n",
      "2 27.0 154.9090909090909\n",
      "2 27.5 32.72727272727273\n",
      "2 28.0 26.18181818181818\n",
      "2 28.5 13.09090909090909\n",
      "2 29.0 0.0\n"
     ]
    }
   ],
   "source": [
    "nd = 2\n",
    "l = list(contribution[nd].keys())\n",
    "l.sort()\n",
    "for e in l:\n",
    "    print(nd, e,contribution[nd][e])"
   ]
  },
  {
   "cell_type": "code",
   "execution_count": 97,
   "metadata": {},
   "outputs": [
    {
     "data": {
      "text/plain": [
       "(0.0, 1.0)"
      ]
     },
     "execution_count": 97,
     "metadata": {},
     "output_type": "execute_result"
    }
   ],
   "source": [
    "import numpy.polynomial.polynomial as nppol\n",
    "p = nppol.Polynomial([0,1])\n",
    "tuple(p.coef)"
   ]
  },
  {
   "cell_type": "code",
   "execution_count": 98,
   "metadata": {},
   "outputs": [
    {
     "data": {
      "text/plain": [
       "5.454166666666667"
      ]
     },
     "execution_count": 98,
     "metadata": {},
     "output_type": "execute_result"
    }
   ],
   "source": [
    "26.18/4.8"
   ]
  },
  {
   "cell_type": "code",
   "execution_count": 86,
   "metadata": {},
   "outputs": [
    {
     "data": {
      "text/plain": [
       "4.363333333333333"
      ]
     },
     "execution_count": 86,
     "metadata": {},
     "output_type": "execute_result"
    }
   ],
   "source": [
    "26.18*(0.5/3)"
   ]
  },
  {
   "cell_type": "code",
   "execution_count": 87,
   "metadata": {},
   "outputs": [
    {
     "data": {
      "text/plain": [
       "5.454166666666667"
      ]
     },
     "execution_count": 87,
     "metadata": {},
     "output_type": "execute_result"
    }
   ],
   "source": [
    "26.18*(0.625/3)"
   ]
  },
  {
   "cell_type": "code",
   "execution_count": 88,
   "metadata": {},
   "outputs": [
    {
     "data": {
      "text/plain": [
       "0.16666666666666666"
      ]
     },
     "execution_count": 88,
     "metadata": {},
     "output_type": "execute_result"
    }
   ],
   "source": [
    "0.5/3"
   ]
  },
  {
   "cell_type": "code",
   "execution_count": 82,
   "metadata": {},
   "outputs": [
    {
     "data": {
      "text/plain": [
       "5.44544"
      ]
     },
     "execution_count": 82,
     "metadata": {},
     "output_type": "execute_result"
    }
   ],
   "source": [
    "26.18*0.208"
   ]
  },
  {
   "cell_type": "code",
   "execution_count": 83,
   "metadata": {},
   "outputs": [
    {
     "data": {
      "text/plain": [
       "0.20833333333333334"
      ]
     },
     "execution_count": 83,
     "metadata": {},
     "output_type": "execute_result"
    }
   ],
   "source": [
    "2/9.6"
   ]
  },
  {
   "cell_type": "code",
   "execution_count": 113,
   "metadata": {},
   "outputs": [
    {
     "data": {
      "text/plain": [
       "6.545"
      ]
     },
     "execution_count": 113,
     "metadata": {},
     "output_type": "execute_result"
    }
   ],
   "source": [
    "26.18*0.25"
   ]
  },
  {
   "cell_type": "code",
   "execution_count": 84,
   "metadata": {},
   "outputs": [
    {
     "data": {
      "text/plain": [
       "0.625"
      ]
     },
     "execution_count": 84,
     "metadata": {},
     "output_type": "execute_result"
    }
   ],
   "source": [
    "2*3/9.6"
   ]
  },
  {
   "cell_type": "code",
   "execution_count": 76,
   "metadata": {},
   "outputs": [
    {
     "data": {
      "text/plain": [
       "13.09090909090909"
      ]
     },
     "execution_count": 76,
     "metadata": {},
     "output_type": "execute_result"
    }
   ],
   "source": [
    "52.36363636363636/4"
   ]
  },
  {
   "cell_type": "code",
   "execution_count": 131,
   "metadata": {},
   "outputs": [
    {
     "data": {
      "text/plain": [
       "13.09090909090909"
      ]
     },
     "execution_count": 131,
     "metadata": {},
     "output_type": "execute_result"
    }
   ],
   "source": [
    "24*(1.5/5.5)*2"
   ]
  },
  {
   "cell_type": "code",
   "execution_count": 134,
   "metadata": {},
   "outputs": [
    {
     "data": {
      "text/plain": [
       "0.25"
      ]
     },
     "execution_count": 134,
     "metadata": {},
     "output_type": "execute_result"
    }
   ],
   "source": [
    "0.625/2.5"
   ]
  },
  {
   "cell_type": "code",
   "execution_count": 279,
   "metadata": {},
   "outputs": [],
   "source": [
    "import numpy.polynomial.polynomial as nppol\n",
    "p = nppol.Polynomial([0,1,2])"
   ]
  },
  {
   "cell_type": "code",
   "execution_count": 54,
   "metadata": {},
   "outputs": [
    {
     "data": {
      "text/plain": [
       "1.0460353203e+31"
      ]
     },
     "execution_count": 54,
     "metadata": {},
     "output_type": "execute_result"
    }
   ],
   "source": [
    "import math\n",
    "math.pow(6*5,21)"
   ]
  },
  {
   "cell_type": "code",
   "execution_count": 50,
   "metadata": {},
   "outputs": [
    {
     "data": {
      "text/plain": [
       "13"
      ]
     },
     "execution_count": 50,
     "metadata": {},
     "output_type": "execute_result"
    }
   ],
   "source": []
  },
  {
   "cell_type": "code",
   "execution_count": null,
   "metadata": {},
   "outputs": [],
   "source": []
  }
 ],
 "metadata": {
  "kernelspec": {
   "display_name": "Python 3 (ipykernel)",
   "language": "python",
   "name": "python3"
  },
  "language_info": {
   "codemirror_mode": {
    "name": "ipython",
    "version": 3
   },
   "file_extension": ".py",
   "mimetype": "text/x-python",
   "name": "python",
   "nbconvert_exporter": "python",
   "pygments_lexer": "ipython3",
   "version": "3.8.10"
  }
 },
 "nbformat": 4,
 "nbformat_minor": 2
}
