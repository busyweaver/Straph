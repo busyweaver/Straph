{
 "cells": [
  {
   "cell_type": "code",
   "execution_count": 3,
   "metadata": {},
   "outputs": [
    {
     "name": "stdout",
     "output_type": "stream",
     "text": [
      "Processing /home/mehdi/Straph\n",
      "\u001b[33m  DEPRECATION: A future pip version will change local packages to be built in-place without first copying to a temporary directory. We recommend you use --use-feature=in-tree-build to test your packages with this new behavior before it becomes the default.\n",
      "   pip 21.3 will remove support for this functionality. You can find discussion regarding this at https://github.com/pypa/pip/issues/7555.\u001b[0m\n",
      "Building wheels for collected packages: straph\n",
      "  Building wheel for straph (setup.py) ... \u001b[?25ldone\n",
      "\u001b[?25h  Created wheel for straph: filename=straph-0.3-py3-none-any.whl size=122307 sha256=5dd0a9ce65c7e19d96a04864b770709474f38208891258404cc75eeb6dd0f11a\n",
      "  Stored in directory: /tmp/pip-ephem-wheel-cache-suajo7np/wheels/b5/a9/15/900863b02cb736e4f08449e03d1d2d6ad447e06de70afc5fed\n",
      "Successfully built straph\n",
      "Installing collected packages: straph\n",
      "  Attempting uninstall: straph\n",
      "    Found existing installation: straph 0.3\n",
      "    Uninstalling straph-0.3:\n",
      "      Successfully uninstalled straph-0.3\n",
      "Successfully installed straph-0.3\n",
      "\u001b[33mWARNING: You are using pip version 21.1.2; however, version 22.2 is available.\n",
      "You should consider upgrading via the '/home/mehdi/sage_github/sage/bin/python3 -m pip install --upgrade pip' command.\u001b[0m\n",
      "Note: you may need to restart the kernel to use updated packages.\n"
     ]
    }
   ],
   "source": [
    "pip install ../../"
   ]
  },
  {
   "cell_type": "code",
   "execution_count": 1,
   "metadata": {},
   "outputs": [
    {
     "name": "stdout",
     "output_type": "stream",
     "text": [
      "Nb of Nodes :  6\n",
      "Nb of segmented nodes :  11.0\n",
      "Nb of links :  20\n",
      "Nb of segmented links :  34.0\n",
      "Nb of event times :  17\n"
     ]
    }
   ],
   "source": [
    "#sigmasv_links.sg\n",
    "import matplotlib.pyplot as plt\n",
    "plt.rcParams[\"figure.figsize\"] = (25,20)\n",
    "import straph as sg\n",
    "import straph.betweenness as bt\n",
    "import straph.betweenness.volumes as vol\n",
    "path_directory = \"examples/\"\n",
    "S = sg.read_stream_graph(path_nodes=path_directory + \"stream_ex_nodes.sg\",\n",
    "                      path_links=path_directory + \"stream_ex_links.sg\")\n",
    "S.describe()"
   ]
  },
  {
   "cell_type": "code",
   "execution_count": 2,
   "metadata": {},
   "outputs": [],
   "source": [
    "#for i in range(0,2*int(max(list(S.event_times())))):\n",
    "#    S.add_point(i/2)\n",
    "S.sg_to_streamfig(\"stream_example\",\"eps\")\n",
    "nouveau = S.fragmented_stream_graph()"
   ]
  },
  {
   "cell_type": "code",
   "execution_count": 3,
   "metadata": {},
   "outputs": [],
   "source": [
    "#nouveau.plot()\n",
    "#plt.savefig(\"link_s_con.png\",dpi=300,bbox_inches ='tight' )"
   ]
  },
  {
   "cell_type": "code",
   "execution_count": 4,
   "metadata": {},
   "outputs": [],
   "source": [
    "events, events_reverse = bt.events_dic(nouveau)"
   ]
  },
  {
   "cell_type": "code",
   "execution_count": 5,
   "metadata": {},
   "outputs": [],
   "source": [
    "link_ind = bt.link_index(nouveau)\n",
    "neighbors, neighbors_inv = bt.neighbors_direct(nouveau)\n",
    "unt = bt.until(nouveau, events, events_reverse)"
   ]
  },
  {
   "cell_type": "code",
   "execution_count": 6,
   "metadata": {},
   "outputs": [],
   "source": [
    "node = 0"
   ]
  },
  {
   "cell_type": "code",
   "execution_count": 7,
   "metadata": {},
   "outputs": [],
   "source": [
    "pre, cur_best = bt.dijkstra_directed(nouveau, node, events, events_reverse, neighbors, link_ind, neighbors_inv, unt)\n",
    "cur_b_arr = bt. cur_best_to_array(nouveau, cur_best, events, events_reverse)"
   ]
  },
  {
   "cell_type": "code",
   "execution_count": 8,
   "metadata": {},
   "outputs": [
    {
     "name": "stdout",
     "output_type": "stream",
     "text": [
      "cccccccc\n"
     ]
    }
   ],
   "source": [
    "print(8*\"c\")"
   ]
  },
  {
   "cell_type": "code",
   "execution_count": 9,
   "metadata": {},
   "outputs": [
    {
     "name": "stdout",
     "output_type": "stream",
     "text": [
      "$  0.0 $ & $  2.0 $ & $  2.5 $ & $  3.0 $ & $  4.0 $ & $  6.0 $ & $  7.0 $ & $  7.5 $ & $  8.0 $ & $  9.0 $ & $  10.0 $ & $  11.0 $ & $  12.0 $ & $  13.0 $ & $  13.5 $ & $  14.0 $ & $  15.0 $ & "
     ]
    }
   ],
   "source": [
    "for e in events:\n",
    "    print(\"$ \",e,\"$ & \",end='')"
   ]
  },
  {
   "cell_type": "code",
   "execution_count": 12,
   "metadata": {},
   "outputs": [
    {
     "name": "stdout",
     "output_type": "stream",
     "text": [
      "$ A $  & $(-\\infty,\\infty)$  & $(-\\infty,\\infty)$  & $(-\\infty,\\infty)$  & $(-\\infty,\\infty)$  & $(-\\infty,\\infty)$  & $ (13.0, 0) $  & $ (13.5, 0) $  & $(-\\infty,\\infty)$  & $(-\\infty,\\infty)$  & \\\\\n",
      "$ B $  & $ (6.0, 1) $  & $(-\\infty,\\infty)$  & $(-\\infty,\\infty)$  & $(-\\infty,\\infty)$  & $(-\\infty,\\infty)$  & $ (13.0, 1) $  & $(-\\infty,\\infty)$  & $(-\\infty,\\infty)$  & $(-\\infty,\\infty)$  & \\\\\n",
      "$ C $  & $ (6.0, 2) $  & $(-\\infty,\\infty)$  & $ (6.0, 4) $  & $(-\\infty,\\infty)$  & $(-\\infty,\\infty)$  & $ (13.0, 1) $  & $ (13.5, 1) $  & $(-\\infty,\\infty)$  & $(-\\infty,\\infty)$  & \\\\\n",
      "$ D $  & $(-\\infty,\\infty)$  & $(-\\infty,\\infty)$  & $ (6.0, 3) $  & $ (6.0, 3) $  & $(-\\infty,\\infty)$  & $(-\\infty,\\infty)$  & $(-\\infty,\\infty)$  & $(-\\infty,\\infty)$  & $(-\\infty,\\infty)$  & \\\\\n",
      "$ E $  & $(-\\infty,\\infty)$  & $(-\\infty,\\infty)$  & $ (6.0, 4) $  & $(-\\infty,\\infty)$  & $(-\\infty,\\infty)$  & $(-\\infty,\\infty)$  & $(-\\infty,\\infty)$  & $ (13.5, 3) $  & $(-\\infty,\\infty)$  & \\\\\n",
      "$ F $  & $(-\\infty,\\infty)$  & $(-\\infty,\\infty)$  & $(-\\infty,\\infty)$  & $ (6.0, 4) $  & $(-\\infty,\\infty)$  & $ (13.0, 2) $  & $ (13.5, 2) $  & $ (13.5, 2) $  & $(-\\infty,\\infty)$  & \\\\\n"
     ]
    }
   ],
   "source": [
    "import numpy\n",
    "for v in nouveau.nodes:\n",
    "    print(\"$\",nouveau.node_to_label[v],\"$\",\" & \", end='')\n",
    "    for k in cur_best[v].keys():\n",
    "        if k > 7.5:\n",
    "            if cur_best[v][k] == (- numpy.Infinity,numpy.Infinity):\n",
    "                print(\"$(-\\\\infty,\\\\infty)$\",\" & \" ,end ='')\n",
    "            else:\n",
    "                print(\"$\",cur_best[v][k],\"$\",\" & \" ,end ='')\n",
    "    print(\"\\\\\\\\\")"
   ]
  },
  {
   "cell_type": "code",
   "execution_count": 14,
   "metadata": {},
   "outputs": [],
   "source": [
    "lat = bt.latencies(nouveau, cur_b_arr, events, events_reverse)\n",
    "lat_triplet, lat_rev_triplet = bt.latencies_without_0_and_rev(nouveau, lat, events)"
   ]
  },
  {
   "cell_type": "code",
   "execution_count": 15,
   "metadata": {},
   "outputs": [
    {
     "name": "stdout",
     "output_type": "stream",
     "text": [
      "$ B $  & $ [2.0, 2.0, 1] $  & $ [2.5, 2.5, 1] $  & $ [3.0, 3.0, 1] $  & $ [6.0, 6.0, 1] $  & $ [13.0, 13.0, 1] $  & \\\\\n",
      "$ C $  & $ [2.0, 2.0, 2] $  & $ [2.5, 2.5, 2] $  & $ [6.0, 6.0, 2] $  & $ [13.0, 13.0, 1] $  & $ [13.5, 13.5, 1] $  & \\\\\n",
      "$ D $  & $ [2.5, 3.0, 3] $  & $ [6.0, 7.0, 3] $  & \\\\\n",
      "$ E $  & $ [6.0, 6.0, 2] $  & $ [13.5, 14.0, 3] $  & \\\\\n",
      "$ F $  & $ [6.0, 11.0, 4] $  & $ [13.0, 13.0, 2] $  & $ [13.5, 13.5, 2] $  & \\\\\n"
     ]
    }
   ],
   "source": [
    "import numpy\n",
    "for v in nouveau.nodes:\n",
    "    if v != node:\n",
    "        print(\"$\",nouveau.node_to_label[v],\"$\",\" & \", end='')\n",
    "        for k in range(0,len(lat_triplet[v])):\n",
    "            print(\"$\",lat_triplet[v][k],\"$\",\" & \" ,end ='')\n",
    "        print(\"\\\\\\\\\")"
   ]
  },
  {
   "cell_type": "code",
   "execution_count": 18,
   "metadata": {},
   "outputs": [],
   "source": [
    "G = bt.predecessor_graph(nouveau, pre,node)\n",
    "GG = bt.graph_to_ordered(G, events, events_reverse)\n",
    "Gp = bt.instant_graphs(G)\n",
    "GT = bt.interval_graph(Gp)"
   ]
  },
  {
   "cell_type": "code",
   "execution_count": 19,
   "metadata": {},
   "outputs": [
    {
     "name": "stdout",
     "output_type": "stream",
     "text": [
      "2\n"
     ]
    }
   ],
   "source": [
    "before, after = bt.volume_instantenuous(nouveau, G, GT, events, events_reverse)\n",
    "mx = bt.max_volume_superposition(GT)\n",
    "print(mx)"
   ]
  },
  {
   "cell_type": "code",
   "execution_count": 20,
   "metadata": {},
   "outputs": [],
   "source": [
    "sigma = bt.volume_metapaths_at_t(G, node, cur_best, mx)\n",
    "f_edge = bt.dictionary_first_edge(G,  cur_best)\n",
    "sigma_r = bt.optimal_with_resting_con(nouveau, node, f_edge, events, G, sigma, cur_best, unt)"
   ]
  },
  {
   "cell_type": "code",
   "execution_count": 24,
   "metadata": {},
   "outputs": [
    {
     "name": "stdout",
     "output_type": "stream",
     "text": [
      "$sig[(A,0.0)]$ & vol(1,0) & $sig[(A,2.0)]$ & vol(1,0) & $sig[( A , 2.5 )]$  &  vol(1,0)  \\\\\n",
      "$sig[(A,3.0)]$ & vol(1,0) & $sig[(A,4.0)]$ & vol(1,0) & $sig[( A , 6.0 )]$  &  vol(1,0)  \\\\\n",
      "$sig[(A,7.0)]$ & vol(1,0) & $sig[(A,7.5)]$ & vol(1,0) & $sig[( A , 8.0 )]$  &  vol(1,0)  \\\\\n",
      "$sig[(A,9.0)]$ & vol(1,0) & $sig[(A,10.0)]$ & vol(1,0) & $sig[( A , 11.0 )]$  &  vol(1,0)  \\\\\n",
      "$sig[(A,12.0)]$ & vol(1,0) & $sig[(A,13.0)]$ & vol(1,0) & $sig[( A , 13.5 )]$  &  vol(1,0)  \\\\\n",
      "$sig[(A,14.0)]$ & vol(1,0) & $sig[(A,15.0)]$ & vol(1,0) & $sig[( B , 2.0 )]$  &  vol(1,0)  \\\\\n",
      "$sig[(B,2.5)]$ & vol(1,0) & $sig[(B,3.0)]$ & vol(1,0) & $sig[( B , 4.0 )]$  &  vol(1,0)  \\\\\n",
      "$sig[(B,6.0)]$ & vol(1,0) & $sig[(B,7.0)]$ & vol(1,0) & $sig[( B , 7.5 )]$  &  vol(1,0)  \\\\\n",
      "$sig[(B,8.0)]$ & vol(1,0) & $sig[(B,9.0)]$ & vol(1,0) & $sig[( B , 10.0 )]$  &  vol(1,0)  \\\\\n",
      "$sig[(B,11.0)]$ & vol(1,0) & $sig[(B,12.0)]$ & vol(1,0) & $sig[( B , 13.0 )]$  &  vol(1,0)  \\\\\n",
      "$sig[(B,13.5)]$ & vol(1,0) & $sig[(B,14.0)]$ & vol(1,0) & $sig[( B , 15.0 )]$  &  vol(1,0)  \\\\\n",
      "$sig[(C,2.0)]$ & vol(1,0) & $sig[(C,2.5)]$ & vol(1,0) & $sig[( C , 3.0 )]$  &  vol(1,0)  \\\\\n",
      "$sig[(C,4.0)]$ & vol(1,0) & $sig[(C,6.0)]$ & vol(1,0) & $sig[( C , 7.0 )]$  &  vol(2,0)  \\\\\n",
      "$sig[(C,7.5)]$ & vol(0.5,1) & $sig[(C,8.0)]$ & vol(0.5,1) & $sig[( C , 9.0 )]$  &  vol(0.5,1)  \\\\\n",
      "$sig[(C,10.0)]$ & vol(0.125,2) & $sig[(C,11.0)]$ & vol(0.125,2) & $sig[( C , 12.0 )]$  &  vol(0.125,2)  \\\\\n",
      "$sig[(C,13.0)]$ & vol(1,0) & $sig[(C,13.5)]$ & vol(1,0) & $sig[( C , 14.0 )]$  &  vol(1,0)  \\\\\n",
      "$sig[(C,15.0)]$ & vol(1,0) & $sig[(D,3.0)]$ & vol(1,0) & $sig[( D , 4.0 )]$  &  vol(1.0,1)  \\\\\n",
      "$sig[(D,6.0)]$ & vol(1.0,1) & $sig[(D,7.0)]$ & vol(2,0) & $sig[( D , 7.5 )]$  &  vol(0.125,2)  \\\\\n",
      "$sig[(D,8.0)]$ & vol(0.125,2) & $sig[(D,9.0)]$ & vol(0.125,2) & $sig[( D , 10.0 )]$  &  vol(0.125,2)  \\\\\n",
      "$sig[(D,11.0)]$ & vol(0.125,2) & $sig[(D,12.0)]$ & vol(0.125,2) & $sig[( D , 13.0 )]$  &  vol(0.125,2)  \\\\\n",
      "$sig[(D,13.5)]$ & vol(0.125,2) & $sig[(D,14.0)]$ & vol(0.125,2) & $sig[( D , 15.0 )]$  &  vol(0.125,2)  \\\\\n",
      "$sig[(E,6.0)]$ & vol(1,0) & $sig[(E,7.0)]$ & vol(1,0) & $sig[( E , 7.5 )]$  &  vol(1,0)  \\\\\n",
      "$sig[(E,8.0)]$ & vol(1,0) & $sig[(E,9.0)]$ & vol(1,0) & $sig[( E , 10.0 )]$  &  vol(0.125,2)  \\\\\n",
      "$sig[(E,11.0)]$ & vol(0.125,2) & $sig[(E,12.0)]$ & vol(0.125,2) & $sig[( E , 13.0 )]$  &  vol(0.125,2)  \\\\\n",
      "$sig[(E,13.5)]$ & vol(0.125,2) & $sig[(E,14.0)]$ & vol(1,0) & $sig[( E , 15.0 )]$  &  vol(1,0)  \\\\\n",
      "$sig[(F,11.0)]$ & vol(0.125,2) & $sig[(F,12.0)]$ & vol(0.125,2) & $sig[( F , 13.0 )]$  &  vol(1,0)  \\\\\n",
      "$sig[(F,13.5)]$ & vol(1,0) & $sig[(F,14.0)]$ & vol(1,0) & $sig[( F , 15.0 )]$  &  vol(1,0)  \\\\\n"
     ]
    }
   ],
   "source": [
    "import numpy\n",
    "k = 0\n",
    "for v in nouveau.nodes:\n",
    "    #print(nouveau.node_to_label[k],k)\n",
    "    for t in events:\n",
    "        x = sigma_r[(v,t)]\n",
    "        if x != vol.Volume(0,0):\n",
    "            if k%3 == 0 or k%3 == 1:\n",
    "                print(\"$sig[(\",nouveau.node_to_label[v],\",\",t ,\")]$\" ,\" & \", x ,\" & \",end ='',sep='')\n",
    "            else:\n",
    "                print(\"$sig[(\",nouveau.node_to_label[v],\",\",t ,\")]$\" ,\" & \", x,\" \\\\\\\\\")\n",
    "            k +=1"
   ]
  },
  {
   "cell_type": "code",
   "execution_count": 25,
   "metadata": {},
   "outputs": [],
   "source": [
    "contri, prev_next = bt.contribution_each_latency_con(nouveau, lat_rev_triplet,events[0],events[len(events)-1], before, after)\n",
    "latence_arrival = {v : { y: [x,z] for (x,y,z) in lat_triplet[v] }  for v in nouveau.nodes }\n",
    "latence_depar = {v : { x : [y,z] for (x,y,z) in lat_triplet[v] }  for v in nouveau.nodes }"
   ]
  },
  {
   "cell_type": "code",
   "execution_count": 26,
   "metadata": {},
   "outputs": [
    {
     "name": "stdout",
     "output_type": "stream",
     "text": [
      "$ B $  & $ 2.0 $:  $ (0.0, 2.0) $  & $ 2.5 $:  $ (2.5, 2.5) $  & $ 3.0 $:  $ (3.0, 15.0) $  & $ 6.0 $:  $ (3.0, 15.0) $  & $ 13.0 $:  $ (3.0, 15.0) $  & \\\\\n",
      "$ C $  & $ 2.0 $:  $ (0.0, 2.0) $  & $ 2.5 $:  $ (2.5, 13.0) $  & $ 6.0 $:  $ (2.5, 13.0) $  & $ 13.0 $:  $ (0.0, 13.0) $  & $ 13.5 $:  $ (13.5, 15.0) $  & \\\\\n",
      "$ D $  & $ 3.0 $:  $ (0.0, 15.0) $  & $ 7.0 $:  $ (2.5, 15.0) $  & \\\\\n",
      "$ E $  & $ 6.0 $:  $ (0.0, 15.0) $  & $ 14.0 $:  $ (6.0, 15.0) $  & \\\\\n",
      "$ F $  & $ 11.0 $:  $ (0.0, 13.0) $  & $ 13.0 $:  $ (0.0, 13.0) $  & $ 13.5 $:  $ (13.5, 15.0) $  & \\\\\n"
     ]
    }
   ],
   "source": [
    "import numpy\n",
    "for v in nouveau.nodes:\n",
    "    if v != node:\n",
    "        print(\"$\",nouveau.node_to_label[v],\"$\",\" & \", end='')\n",
    "        for k in contri[v].keys():\n",
    "            print(\"$\",k,\"$: \" ,\"$\",contri[v][k],\"$\",\" & \" ,end ='')\n",
    "        print(\"\\\\\\\\\")"
   ]
  },
  {
   "cell_type": "code",
   "execution_count": 27,
   "metadata": {},
   "outputs": [
    {
     "name": "stdout",
     "output_type": "stream",
     "text": [
      "$ B $  & $ 3.0 $:  $ [6.0, 13.0] $  & $ 6.0 $:  $ [13.0] $  & $ 13.0 $:  $ [6.0] $  & \\\\\n",
      "$ C $  & $ 2.5 $:  $ [6.0] $  & \\\\\n",
      "$ D $  & \\\\\n",
      "$ E $  & \\\\\n",
      "$ F $  & \\\\\n"
     ]
    }
   ],
   "source": [
    "import numpy\n",
    "for v in nouveau.nodes:\n",
    "    if v != node:\n",
    "        print(\"$\",nouveau.node_to_label[v],\"$\",\" & \", end='')\n",
    "        for k in prev_next[v].keys():\n",
    "            print(\"$\",k,\"$: \" ,\"$\",prev_next[v][k],\"$\",\" & \" ,end ='')\n",
    "        print(\"\\\\\\\\\")"
   ]
  },
  {
   "cell_type": "code",
   "execution_count": 28,
   "metadata": {},
   "outputs": [],
   "source": [
    "deltasvvt = bt.dictionary_svvt(G, node, latence_arrival, contri, prev_next, sigma_r,  latence_depar)"
   ]
  },
  {
   "cell_type": "code",
   "execution_count": 32,
   "metadata": {},
   "outputs": [
    {
     "name": "stdout",
     "output_type": "stream",
     "text": [
      "$d\\_svvt[F,15.0]$ & $vol(24.0,0)$ & $d\\_svvt[ F , 15.0 ]$  & $ vol(17.0,0) $ \\\\\n",
      "$d\\_svvt[F,15.0]$ & $vol(24.5,0)$ & $d\\_svvt[ F , 15.0 ]$  & $ vol(28.0,0) $ \\\\\n",
      "$d\\_svvt[F,15.0]$ & $vol(30.0,0)$ & $d\\_svvt[ F , 15.0 ]$  & $ vol(54.0,0) $ \\\\\n",
      "$d\\_svvt[F,15.0]$ & $vol(7.5,0)$ & $d\\_svvt[ F , 15.0 ]$  & $ vol(12.0,0) $ \\\\\n"
     ]
    }
   ],
   "source": [
    "import numpy\n",
    "k = 0\n",
    "for e in deltasvvt:\n",
    "    x = deltasvvt[e]\n",
    "    if x != vol.Volume(0,0):\n",
    "        if k%2 ==0:\n",
    "            print(\"$d\\_svvt[\", nouveau.node_to_label[v],\",\",t ,\"]$\" ,\" & $\", x ,\"$ & \",end ='',sep='')\n",
    "        else:\n",
    "            print(\"$d\\_svvt[\", nouveau.node_to_label[v],\",\",t ,\"]$\" ,\" & $\", x,\"$ \\\\\\\\\")\n",
    "        k = k+1"
   ]
  },
  {
   "cell_type": "code",
   "execution_count": 33,
   "metadata": {},
   "outputs": [],
   "source": [
    "contribution = bt.general_contribution_from_node(nouveau, G, node, GG, sigma_r, deltasvvt, events, events_reverse, pre, GT, unt)"
   ]
  },
  {
   "cell_type": "code",
   "execution_count": 37,
   "metadata": {},
   "outputs": [
    {
     "name": "stdout",
     "output_type": "stream",
     "text": [
      "$ A $  & $ vol(0,0) $  & $ vol(0,0) $  & $ vol(0,0) $  & $ vol(0,0) $  & $ vol(0,0) $  & $ vol(17.0,0) $  & $ vol(7.5,0) $  & $ vol(0,0) $  & $ vol(0,0) $  & \\\\\n",
      "$ B $  & $ vol(0,0) $  & $ vol(0,0) $  & $ vol(0,0) $  & $ vol(0,0) $  & $ vol(0,0) $  & $ vol(17.0,0) $  & $ vol(0,0) $  & $ vol(0,0) $  & $ vol(0,0) $  & \\\\\n",
      "$ C $  & $ vol(0,0) $  & $ vol(0,0) $  & $ vol(0,0) $  & $ vol(0,0) $  & $ vol(0,0) $  & $ vol(0,0) $  & $ vol(7.5,0) $  & $ vol(0,0) $  & $ vol(0,0) $  & \\\\\n",
      "$ D $  & $ vol(0,0) $  & $ vol(0,0) $  & $ vol(0,0) $  & $ vol(0,0) $  & $ vol(0,0) $  & $ vol(0,0) $  & $ vol(0,0) $  & $ vol(0,0) $  & $ vol(0,0) $  & \\\\\n",
      "$ E $  & $ vol(0,0) $  & $ vol(0,0) $  & $ vol(0,0) $  & $ vol(0,0) $  & $ vol(0,0) $  & $ vol(0,0) $  & $ vol(0,0) $  & $ vol(7.5,0) $  & $ vol(0,0) $  & \\\\\n",
      "$ F $  & $ vol(0,0) $  & $ vol(0,0) $  & $ vol(0,0) $  & $ vol(12.0,0) $  & $ vol(0,0) $  & $ vol(0,0) $  & $ vol(7.5,0) $  & $ vol(0,0) $  & $ vol(0,0) $  & \\\\\n"
     ]
    }
   ],
   "source": [
    "import numpy\n",
    "for v in nouveau.nodes:\n",
    "    print(\"$\",nouveau.node_to_label[v],\"$\",\" & \", end='')\n",
    "    for k in events:\n",
    "        if k > 7.5:\n",
    "            if k in contribution[v]:\n",
    "                x = contribution[v][k] \n",
    "                print(\"$\",x,\"$\",\" & \" ,end ='')\n",
    "            else:\n",
    "                print(\" \",\" & \" ,end ='')\n",
    "    print(\"\\\\\\\\\")"
   ]
  },
  {
   "cell_type": "code",
   "execution_count": null,
   "metadata": {},
   "outputs": [],
   "source": []
  }
 ],
 "metadata": {
  "kernelspec": {
   "display_name": "Python 3 (ipykernel)",
   "language": "python",
   "name": "python3"
  },
  "language_info": {
   "codemirror_mode": {
    "name": "ipython",
    "version": 3
   },
   "file_extension": ".py",
   "mimetype": "text/x-python",
   "name": "python",
   "nbconvert_exporter": "python",
   "pygments_lexer": "ipython3",
   "version": "3.8.10"
  }
 },
 "nbformat": 4,
 "nbformat_minor": 2
}
