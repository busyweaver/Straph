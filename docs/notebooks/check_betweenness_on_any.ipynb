{
 "cells": [
  {
   "cell_type": "code",
   "execution_count": 23,
   "metadata": {},
   "outputs": [
    {
     "name": "stdout",
     "output_type": "stream",
     "text": [
      "Processing /home/mehdi/Straph\n",
      "\u001b[33m  DEPRECATION: A future pip version will change local packages to be built in-place without first copying to a temporary directory. We recommend you use --use-feature=in-tree-build to test your packages with this new behavior before it becomes the default.\n",
      "   pip 21.3 will remove support for this functionality. You can find discussion regarding this at https://github.com/pypa/pip/issues/7555.\u001b[0m\n",
      "Building wheels for collected packages: straph\n",
      "  Building wheel for straph (setup.py) ... \u001b[?25ldone\n",
      "\u001b[?25h  Created wheel for straph: filename=straph-0.3-py3-none-any.whl size=123605 sha256=d217f05bd3c3c4a472dd18a40abe1d6fce7e999e5f32a3391a3cd5f1f3a041d5\n",
      "  Stored in directory: /tmp/pip-ephem-wheel-cache-fc2rwknx/wheels/a5/b6/52/18c617da8ab7981501f28a49d398fa4ccca532d1baece44b1e\n",
      "Successfully built straph\n",
      "Installing collected packages: straph\n",
      "  Attempting uninstall: straph\n",
      "    Found existing installation: straph 0.3\n",
      "    Uninstalling straph-0.3:\n",
      "      Successfully uninstalled straph-0.3\n",
      "Successfully installed straph-0.3\n",
      "\u001b[33mWARNING: You are using pip version 21.2.4; however, version 22.2.2 is available.\n",
      "You should consider upgrading via the '/home/mehdi/sage/local/bin/python3 -m pip install --upgrade pip' command.\u001b[0m\n",
      "Note: you may need to restart the kernel to use updated packages.\n"
     ]
    }
   ],
   "source": [
    "pip install ../../"
   ]
  },
  {
   "cell_type": "code",
   "execution_count": 1,
   "metadata": {},
   "outputs": [],
   "source": [
    "import straph as sg\n",
    "import pandas as pd\n",
    "import matplotlib.pyplot as plt\n",
    "import straph.betweenness as bt\n",
    "import numpy"
   ]
  },
  {
   "cell_type": "code",
   "execution_count": 2,
   "metadata": {},
   "outputs": [],
   "source": [
    "plt.rcParams[\"figure.figsize\"] = (12,9)"
   ]
  },
  {
   "cell_type": "code",
   "execution_count": 19,
   "metadata": {},
   "outputs": [],
   "source": [
    "T = [0, 100]\n",
    "nb_node = 14\n",
    "occurrence_law_node = 'poisson'\n",
    "presence_law_node = 'uniform'\n",
    "\n",
    "occurrence_param_node = 3\n",
    "presence_param_node = 25\n",
    "\n",
    "occurrence_law_link = 'poisson'\n",
    "presence_law_link = 'uniform'\n",
    "\n",
    "occurrence_param_link = 5\n",
    "presence_param_link = 15\n",
    "\n",
    "p_link = numpy.sqrt(nb_node)/nb_node"
   ]
  },
  {
   "cell_type": "code",
   "execution_count": 20,
   "metadata": {},
   "outputs": [
    {
     "name": "stdout",
     "output_type": "stream",
     "text": [
      "Nb of Nodes :  14\n",
      "Nb of segmented nodes :  26.0\n",
      "Nb of links :  31\n",
      "Nb of segmented links :  59.0\n",
      "Nb of event times :  120\n"
     ]
    }
   ],
   "source": [
    "S = sg.erdos_renyi(T,\n",
    "                    nb_node,\n",
    "                    occurrence_law_node,\n",
    "                    occurrence_param_node,\n",
    "                    presence_law_node,\n",
    "                    presence_param_node,\n",
    "                    occurrence_law_link,\n",
    "                    occurrence_param_link,\n",
    "                    presence_law_link,\n",
    "                    presence_param_link,\n",
    "                    p_link)\n",
    "S.describe()"
   ]
  },
  {
   "cell_type": "code",
   "execution_count": 21,
   "metadata": {},
   "outputs": [
    {
     "data": {
      "text/plain": [
       "<AxesSubplot:xlabel='t', ylabel='Nodes'>"
      ]
     },
     "execution_count": 21,
     "metadata": {},
     "output_type": "execute_result"
    },
    {
     "data": {
      "image/png": "[encoded data removed]",
      "text/plain": [
       "<Figure size 864x648 with 1 Axes>"
      ]
     },
     "metadata": {
      "needs_background": "light"
     },
     "output_type": "display_data"
    }
   ],
   "source": [
    "S.plot()"
   ]
  },
  {
   "cell_type": "code",
   "execution_count": 22,
   "metadata": {},
   "outputs": [],
   "source": [
    "bt.to_undirected(S)"
   ]
  },
  {
   "cell_type": "code",
   "execution_count": 23,
   "metadata": {},
   "outputs": [],
   "source": [
    "SS = S.stream_graph_to_link_stream()"
   ]
  },
  {
   "cell_type": "code",
   "execution_count": 24,
   "metadata": {},
   "outputs": [],
   "source": [
    "SS.write_to_matthieu_link_stream(\"any\")"
   ]
  },
  {
   "cell_type": "code",
   "execution_count": 35,
   "metadata": {},
   "outputs": [],
   "source": [
    "#betweenness, general_contri, nouveau, events, sigma_r, latency, prev_next , contri, before, after, deltasvvt, no_succ ,features = bt.betweenness_all(SS)"
   ]
  },
  {
   "cell_type": "code",
   "execution_count": 36,
   "metadata": {},
   "outputs": [],
   "source": [
    "#bt.simulations(SS, \"papier\")"
   ]
  },
  {
   "cell_type": "code",
   "execution_count": 27,
   "metadata": {},
   "outputs": [],
   "source": [
    "bet_moi = bt.read_dictionary(\"papier_betweenness.pic\")"
   ]
  },
  {
   "cell_type": "code",
   "execution_count": 28,
   "metadata": {},
   "outputs": [
    {
     "data": {
      "text/plain": [
       "0"
      ]
     },
     "execution_count": 28,
     "metadata": {},
     "output_type": "execute_result"
    }
   ],
   "source": [
    "import os\n",
    "cmd = 'mv any_mat.ls archive_code/Test'\n",
    "os.system(cmd)"
   ]
  },
  {
   "cell_type": "code",
   "execution_count": 37,
   "metadata": {},
   "outputs": [],
   "source": [
    "import os\n",
    "#cmd = 'python2 archive_code/betweenness_all.py Test/any_mat.ls -1 res'\n",
    "#os.system(cmd)"
   ]
  },
  {
   "cell_type": "code",
   "execution_count": 30,
   "metadata": {},
   "outputs": [],
   "source": [
    "bet_mat = bt.read_dictionary(\"res_betweenness.pic\")"
   ]
  },
  {
   "cell_type": "code",
   "execution_count": 31,
   "metadata": {},
   "outputs": [
    {
     "data": {
      "text/plain": [
       "dict_keys(['11', '10', '13', '12', '1', '0', '3', '2', '5', '4', '7', '6', '9', '8'])"
      ]
     },
     "execution_count": 31,
     "metadata": {},
     "output_type": "execute_result"
    }
   ],
   "source": [
    "bet_mat.keys()"
   ]
  },
  {
   "cell_type": "code",
   "execution_count": 32,
   "metadata": {},
   "outputs": [
    {
     "data": {
      "text/plain": [
       "dict_keys(['0', '1', '2', '3', '4', '5', '6', '7', '8', '9', '10', '11', '12', '13'])"
      ]
     },
     "execution_count": 32,
     "metadata": {},
     "output_type": "execute_result"
    }
   ],
   "source": [
    "bet_moi.keys()"
   ]
  },
  {
   "cell_type": "code",
   "execution_count": 33,
   "metadata": {},
   "outputs": [
    {
     "name": "stdout",
     "output_type": "stream",
     "text": [
      "erreur  0 57.28551739587099 =>    365.1262006788669 377.104478866042\n",
      "erreur  0 58.57152824097817 =>    327.20688910903834 337.9398911511764\n",
      "erreur  0 60.43802277087988 =>    327.20688910903834 337.9398911511764\n",
      "erreur  0 60.93237106024006 =>    327.20688910903834 337.9398911511764\n",
      "erreur  0 64.85051201339003 =>    211.67659778819302 218.61556692585458\n",
      "erreur  0 65.69364763145796 =>    771.0394291107713 777.1619691520489\n",
      "erreur  0 65.90654777474518 =>    745.2892039332681 751.2055874940468\n",
      "erreur  1 33.39858298908548 =>    26.742616978937637 53.48523395787527\n",
      "erreur  1 74.97090371795456 =>    2788.6832650777665 2814.3584443087525\n",
      "erreur  2 57.28551739587099 =>    548.4649597086682 590.6206566105998\n",
      "erreur  2 58.57152824097817 =>    500.8252637379368 539.3007706711136\n",
      "erreur  2 60.43802277087988 =>    431.68180956423555 464.81595062027793\n",
      "erreur  2 60.93237106024006 =>    413.36889851968897 445.08835818132764\n",
      "erreur  2 64.85051201339003 =>    268.2231211814115 288.72999808232817\n",
      "erreur  2 65.69364763145796 =>    858.1625569809755 876.2566243354415\n",
      "erreur  2 65.90654777474518 =>    3462.594579458023 3480.079388364434\n",
      "erreur  2 74.97090371795456 =>    2038.4061508537704 2051.2437404692637\n",
      "erreur  4 32.35564951059685 =>    77.56207541495847 155.12415082991694\n",
      "erreur  4 33.39858298908548 =>    1977.4767704387493 2081.7814628326455\n",
      "erreur  4 33.68420217251255 =>    1966.5361645326598 2070.840856926556\n",
      "erreur  4 34.56852623145108 =>    1966.5361645326598 2070.840856926556\n",
      "erreur  4 34.94880940007197 =>    1966.5361645326598 2070.840856926556\n",
      "erreur  4 35.845168080990085 =>    1966.5361645326598 2070.840856926556\n",
      "erreur  5 32.35564951059685 =>    25.85402513831949 51.70805027663898\n",
      "erreur  5 56.17723606151408 =>    181.88783479383906 184.33811444539754\n",
      "erreur  5 57.183859462569046 =>    161.71634505669445 163.88224440603807\n",
      "erreur  5 57.28551739587099 =>    158.64599475933576 160.7831748142892\n",
      "erreur  5 58.57152824097817 =>    131.67697758107485 133.45084782979893\n",
      "erreur  5 60.43802277087988 =>    92.53459924766805 93.78116774884724\n",
      "erreur  5 60.93237106024006 =>    82.16758907934607 83.27449967491694\n",
      "erreur  6 82.73259901701341 =>    130.53098389014127 156.2061631211274\n",
      "erreur  7 33.39858298908548 =>    1899.9146950237907 1926.6573120027285\n",
      "erreur  8 35.845168080990085 =>    347.1140348480347 451.4187272419308\n",
      "erreur  9 35.845168080990085 =>    1966.5361645326598 2070.840856926556\n",
      "erreur  9 74.97090371795456 =>    511.6905940816797 537.3657733126659\n",
      "erreur  9 79.43497175584463 =>    157.87345078308635 183.5486300140725\n",
      "erreur  9 79.9960109506552 =>    157.87345078308635 183.5486300140725\n",
      "erreur  9 82.22691129242558 =>    157.87345078308635 183.5486300140725\n",
      "erreur  9 82.73259901701341 =>    157.87345078308635 183.5486300140725\n",
      "erreur  10 32.35564951059685 =>    25.85402513831949 51.70805027663898\n",
      "erreur  13 32.35564951059685 =>    77.56207541495847 155.12415082991694\n"
     ]
    }
   ],
   "source": [
    "for v in bet_moi.keys():\n",
    "    for t in bet_moi[v].keys():\n",
    "        if (v.lower() in bet_mat ):\n",
    "            if not (abs(bet_moi[v][t] - bet_mat[v.lower()][t]) < 1/100):\n",
    "                print(\"erreur \",v,t,\"=>   \", bet_moi[v][t], bet_mat[v.lower()][t])"
   ]
  },
  {
   "cell_type": "code",
   "execution_count": 82,
   "metadata": {},
   "outputs": [],
   "source": [
    "#contribution check\n",
    "node = 8"
   ]
  },
  {
   "cell_type": "code",
   "execution_count": 83,
   "metadata": {},
   "outputs": [
    {
     "data": {
      "text/plain": [
       "0"
      ]
     },
     "execution_count": 83,
     "metadata": {},
     "output_type": "execute_result"
    }
   ],
   "source": [
    "import os\n",
    "cmd = 'python2 archive_code/betweenness_tout.py Test/any_mat.ls -1 ' + S.node_to_label[node].lower() + \" cont\"\n",
    "os.system(cmd)"
   ]
  },
  {
   "cell_type": "code",
   "execution_count": 84,
   "metadata": {},
   "outputs": [],
   "source": [
    "cont_mat = bt.read_dictionary(\"cont_contri.pic\")"
   ]
  },
  {
   "cell_type": "code",
   "execution_count": 85,
   "metadata": {},
   "outputs": [
    {
     "name": "stdout",
     "output_type": "stream",
     "text": [
      "erreur  8 75.61304700994472 =>    ( 0 2062.9182659772937 ) 2070.733626444871\n",
      "erreur  2 80.41206683462686 =>    ( 0 173.39685837772427 ) 188.27680284009247\n",
      "erreur  2 81.68006613089698 =>    ( 0 173.39685837772427 ) 216.08193247403864\n",
      "erreur  2 81.92135944064438 =>    ( 0 173.39685837772427 ) 221.37309610249326\n",
      "erreur  5 81.68006613089698 =>    ( 0 26.194469040832413 ) 27.341176244863483\n",
      "erreur  5 80.41206683462686 =>    ( 0 188.56181397995277 ) 195.2011785528512\n",
      "erreur  5 79.73349567329026 =>    ( 0 277.2162754389581 ) 285.03163590653514\n",
      "erreur  5 76.31767987524688 =>    ( 0 729.4080467040089 ) 737.2234071715859\n",
      "erreur  5 75.78026622745247 =>    ( 0 741.1926401086981 ) 749.0080005762751\n",
      "erreur  5 75.77929590398148 =>    ( 0 741.2139176992908 ) 749.0292781668677\n",
      "erreur  5 75.61304700994472 =>    ( 0 741.2139176992908 ) 749.0292781668677\n"
     ]
    }
   ],
   "source": [
    "for v in general_contri[node].keys():\n",
    "    for t in general_contri[node][v].keys():\n",
    "        if S.node_to_label[v].lower() in cont_mat:\n",
    "            if abs(general_contri[node][v][t].val - cont_mat[S.node_to_label[v].lower()][t]) > 1/100:\n",
    "                print(\"erreur \",v,t,\"=>   \", \"(\",general_contri[node][v][t].dim,general_contri[node][v][t].val,\")\" ,cont_mat[S.node_to_label[v].lower()][t])"
   ]
  },
  {
   "cell_type": "code",
   "execution_count": 108,
   "metadata": {},
   "outputs": [
    {
     "ename": "KeyError",
     "evalue": "'b'",
     "output_type": "error",
     "traceback": [
      "\u001b[0;31m---------------------------------------------------------------------------\u001b[0m",
      "\u001b[0;31mKeyError\u001b[0m                                  Traceback (most recent call last)",
      "\u001b[0;32m/tmp/ipykernel_100474/1040247518.py\u001b[0m in \u001b[0;36m<module>\u001b[0;34m\u001b[0m\n\u001b[0;32m----> 1\u001b[0;31m \u001b[0mcont_mat\u001b[0m\u001b[0;34m[\u001b[0m\u001b[0;34m'b'\u001b[0m\u001b[0;34m]\u001b[0m\u001b[0;34m\u001b[0m\u001b[0;34m\u001b[0m\u001b[0m\n\u001b[0m",
      "\u001b[0;31mKeyError\u001b[0m: 'b'"
     ]
    }
   ],
   "source": [
    "cont_mat['b']"
   ]
  },
  {
   "cell_type": "code",
   "execution_count": 117,
   "metadata": {},
   "outputs": [
    {
     "data": {
      "text/plain": [
       "{0: {1.1308940848602123: vol(0,0),\n",
       "  70.75854692767031: vol(0,0),\n",
       "  71.12462021087455: vol(0,0),\n",
       "  76.58710978380334: vol(0,0),\n",
       "  76.99483540499104: vol(0,0),\n",
       "  85.20753633756169: vol(0,0),\n",
       "  85.70629317822616: vol(0,0),\n",
       "  100: vol(0,0)},\n",
       " 1: {1.1308940848602123: vol(0,0),\n",
       "  70.75854692767031: vol(0,0),\n",
       "  71.12462021087455: vol(0,0),\n",
       "  76.58710978380334: vol(0,0),\n",
       "  76.99483540499104: vol(0,0),\n",
       "  85.20753633756169: vol(0,0),\n",
       "  85.70629317822616: vol(0,0),\n",
       "  100: vol(0,0)},\n",
       " 2: {1.1308940848602123: vol(0,0),\n",
       "  70.75854692767031: vol(0,0),\n",
       "  71.12462021087455: vol(0,0),\n",
       "  76.58710978380334: vol(0,0),\n",
       "  76.99483540499104: vol(0,0),\n",
       "  85.20753633756169: vol(0,0),\n",
       "  85.70629317822616: vol(0,0),\n",
       "  100: vol(0,0)},\n",
       " 3: {1.1308940848602123: vol(0,0),\n",
       "  70.75854692767031: vol(0,0),\n",
       "  71.12462021087455: vol(0,0),\n",
       "  76.58710978380334: vol(0,0),\n",
       "  76.99483540499104: vol(0,0),\n",
       "  85.20753633756169: vol(0,0),\n",
       "  85.70629317822616: vol(0,0),\n",
       "  100: vol(0,0)},\n",
       " 4: {1.1308940848602123: vol(0,0),\n",
       "  70.75854692767031: vol(0,0),\n",
       "  71.12462021087455: vol(0,0),\n",
       "  76.58710978380334: vol(0,0),\n",
       "  76.99483540499104: vol(0,0),\n",
       "  85.20753633756169: vol(0,0),\n",
       "  85.70629317822616: vol(0,0),\n",
       "  100: vol(0,0)},\n",
       " 5: {1.1308940848602123: vol(0,0),\n",
       "  70.75854692767031: vol(0,0),\n",
       "  71.12462021087455: vol(0,0),\n",
       "  76.58710978380334: vol(0,0),\n",
       "  76.99483540499104: vol(0,0),\n",
       "  85.20753633756169: vol(0,0),\n",
       "  85.70629317822616: vol(0,0),\n",
       "  100: vol(0,0)}}"
      ]
     },
     "execution_count": 117,
     "metadata": {},
     "output_type": "execute_result"
    }
   ],
   "source": [
    "general_contri[0]"
   ]
  },
  {
   "cell_type": "code",
   "execution_count": 34,
   "metadata": {},
   "outputs": [],
   "source": [
    "SS.write_to_sg(\"examples/erdos8\")"
   ]
  },
  {
   "cell_type": "code",
   "execution_count": 126,
   "metadata": {},
   "outputs": [
    {
     "data": {
      "text/plain": [
       "1.1308940848602123"
      ]
     },
     "execution_count": 126,
     "metadata": {},
     "output_type": "execute_result"
    }
   ],
   "source": [
    "SS.alpha"
   ]
  },
  {
   "cell_type": "code",
   "execution_count": 127,
   "metadata": {},
   "outputs": [
    {
     "data": {
      "text/plain": [
       "100"
      ]
     },
     "execution_count": 127,
     "metadata": {},
     "output_type": "execute_result"
    }
   ],
   "source": [
    "SS.omega"
   ]
  },
  {
   "cell_type": "code",
   "execution_count": null,
   "metadata": {},
   "outputs": [],
   "source": []
  }
 ],
 "metadata": {
  "kernelspec": {
   "display_name": "Python 3 (ipykernel)",
   "language": "python",
   "name": "python3"
  },
  "language_info": {
   "codemirror_mode": {
    "name": "ipython",
    "version": 3
   },
   "file_extension": ".py",
   "mimetype": "text/x-python",
   "name": "python",
   "nbconvert_exporter": "python",
   "pygments_lexer": "ipython3",
   "version": "3.8.10"
  }
 },
 "nbformat": 4,
 "nbformat_minor": 4
}
