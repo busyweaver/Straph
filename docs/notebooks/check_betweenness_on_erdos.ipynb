{
 "cells": [
  {
   "cell_type": "code",
   "execution_count": 9,
   "metadata": {},
   "outputs": [
    {
     "name": "stdout",
     "output_type": "stream",
     "text": [
      "Processing /home/mehdi/Straph\n",
      "\u001b[33m  DEPRECATION: A future pip version will change local packages to be built in-place without first copying to a temporary directory. We recommend you use --use-feature=in-tree-build to test your packages with this new behavior before it becomes the default.\n",
      "   pip 21.3 will remove support for this functionality. You can find discussion regarding this at https://github.com/pypa/pip/issues/7555.\u001b[0m\n",
      "Building wheels for collected packages: straph\n",
      "  Building wheel for straph (setup.py) ... \u001b[?25ldone\n",
      "\u001b[?25h  Created wheel for straph: filename=straph-0.3-py3-none-any.whl size=122860 sha256=8dacf43d73746216122f63cb63691768d6fdf117a07a39910cae0904a95a9745\n",
      "  Stored in directory: /tmp/pip-ephem-wheel-cache-3g7evijc/wheels/b5/a9/15/900863b02cb736e4f08449e03d1d2d6ad447e06de70afc5fed\n",
      "Successfully built straph\n",
      "Installing collected packages: straph\n",
      "  Attempting uninstall: straph\n",
      "    Found existing installation: straph 0.3\n",
      "    Uninstalling straph-0.3:\n",
      "      Successfully uninstalled straph-0.3\n",
      "Successfully installed straph-0.3\n",
      "\u001b[33mWARNING: You are using pip version 21.1.2; however, version 22.2.2 is available.\n",
      "You should consider upgrading via the '/home/mehdi/sage_github/sage/bin/python3 -m pip install --upgrade pip' command.\u001b[0m\n",
      "Note: you may need to restart the kernel to use updated packages.\n"
     ]
    }
   ],
   "source": [
    "pip install ../../"
   ]
  },
  {
   "cell_type": "code",
   "execution_count": 1,
   "metadata": {},
   "outputs": [],
   "source": [
    "import straph as sg\n",
    "import pandas as pd\n",
    "import matplotlib.pyplot as plt\n",
    "import straph.betweenness as bt\n",
    "import numpy"
   ]
  },
  {
   "cell_type": "code",
   "execution_count": 2,
   "metadata": {},
   "outputs": [],
   "source": [
    "plt.rcParams[\"figure.figsize\"] = (12,9)"
   ]
  },
  {
   "cell_type": "code",
   "execution_count": 3,
   "metadata": {},
   "outputs": [
    {
     "name": "stdout",
     "output_type": "stream",
     "text": [
      "Nb of Nodes :  6\n",
      "Nb of segmented nodes :  6.0\n",
      "Nb of links :  4\n",
      "Nb of segmented links :  4.0\n",
      "Nb of event times :  8\n"
     ]
    }
   ],
   "source": [
    "path_directory = \"examples/\"\n",
    "S = sg.read_stream_graph(path_nodes=path_directory + \"erdos_nodes.sg\",\n",
    "                      path_links=path_directory + \"erdos_links.sg\")\n",
    "S.describe()"
   ]
  },
  {
   "cell_type": "code",
   "execution_count": 4,
   "metadata": {},
   "outputs": [
    {
     "data": {
      "text/plain": [
       "<AxesSubplot:xlabel='t', ylabel='Nodes'>"
      ]
     },
     "execution_count": 4,
     "metadata": {},
     "output_type": "execute_result"
    },
    {
     "name": "stderr",
     "output_type": "stream",
     "text": [
      "findfont: Font family ['Garamond'] not found. Falling back to DejaVu Sans.\n"
     ]
    },
    {
     "data": {
      "image/png": "[encoded data removed]",
      "text/plain": [
       "<Figure size 864x648 with 1 Axes>"
      ]
     },
     "metadata": {
      "needs_background": "light"
     },
     "output_type": "display_data"
    }
   ],
   "source": [
    "S.plot()"
   ]
  },
  {
   "cell_type": "code",
   "execution_count": 5,
   "metadata": {},
   "outputs": [],
   "source": [
    "SS = S.stream_graph_to_link_stream()"
   ]
  },
  {
   "cell_type": "code",
   "execution_count": 6,
   "metadata": {},
   "outputs": [],
   "source": [
    "SS.write_to_matthieu_link_stream(\"erdos\")"
   ]
  },
  {
   "cell_type": "code",
   "execution_count": 7,
   "metadata": {},
   "outputs": [
    {
     "name": "stdout",
     "output_type": "stream",
     "text": [
      "0\n",
      "1\n",
      "2\n",
      "3\n",
      "4\n",
      "5\n"
     ]
    }
   ],
   "source": [
    "betweenness, general_contri, nouveau, events, features = bt.betweenness_all(SS)"
   ]
  },
  {
   "cell_type": "code",
   "execution_count": 8,
   "metadata": {},
   "outputs": [
    {
     "name": "stdout",
     "output_type": "stream",
     "text": [
      "0\n",
      "1\n",
      "2\n",
      "3\n",
      "4\n",
      "5\n"
     ]
    }
   ],
   "source": [
    "bt.simulations(SS, \"papier\")"
   ]
  },
  {
   "cell_type": "code",
   "execution_count": 9,
   "metadata": {},
   "outputs": [],
   "source": [
    "bet_moi = bt.read_dictionary(\"papier_betweenness.pic\")"
   ]
  },
  {
   "cell_type": "code",
   "execution_count": 10,
   "metadata": {},
   "outputs": [
    {
     "data": {
      "text/plain": [
       "0"
      ]
     },
     "execution_count": 10,
     "metadata": {},
     "output_type": "execute_result"
    }
   ],
   "source": [
    "import os\n",
    "cmd = 'mv erdos_mat.ls archive_code/Test'\n",
    "os.system(cmd)"
   ]
  },
  {
   "cell_type": "code",
   "execution_count": 11,
   "metadata": {},
   "outputs": [
    {
     "data": {
      "text/plain": [
       "0"
      ]
     },
     "execution_count": 11,
     "metadata": {},
     "output_type": "execute_result"
    }
   ],
   "source": [
    "import os\n",
    "cmd = 'python2 archive_code/betweenness_all.py Test/erdos_mat.ls -1 res'\n",
    "os.system(cmd)"
   ]
  },
  {
   "cell_type": "code",
   "execution_count": 12,
   "metadata": {},
   "outputs": [],
   "source": [
    "bet_mat = bt.read_dictionary(\"res_betweenness.pic\")"
   ]
  },
  {
   "cell_type": "code",
   "execution_count": 13,
   "metadata": {},
   "outputs": [
    {
     "data": {
      "text/plain": [
       "dict_keys(['1', '3', '2', '5'])"
      ]
     },
     "execution_count": 13,
     "metadata": {},
     "output_type": "execute_result"
    }
   ],
   "source": [
    "bet_mat.keys()"
   ]
  },
  {
   "cell_type": "code",
   "execution_count": 14,
   "metadata": {},
   "outputs": [
    {
     "data": {
      "text/plain": [
       "dict_keys(['0', '1', '2', '3', '4', '5'])"
      ]
     },
     "execution_count": 14,
     "metadata": {},
     "output_type": "execute_result"
    }
   ],
   "source": [
    "bet_moi.keys()"
   ]
  },
  {
   "cell_type": "code",
   "execution_count": 15,
   "metadata": {},
   "outputs": [],
   "source": [
    "for v in bet_moi.keys():\n",
    "    for t in bet_moi[v].keys():\n",
    "        if (v.lower() in bet_mat ):\n",
    "            if bet_moi[v][t] != bet_mat[v.lower()][t]:\n",
    "                print(\"erreur \",v,t,\"=>   \", bet_moi[v][t], bet_mat[v.lower()][t])"
   ]
  },
  {
   "cell_type": "code",
   "execution_count": 16,
   "metadata": {},
   "outputs": [
    {
     "data": {
      "text/plain": [
       "[1.1308940848602123,\n",
       " 70.75854692767031,\n",
       " 71.12462021087455,\n",
       " 76.58710978380334,\n",
       " 76.99483540499104,\n",
       " 85.20753633756169,\n",
       " 85.70629317822616,\n",
       " 100.0]"
      ]
     },
     "execution_count": 16,
     "metadata": {},
     "output_type": "execute_result"
    }
   ],
   "source": [
    "events"
   ]
  },
  {
   "cell_type": "code",
   "execution_count": 17,
   "metadata": {},
   "outputs": [],
   "source": [
    "#contribution check\n",
    "node = 1"
   ]
  },
  {
   "cell_type": "code",
   "execution_count": 18,
   "metadata": {},
   "outputs": [
    {
     "data": {
      "text/plain": [
       "0"
      ]
     },
     "execution_count": 18,
     "metadata": {},
     "output_type": "execute_result"
    }
   ],
   "source": [
    "import os\n",
    "cmd = 'python2 archive_code/betweenness_tout.py Test/erdos_mat.ls -1 ' + S.node_to_label[node].lower() + \" cont\"\n",
    "os.system(cmd)"
   ]
  },
  {
   "cell_type": "code",
   "execution_count": 19,
   "metadata": {},
   "outputs": [],
   "source": [
    "cont_mat = bt.read_dictionary(\"cont_contri.pic\")"
   ]
  },
  {
   "cell_type": "code",
   "execution_count": 20,
   "metadata": {},
   "outputs": [],
   "source": [
    "for v in general_contri[node].keys():\n",
    "    for t in general_contri[node][v].keys():\n",
    "        if S.node_to_label[v].lower() in cont_mat:\n",
    "            if general_contri[node][v][t].val != cont_mat[S.node_to_label[v].lower()][t]:\n",
    "                print(\"erreur \",v,t,\"=>   \", \"(\",general_contri[node][v][t].dim,general_contri[node][v][t].val,\")\" ,cont_mat[S.node_to_label[v].lower()][t])"
   ]
  },
  {
   "cell_type": "code",
   "execution_count": 21,
   "metadata": {},
   "outputs": [
    {
     "ename": "KeyError",
     "evalue": "'b'",
     "output_type": "error",
     "traceback": [
      "\u001b[0;31m---------------------------------------------------------------------------\u001b[0m",
      "\u001b[0;31mKeyError\u001b[0m                                  Traceback (most recent call last)",
      "\u001b[0;32m<ipython-input-21-7608ef3460d1>\u001b[0m in \u001b[0;36m<module>\u001b[0;34m\u001b[0m\n\u001b[0;32m----> 1\u001b[0;31m \u001b[0mcont_mat\u001b[0m\u001b[0;34m[\u001b[0m\u001b[0;34m'b'\u001b[0m\u001b[0;34m]\u001b[0m\u001b[0;34m\u001b[0m\u001b[0;34m\u001b[0m\u001b[0m\n\u001b[0m",
      "\u001b[0;31mKeyError\u001b[0m: 'b'"
     ]
    }
   ],
   "source": [
    "cont_mat['b']"
   ]
  },
  {
   "cell_type": "code",
   "execution_count": 22,
   "metadata": {},
   "outputs": [
    {
     "data": {
      "text/plain": [
       "{0: {1.1308940848602123: vol(0,0),\n",
       "  70.75854692767031: vol(0,0),\n",
       "  71.12462021087455: vol(0,0),\n",
       "  76.58710978380334: vol(0,0),\n",
       "  76.99483540499104: vol(0,0),\n",
       "  85.20753633756169: vol(0,0),\n",
       "  85.70629317822616: vol(0,0),\n",
       "  100.0: vol(0,0)},\n",
       " 1: {1.1308940848602123: vol(0,0),\n",
       "  70.75854692767031: vol(0,0),\n",
       "  71.12462021087455: vol(0,0),\n",
       "  76.58710978380334: vol(0,0),\n",
       "  76.99483540499104: vol(0,0),\n",
       "  85.20753633756169: vol(0,0),\n",
       "  85.70629317822616: vol(0,0),\n",
       "  100.0: vol(0,0)},\n",
       " 2: {1.1308940848602123: vol(0,0),\n",
       "  70.75854692767031: vol(0,0),\n",
       "  71.12462021087455: vol(0,0),\n",
       "  76.58710978380334: vol(0,0),\n",
       "  76.99483540499104: vol(0,0),\n",
       "  85.20753633756169: vol(0,0),\n",
       "  85.70629317822616: vol(0,0),\n",
       "  100.0: vol(0,0)},\n",
       " 3: {1.1308940848602123: vol(0,0),\n",
       "  70.75854692767031: vol(0,0),\n",
       "  71.12462021087455: vol(0,0),\n",
       "  76.58710978380334: vol(0,0),\n",
       "  76.99483540499104: vol(0,0),\n",
       "  85.20753633756169: vol(0,0),\n",
       "  85.70629317822616: vol(0,0),\n",
       "  100.0: vol(0,0)},\n",
       " 4: {1.1308940848602123: vol(0,0),\n",
       "  70.75854692767031: vol(0,0),\n",
       "  71.12462021087455: vol(0,0),\n",
       "  76.58710978380334: vol(0,0),\n",
       "  76.99483540499104: vol(0,0),\n",
       "  85.20753633756169: vol(0,0),\n",
       "  85.70629317822616: vol(0,0),\n",
       "  100.0: vol(0,0)},\n",
       " 5: {1.1308940848602123: vol(0,0),\n",
       "  70.75854692767031: vol(0,0),\n",
       "  71.12462021087455: vol(0,0),\n",
       "  76.58710978380334: vol(0,0),\n",
       "  76.99483540499104: vol(0,0),\n",
       "  85.20753633756169: vol(0,0),\n",
       "  85.70629317822616: vol(0,0),\n",
       "  100.0: vol(0,0)}}"
      ]
     },
     "execution_count": 22,
     "metadata": {},
     "output_type": "execute_result"
    }
   ],
   "source": [
    "general_contri[0]"
   ]
  },
  {
   "cell_type": "code",
   "execution_count": 23,
   "metadata": {},
   "outputs": [],
   "source": [
    "SS.write_to_sg(\"examples/erdos\")"
   ]
  },
  {
   "cell_type": "code",
   "execution_count": 24,
   "metadata": {},
   "outputs": [
    {
     "data": {
      "text/plain": [
       "1.1308940848602123"
      ]
     },
     "execution_count": 24,
     "metadata": {},
     "output_type": "execute_result"
    }
   ],
   "source": [
    "SS.alpha"
   ]
  },
  {
   "cell_type": "code",
   "execution_count": 127,
   "metadata": {},
   "outputs": [
    {
     "data": {
      "text/plain": [
       "100"
      ]
     },
     "execution_count": 127,
     "metadata": {},
     "output_type": "execute_result"
    }
   ],
   "source": [
    "SS.omega"
   ]
  },
  {
   "cell_type": "code",
   "execution_count": null,
   "metadata": {},
   "outputs": [],
   "source": []
  }
 ],
 "metadata": {
  "kernelspec": {
   "display_name": "Python 3",
   "language": "python",
   "name": "python3"
  },
  "language_info": {
   "codemirror_mode": {
    "name": "ipython",
    "version": 3
   },
   "file_extension": ".py",
   "mimetype": "text/x-python",
   "name": "python",
   "nbconvert_exporter": "python",
   "pygments_lexer": "ipython3",
   "version": "3.9.5"
  }
 },
 "nbformat": 4,
 "nbformat_minor": 4
}
