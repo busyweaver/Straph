{
 "cells": [
  {
   "cell_type": "code",
   "execution_count": 1,
   "metadata": {},
   "outputs": [
    {
     "name": "stdout",
     "output_type": "stream",
     "text": [
      "Defaulting to user installation because normal site-packages is not writeable\n",
      "Processing /home/mehdi/code/Straph\n",
      "  Preparing metadata (setup.py) ... \u001b[?25ldone\n",
      "\u001b[?25hBuilding wheels for collected packages: straph\n",
      "  Building wheel for straph (setup.py) ... \u001b[?25ldone\n",
      "\u001b[?25h  Created wheel for straph: filename=straph-0.3-py3-none-any.whl size=129923 sha256=9c10366080b381ad5cd1340fce45ec4d5f0cfc9e1b3ccd294f7a88eee368b32d\n",
      "  Stored in directory: /tmp/pip-ephem-wheel-cache-ng_uapwn/wheels/37/09/70/7b86f721614374ec311fa16ed21dbb33c1959d2c6f80461dfd\n",
      "Successfully built straph\n",
      "\u001b[33mWARNING: Error parsing dependencies of send2trash: Expected matching RIGHT_PARENTHESIS for LEFT_PARENTHESIS, after version specifier\n",
      "    sys-platform (==\"darwin\") ; extra == 'objc'\n",
      "                 ~^\u001b[0m\u001b[33m\n",
      "\u001b[0mInstalling collected packages: straph\n",
      "  Attempting uninstall: straph\n",
      "    Found existing installation: straph 0.3\n",
      "    Uninstalling straph-0.3:\n",
      "      Successfully uninstalled straph-0.3\n",
      "Successfully installed straph-0.3\n",
      "\n",
      "\u001b[1m[\u001b[0m\u001b[34;49mnotice\u001b[0m\u001b[1;39;49m]\u001b[0m\u001b[39;49m A new release of pip is available: \u001b[0m\u001b[31;49m24.1.1\u001b[0m\u001b[39;49m -> \u001b[0m\u001b[32;49m24.1.2\u001b[0m\n",
      "\u001b[1m[\u001b[0m\u001b[34;49mnotice\u001b[0m\u001b[1;39;49m]\u001b[0m\u001b[39;49m To update, run: \u001b[0m\u001b[32;49mpip install --upgrade pip\u001b[0m\n",
      "Note: you may need to restart the kernel to use updated packages.\n"
     ]
    }
   ],
   "source": [
    "pip install ../../"
   ]
  },
  {
   "cell_type": "code",
   "execution_count": 1,
   "metadata": {},
   "outputs": [
    {
     "name": "stderr",
     "output_type": "stream",
     "text": [
      "/home/mehdi/.sage/local/lib/python3.10/site-packages/matplotlib/projections/__init__.py:63: UserWarning: Unable to import Axes3D. This may be due to multiple versions of Matplotlib being installed (e.g. as a system package and as a pip package). As a result, the 3D projection is not available.\n",
      "  warnings.warn(\"Unable to import Axes3D. This may be due to multiple versions of \"\n"
     ]
    },
    {
     "name": "stdout",
     "output_type": "stream",
     "text": [
      "Nb of Nodes :  5\n",
      "Nb of segmented nodes :  11.0\n",
      "Nb of links :  6\n",
      "Nb of segmented links :  16.0\n",
      "Nb of event times :  30\n"
     ]
    }
   ],
   "source": [
    "#sigmasv_links.sg\n",
    "import matplotlib.pyplot as plt\n",
    "plt.rcParams[\"figure.figsize\"] = (25,20)\n",
    "import straph as sg\n",
    "import straph.betweenness as bt\n",
    "import straph.betweenness.volumes as vol\n",
    "path_directory = \"examples/\"\n",
    "S = sg.read_stream_graph(path_nodes=path_directory + \"latapy_test_intro_nodes_jga.sg\",\n",
    "                      path_links=path_directory + \"latapy_test_intro_links_jga.sg\")\n",
    "S.describe()"
   ]
  },
  {
   "cell_type": "code",
   "execution_count": 2,
   "metadata": {},
   "outputs": [
    {
     "data": {
      "text/plain": [
       "<Axes: xlabel='t', ylabel='Nodes'>"
      ]
     },
     "execution_count": 2,
     "metadata": {},
     "output_type": "execute_result"
    },
    {
     "name": "stderr",
     "output_type": "stream",
     "text": [
      "findfont: Font family 'Garamond' not found.\n",
      "findfont: Font family 'Garamond' not found.\n",
      "findfont: Font family 'Garamond' not found.\n",
      "findfont: Font family 'Garamond' not found.\n",
      "findfont: Font family 'Garamond' not found.\n",
      "findfont: Font family 'Garamond' not found.\n",
      "findfont: Font family 'Garamond' not found.\n",
      "findfont: Font family 'Garamond' not found.\n",
      "findfont: Font family 'Garamond' not found.\n",
      "findfont: Font family 'Garamond' not found.\n",
      "findfont: Font family 'Garamond' not found.\n",
      "findfont: Font family 'Garamond' not found.\n",
      "findfont: Font family 'Garamond' not found.\n",
      "findfont: Font family 'Garamond' not found.\n",
      "findfont: Font family 'Garamond' not found.\n",
      "findfont: Font family 'Garamond' not found.\n",
      "findfont: Font family 'Garamond' not found.\n",
      "findfont: Font family 'Garamond' not found.\n",
      "findfont: Font family 'Garamond' not found.\n",
      "findfont: Font family 'Garamond' not found.\n",
      "findfont: Font family 'Garamond' not found.\n",
      "findfont: Font family 'Garamond' not found.\n",
      "findfont: Font family 'Garamond' not found.\n",
      "findfont: Font family 'Garamond' not found.\n",
      "findfont: Font family 'Garamond' not found.\n",
      "findfont: Font family 'Garamond' not found.\n",
      "findfont: Font family 'Garamond' not found.\n",
      "findfont: Font family 'Garamond' not found.\n",
      "findfont: Font family 'Garamond' not found.\n",
      "findfont: Font family 'Garamond' not found.\n",
      "findfont: Font family 'Garamond' not found.\n",
      "findfont: Font family 'Garamond' not found.\n",
      "findfont: Font family 'Garamond' not found.\n",
      "findfont: Font family 'Garamond' not found.\n",
      "findfont: Font family 'Garamond' not found.\n",
      "findfont: Font family 'Garamond' not found.\n",
      "findfont: Font family 'Garamond' not found.\n",
      "findfont: Font family 'Garamond' not found.\n",
      "findfont: Font family 'Garamond' not found.\n",
      "findfont: Font family 'Garamond' not found.\n",
      "findfont: Font family 'Garamond' not found.\n",
      "findfont: Font family 'Garamond' not found.\n",
      "findfont: Font family 'Garamond' not found.\n",
      "findfont: Font family 'Garamond' not found.\n",
      "findfont: Font family 'Garamond' not found.\n",
      "findfont: Font family 'Garamond' not found.\n",
      "findfont: Font family 'Garamond' not found.\n",
      "findfont: Font family 'Garamond' not found.\n",
      "findfont: Font family 'Garamond' not found.\n",
      "findfont: Font family 'Garamond' not found.\n",
      "findfont: Font family 'Garamond' not found.\n",
      "findfont: Font family 'Garamond' not found.\n",
      "findfont: Font family 'Garamond' not found.\n",
      "findfont: Font family 'Garamond' not found.\n",
      "findfont: Font family 'Garamond' not found.\n",
      "findfont: Font family 'Garamond' not found.\n",
      "findfont: Font family 'Garamond' not found.\n",
      "findfont: Font family 'Garamond' not found.\n",
      "findfont: Font family 'Garamond' not found.\n",
      "findfont: Font family 'Garamond' not found.\n",
      "findfont: Font family 'Garamond' not found.\n",
      "findfont: Font family 'Garamond' not found.\n",
      "findfont: Font family 'Garamond' not found.\n",
      "findfont: Font family 'Garamond' not found.\n",
      "findfont: Font family 'Garamond' not found.\n",
      "findfont: Font family 'Garamond' not found.\n",
      "findfont: Font family 'Garamond' not found.\n",
      "findfont: Font family 'Garamond' not found.\n",
      "findfont: Font family 'Garamond' not found.\n",
      "findfont: Font family 'Garamond' not found.\n",
      "findfont: Font family 'Garamond' not found.\n",
      "findfont: Font family 'Garamond' not found.\n",
      "findfont: Font family 'Garamond' not found.\n",
      "findfont: Font family 'Garamond' not found.\n"
     ]
    },
    {
     "data": {
      "image/png": "[encoded data removed]",
      "text/plain": [
       "<Figure size 432x288 with 1 Axes>"
      ]
     },
     "metadata": {
      "needs_background": "light"
     },
     "output_type": "display_data"
    }
   ],
   "source": [
    "S.plot()"
   ]
  },
  {
   "cell_type": "code",
   "execution_count": 3,
   "metadata": {},
   "outputs": [],
   "source": [
    "#for i in range(0,2*int(max(list(S.event_times())))):\n",
    "#    S.add_point(i/2)\n",
    "S.sg_to_streamfig(\"stream_example_jga\",\"eps\")\n",
    "nouveau = S.fragmented_stream_graph()"
   ]
  },
  {
   "cell_type": "code",
   "execution_count": 4,
   "metadata": {},
   "outputs": [],
   "source": [
    "#nouveau.plot()\n",
    "#plt.savefig(\"link_s_con.png\",dpi=300,bbox_inches ='tight' )"
   ]
  },
  {
   "cell_type": "code",
   "execution_count": 5,
   "metadata": {},
   "outputs": [],
   "source": [
    "events, events_reverse = bt.events_dic(nouveau)"
   ]
  },
  {
   "cell_type": "code",
   "execution_count": 6,
   "metadata": {},
   "outputs": [],
   "source": [
    "link_ind = bt.link_index(nouveau)\n",
    "neighbors, neighbors_inv = bt.neighbors_direct(nouveau)\n",
    "unt = bt.until(nouveau, events, events_reverse)"
   ]
  },
  {
   "cell_type": "code",
   "execution_count": 35,
   "metadata": {},
   "outputs": [
    {
     "data": {
      "text/plain": [
       "{4: {(9.0, (9.0, 9.0)),\n",
       "  (11.0, (9.0, 11.0)),\n",
       "  (16.0, (16.0, 16.0)),\n",
       "  (23.0, (23.0, 23.0)),\n",
       "  (24.0, (23.0, 24.0)),\n",
       "  (30.0, (30.0, 30.0)),\n",
       "  (31.0, (30.0, 31.0))}}"
      ]
     },
     "execution_count": 35,
     "metadata": {},
     "output_type": "execute_result"
    }
   ],
   "source": [
    "neighbors[3]"
   ]
  },
  {
   "cell_type": "code",
   "execution_count": 7,
   "metadata": {},
   "outputs": [],
   "source": [
    "node = 0"
   ]
  },
  {
   "cell_type": "code",
   "execution_count": 8,
   "metadata": {},
   "outputs": [],
   "source": [
    "pre, cur_best = bt.dijkstra_directed(nouveau, node, events, events_reverse, neighbors, link_ind, neighbors_inv, unt)\n",
    "cur_b_arr = bt. cur_best_to_array(nouveau, cur_best, events, events_reverse)"
   ]
  },
  {
   "cell_type": "code",
   "execution_count": 16,
   "metadata": {},
   "outputs": [
    {
     "data": {
      "text/plain": [
       "{0: 'a', 1: 'b', 2: 'c', 3: 'd', 4: 'e'}"
      ]
     },
     "execution_count": 16,
     "metadata": {},
     "output_type": "execute_result"
    }
   ],
   "source": [
    "S.node_to_label"
   ]
  },
  {
   "cell_type": "code",
   "execution_count": 19,
   "metadata": {},
   "outputs": [
    {
     "data": {
      "text/plain": [
       "{0.0: {},\n",
       " 1.0: {},\n",
       " 2.0: {},\n",
       " 3.0: {},\n",
       " 4.0: {},\n",
       " 5.0: {},\n",
       " 6.0: {},\n",
       " 7.0: {},\n",
       " 8.0: {},\n",
       " 9.0: {(3, 6.0): (9.0, 9.0), (3, 7.0): (9.0, 9.0)},\n",
       " 11.0: {(3, 6.0): (9.0, 11.0), (3, 7.0): (9.0, 11.0)},\n",
       " 12.0: {},\n",
       " 14.0: {},\n",
       " 15.0: {},\n",
       " 16.0: {(3, 12.0): (16.0, 16.0), (3, 14.0): (16.0, 16.0)},\n",
       " 17.0: {},\n",
       " 18.0: {},\n",
       " 19.0: {},\n",
       " 20.0: {},\n",
       " 22.0: {},\n",
       " 23.0: {(3, 18.0): (23.0, 23.0), (3, 19.0): (23.0, 23.0)},\n",
       " 24.0: {(3, 18.0): (23.0, 24.0), (3, 19.0): (23.0, 24.0)},\n",
       " 25.0: {},\n",
       " 26.0: {},\n",
       " 27.0: {},\n",
       " 28.0: {},\n",
       " 29.0: {},\n",
       " 30.0: {(3, 27.0): (30.0, 30.0),\n",
       "  (3, 28.0): (30.0, 30.0),\n",
       "  (3, 29.0): (30.0, 30.0)},\n",
       " 31.0: {(3, 27.0): (30.0, 31.0),\n",
       "  (3, 28.0): (30.0, 31.0),\n",
       "  (3, 29.0): (30.0, 31.0)},\n",
       " 32.0: {}}"
      ]
     },
     "execution_count": 19,
     "metadata": {},
     "output_type": "execute_result"
    }
   ],
   "source": [
    "pre[4]"
   ]
  },
  {
   "cell_type": "code",
   "execution_count": 18,
   "metadata": {},
   "outputs": [
    {
     "data": {
      "text/plain": [
       "{0.0: (-inf, inf),\n",
       " 1.0: (-inf, inf),\n",
       " 2.0: (-inf, inf),\n",
       " 3.0: (-inf, inf),\n",
       " 4.0: (-inf, inf),\n",
       " 5.0: (-inf, inf),\n",
       " 6.0: (-inf, inf),\n",
       " 7.0: (-inf, inf),\n",
       " 8.0: (-inf, inf),\n",
       " 9.0: (2.0, 4),\n",
       " 11.0: (2.0, 4),\n",
       " 12.0: (-inf, inf),\n",
       " 14.0: (-inf, inf),\n",
       " 15.0: (-inf, inf),\n",
       " 16.0: (2.0, 3),\n",
       " 17.0: (-inf, inf),\n",
       " 18.0: (-inf, inf),\n",
       " 19.0: (-inf, inf),\n",
       " 20.0: (-inf, inf),\n",
       " 22.0: (-inf, inf),\n",
       " 23.0: (9.0, 3),\n",
       " 24.0: (9.0, 3),\n",
       " 25.0: (-inf, inf),\n",
       " 26.0: (-inf, inf),\n",
       " 27.0: (-inf, inf),\n",
       " 28.0: (-inf, inf),\n",
       " 29.0: (-inf, inf),\n",
       " 30.0: (24.0, 4),\n",
       " 31.0: (24.0, 4),\n",
       " 32.0: (-inf, inf)}"
      ]
     },
     "execution_count": 18,
     "metadata": {},
     "output_type": "execute_result"
    }
   ],
   "source": [
    "cur_best[4]"
   ]
  },
  {
   "cell_type": "code",
   "execution_count": 20,
   "metadata": {},
   "outputs": [],
   "source": [
    "pre2 = bt.clem_new_algorithm(nouveau, node, events, events_reverse, neighbors, link_ind, neighbors_inv, unt)"
   ]
  },
  {
   "cell_type": "code",
   "execution_count": 21,
   "metadata": {},
   "outputs": [
    {
     "name": "stdout",
     "output_type": "stream",
     "text": [
      "problem dict_keys([(0, 0)]) set()\n",
      "problem dict_keys([(0, 0)]) set()\n",
      "problem dict_keys([(0, 0)]) set()\n",
      "problem dict_keys([(0, 0)]) set()\n",
      "problem dict_keys([(0, 0)]) set()\n",
      "problem dict_keys([(0, 0)]) set()\n",
      "problem dict_keys([(0, 0)]) set()\n",
      "problem dict_keys([(0, 0)]) set()\n"
     ]
    }
   ],
   "source": [
    "for v in range(len(pre)):\n",
    "    for t in pre[v].keys():\n",
    "        if pre[v][t].keys() != pre2[v][t]:\n",
    "            print(\"problem\",pre[v][t].keys(),pre2[v][t])"
   ]
  },
  {
   "cell_type": "code",
   "execution_count": 22,
   "metadata": {},
   "outputs": [],
   "source": [
    "lat = bt.latencies(nouveau, cur_b_arr, events, events_reverse)\n",
    "lat_triplet, lat_rev_triplet = bt.latencies_without_0_and_rev(nouveau, lat, events)"
   ]
  },
  {
   "cell_type": "code",
   "execution_count": 36,
   "metadata": {},
   "outputs": [
    {
     "data": {
      "text/plain": [
       "[[2.0, 6.0, 3], [9.0, 18.0, 2], [24.0, 27.0, 3]]"
      ]
     },
     "execution_count": 36,
     "metadata": {},
     "output_type": "execute_result"
    }
   ],
   "source": [
    "lat_triplet[3]"
   ]
  },
  {
   "cell_type": "code",
   "execution_count": 26,
   "metadata": {},
   "outputs": [
    {
     "data": {
      "text/plain": [
       "[0,\n",
       " 0,\n",
       " (9.0, 4),\n",
       " 0,\n",
       " 0,\n",
       " 0,\n",
       " 0,\n",
       " 0,\n",
       " 0,\n",
       " (23.0, 3),\n",
       " 0,\n",
       " 0,\n",
       " 0,\n",
       " 0,\n",
       " 0,\n",
       " 0,\n",
       " 0,\n",
       " 0,\n",
       " 0,\n",
       " 0,\n",
       " 0,\n",
       " (30.0, 4),\n",
       " 0,\n",
       " 0,\n",
       " 0,\n",
       " 0,\n",
       " 0,\n",
       " 0,\n",
       " 0,\n",
       " 0]"
      ]
     },
     "execution_count": 26,
     "metadata": {},
     "output_type": "execute_result"
    }
   ],
   "source": [
    "lat[4]"
   ]
  },
  {
   "cell_type": "code",
   "execution_count": 27,
   "metadata": {},
   "outputs": [],
   "source": [
    "G = bt.predecessor_graph(nouveau, pre,node)\n",
    "GG = bt.graph_to_ordered(G, events, events_reverse)\n",
    "Gp = bt.instant_graphs(G)\n",
    "GT = bt.interval_graph(Gp)"
   ]
  },
  {
   "cell_type": "code",
   "execution_count": 13,
   "metadata": {},
   "outputs": [
    {
     "name": "stdout",
     "output_type": "stream",
     "text": [
      "(9.0, 11.0) [(3, 6.0), (4, 11.0), (3, 7.0)]\n",
      "(6.0, 7.0) [(2, 3.0), (3, 7.0), (2, 5.0)]\n",
      "(3.0, 5.0) [(1, 2.0), (2, 5.0)]\n",
      "(18.0, 19.0) [(2, 19.0), (3, 19.0)]\n",
      "(23.0, 24.0) [(3, 19.0), (4, 24.0)]\n",
      "(19.0, 22.0) [(1, 16.0), (2, 22.0)]\n",
      "(30.0, 31.0) [(3, 27.0), (4, 31.0), (3, 28.0), (3, 29.0)]\n",
      "(27.0, 28.0) [(2, 25.0), (3, 28.0), (2, 27.0), (1, 24.0), (2, 28.0)]\n",
      "(28.0, 29.0) [(2, 25.0), (3, 29.0), (2, 27.0), (2, 28.0)]\n",
      "(25.0, 27.0) [(1, 24.0), (2, 27.0)]\n",
      "(12.0, 14.0) [(1, 11.0), (3, 14.0)]\n"
     ]
    }
   ],
   "source": [
    "for e in GT:\n",
    "    print(e,list(GT[e].nodes()))"
   ]
  },
  {
   "cell_type": "code",
   "execution_count": 14,
   "metadata": {},
   "outputs": [
    {
     "ename": "KeyError",
     "evalue": "(15.0, 16.0)",
     "output_type": "error",
     "traceback": [
      "\u001b[0;31m---------------------------------------------------------------------------\u001b[0m",
      "\u001b[0;31mKeyError\u001b[0m                                  Traceback (most recent call last)",
      "\u001b[0;32m/tmp/ipykernel_17983/1330944395.py\u001b[0m in \u001b[0;36m<module>\u001b[0;34m\u001b[0m\n\u001b[0;32m----> 1\u001b[0;31m \u001b[0mGT\u001b[0m\u001b[0;34m[\u001b[0m\u001b[0;34m(\u001b[0m\u001b[0;36m15.0\u001b[0m\u001b[0;34m,\u001b[0m \u001b[0;36m16.0\u001b[0m\u001b[0;34m)\u001b[0m\u001b[0;34m]\u001b[0m\u001b[0;34m.\u001b[0m\u001b[0msuccessors\u001b[0m\u001b[0;34m(\u001b[0m\u001b[0;34m(\u001b[0m\u001b[0;36m1\u001b[0m\u001b[0;34m,\u001b[0m \u001b[0;36m14.0\u001b[0m\u001b[0;34m)\u001b[0m\u001b[0;34m)\u001b[0m\u001b[0;34m\u001b[0m\u001b[0;34m\u001b[0m\u001b[0m\n\u001b[0m",
      "\u001b[0;31mKeyError\u001b[0m: (15.0, 16.0)"
     ]
    }
   ],
   "source": [
    "GT[(15.0, 16.0)].successors((1, 14.0))"
   ]
  },
  {
   "cell_type": "code",
   "execution_count": 28,
   "metadata": {},
   "outputs": [
    {
     "name": "stdout",
     "output_type": "stream",
     "text": [
      "2\n"
     ]
    }
   ],
   "source": [
    "edge = bt.edges(nouveau)\n",
    "before, after = bt.volume_instantenuous(nouveau, G, events, events_reverse,edge)\n",
    "mx = bt.max_volume_superposition(GT)\n",
    "print(mx)"
   ]
  },
  {
   "cell_type": "code",
   "execution_count": 16,
   "metadata": {},
   "outputs": [
    {
     "data": {
      "text/plain": [
       "{0.0: False,\n",
       " 1.0: False,\n",
       " 2.0: True,\n",
       " 3.0: False,\n",
       " 5.0: False,\n",
       " 6.0: False,\n",
       " 7.0: False,\n",
       " 8.0: False,\n",
       " 9.0: False,\n",
       " 11.0: False,\n",
       " 12.0: False,\n",
       " 14.0: False,\n",
       " 15.0: False,\n",
       " 16.0: True,\n",
       " 18.0: False,\n",
       " 19.0: False,\n",
       " 22.0: False,\n",
       " 23.0: False,\n",
       " 24.0: True,\n",
       " 25.0: False,\n",
       " 27.0: False,\n",
       " 28.0: False,\n",
       " 29.0: False,\n",
       " 30.0: False,\n",
       " 31.0: False,\n",
       " 32.0: False}"
      ]
     },
     "execution_count": 16,
     "metadata": {},
     "output_type": "execute_result"
    }
   ],
   "source": [
    "before[1]"
   ]
  },
  {
   "cell_type": "code",
   "execution_count": 17,
   "metadata": {},
   "outputs": [
    {
     "data": {
      "text/plain": [
       "{0.0: False,\n",
       " 1.0: True,\n",
       " 2.0: False,\n",
       " 3.0: False,\n",
       " 5.0: False,\n",
       " 6.0: False,\n",
       " 7.0: False,\n",
       " 8.0: False,\n",
       " 9.0: False,\n",
       " 11.0: False,\n",
       " 12.0: False,\n",
       " 14.0: False,\n",
       " 15.0: True,\n",
       " 16.0: False,\n",
       " 18.0: False,\n",
       " 19.0: False,\n",
       " 22.0: False,\n",
       " 23.0: True,\n",
       " 24.0: False,\n",
       " 25.0: False,\n",
       " 27.0: False,\n",
       " 28.0: False,\n",
       " 29.0: False,\n",
       " 30.0: False,\n",
       " 31.0: False,\n",
       " 32.0: False}"
      ]
     },
     "execution_count": 17,
     "metadata": {},
     "output_type": "execute_result"
    }
   ],
   "source": [
    "after[1]"
   ]
  },
  {
   "cell_type": "code",
   "execution_count": 18,
   "metadata": {},
   "outputs": [
    {
     "data": {
      "text/plain": [
       "{0.0: False,\n",
       " 1.0: False,\n",
       " 2.0: False,\n",
       " 3.0: False,\n",
       " 5.0: False,\n",
       " 6.0: False,\n",
       " 7.0: False,\n",
       " 8.0: False,\n",
       " 9.0: True,\n",
       " 11.0: False,\n",
       " 12.0: False,\n",
       " 14.0: False,\n",
       " 15.0: False,\n",
       " 16.0: False,\n",
       " 18.0: False,\n",
       " 19.0: False,\n",
       " 22.0: False,\n",
       " 23.0: False,\n",
       " 24.0: False,\n",
       " 25.0: False,\n",
       " 27.0: False,\n",
       " 28.0: False,\n",
       " 29.0: False,\n",
       " 30.0: False,\n",
       " 31.0: False,\n",
       " 32.0: False}"
      ]
     },
     "execution_count": 18,
     "metadata": {},
     "output_type": "execute_result"
    }
   ],
   "source": [
    "before[2]"
   ]
  },
  {
   "cell_type": "code",
   "execution_count": 19,
   "metadata": {},
   "outputs": [
    {
     "data": {
      "text/plain": [
       "{0.0: False,\n",
       " 1.0: False,\n",
       " 2.0: False,\n",
       " 3.0: False,\n",
       " 5.0: False,\n",
       " 6.0: False,\n",
       " 7.0: False,\n",
       " 8.0: True,\n",
       " 9.0: False,\n",
       " 11.0: False,\n",
       " 12.0: False,\n",
       " 14.0: False,\n",
       " 15.0: False,\n",
       " 16.0: False,\n",
       " 18.0: False,\n",
       " 19.0: False,\n",
       " 22.0: False,\n",
       " 23.0: False,\n",
       " 24.0: False,\n",
       " 25.0: False,\n",
       " 27.0: False,\n",
       " 28.0: False,\n",
       " 29.0: False,\n",
       " 30.0: False,\n",
       " 31.0: False,\n",
       " 32.0: False}"
      ]
     },
     "execution_count": 19,
     "metadata": {},
     "output_type": "execute_result"
    }
   ],
   "source": [
    "after[2]"
   ]
  },
  {
   "cell_type": "code",
   "execution_count": 29,
   "metadata": {},
   "outputs": [],
   "source": [
    "sigma = bt.volume_metapaths_at_t(G, node, cur_best, mx)\n",
    "f_edge = bt.dictionary_first_edge(G,  cur_best)\n",
    "sigma_r = bt.optimal_with_resting_con(nouveau, node, f_edge, events, G, sigma, cur_best, unt)"
   ]
  },
  {
   "cell_type": "code",
   "execution_count": 21,
   "metadata": {},
   "outputs": [
    {
     "data": {
      "text/plain": [
       "{(0, 0.0): vol(1,0),\n",
       " (0, 1.0): vol(1,0),\n",
       " (0, 2.0): vol(1,0),\n",
       " (0, 3.0): vol(1,0),\n",
       " (0, 5.0): vol(1,0),\n",
       " (0, 6.0): vol(1,0),\n",
       " (0, 7.0): vol(1,0),\n",
       " (0, 8.0): vol(1,0),\n",
       " (0, 9.0): vol(1,0),\n",
       " (0, 11.0): vol(1,0),\n",
       " (0, 12.0): vol(1,0),\n",
       " (0, 14.0): vol(1,0),\n",
       " (0, 15.0): vol(1,0),\n",
       " (0, 16.0): vol(1,0),\n",
       " (0, 18.0): vol(1,0),\n",
       " (0, 19.0): vol(1,0),\n",
       " (0, 22.0): vol(1,0),\n",
       " (0, 23.0): vol(1,0),\n",
       " (0, 24.0): vol(1,0),\n",
       " (0, 25.0): vol(1,0),\n",
       " (0, 27.0): vol(1,0),\n",
       " (0, 28.0): vol(1,0),\n",
       " (0, 29.0): vol(1,0),\n",
       " (0, 30.0): vol(1,0),\n",
       " (0, 31.0): vol(1,0),\n",
       " (0, 32.0): vol(1,0),\n",
       " (1, 0.0): vol(0,0),\n",
       " (1, 1.0): vol(1,0),\n",
       " (1, 2.0): vol(1,0),\n",
       " (1, 3.0): vol(1,0),\n",
       " (1, 5.0): vol(1,0),\n",
       " (1, 6.0): vol(1,0),\n",
       " (1, 7.0): vol(1,0),\n",
       " (1, 8.0): vol(1,0),\n",
       " (1, 9.0): vol(1,0),\n",
       " (1, 11.0): vol(1,0),\n",
       " (1, 12.0): vol(1,0),\n",
       " (1, 14.0): vol(1,0),\n",
       " (1, 15.0): vol(1,0),\n",
       " (1, 16.0): vol(1,0),\n",
       " (1, 18.0): vol(1,0),\n",
       " (1, 19.0): vol(1,0),\n",
       " (1, 22.0): vol(1,0),\n",
       " (1, 23.0): vol(1,0),\n",
       " (1, 24.0): vol(1,0),\n",
       " (1, 25.0): vol(1,0),\n",
       " (1, 27.0): vol(1,0),\n",
       " (1, 28.0): vol(1,0),\n",
       " (1, 29.0): vol(1,0),\n",
       " (1, 30.0): vol(1,0),\n",
       " (1, 31.0): vol(1,0),\n",
       " (1, 32.0): vol(1,0),\n",
       " (2, 0.0): vol(0,0),\n",
       " (2, 1.0): vol(0,0),\n",
       " (2, 2.0): vol(0,0),\n",
       " (2, 3.0): vol(1,0),\n",
       " (2, 5.0): vol(2.0,1),\n",
       " (2, 6.0): vol(2.0,1),\n",
       " (2, 7.0): vol(2.0,1),\n",
       " (2, 8.0): vol(1,0),\n",
       " (2, 9.0): vol(1,0),\n",
       " (2, 11.0): vol(1,0),\n",
       " (2, 12.0): vol(1,0),\n",
       " (2, 14.0): vol(1,0),\n",
       " (2, 15.0): vol(1,0),\n",
       " (2, 16.0): vol(1,0),\n",
       " (2, 18.0): vol(1,0),\n",
       " (2, 19.0): vol(1,0),\n",
       " (2, 22.0): vol(3.0,1),\n",
       " (2, 23.0): vol(3.0,1),\n",
       " (2, 24.0): vol(3.0,1),\n",
       " (2, 25.0): vol(1,0),\n",
       " (2, 27.0): vol(2.0,1),\n",
       " (2, 28.0): vol(3.0,1),\n",
       " (2, 29.0): vol(3.0,1),\n",
       " (2, 30.0): vol(3.0,1),\n",
       " (2, 31.0): vol(3.0,1),\n",
       " (2, 32.0): vol(3.0,1),\n",
       " (3, 0.0): vol(0,0),\n",
       " (3, 1.0): vol(0,0),\n",
       " (3, 2.0): vol(0,0),\n",
       " (3, 3.0): vol(0,0),\n",
       " (3, 5.0): vol(0,0),\n",
       " (3, 6.0): vol(2.0,1),\n",
       " (3, 7.0): vol(2.0,2),\n",
       " (3, 8.0): vol(2.0,2),\n",
       " (3, 9.0): vol(2.0,2),\n",
       " (3, 11.0): vol(2.0,2),\n",
       " (3, 12.0): vol(1,0),\n",
       " (3, 14.0): vol(2.0,1),\n",
       " (3, 15.0): vol(2.0,1),\n",
       " (3, 16.0): vol(2.0,1),\n",
       " (3, 18.0): vol(1,0),\n",
       " (3, 19.0): vol(1,0),\n",
       " (3, 22.0): vol(1,0),\n",
       " (3, 23.0): vol(1,0),\n",
       " (3, 24.0): vol(1,0),\n",
       " (3, 25.0): vol(1,0),\n",
       " (3, 27.0): vol(2.0,1),\n",
       " (3, 28.0): vol(2.5,2),\n",
       " (3, 29.0): vol(5.5,2),\n",
       " (3, 30.0): vol(5.5,2),\n",
       " (3, 31.0): vol(5.5,2),\n",
       " (3, 32.0): vol(5.5,2),\n",
       " (4, 0.0): vol(0,0),\n",
       " (4, 1.0): vol(0,0),\n",
       " (4, 2.0): vol(0,0),\n",
       " (4, 3.0): vol(0,0),\n",
       " (4, 5.0): vol(0,0),\n",
       " (4, 6.0): vol(0,0),\n",
       " (4, 7.0): vol(0,0),\n",
       " (4, 8.0): vol(0,0),\n",
       " (4, 9.0): vol(2.0,2),\n",
       " (4, 11.0): vol(4.0,3),\n",
       " (4, 12.0): vol(4.0,3),\n",
       " (4, 14.0): vol(4.0,3),\n",
       " (4, 15.0): vol(4.0,3),\n",
       " (4, 16.0): vol(2.0,1),\n",
       " (4, 18.0): vol(2.0,1),\n",
       " (4, 19.0): vol(2.0,1),\n",
       " (4, 22.0): vol(2.0,1),\n",
       " (4, 23.0): vol(1,0),\n",
       " (4, 24.0): vol(1.0,1),\n",
       " (4, 25.0): vol(1.0,1),\n",
       " (4, 27.0): vol(1.0,1),\n",
       " (4, 28.0): vol(1.0,1),\n",
       " (4, 29.0): vol(1.0,1),\n",
       " (4, 30.0): vol(5.5,2),\n",
       " (4, 31.0): vol(5.5,3),\n",
       " (4, 32.0): vol(5.5,3)}"
      ]
     },
     "execution_count": 21,
     "metadata": {},
     "output_type": "execute_result"
    }
   ],
   "source": [
    "sigma_r"
   ]
  },
  {
   "cell_type": "code",
   "execution_count": 30,
   "metadata": {},
   "outputs": [],
   "source": [
    "contri, prev_next = bt.contribution_each_latency_con(nouveau, lat_rev_triplet,events[0],events[len(events)-1], before, after)\n",
    "latence_arrival = {v : { y: [x,z] for (x,y,z) in lat_triplet[v] }  for v in nouveau.nodes }\n",
    "latence_depar = {v : { x : [y,z] for (x,y,z) in lat_triplet[v] }  for v in nouveau.nodes }"
   ]
  },
  {
   "cell_type": "code",
   "execution_count": 32,
   "metadata": {},
   "outputs": [
    {
     "data": {
      "text/plain": [
       "{9.0: [2.0, 4], 23.0: [9.0, 3], 30.0: [24.0, 4]}"
      ]
     },
     "execution_count": 32,
     "metadata": {},
     "output_type": "execute_result"
    }
   ],
   "source": [
    "latence_arrival[4]"
   ]
  },
  {
   "cell_type": "code",
   "execution_count": 33,
   "metadata": {},
   "outputs": [
    {
     "data": {
      "text/plain": [
       "{2.0: [9.0, 4], 9.0: [23.0, 3], 24.0: [30.0, 4]}"
      ]
     },
     "execution_count": 33,
     "metadata": {},
     "output_type": "execute_result"
    }
   ],
   "source": [
    "latence_depar[4]"
   ]
  },
  {
   "cell_type": "code",
   "execution_count": 23,
   "metadata": {},
   "outputs": [
    {
     "data": {
      "text/plain": [
       "{1.0: (0.0, 1.0),\n",
       " 2.0: (2.0, 15.0),\n",
       " 11.0: (2.0, 15.0),\n",
       " 15.0: (2.0, 15.0),\n",
       " 16.0: (16.0, 23.0),\n",
       " 23.0: (16.0, 23.0),\n",
       " 24.0: (24.0, 32.0)}"
      ]
     },
     "execution_count": 23,
     "metadata": {},
     "output_type": "execute_result"
    }
   ],
   "source": [
    "contri[1]"
   ]
  },
  {
   "cell_type": "code",
   "execution_count": 24,
   "metadata": {},
   "outputs": [],
   "source": [
    "deltasvvt = bt.dictionary_svvt(G, node, latence_arrival, contri, prev_next, sigma_r,  latence_depar)"
   ]
  },
  {
   "cell_type": "code",
   "execution_count": 29,
   "metadata": {},
   "outputs": [
    {
     "data": {
      "text/plain": [
       "{(0, 1.0): vol(0,0),\n",
       " (1, 1.0): vol(0,0),\n",
       " (0, 2.0): vol(0,0),\n",
       " (1, 2.0): vol(0,0),\n",
       " (2, 9.0): vol(0,0),\n",
       " (1, 11.0): vol(28.0,0),\n",
       " (0, 15.0): vol(0,0),\n",
       " (1, 15.0): vol(0,0),\n",
       " (0, 16.0): vol(0,0),\n",
       " (1, 16.0): vol(0,0),\n",
       " (0, 23.0): vol(0,0),\n",
       " (1, 23.0): vol(0,0),\n",
       " (0, 24.0): vol(0,0),\n",
       " (1, 24.0): vol(0,0),\n",
       " (2, 3.0): vol(10.0,0),\n",
       " (2, 5.0): vol(0,0),\n",
       " (0, 8.0): vol(0,0),\n",
       " (2, 8.0): vol(0,0),\n",
       " (0, 9.0): vol(0,0),\n",
       " (2, 19.0): vol(42.0,0),\n",
       " (2, 22.0): vol(0,0),\n",
       " (2, 25.0): vol(105.0,0),\n",
       " (2, 27.0): vol(0,0),\n",
       " (2, 28.0): vol(0,0),\n",
       " (3, 6.0): vol(12.0,0),\n",
       " (3, 7.0): vol(0,0),\n",
       " (3, 12.0): vol(99.0,0),\n",
       " (3, 14.0): vol(0,0),\n",
       " (3, 18.0): vol(0,0),\n",
       " (3, 19.0): vol(92.0,0),\n",
       " (3, 27.0): vol(120.0,0),\n",
       " (3, 28.0): vol(0,0),\n",
       " (3, 29.0): vol(0,0),\n",
       " (4, 9.0): vol(42.0,0),\n",
       " (4, 11.0): vol(0,0),\n",
       " (4, 16.0): vol(98.0,0),\n",
       " (4, 23.0): vol(49.0,0),\n",
       " (4, 24.0): vol(0,0),\n",
       " (4, 30.0): vol(48.0,0),\n",
       " (4, 31.0): vol(0,0)}"
      ]
     },
     "execution_count": 29,
     "metadata": {},
     "output_type": "execute_result"
    }
   ],
   "source": [
    "deltasvvt"
   ]
  },
  {
   "cell_type": "code",
   "execution_count": 30,
   "metadata": {},
   "outputs": [],
   "source": [
    "contribution = bt.general_contribution_from_node(nouveau, G, node, GG, sigma_r, deltasvvt, events, events_reverse, pre, GT, unt)"
   ]
  },
  {
   "cell_type": "code",
   "execution_count": 31,
   "metadata": {},
   "outputs": [
    {
     "data": {
      "text/plain": [
       "{1: {1.0: vol(0,0),\n",
       "  5.0: vol(0,0),\n",
       "  3.0: vol(64.0,0),\n",
       "  2.0: vol(64.0,0),\n",
       "  15.0: vol(0,0),\n",
       "  22.0: vol(0,0),\n",
       "  18.0: vol(183.0,0),\n",
       "  19.0: vol(183.0,0),\n",
       "  16.0: vol(183.0,0),\n",
       "  23.0: vol(0,0),\n",
       "  28.0: vol(0,0),\n",
       "  27.0: vol(13.09090909090909,0),\n",
       "  25.0: vol(273.0,0),\n",
       "  24.0: vol(273.0,0),\n",
       "  14.0: vol(0,0),\n",
       "  12.0: vol(197.0,0),\n",
       "  11.0: vol(225.0,0),\n",
       "  0.0: vol(0,0),\n",
       "  6.0: vol(0,0),\n",
       "  7.0: vol(0,0),\n",
       "  8.0: vol(0,0),\n",
       "  9.0: vol(0,0),\n",
       "  29.0: vol(0,0),\n",
       "  30.0: vol(0,0),\n",
       "  31.0: vol(0,0),\n",
       "  32.0: vol(0,0)},\n",
       " 0: {1.0: vol(0,0),\n",
       "  2.0: vol(64.0,0),\n",
       "  15.0: vol(0,0),\n",
       "  16.0: vol(183.0,0),\n",
       "  23.0: vol(0,0),\n",
       "  24.0: vol(273.0,0),\n",
       "  8.0: vol(0,0),\n",
       "  9.0: vol(225.0,0),\n",
       "  0.0: vol(0,0),\n",
       "  3.0: vol(0,0),\n",
       "  5.0: vol(0,0),\n",
       "  6.0: vol(0,0),\n",
       "  7.0: vol(0,0),\n",
       "  11.0: vol(0,0),\n",
       "  12.0: vol(0,0),\n",
       "  14.0: vol(0,0),\n",
       "  18.0: vol(0,0),\n",
       "  19.0: vol(0,0),\n",
       "  22.0: vol(0,0),\n",
       "  25.0: vol(0,0),\n",
       "  27.0: vol(0,0),\n",
       "  28.0: vol(0,0),\n",
       "  29.0: vol(0,0),\n",
       "  30.0: vol(0,0),\n",
       "  31.0: vol(0,0),\n",
       "  32.0: vol(0,0)},\n",
       " 4: {11.0: vol(0,0),\n",
       "  9.0: vol(42.0,0),\n",
       "  24.0: vol(0,0),\n",
       "  23.0: vol(49.0,0),\n",
       "  31.0: vol(0,0),\n",
       "  30.0: vol(48.0,0),\n",
       "  16.0: vol(98.0,0),\n",
       "  0.0: vol(0,0),\n",
       "  1.0: vol(0,0),\n",
       "  2.0: vol(0,0),\n",
       "  3.0: vol(0,0),\n",
       "  5.0: vol(0,0),\n",
       "  6.0: vol(0,0),\n",
       "  7.0: vol(0,0),\n",
       "  8.0: vol(0,0),\n",
       "  12.0: vol(0,0),\n",
       "  14.0: vol(0,0),\n",
       "  15.0: vol(0,0),\n",
       "  18.0: vol(0,0),\n",
       "  19.0: vol(0,0),\n",
       "  22.0: vol(0,0),\n",
       "  25.0: vol(0,0),\n",
       "  27.0: vol(0,0),\n",
       "  28.0: vol(0,0),\n",
       "  29.0: vol(0,0),\n",
       "  32.0: vol(0,0)},\n",
       " 3: {11.0: vol(0,0),\n",
       "  8.0: vol(42.0,0),\n",
       "  9.0: vol(42.0,0),\n",
       "  7.0: vol(42.0,0),\n",
       "  6.0: vol(12.0,0),\n",
       "  24.0: vol(0,0),\n",
       "  22.0: vol(49.0,0),\n",
       "  23.0: vol(49.0,0),\n",
       "  19.0: vol(141.0,0),\n",
       "  31.0: vol(0,0),\n",
       "  30.0: vol(48.0,0),\n",
       "  29.0: vol(48.0,0),\n",
       "  28.0: vol(21.818181818181817,0),\n",
       "  27.0: vol(120.0,0),\n",
       "  18.0: vol(0,0),\n",
       "  15.0: vol(98.0,0),\n",
       "  16.0: vol(98.0,0),\n",
       "  14.0: vol(98.0,0),\n",
       "  12.0: vol(99.0,0),\n",
       "  0.0: vol(0,0),\n",
       "  1.0: vol(0,0),\n",
       "  2.0: vol(0,0),\n",
       "  3.0: vol(0,0),\n",
       "  5.0: vol(0,0),\n",
       "  25.0: vol(0,0),\n",
       "  32.0: vol(0,0)},\n",
       " 2: {7.0: vol(0,0),\n",
       "  6.0: vol(54.0,0),\n",
       "  5.0: vol(54.0,0),\n",
       "  3.0: vol(10.0,0),\n",
       "  22.0: vol(0,0),\n",
       "  19.0: vol(183.0,0),\n",
       "  29.0: vol(0,0),\n",
       "  28.0: vol(26.18181818181818,0),\n",
       "  27.0: vol(154.9090909090909,0),\n",
       "  25.0: vol(105.0,0),\n",
       "  8.0: vol(0,0),\n",
       "  12.0: vol(0,0),\n",
       "  14.0: vol(0,0),\n",
       "  15.0: vol(0,0),\n",
       "  16.0: vol(0,0),\n",
       "  18.0: vol(0,0),\n",
       "  11.0: vol(225.0,0),\n",
       "  9.0: vol(225.0,0),\n",
       "  0.0: vol(0,0),\n",
       "  1.0: vol(0,0),\n",
       "  2.0: vol(0,0),\n",
       "  23.0: vol(0,0),\n",
       "  24.0: vol(0,0),\n",
       "  30.0: vol(0,0),\n",
       "  31.0: vol(0,0),\n",
       "  32.0: vol(0,0)}}"
      ]
     },
     "execution_count": 31,
     "metadata": {},
     "output_type": "execute_result"
    }
   ],
   "source": [
    "contribution"
   ]
  },
  {
   "cell_type": "code",
   "execution_count": 34,
   "metadata": {},
   "outputs": [
    {
     "data": {
      "text/plain": [
       "{1.0: vol(0,0),\n",
       " 2.0: vol(64.0,0),\n",
       " 15.0: vol(0,0),\n",
       " 16.0: vol(183.0,0),\n",
       " 23.0: vol(0,0),\n",
       " 24.0: vol(273.0,0),\n",
       " 8.0: vol(0,0),\n",
       " 9.0: vol(225.0,0),\n",
       " 0.0: vol(0,0),\n",
       " 3.0: vol(0,0),\n",
       " 5.0: vol(0,0),\n",
       " 6.0: vol(0,0),\n",
       " 7.0: vol(0,0),\n",
       " 11.0: vol(0,0),\n",
       " 12.0: vol(0,0),\n",
       " 14.0: vol(0,0),\n",
       " 18.0: vol(0,0),\n",
       " 19.0: vol(0,0),\n",
       " 22.0: vol(0,0),\n",
       " 25.0: vol(0,0),\n",
       " 27.0: vol(0,0),\n",
       " 28.0: vol(0,0),\n",
       " 29.0: vol(0,0),\n",
       " 30.0: vol(0,0),\n",
       " 31.0: vol(0,0),\n",
       " 32.0: vol(0,0)}"
      ]
     },
     "execution_count": 34,
     "metadata": {},
     "output_type": "execute_result"
    }
   ],
   "source": [
    "contribution[0]"
   ]
  },
  {
   "cell_type": "code",
   "execution_count": null,
   "metadata": {},
   "outputs": [],
   "source": []
  },
  {
   "cell_type": "code",
   "execution_count": null,
   "metadata": {},
   "outputs": [],
   "source": []
  },
  {
   "cell_type": "code",
   "execution_count": null,
   "metadata": {},
   "outputs": [],
   "source": []
  },
  {
   "cell_type": "code",
   "execution_count": null,
   "metadata": {},
   "outputs": [],
   "source": []
  }
 ],
 "metadata": {
  "kernelspec": {
   "display_name": "Python 3 (ipykernel)",
   "language": "python",
   "name": "python3"
  },
  "language_info": {
   "codemirror_mode": {
    "name": "ipython",
    "version": 3
   },
   "file_extension": ".py",
   "mimetype": "text/x-python",
   "name": "python",
   "nbconvert_exporter": "python",
   "pygments_lexer": "ipython3",
   "version": "3.10.12"
  }
 },
 "nbformat": 4,
 "nbformat_minor": 2
}
