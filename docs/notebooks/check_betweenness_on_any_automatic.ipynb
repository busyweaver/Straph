{
 "cells": [
  {
   "cell_type": "code",
   "execution_count": 4,
   "metadata": {},
   "outputs": [
    {
     "name": "stdout",
     "output_type": "stream",
     "text": [
      "Processing /home/mehdi/Straph\n",
      "\u001b[33m  DEPRECATION: A future pip version will change local packages to be built in-place without first copying to a temporary directory. We recommend you use --use-feature=in-tree-build to test your packages with this new behavior before it becomes the default.\n",
      "   pip 21.3 will remove support for this functionality. You can find discussion regarding this at https://github.com/pypa/pip/issues/7555.\u001b[0m\n",
      "Building wheels for collected packages: straph\n",
      "  Building wheel for straph (setup.py) ... \u001b[?25ldone\n",
      "\u001b[?25h  Created wheel for straph: filename=straph-0.3-py3-none-any.whl size=128236 sha256=2f1bf1d73860eee940afb2e12f001bdf205d2140d60fa8caced95ba3fc280627\n",
      "  Stored in directory: /tmp/pip-ephem-wheel-cache-9dmrhmz2/wheels/b5/a9/15/900863b02cb736e4f08449e03d1d2d6ad447e06de70afc5fed\n",
      "Successfully built straph\n",
      "Installing collected packages: straph\n",
      "  Attempting uninstall: straph\n",
      "    Found existing installation: straph 0.3\n",
      "    Uninstalling straph-0.3:\n",
      "      Successfully uninstalled straph-0.3\n",
      "Successfully installed straph-0.3\n",
      "\u001b[33mWARNING: You are using pip version 21.1.2; however, version 22.2.2 is available.\n",
      "You should consider upgrading via the '/home/mehdi/sage_github/sage/bin/python3 -m pip install --upgrade pip' command.\u001b[0m\n",
      "Note: you may need to restart the kernel to use updated packages.\n"
     ]
    }
   ],
   "source": [
    "pip install ../../"
   ]
  },
  {
   "cell_type": "code",
   "execution_count": 1,
   "metadata": {},
   "outputs": [],
   "source": [
    "import straph as sg\n",
    "import pandas as pd\n",
    "import matplotlib.pyplot as plt\n",
    "import straph.betweenness as bt\n",
    "import numpy\n",
    "import time\n",
    "import os"
   ]
  },
  {
   "cell_type": "code",
   "execution_count": 2,
   "metadata": {},
   "outputs": [],
   "source": [
    "def check_betweenness(bet_moi, bet_mat):\n",
    "    nb_error = 0\n",
    "    for v in bet_moi.keys():\n",
    "        for t in bet_moi[v].keys():\n",
    "            if (v.lower() in bet_mat ):\n",
    "                if not (abs(bet_moi[v][t] - bet_mat[v.lower()][t]) < 1/100):\n",
    "                    nb_error +=1\n",
    "                    print(\"erreur \",v,t,\"=>   \", bet_moi[v][t], bet_mat[v.lower()][t])\n",
    "    return nb_error"
   ]
  },
  {
   "cell_type": "code",
   "execution_count": 4,
   "metadata": {},
   "outputs": [
    {
     "name": "stdout",
     "output_type": "stream",
     "text": [
      "5\n",
      "6\n",
      "7\n",
      "8\n",
      "9\n",
      "10\n",
      "11\n",
      "nb_error 0\n"
     ]
    }
   ],
   "source": [
    "nb_error = 0\n",
    "repet = 1\n",
    "res_moi = []\n",
    "res_matthieu = []\n",
    "for nb_node in range(5,12):\n",
    "    if nb_error > 0:\n",
    "        break\n",
    "    print(nb_node)\n",
    "    temps_moi = 0\n",
    "    temps_matthieu = 0\n",
    "    for rep in range(repet):\n",
    "        T = [0, 100]\n",
    "        occurrence_law_node = 'poisson'\n",
    "        presence_law_node = 'uniform'\n",
    "        occurrence_param_node = 3\n",
    "        presence_param_node = 25\n",
    "        occurrence_law_link = 'poisson'\n",
    "        presence_law_link = 'uniform'\n",
    "        occurrence_param_link = 5\n",
    "        presence_param_link = 15\n",
    "        p_link = numpy.sqrt(nb_node)/nb_node\n",
    "        S = sg.erdos_renyi(T,nb_node,occurrence_law_node,occurrence_param_node,presence_law_node,\n",
    "                   presence_param_node,\n",
    "                    occurrence_law_link,\n",
    "                    occurrence_param_link,\n",
    "                    presence_law_link,\n",
    "                    presence_param_link,\n",
    "                    p_link)\n",
    "        bt.to_undirected(S)\n",
    "        SS = S.stream_graph_to_link_stream()\n",
    "        SS.write_to_matthieu_link_stream(\"any\")\n",
    "        start = time.time()\n",
    "        bt.simulations(SS, \"papier\")\n",
    "        end = time.time()\n",
    "        temps_moi += (end - start)\n",
    "        bet_moi = bt.read_dictionary(\"papier_betweenness.pic\")\n",
    "        cmd = 'mv any_mat.ls archive_code/Test'\n",
    "        os.system(cmd)\n",
    "        cmd = 'python2 archive_code/betweenness_memoise.py Test/any_mat.ls -1 res'\n",
    "        start = time.time()\n",
    "        os.system(cmd)\n",
    "        end = time.time()\n",
    "        temps_matthieu += (end- start)\n",
    "        bet_mat = bt.read_dictionary(\"res_betweenness.pic\")\n",
    "        nb_error += check_betweenness(bet_moi, bet_mat)\n",
    "        if nb_error > 0:\n",
    "            SS.write_to_sg(\"examples/any\")\n",
    "            break\n",
    "    res_moi.append([nb_node, temps_moi/repet])\n",
    "    res_matthieu.append([nb_node, temps_matthieu/repet])\n",
    "        \n",
    "print(\"nb_error\",nb_error)"
   ]
  },
  {
   "cell_type": "code",
   "execution_count": 4,
   "metadata": {},
   "outputs": [
    {
     "name": "stdout",
     "output_type": "stream",
     "text": [
      "0\n"
     ]
    }
   ],
   "source": [
    "print(nb_error)"
   ]
  },
  {
   "cell_type": "code",
   "execution_count": 6,
   "metadata": {},
   "outputs": [],
   "source": [
    "#SS.write_to_sg(\"examples/erdos10\")"
   ]
  },
  {
   "cell_type": "code",
   "execution_count": null,
   "metadata": {},
   "outputs": [],
   "source": [
    "import numpy as np\n",
    "import matplotlib.pyplot as plt\n",
    "line1, = plt.plot(res_moi)\n",
    "#line2, = plt.plot(x, np.cos(x), label='cos')\n",
    "plt.legend(handles=[line1, line2], loc='best')\n",
    "plt.grid(b=True, color='aqua', alpha=0.6, linestyle='dashdot')\n",
    "plt.show()"
   ]
  }
 ],
 "metadata": {
  "kernelspec": {
   "display_name": "Python 3",
   "language": "python",
   "name": "python3"
  },
  "language_info": {
   "codemirror_mode": {
    "name": "ipython",
    "version": 3
   },
   "file_extension": ".py",
   "mimetype": "text/x-python",
   "name": "python",
   "nbconvert_exporter": "python",
   "pygments_lexer": "ipython3",
   "version": "3.9.5"
  }
 },
 "nbformat": 4,
 "nbformat_minor": 4
}
