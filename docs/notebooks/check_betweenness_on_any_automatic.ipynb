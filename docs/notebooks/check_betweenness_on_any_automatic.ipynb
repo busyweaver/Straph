{
 "cells": [
  {
   "cell_type": "code",
   "execution_count": 4,
   "metadata": {},
   "outputs": [
    {
     "name": "stdout",
     "output_type": "stream",
     "text": [
      "Defaulting to user installation because normal site-packages is not writeable\n",
      "Processing /home/mehdi/Straph\n",
      "  Preparing metadata (setup.py) ... \u001b[?25ldone\n",
      "\u001b[?25hBuilding wheels for collected packages: straph\n",
      "  Building wheel for straph (setup.py) ... \u001b[?25ldone\n",
      "\u001b[?25h  Created wheel for straph: filename=straph-0.3-py3-none-any.whl size=128883 sha256=17fecc60ec96d227c776575213417d61ea7ddce581fe4d927c3e71c26b60da6e\n",
      "  Stored in directory: /tmp/pip-ephem-wheel-cache-16jk2bbg/wheels/ff/7b/fd/74f1a0c1e7fef46f5399a409f7bb3afe2da4ba468d26b5f5b7\n",
      "Successfully built straph\n",
      "Installing collected packages: straph\n",
      "  Attempting uninstall: straph\n",
      "    Found existing installation: straph 0.3\n",
      "    Uninstalling straph-0.3:\n",
      "      Successfully uninstalled straph-0.3\n",
      "Successfully installed straph-0.3\n",
      "Note: you may need to restart the kernel to use updated packages.\n"
     ]
    }
   ],
   "source": [
    "pip install ../../"
   ]
  },
  {
   "cell_type": "code",
   "execution_count": 1,
   "metadata": {},
   "outputs": [],
   "source": [
    "import straph as sg\n",
    "import pandas as pd\n",
    "import matplotlib.pyplot as plt\n",
    "import straph.betweenness as bt\n",
    "import numpy\n",
    "import time\n",
    "import os"
   ]
  },
  {
   "cell_type": "code",
   "execution_count": 14,
   "metadata": {},
   "outputs": [],
   "source": [
    "def check_betweenness(bet_moi, bet_mat):\n",
    "    nb_error = 0\n",
    "    nb_values = 0\n",
    "    for v in bet_moi.keys():\n",
    "        for t in bet_moi[v].keys():\n",
    "            nb_values += 1\n",
    "            if (v.lower() in bet_mat ):\n",
    "                if not (abs(bet_moi[v][t] - bet_mat[v.lower()][t]) < 1/100):\n",
    "                    nb_error +=1\n",
    "                    print(\"erreur \",v,t,\"=>   \", bet_moi[v][t], bet_mat[v.lower()][t])\n",
    "    return nb_error, nb_values"
   ]
  },
  {
   "cell_type": "code",
   "execution_count": 22,
   "metadata": {},
   "outputs": [
    {
     "name": "stdout",
     "output_type": "stream",
     "text": [
      "4\n",
      "4\n",
      "fin_undirec\n",
      "fin_to link stream\n",
      "fin_write to matthieu\n",
      "fin moi\n",
      "archive_code\n",
      "[5.030322124249576, 48.751051479653135, 49.721065335627806, 59.52706254474062, 61.02470568560286, 63.573371519773644, 65.71060116305024, 73.37756151740007, 100.0]\n",
      "latency and distances finished\n",
      "fin mem\n",
      "fin mat\n",
      "fin check\n",
      "fin_undirec\n",
      "fin_to link stream\n",
      "fin_write to matthieu\n",
      "fin moi\n",
      "archive_code\n",
      "[7.24484682713239, 45.0399322192166, 49.013378797209285, 70.19804146197673, 91.15622113500285, 100.0]\n",
      "latency and distances finished\n",
      "fin mem\n",
      "fin mat\n",
      "fin check\n",
      "6\n",
      "6\n",
      "fin_undirec\n",
      "fin_to link stream\n",
      "fin_write to matthieu\n",
      "fin moi\n",
      "archive_code\n",
      "[17.844293369223664, 40.36946371772295, 40.54489546347218, 41.982005110668524, 44.61662482384734, 54.59675525805727, 55.125551621401996, 57.65349680504549, 59.33094640632086, 60.21033370765524, 60.227857950269794, 65.01400728715898, 100.0]\n",
      "latency and distances finished\n",
      "fin mem\n",
      "fin mat\n",
      "fin check\n",
      "fin_undirec\n",
      "fin_to link stream\n",
      "fin_write to matthieu\n",
      "fin moi\n",
      "archive_code\n",
      "[7.882634395572941, 17.75263313862227, 17.862505215741567, 19.088739232891676, 19.24483857799569, 22.567171802491337, 40.47671517479864, 41.20738517328619, 41.56937413736889, 41.78133078371941, 54.35434109304626, 96.25885894305999, 97.26063783949171, 97.5873746575125, 100.0, 100.0]\n",
      "latency and distances finished\n",
      "fin mem\n",
      "fin mat\n",
      "fin check\n",
      "8\n",
      "8\n",
      "fin_undirec\n",
      "fin_to link stream\n",
      "fin_write to matthieu\n",
      "fin moi\n",
      "archive_code\n",
      "[0.09681364132039239, 11.85531429707692, 12.425954964680889, 13.382298674009409, 49.0134352802514, 52.162819594652554, 53.553180713496985, 53.990918469670966, 58.00578964747955, 58.208709868955935, 59.15262831504397, 64.90228525881413, 68.25785651136461, 68.88022926841995, 68.93007666053342, 69.85620756196242, 71.42706775407015, 71.85998881226809, 72.7422610508992, 74.25089146632166, 75.42987726872934, 75.86860561018675, 76.79853104282682, 77.2572500452432, 77.71519536860617, 78.46145796218897, 78.91268810590775, 88.0772909466298, 88.29650626064708, 89.96718457813995, 93.06238643082477, 100.0, 100.0]\n",
      "latency and distances finished\n",
      "fin mem\n",
      "fin mat\n",
      "fin check\n",
      "fin_undirec\n",
      "fin_to link stream\n",
      "fin_write to matthieu\n",
      "fin moi\n",
      "archive_code\n",
      "[1.724308110207906, 39.85930200405972, 49.75705662114634, 50.92117308260767, 57.54921054379142, 58.80951162572113, 71.15722906729204, 72.71469752376557, 73.31349487176423, 76.34760559269743, 83.9738903460039, 85.80882189095053, 87.05025904999205, 89.65552887042259, 90.56930302819123, 91.1680829338741, 93.47054499940502, 93.97558193609537, 100.0, 100.0]\n",
      "latency and distances finished\n",
      "fin mem\n",
      "fin mat\n",
      "fin check\n",
      "10\n",
      "10\n",
      "fin_undirec\n",
      "fin_to link stream\n",
      "fin_write to matthieu\n",
      "fin moi\n",
      "archive_code\n",
      "[0.7375754911727372, 17.33706491890772, 17.390794100012364, 18.290859496078717, 20.00898059097864, 23.510807399281596, 47.67447534251562, 50.03904197425336, 51.66783185829515, 56.46939998936129, 58.48204575577264, 74.7277052613687, 75.98417283928438, 77.0887662988951, 81.38410525317596, 86.3239729781634, 86.92887910144074, 90.77196554342538, 100.0, 100.0]\n",
      "latency and distances finished\n",
      "fin mem\n",
      "fin mat\n",
      "fin check\n",
      "fin_undirec\n",
      "fin_to link stream\n",
      "fin_write to matthieu\n",
      "fin moi\n",
      "archive_code\n",
      "[5.884509551259265, 25.25560254507808, 28.305509014450962, 29.42274842594331, 29.752363897351938, 32.67687238816577, 36.58482177092144, 39.736847392864306, 41.584824977957545, 42.06528919916653, 42.324649237273704, 47.64704174256891, 49.79014319418774, 49.86086305371194, 53.05228442469212, 53.3960697940833, 54.51528757387786, 60.79647010021611, 62.25611240357741, 64.3716316928101, 66.90504333126087, 70.47283385934992, 72.10980195944946, 72.23355638128942, 75.32651331029587, 75.56956140427488, 83.14448730528333, 83.52351152719123, 84.55104186501464, 84.76029892019167, 86.39745586948578, 87.32930280167429, 89.9466894444161, 92.59408199513625, 100.0, 100.0]\n",
      "latency and distances finished\n",
      "fin mem\n",
      "fin mat\n",
      "fin check\n",
      "12\n",
      "12\n",
      "fin_undirec\n",
      "fin_to link stream\n",
      "fin_write to matthieu\n",
      "fin moi\n",
      "archive_code\n",
      "[1.785364811583423, 9.29464892495683, 11.426570547920686, 12.880293405959517, 15.238928043901439, 15.456024353399238, 15.751450110346733, 17.60982912862046, 17.81603017382278, 18.11376068381335, 18.611170815411935, 20.07962435361729, 21.172612372378016, 21.527322170871766, 28.91169206728084, 29.164375438386955, 34.604446492221385, 37.795800755152584, 40.208009899528676, 40.83262324973654, 43.00122464104146, 43.30061783410761, 44.823312589668525, 46.62782519052248, 49.84022467043346, 49.87082073437306, 51.009853293557946, 55.044710605133076, 58.63149013128061, 58.725954427669606, 59.717224684801444, 60.11038566665578, 60.45175553319785, 61.41230501714165, 61.66463950207227, 62.56942186233155, 66.11557667540498, 68.06915520676876, 69.22077155501579, 71.06632506848801, 72.99422849044511, 89.22993058138502, 89.58787830716736, 91.92258926348723, 92.47468500037226, 100.0]\n",
      "latency and distances finished\n",
      "fin mem\n",
      "fin mat\n",
      "fin check\n",
      "fin_undirec\n",
      "fin_to link stream\n",
      "fin_write to matthieu\n",
      "fin moi\n",
      "archive_code\n",
      "[1.2798698781318119, 8.565139988405171, 9.411773740875667, 13.76489917813198, 14.867152287140378, 26.565600775460364, 26.677789505047077, 32.7735295563265, 37.7915688009267, 38.618307422263, 39.07637432885952, 41.04850132749499, 44.9252162995125, 50.63547252940768, 50.64376370023142, 50.878231898029966, 54.39777635810038, 54.5185363547605, 55.42407959815408, 55.88293474100777, 62.17097473305385, 63.24650224687189, 63.32933077139834, 63.945383954223665, 65.76585896362361, 66.39211805758347, 68.52743209344591, 69.02332101597788, 75.94349801404431, 76.05920645814578, 79.85798916593687, 83.56781681861786, 84.14354927651235, 84.55458145466496, 86.20057867225711, 87.3155540922204, 87.9152529902003, 91.84975692759173, 92.3108828137769, 93.55501504967971, 94.40879230522577, 97.90923456207182, 98.52477952856282, 99.44447594886891, 99.7896900628476, 100.0, 100.0]\n",
      "latency and distances finished\n",
      "fin mem\n",
      "fin mat\n",
      "fin check\n",
      "14\n",
      "14\n",
      "fin_undirec\n",
      "fin_to link stream\n",
      "fin_write to matthieu\n",
      "fin moi\n",
      "archive_code\n",
      "[0.8898894259627976, 11.298717023068859, 20.19396849325755, 21.325475379686836, 21.734297801004075, 22.54524474491921, 24.34860922461115, 33.38223884982215, 34.10350697507498, 34.2082716612045, 35.74610350594013, 36.248404876813765, 42.809347224300055, 44.29495026218926, 44.7078121794494, 44.94833568244402, 45.19252836103976, 45.94169324465736, 46.94226572750086, 46.950327494968846, 47.26626560837664, 47.796163872114754, 47.970386596113904, 49.25916089704408, 49.67776137587019, 49.83303532131538, 52.13405337218492, 53.078134727403, 54.15243900025102, 57.02800886766951, 57.104893035004686, 57.11160306896101, 57.24034668990399, 57.98982578437887, 58.4333829689739, 61.049038210154414, 62.51196459825572, 66.44404538875811, 68.85540616036178, 72.75091683225834, 73.92520621450194, 74.24541469844945, 75.17179416474947, 76.52170897086744, 76.98037856257508, 78.47454311425278, 78.49671109236911, 78.7211704806752, 80.73304513517039, 81.46304816160611, 82.647999840575, 82.8338339337414, 82.84129832255738, 82.95136644316943, 83.68102497455645, 83.86446492801198, 83.96532363993211, 85.03030171089031, 87.32425166008349, 88.8445032555041, 92.0174335076784, 92.05627766272373, 93.7204995436973, 93.95026282861457, 95.82338070758435, 97.25314378242071, 97.78136319663282, 97.81406888269484, 99.30025049201389, 100.0, 100.0]\n",
      "latency and distances finished\n",
      "fin mem\n",
      "fin mat\n",
      "fin check\n",
      "fin_undirec\n",
      "fin_to link stream\n",
      "fin_write to matthieu\n",
      "fin moi\n",
      "archive_code\n",
      "[0.5880367178240253, 16.364637354843744, 17.81628356038869, 23.793165317556998, 24.067042136578632, 24.34940362879909, 25.647707461292907, 36.56434698487552, 36.93642374092893, 37.303673174909406, 37.34058602858677, 38.83632966668252, 39.83806744670358, 42.181295060615824, 45.25055776792003, 45.78388433302231, 46.73457774227788, 46.862467226360565, 47.09663488871941, 48.64102766042624, 52.52121670891325, 54.62447360975198, 57.467053503623276, 59.89106873441028, 61.80798647722766, 61.84667282146442, 64.45374790580185, 64.7178368652702, 66.37568058119284, 67.23585944300338, 67.2869319226319, 67.5640682584874, 67.67036661476348, 72.02936353714585, 74.20353938233345, 77.45772373191737, 79.14456485322661, 79.62927281869915, 81.97887428262621, 83.79021632844723, 84.43570584409511, 85.24319344392174, 91.60519254829734, 91.70825230009886, 100.0]\n",
      "latency and distances finished\n",
      "fin mem\n"
     ]
    },
    {
     "name": "stdout",
     "output_type": "stream",
     "text": [
      "fin mat\n",
      "fin check\n",
      "16\n",
      "16\n",
      "fin_undirec\n",
      "fin_to link stream\n",
      "fin_write to matthieu\n",
      "fin moi\n",
      "archive_code\n",
      "[10.594432091459238, 14.946827074606519, 16.5585185446733, 16.62091569567052, 18.320179238938845, 18.40232426469087, 18.57125471617439, 19.296142862150866, 26.494526413475576, 51.77472488949614, 54.81134751942851, 55.68116783675312, 57.275533060790245, 60.1481068734159, 60.15492697749221, 60.28945116015693, 63.82163901340542, 66.87852116068181, 70.07642321177778, 70.4117412473727, 70.56120151788227, 74.75768834160642, 80.47185162826958, 85.6052901286335, 88.91898675782484, 89.68835338739858, 93.93350015766073, 94.13886010907396, 94.24950578059713, 94.31669562754699, 94.32428840872167, 94.36044528992493, 94.50388889564576, 94.54821253108493, 95.32151438760044, 95.56119847425943, 100.0, 100.0]\n",
      "latency and distances finished\n",
      "fin mem\n",
      "fin mat\n",
      "fin check\n",
      "fin_undirec\n",
      "fin_to link stream\n",
      "fin_write to matthieu\n",
      "fin moi\n",
      "archive_code\n",
      "[0.21330039965550274, 15.833947095520884, 16.453146271411875, 18.434340653071246, 19.038916408140103, 22.278535940500625, 23.164525510035432, 27.55018538437042, 29.449861800685515, 33.91186295997438, 36.238745132384686, 37.093319995183926, 37.1380052482523, 37.14815395081525, 38.35021080332228, 38.54413062305264, 38.66875443757578, 38.90807752930917, 39.73713722911712, 40.42469984491943, 41.69987038137965, 41.846301400541066, 42.09091394901794, 42.3373440264751, 45.56006263750142, 45.83012764147516, 46.66693224239943, 47.38121208938256, 47.5131627087558, 47.8311670936741, 47.84205754699587, 48.993826457189044, 49.179665501916254, 49.23253939834882, 51.2704793751537, 51.533116816319726, 55.20467856103424, 56.29292599493228, 56.42814613227275, 56.678440734794385, 57.77336202024142, 60.330512433171435, 61.71075785904069, 61.72519723884538, 63.4952665953729, 64.31059119558776, 67.37405856915584, 69.21547081187265, 70.43193295750802, 71.25009301198817, 71.77888441607098, 75.09412858281928, 76.42225942970832, 77.15334093151687, 78.16530586304685, 78.64982936097066, 79.70851924562858, 81.53576382727536, 81.5746913515504, 81.68106848405677, 85.89429569519756, 88.85907072838303, 91.91527695673668, 95.80216865007684, 100.0, 100.0]\n",
      "latency and distances finished\n",
      "fin mem\n",
      "fin mat\n",
      "fin check\n",
      "18\n",
      "18\n",
      "fin_undirec\n",
      "fin_to link stream\n",
      "fin_write to matthieu\n",
      "fin moi\n",
      "archive_code\n",
      "[0.15485798585580524, 12.61463312075662, 16.43777679323244, 16.526173315523337, 16.936735861363886, 18.576740445778167, 19.16983810441215, 23.983949859090515, 32.00117276347885, 32.181946147984775, 33.714062624651504, 35.26253035621442, 35.38322540157556, 35.64377444986456, 35.64994696771756, 35.67289851129447, 35.74394374085641, 35.91363655505601, 36.02444582735725, 36.05652491142468, 36.79461167520219, 37.06874067808805, 38.07375813522929, 38.08037570388868, 39.65602099027987, 39.77211924783571, 39.89142395371263, 40.61515221488699, 42.149009736158874, 42.85862899870857, 46.13011404929431, 46.25318560351462, 48.44113732163994, 48.47640920695052, 49.06110870659103, 49.560676104236634, 51.83765465411388, 56.55176429820149, 57.49802254052376, 58.75986395202413, 58.865688312337944, 59.0750111171099, 59.52857333901531, 62.678737529459084, 63.25829947738035, 63.590451025304056, 64.31424757626604, 64.94310193934672, 65.41743981219328, 65.54107212148789, 65.83794725637937, 66.1238990975296, 66.20041240523094, 67.2481616724648, 67.37188724707691, 68.02065529142673, 68.64338116865426, 69.45856793659965, 69.84092012588025, 70.11155908049626, 71.43904341300191, 72.19579524763316, 72.80465434861837, 72.85660384502437, 73.39763040520597, 74.65074307531569, 76.73781687849987, 79.12757431493164, 81.55815670870098, 82.07798931210196, 82.28716765541307, 85.73258616586376, 85.91849361234875, 88.35185596888357, 90.08680954345124, 93.95184976805541, 96.71166433863857, 96.71760306091659, 96.74721373211074, 96.94878460449068, 99.51889809679717, 100.0, 100.0]\n",
      "latency and distances finished\n",
      "fin mem\n",
      "fin mat\n",
      "fin check\n",
      "fin_undirec\n",
      "fin_to link stream\n",
      "fin_write to matthieu\n",
      "fin moi\n",
      "archive_code\n",
      "[0.3117734348479395, 8.918638537306304, 10.025949203619822, 12.824466402819052, 14.632551812375777, 15.331247407691643, 15.588530440639827, 17.296635604078183, 21.61970032708563, 22.342032718033636, 24.16551848759132, 25.406628689215143, 25.744658404586204, 27.508564367907407, 29.687160180475384, 31.66541978220593, 33.83730663370163, 34.458876147567, 37.55639162979475, 37.578171359134465, 37.76016676690449, 39.4854288215596, 40.24965676827218, 40.92707649304456, 43.16091148393647, 43.426911233105294, 43.437112207284386, 43.521530985886294, 44.241936818484334, 44.28761149276495, 44.69627360888168, 45.03634769879802, 45.8606908856489, 47.527080523686166, 48.517308705015296, 48.550307964810536, 48.91173042474689, 49.03029054797382, 50.627576939210115, 51.18002359499157, 55.863987136091225, 55.9931455085643, 58.824311813610606, 61.85251169909145, 62.884947248962646, 64.74934732904859, 64.93934949884459, 65.93126569626118, 67.61468298249704, 68.96976996389907, 69.41050244515918, 69.63034232659443, 69.84386700701306, 69.8642137348174, 69.93358875729118, 69.99260179530087, 70.18295675956979, 70.37297042973536, 71.0253230319715, 71.16791637556754, 74.28059606703704, 79.5632978228343, 84.27591532973685, 84.37390296291551, 84.99224306374214, 85.95542629282666, 88.09544801566992, 88.17325019480613, 88.58565065018978, 89.16590434899193, 89.3773011108784, 91.54214401506081, 91.9196175937001, 92.01402406000935, 92.64235825740245, 93.03076528113627, 94.37468387979375, 95.147946480633, 95.45138589147561, 100.0, 100.0]\n",
      "latency and distances finished\n",
      "fin mem\n",
      "fin mat\n",
      "fin check\n",
      "20\n",
      "20\n",
      "fin_undirec\n",
      "fin_to link stream\n",
      "fin_write to matthieu\n",
      "fin moi\n",
      "archive_code\n",
      "[0.3663857102050083, 7.677647938745627, 11.289936783584004, 16.46176235636284, 16.87900898088146, 17.218925930804794, 17.558450800097027, 19.949009635319435, 22.720948161533997, 22.759038329220658, 23.91589139871539, 23.947216897355084, 24.215359147386568, 25.762484999777527, 26.011453968883025, 28.033299730990972, 29.08792828314524, 29.131906950051512, 29.447525620059388, 29.855728044813752, 31.838339788004294, 33.29682874032227, 33.653397749497906, 33.74291814455434, 34.37582341722573, 34.53033486081529, 36.03335283759974, 36.671177846219244, 38.061365970726676, 38.687520311066365, 38.91916040712374, 39.28874918170201, 39.815172425508976, 40.33303563873901, 41.08645310233098, 42.49496417390429, 43.954352239158816, 45.822114958050484, 46.32587832073878, 48.88971199345924, 49.19507877912423, 49.3589187981124, 49.94441094041963, 50.109174487962946, 50.75437718199077, 51.11145442608239, 52.13291275419967, 52.5899971616178, 55.59964985006355, 57.58402502034278, 57.867710402631275, 58.04348123216984, 58.06873353406149, 58.78155194412544, 59.91082899869226, 60.335043046939, 61.48874585783639, 62.72172110656773, 64.13222535130203, 65.29370792131894, 65.77042536299476, 69.35970066483159, 70.66573183617749, 70.69145420591175, 71.06847682156476, 71.44094065442249, 71.51304700241135, 71.74451357886483, 71.78364750469022, 73.68458383826717, 73.69319612439139, 75.04992191098631, 83.77026023033231, 84.31649011126264, 84.86620922204374, 86.40255605846659, 86.56235913094575, 86.6174494753827, 87.0633238490085, 89.20751200002843, 89.44999620644887, 89.9432307991274, 90.96575985122234, 91.19714483247095, 91.23227409055303, 94.65086378668829, 94.71744076683103, 95.32678217314835, 95.38975785891553, 96.68212452027629, 96.90904879540429, 98.68311024529862, 100.0, 100.0]\n",
      "latency and distances finished\n",
      "fin mem\n",
      "fin mat\n",
      "fin check\n",
      "fin_undirec\n",
      "fin_to link stream\n",
      "fin_write to matthieu\n",
      "fin moi\n",
      "archive_code\n",
      "[1.459764019123333, 6.090739210395773, 8.49328112688292, 9.62694201819348, 14.014807489020424, 17.95400757362558, 18.50819896384347, 19.97902814892884, 20.902674031332392, 21.52946633187183, 24.271970056708554, 25.646660662679604, 25.85455996043412, 26.384956516508797, 27.021022947244298, 27.181725725356543, 27.31181061630828, 27.763692475762497, 29.02704614398849, 29.622328146132517, 34.66964897031194, 40.98748375492021, 42.01986209467616, 42.21583652331117, 42.283521465908684, 42.47628528587827, 42.87346759928092, 43.843258570915054, 44.262324786433076, 47.21426034903212, 48.38491744906531, 48.7812354972746, 49.22019812997699, 49.66729103280915, 49.757297846624866, 49.865875916801414, 50.58436622755449, 51.954676220286245, 53.353010008596115, 53.8865236115453, 54.1932492768738, 55.031580082717916, 58.79370789736376, 59.72287184555682, 60.03186493056725, 60.25740610478822, 61.496686109109234, 61.68889724506419, 62.44751044443159, 63.87163900169468, 64.17746868896424, 64.24115285310292, 64.5127676022176, 65.01818474651861, 65.8273832353197, 70.28838714663829, 71.46372766719841, 71.76657980173724, 72.61989968433473, 72.64125210360547, 73.01529665269835, 74.46272986460123, 75.00356119836167, 75.40674900103372, 75.53256119240517, 76.25613408326426, 76.2716802819239, 76.57268489750489, 78.2766434999888, 78.3219907741773, 78.50269528902437, 78.61599735368887, 79.8860710858606, 80.62512187645913, 80.88153049081585, 82.22584772920465, 82.87673500945058, 82.96102620376915, 84.6845126546607, 85.91365256020717, 88.25557427063576, 88.90768723178076, 89.67862308404898, 90.15263431158893, 90.66107727651922, 91.74260256511519, 91.99086127268436, 92.54226834884797, 92.82070006754407, 92.93001010575419, 93.85988322816951, 94.02854934984029, 94.14630509019389, 94.44842658032307, 94.76913205396639, 95.55933687493766, 96.59412019530714, 97.33110643809776, 98.18714958697677, 98.19805641625972, 98.50346056722954, 98.52679504088286, 98.84040886409127, 98.90567870773374, 99.74579766455234, 99.90778028072856, 100.0, 100.0]\n",
      "latency and distances finished\n",
      "fin mem\n"
     ]
    },
    {
     "name": "stdout",
     "output_type": "stream",
     "text": [
      "fin mat\n",
      "fin check\n",
      "nb_error 0\n"
     ]
    }
   ],
   "source": [
    "nb_error = 0\n",
    "repet = 2\n",
    "res_moi = []\n",
    "res_matthieu = []\n",
    "res_matthieu_mem = []\n",
    "res_events = []\n",
    "for nb_node in range(4,21,2):\n",
    "    print(nb_node)\n",
    "    if nb_error > 0:\n",
    "        break\n",
    "    print(nb_node)\n",
    "    temps_moi = 0\n",
    "    temps_matthieu = 0\n",
    "    temps_matthieu_mem = 0\n",
    "    nb_values = 0\n",
    "    for rep in range(repet):\n",
    "        T = [0, 100]\n",
    "        occurrence_law_node = 'poisson'\n",
    "        presence_law_node = 'uniform'\n",
    "        occurrence_param_node = 3\n",
    "        presence_param_node = 25\n",
    "        occurrence_law_link = 'poisson'\n",
    "        presence_law_link = 'uniform'\n",
    "        occurrence_param_link = 5\n",
    "        presence_param_link = 15\n",
    "        p_link = numpy.sqrt(nb_node)/nb_node\n",
    "        S = sg.erdos_renyi(T,nb_node,occurrence_law_node,occurrence_param_node,presence_law_node,\n",
    "                   presence_param_node,\n",
    "                    occurrence_law_link,\n",
    "                    occurrence_param_link,\n",
    "                    presence_law_link,\n",
    "                    presence_param_link,\n",
    "                    p_link)\n",
    "        un_S = bt.to_undirected(S)\n",
    "        print(\"fin_undirec\")\n",
    "        SS = un_S.stream_graph_to_link_stream()\n",
    "        print(\"fin_to link stream\")\n",
    "        SS.write_to_matthieu_link_stream(\"any\")\n",
    "        print(\"fin_write to matthieu\")\n",
    "        start = time.time()\n",
    "        bt.simulations(SS, \"papier\")\n",
    "        end = time.time()\n",
    "        temps_moi += (end - start)\n",
    "        print(\"fin moi\")\n",
    "        \n",
    "        \n",
    "        bet_moi = bt.read_dictionary(\"papier_betweenness.pic\")\n",
    "        cmd = 'mv any_mat.ls archive_code/Test'\n",
    "        os.system(cmd)\n",
    "        \n",
    "        cmd = 'python2 archive_code/betweenness_memoise.py Test/any_mat.ls -1 res'\n",
    "        start = time.time()\n",
    "        os.system(cmd)\n",
    "        end = time.time()\n",
    "        temps_matthieu_mem += (end- start)\n",
    "        print(\"fin mem\")\n",
    "        \n",
    "        cmd = 'python2 archive_code/betweenness_all.py Test/any_mat.ls -1 res'\n",
    "        start = time.time()\n",
    "        os.system(cmd)\n",
    "        end = time.time()\n",
    "        temps_matthieu += (end- start)\n",
    "        print(\"fin mat\")\n",
    "        \n",
    "        bet_mat = bt.read_dictionary(\"res_betweenness.pic\")\n",
    "        error, values = check_betweenness(bet_moi, bet_mat)\n",
    "        nb_values += values\n",
    "        nb_error += error\n",
    "        print(\"fin check\")\n",
    "        if nb_error > 0:\n",
    "            SS.write_to_sg(\"examples/any\")\n",
    "            break\n",
    "    res_moi.append([nb_node, temps_moi/repet])\n",
    "    res_matthieu.append([nb_node, temps_matthieu/repet])\n",
    "    res_matthieu_mem.append([nb_node, temps_matthieu_mem/repet])\n",
    "    res_events.append([nb_node, nb_values/repet])\n",
    "\n",
    "        \n",
    "print(\"nb_error\",nb_error)"
   ]
  },
  {
   "cell_type": "code",
   "execution_count": 23,
   "metadata": {},
   "outputs": [
    {
     "name": "stdout",
     "output_type": "stream",
     "text": [
      "0\n"
     ]
    }
   ],
   "source": [
    "print(nb_error)"
   ]
  },
  {
   "cell_type": "code",
   "execution_count": 24,
   "metadata": {},
   "outputs": [
    {
     "data": {
      "text/plain": [
       "[[4, 0.0059278011322021484],\n",
       " [6, 0.041712164878845215],\n",
       " [8, 0.11468958854675293],\n",
       " [10, 0.12334108352661133],\n",
       " [12, 0.5632351636886597],\n",
       " [14, 1.5988764762878418],\n",
       " [16, 1.2133815288543701],\n",
       " [18, 4.605397820472717],\n",
       " [20, 9.112222671508789]]"
      ]
     },
     "execution_count": 24,
     "metadata": {},
     "output_type": "execute_result"
    }
   ],
   "source": [
    "res_moi"
   ]
  },
  {
   "cell_type": "code",
   "execution_count": 25,
   "metadata": {},
   "outputs": [
    {
     "data": {
      "text/plain": [
       "[[4, 0.018864154815673828],\n",
       " [6, 0.048215389251708984],\n",
       " [8, 0.2272200584411621],\n",
       " [10, 0.2799633741378784],\n",
       " [12, 2.152928113937378],\n",
       " [14, 7.328086495399475],\n",
       " [16, 12.427363991737366],\n",
       " [18, 52.80097579956055],\n",
       " [20, 120.3163400888443]]"
      ]
     },
     "execution_count": 25,
     "metadata": {},
     "output_type": "execute_result"
    }
   ],
   "source": [
    "res_matthieu_mem"
   ]
  },
  {
   "cell_type": "code",
   "execution_count": 26,
   "metadata": {},
   "outputs": [
    {
     "data": {
      "text/plain": [
       "[[4, 0.03883695602416992],\n",
       " [6, 0.2326335906982422],\n",
       " [8, 2.048425555229187],\n",
       " [10, 3.148900270462036],\n",
       " [12, 23.458994507789612],\n",
       " [14, 64.9367059469223],\n",
       " [16, 131.40784776210785],\n",
       " [18, 545.0148301124573],\n",
       " [20, 1281.8885246515274]]"
      ]
     },
     "execution_count": 26,
     "metadata": {},
     "output_type": "execute_result"
    }
   ],
   "source": [
    "res_matthieu"
   ]
  },
  {
   "cell_type": "code",
   "execution_count": 27,
   "metadata": {},
   "outputs": [
    {
     "data": {
      "text/plain": [
       "[[4, 30.0],\n",
       " [6, 84.0],\n",
       " [8, 204.0],\n",
       " [10, 270.0],\n",
       " [12, 552.0],\n",
       " [14, 805.0],\n",
       " [16, 816.0],\n",
       " [18, 1458.0],\n",
       " [20, 2000.0]]"
      ]
     },
     "execution_count": 27,
     "metadata": {},
     "output_type": "execute_result"
    }
   ],
   "source": [
    "res_events"
   ]
  },
  {
   "cell_type": "code",
   "execution_count": 6,
   "metadata": {},
   "outputs": [],
   "source": [
    "#SS.write_to_sg(\"examples/erdos10\")\n"
   ]
  },
  {
   "cell_type": "code",
   "execution_count": 74,
   "metadata": {},
   "outputs": [
    {
     "data": {
      "image/png": "[encoded data removed]",
      "text/plain": [
       "<Figure size 432x288 with 1 Axes>"
      ]
     },
     "metadata": {
      "needs_background": "light"
     },
     "output_type": "display_data"
    }
   ],
   "source": [
    "import numpy as np\n",
    "import matplotlib.pyplot as plt\n",
    "plt.figure()\n",
    "plt.title('Time comparison of 3 algorithms')\n",
    "\n",
    "xs = [x[0] for x in res_moi]\n",
    "ys = [x[1] for x in res_moi]\n",
    "line1 = plt.plot(xs,ys, color='blue', alpha=0.7, label=\"brandes\")\n",
    "xss = [x[0] for x in res_matthieu]\n",
    "yss = [x[1] for x in res_matthieu]\n",
    "line2 = plt.plot(xss,yss, color='red', alpha=0.7, label=\"basic\")\n",
    "xsss = [x[0] for x in res_matthieu_mem]\n",
    "ysss = [x[1] for x in res_matthieu_mem]\n",
    "line3 = plt.plot(xsss,ysss, color='orange', alpha=0.7, label = \"basic mem\")\n",
    "\n",
    "plt.ylabel('time in seconds')\n",
    "plt.xlabel('number of nodes')\n",
    "plt.legend(loc='best')\n",
    "plt.grid( color='black', alpha=0.1, linestyle='dashdot')\n",
    "plt.savefig('time_comp_normal.png')\n",
    "plt.show()\n"
   ]
  },
  {
   "cell_type": "code",
   "execution_count": 75,
   "metadata": {},
   "outputs": [
    {
     "data": {
      "image/png": "[encoded data removed]",
      "text/plain": [
       "<Figure size 432x288 with 1 Axes>"
      ]
     },
     "metadata": {
      "needs_background": "light"
     },
     "output_type": "display_data"
    }
   ],
   "source": [
    "import numpy as np\n",
    "import math\n",
    "import matplotlib.pyplot as plt\n",
    "plt.figure()\n",
    "plt.title('Time comparison of 3 algorithms, log scale for time with basis 10')\n",
    "\n",
    "xs = [x[0] for x in res_moi]\n",
    "ys = [math.log(x[1],10) for x in res_moi]\n",
    "line1 = plt.plot(xs,ys, color='blue', alpha=0.7, label=\"brandes\")\n",
    "xss = [x[0] for x in res_matthieu]\n",
    "yss = [math.log(x[1],10) for x in res_matthieu]\n",
    "line2 = plt.plot(xss,yss, color='red', alpha=0.7, label=\"basic\")\n",
    "xsss = [x[0] for x in res_matthieu_mem]\n",
    "ysss = [math.log(x[1],10) for x in res_matthieu_mem]\n",
    "line3 = plt.plot(xsss,ysss, color='orange', alpha=0.7, label = \"basic mem\")\n",
    "\n",
    "plt.ylabel('log of time in seconds')\n",
    "plt.xlabel('number of nodes')\n",
    "plt.legend(loc='best')\n",
    "plt.grid( color='black', alpha=0.1, linestyle='dashdot')\n",
    "plt.savefig('time_comp_log.png')\n",
    "plt.show()\n"
   ]
  },
  {
   "cell_type": "code",
   "execution_count": null,
   "metadata": {},
   "outputs": [],
   "source": []
  }
 ],
 "metadata": {
  "kernelspec": {
   "display_name": "Python 3 (ipykernel)",
   "language": "python",
   "name": "python3"
  },
  "language_info": {
   "codemirror_mode": {
    "name": "ipython",
    "version": 3
   },
   "file_extension": ".py",
   "mimetype": "text/x-python",
   "name": "python",
   "nbconvert_exporter": "python",
   "pygments_lexer": "ipython3",
   "version": "3.10.6"
  }
 },
 "nbformat": 4,
 "nbformat_minor": 4
}
