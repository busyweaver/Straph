{
 "cells": [
  {
   "cell_type": "code",
   "execution_count": 1,
   "id": "5116a6f7",
   "metadata": {},
   "outputs": [
    {
     "name": "stdout",
     "output_type": "stream",
     "text": [
      "Defaulting to user installation because normal site-packages is not writeable\n",
      "Processing /home/mehdi/code/Straph\n",
      "  Preparing metadata (setup.py) ... \u001b[?25ldone\n",
      "\u001b[?25hBuilding wheels for collected packages: straph\n",
      "  Building wheel for straph (setup.py) ... \u001b[?25ldone\n",
      "\u001b[?25h  Created wheel for straph: filename=straph-0.3-py3-none-any.whl size=129891 sha256=6013b0d459e98f22693c1f979cf3548afdf74508c1b7dd9bc26d41d2ded03406\n",
      "  Stored in directory: /tmp/pip-ephem-wheel-cache-yt1j5nye/wheels/37/09/70/7b86f721614374ec311fa16ed21dbb33c1959d2c6f80461dfd\n",
      "Successfully built straph\n",
      "Installing collected packages: straph\n",
      "  Attempting uninstall: straph\n",
      "    Found existing installation: straph 0.3\n",
      "    Uninstalling straph-0.3:\n",
      "      Successfully uninstalled straph-0.3\n",
      "Successfully installed straph-0.3\n",
      "Note: you may need to restart the kernel to use updated packages.\n"
     ]
    }
   ],
   "source": [
    "pip install ../../"
   ]
  },
  {
   "cell_type": "code",
   "execution_count": 8,
   "id": "91715de0",
   "metadata": {},
   "outputs": [],
   "source": [
    "import straph as sg\n",
    "import straph.betweenness as bt\n",
    "import straph.betweenness.volumes as vol\n",
    "import straph.paths.meta_walks as mw\n",
    "import straph.betweenness.optimal_paths as opt\n",
    "import operator\n",
    "import math"
   ]
  },
  {
   "cell_type": "code",
   "execution_count": 3,
   "id": "e13d7a70",
   "metadata": {},
   "outputs": [],
   "source": [
    "def check_pre_cur_dij_bell(pre,pre2):\n",
    "    for v in range(len(pre)):\n",
    "        for t in pre[v].keys():\n",
    "            if v > len(pre2) or t not in pre2[v].keys():\n",
    "                print(\"problem\", v,t, \"not present in\", pre2)\n",
    "                return False\n",
    "            if pre[v][t] != pre2[v][t]:\n",
    "                print(\"problem\", \"v\",v,\"t\",t,pre[v][t], pre2[v][t])\n",
    "                return False\n",
    "    return True\n",
    "def check_pre_cur(pre,pre2,cur,cur2):\n",
    "    return check_pre_cur_dij_bell(pre,pre2) and check_pre_cur_dij_bell(pre2,pre) and check_pre_cur_dij_bell(cur,cur2) and check_pre_cur_dij_bell(cur2,cur)"
   ]
  },
  {
   "cell_type": "code",
   "execution_count": 4,
   "id": "8465e7dd",
   "metadata": {},
   "outputs": [],
   "source": [
    "def all_check(S, events, events_reverse, neighbors, neighbors_inv, link_ind, b, fun, walk_type):\n",
    "    for nod in S.nodes:\n",
    "        pre, cur_best = bt.dijkstra_directed_dis_gen(S, nod, events, events_reverse, neighbors, neighbors_inv, link_ind, b, fun, walk_type)\n",
    "        pre2, cur_best2 = bt.ford_bellman_directed_gen_dis(S, nod, events, events_reverse, neighbors, neighbors_inv, link_ind, b, fun, walk_type)\n",
    "        pre3, cur_best3 = bt.bfs_directed_dis_gen(S, nod, events, events_reverse, neighbors, neighbors_inv, link_ind, b, fun, walk_type)\n",
    "        if not check_pre_cur(pre,pre3, cur_best,cur_best3):\n",
    "            return False,nod\n",
    "    return True"
   ]
  },
  {
   "cell_type": "code",
   "execution_count": 5,
   "id": "d0db3fc9",
   "metadata": {},
   "outputs": [],
   "source": [
    "N = 5\n",
    "T = 7\n",
    "n = 8\n",
    "p = 0.15\n",
    "def check(N,T,n,p):\n",
    "    window = [1,T]\n",
    "    for _ in range(N):\n",
    "        #for c in [mw.Metawalk.co_sfp, mw.Metawalk.co_short]:\n",
    "        for c in [opt.co_sh_im, opt.co_sfp_im]:\n",
    "            for w in [\"active\", \"passive\"]:\n",
    "                S = sg.erdos_renyi_discrete(window, n, p)\n",
    "                events, events_reverse = bt.events_dic(S)\n",
    "                link_ind = bt.link_index(S)\n",
    "                neighbors, neighbors_inv = bt.neighbors_direct(S)\n",
    "                b = operator.lt\n",
    "                walk_type = \"active\"\n",
    "                x = all_check(S, events, events_reverse, neighbors, neighbors_inv, link_ind, b, c, w)\n",
    "                if not type(x) == bool:\n",
    "                    nod = x[1]\n",
    "                    print(\"nod\", nod, \"fun\", c, \"typewalk\", w)\n",
    "                    pre, cur_best = bt.dijkstra_directed_dis_gen(S, nod, events, events_reverse, neighbors, neighbors_inv, link_ind, b, c, w)\n",
    "                    pre2, cur_best2 = bt.ford_bellman_directed_gen_dis(S, nod, events, events_reverse, neighbors, neighbors_inv, link_ind, b, c, w, com = 1)\n",
    "                    pre3, cur_best3 = bt.bfs_directed_dis_gen(S, nod, events, events_reverse, neighbors, neighbors_inv, link_ind, b, c, w, com = 1)\n",
    "                    \n",
    "                    return S,nod,pre,pre3,cur_best,cur_best3\n",
    "    return True\n",
    "x = check(N,T,n,p)"
   ]
  },
  {
   "cell_type": "code",
   "execution_count": 10,
   "id": "45ed842c",
   "metadata": {},
   "outputs": [],
   "source": [
    "import time\n",
    "N = 40\n",
    "T = 12\n",
    "n = 20\n",
    "p = 1/(n*T)\n",
    "def check_time_synth(N,T,n,p, which=[\"dij\", \"bell\", \"bfs\"]):\n",
    "    tot = 0\n",
    "    tot2 = 0\n",
    "    tot3 = 0\n",
    "    window = [1,T]\n",
    "    for _ in range(N):\n",
    "        for c in [opt.co_sfp_im]: #, mw.Metawalk.co_short\n",
    "            for w in [ \"passive\"]: #\"active\",\n",
    "                S = sg.erdos_renyi_discrete(window, n, p)\n",
    "                print(\"nb edges\", sum( len(S.link_presence[i])/2 for i in range(len(S.link_presence)) ), \"nTlog(nT)\", n*T*math.log(n*T))\n",
    "                events, events_reverse = bt.events_dic(S)\n",
    "#                 print(events)\n",
    "                link_ind = bt.link_index(S)\n",
    "                neighbors, neighbors_inv = bt.neighbors_direct(S)\n",
    "                b = operator.lt\n",
    "                for nod in S.nodes:\n",
    "                    if \"dij\" in which:\n",
    "                        st = time.time()\n",
    "                        pre, cur_best = bt.dijkstra_directed_dis_gen(S, nod, events, events_reverse, neighbors, neighbors_inv, link_ind, b, c, w)\n",
    "                        ed = time.time()\n",
    "                        tot += (ed - st)\n",
    "                    if \"bell\" in which:\n",
    "                        st = time.time()\n",
    "                        pre2, cur_best2 = bt.ford_bellman_directed_gen_dis(S, nod, events, events_reverse, neighbors, neighbors_inv, link_ind, b, c, w)\n",
    "                        ed = time.time()\n",
    "                        tot2 += (ed - st)\n",
    "                    if \"bfs\" in which:\n",
    "                        st = time.time()\n",
    "                        pre3, cur_best3 = bt.bfs_directed_dis_gen(S, nod, events, events_reverse, neighbors, neighbors_inv, link_ind, b, c, w)\n",
    "                        ed = time.time()\n",
    "                        tot3 += (ed - st)\n",
    "#     print(\"average dijkstra \", tot/(N*2*2), \"average bellman \", tot2/(N*2*2))\n",
    "#     print(\"gain\", tot/tot2)\n",
    "    return tot, tot2, tot3\n",
    "                \n",
    "# x = check_time_synth(N,T,n,p)"
   ]
  },
  {
   "cell_type": "code",
   "execution_count": 9,
   "id": "6fb10d47",
   "metadata": {},
   "outputs": [
    {
     "name": "stdout",
     "output_type": "stream",
     "text": [
      "4  54  104  154  "
     ]
    }
   ],
   "source": [
    "l = []\n",
    "l2 = []\n",
    "N = 200\n",
    "gap = 50\n",
    "for n in range(4,N+1,gap):\n",
    "    print(n, \" \", end = \"\")\n",
    "    T = 1\n",
    "    p = 1/(n*T)\n",
    "    repet = 2\n",
    "    l.append( (n,check_time_synth(repet,T,n,p)) )\n",
    "    l2.append( (n, n/4 ))"
   ]
  },
  {
   "cell_type": "code",
   "execution_count": 12,
   "id": "b57a65fc",
   "metadata": {},
   "outputs": [],
   "source": [
    "import math\n",
    "l2 = []\n",
    "for n in range(4,N+1,gap):\n",
    "    l2.append( (n, n/math.log(n) ))"
   ]
  },
  {
   "cell_type": "code",
   "execution_count": 15,
   "id": "d3a4ed28",
   "metadata": {},
   "outputs": [
    {
     "data": {
      "image/png": "[encoded data removed]",
      "text/plain": [
       "<Figure size 432x288 with 1 Axes>"
      ]
     },
     "metadata": {
      "needs_background": "light"
     },
     "output_type": "display_data"
    }
   ],
   "source": [
    "import matplotlib.pyplot as plt \n",
    "plt.plot(list(map(lambda x : x[0], l)), list(map(lambda x : x[1], l))\n",
    "         ,list(map(lambda x : x[0], l)), list(map(lambda x : x[1], l))\n",
    "        ) \n",
    "plt.show() "
   ]
  },
  {
   "cell_type": "code",
   "execution_count": 13,
   "id": "cdf3651d",
   "metadata": {},
   "outputs": [
    {
     "data": {
      "image/png": "[encoded data removed]",
      "text/plain": [
       "<Figure size 432x288 with 1 Axes>"
      ]
     },
     "metadata": {
      "needs_background": "light"
     },
     "output_type": "display_data"
    }
   ],
   "source": [
    "import matplotlib.pyplot as plt \n",
    "plt.plot(list(map(lambda x : x[0], l)), list(map(lambda x : x[1], l))\n",
    "         ,list(map(lambda x : x[0], l2)), list(map(lambda x : x[1], l2))\n",
    "        ) \n",
    "plt.show() "
   ]
  },
  {
   "cell_type": "code",
   "execution_count": 20,
   "id": "28513493",
   "metadata": {},
   "outputs": [
    {
     "name": "stdout",
     "output_type": "stream",
     "text": [
      "4  nb edges 4.0 nTlog(nT) 147.55517816455745\n",
      "84  nb edges 89.0 nTlog(nT) 5656.057589143382\n",
      "164  nb edges 172.0 nTlog(nT) 12140.02049414192\n"
     ]
    }
   ],
   "source": [
    "#varies nodes\n",
    "l = []\n",
    "l2 = []\n",
    "N = 204\n",
    "gap = 80\n",
    "which = [\"dij\", \"bell\",\"bfs\"]\n",
    "for n in range(4,N+1,gap):\n",
    "    print(n, \" \", end = \"\")\n",
    "    T = 10\n",
    "    p = 1/(10*n)\n",
    "    repet = 1\n",
    "    l.append( (n,check_time_synth(repet,T,n,p, which = which)) )"
   ]
  },
  {
   "cell_type": "code",
   "execution_count": 24,
   "id": "a0c72f36",
   "metadata": {},
   "outputs": [
    {
     "name": "stdout",
     "output_type": "stream",
     "text": [
      "n,T 2 4  nb edges 1.0 nTlog(nT) 16.635532333438686\n",
      "n,T 9 84  nb edges 68.0 nTlog(nT) 5010.799280391727\n",
      "n,T 12 164  nb edges 174.0 nTlog(nT) 14926.833416740807\n",
      "n,T 15 244  nb edges 352.0 nTlog(nT) 30031.099440607206\n"
     ]
    }
   ],
   "source": [
    "#varies times\n",
    "l = []\n",
    "l2 = []\n",
    "N = 304\n",
    "gap = 80\n",
    "which = [\"dij\", \"bell\",\"bfs\"]\n",
    "for T in range(4,N+1,gap):\n",
    "    n = int(math.sqrt(T))\n",
    "    print(\"n,T\",n,T, \" \", end = \"\")\n",
    "    p = 1/(10*n)\n",
    "    repet = 1\n",
    "    l.append( (n,check_time_synth(repet,T,n,p, which = which)) )"
   ]
  },
  {
   "cell_type": "code",
   "execution_count": 25,
   "id": "afaf091c",
   "metadata": {},
   "outputs": [
    {
     "data": {
      "image/png": "[encoded data removed]",
      "text/plain": [
       "<Figure size 432x288 with 1 Axes>"
      ]
     },
     "metadata": {
      "needs_background": "light"
     },
     "output_type": "display_data"
    }
   ],
   "source": [
    "import matplotlib.pyplot as plt \n",
    "labels = which\n",
    "\n",
    "for i in range(0,len(which),2):\n",
    "# for i in range(len(labels)):\n",
    "    plt.plot(list(map(lambda x : x[0], l)), list(map(lambda x : x[1][i], l)), label = labels[i] )\n",
    "#          ,list(map(lambda x : x[0], l)), list(map(lambda x : x[1][1], l))\n",
    "#          ,list(map(lambda x : x[0], l)), list(map(lambda x : x[1][2], l))\n",
    "plt.legend()\n",
    "plt.show() "
   ]
  },
  {
   "cell_type": "code",
   "execution_count": null,
   "id": "f5f274a5",
   "metadata": {},
   "outputs": [],
   "source": []
  }
 ],
 "metadata": {
  "kernelspec": {
   "display_name": "Python 3 (ipykernel)",
   "language": "python",
   "name": "python3"
  },
  "language_info": {
   "codemirror_mode": {
    "name": "ipython",
    "version": 3
   },
   "file_extension": ".py",
   "mimetype": "text/x-python",
   "name": "python",
   "nbconvert_exporter": "python",
   "pygments_lexer": "ipython3",
   "version": "3.10.12"
  }
 },
 "nbformat": 4,
 "nbformat_minor": 5
}
