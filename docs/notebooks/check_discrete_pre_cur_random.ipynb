{
 "cells": [
  {
   "cell_type": "code",
   "execution_count": 1,
   "id": "5116a6f7",
   "metadata": {},
   "outputs": [
    {
     "name": "stdout",
     "output_type": "stream",
     "text": [
      "Defaulting to user installation because normal site-packages is not writeable\n",
      "Processing /home/mehdi/code/Straph\n",
      "  Preparing metadata (setup.py) ... \u001b[?25ldone\n",
      "\u001b[?25hBuilding wheels for collected packages: straph\n",
      "  Building wheel for straph (setup.py) ... \u001b[?25ldone\n",
      "\u001b[?25h  Created wheel for straph: filename=straph-0.3-py3-none-any.whl size=129907 sha256=bc040719737103a047da91abd1177226623af0371216dd5b9cdf05e0d77ae21f\n",
      "  Stored in directory: /tmp/pip-ephem-wheel-cache-vkzkhty5/wheels/37/09/70/7b86f721614374ec311fa16ed21dbb33c1959d2c6f80461dfd\n",
      "Successfully built straph\n",
      "Installing collected packages: straph\n",
      "  Attempting uninstall: straph\n",
      "    Found existing installation: straph 0.3\n",
      "    Uninstalling straph-0.3:\n",
      "      Successfully uninstalled straph-0.3\n",
      "Successfully installed straph-0.3\n",
      "Note: you may need to restart the kernel to use updated packages.\n"
     ]
    }
   ],
   "source": [
    "pip install ../../"
   ]
  },
  {
   "cell_type": "code",
   "execution_count": 1,
   "id": "91715de0",
   "metadata": {},
   "outputs": [],
   "source": [
    "import straph as sg\n",
    "import straph.betweenness as bt\n",
    "import straph.betweenness.volumes as vol\n",
    "import straph.paths.meta_walks as mw\n",
    "import straph.betweenness.optimal_paths as opt\n",
    "import operator"
   ]
  },
  {
   "cell_type": "code",
   "execution_count": 2,
   "id": "e13d7a70",
   "metadata": {},
   "outputs": [],
   "source": [
    "def check_pre_cur_dij_bell(pre,pre2):\n",
    "    for v in range(len(pre)):\n",
    "        for t in pre[v].keys():\n",
    "            if v > len(pre2) or t not in pre2[v].keys():\n",
    "                print(\"problem\", v,t, \"not present in\", pre2)\n",
    "                return False\n",
    "            if pre[v][t] != pre2[v][t]:\n",
    "                print(\"problem\", \"v\",v,\"t\",t,pre[v][t], pre2[v][t])\n",
    "                return False\n",
    "    return True\n",
    "def check_pre_cur(pre,pre2,cur,cur2):\n",
    "    return check_pre_cur_dij_bell(pre,pre2) and check_pre_cur_dij_bell(pre2,pre) and check_pre_cur_dij_bell(cur,cur2) and check_pre_cur_dij_bell(cur2,cur)"
   ]
  },
  {
   "cell_type": "code",
   "execution_count": 3,
   "id": "8465e7dd",
   "metadata": {},
   "outputs": [],
   "source": [
    "def all_check(S, events, events_reverse, neighbors, neighbors_inv, link_ind, b, fun, walk_type):\n",
    "    for nod in S.nodes:\n",
    "        pre, cur_best, opt_walk = bt.dijkstra_directed_dis_gen(S, nod, events, events_reverse, neighbors, neighbors_inv, link_ind, b, fun, walk_type)\n",
    "        pre2, cur_best2, opt_walk2 = bt.ford_bellman_directed_gen_dis(S, nod, events, events_reverse, neighbors, neighbors_inv, link_ind, b, fun, walk_type)\n",
    "        pre3, cur_best3, opt_walk3 = bt.bfs_directed_dis_gen(S, nod, events, events_reverse, neighbors, neighbors_inv, link_ind, b, fun, walk_type)\n",
    "        if not check_pre_cur(pre,pre3, cur_best,cur_best3):\n",
    "            return False,nod\n",
    "    return True"
   ]
  },
  {
   "cell_type": "code",
   "execution_count": 10,
   "id": "d0db3fc9",
   "metadata": {},
   "outputs": [],
   "source": [
    "N = 5\n",
    "T = 7\n",
    "n = 8\n",
    "p = 0.15\n",
    "def check(N,T,n,p):\n",
    "    window = [1,T]\n",
    "    for _ in range(N):\n",
    "        #for c in [mw.Metawalk.co_sfp, mw.Metawalk.co_short]:\n",
    "        for c in [opt.co_sh_im, opt.co_sfp_im]:\n",
    "            for w in [\"active\", \"passive\"]:\n",
    "                S = sg.erdos_renyi_discrete(window, n, p)\n",
    "                events, events_reverse = bt.events_dic(S)\n",
    "                link_ind = bt.link_index(S)\n",
    "                neighbors, neighbors_inv = bt.neighbors_direct(S)\n",
    "                b = operator.lt\n",
    "                walk_type = \"active\"\n",
    "                x = all_check(S, events, events_reverse, neighbors, neighbors_inv, link_ind, b, c, w)\n",
    "                if not type(x) == bool:\n",
    "                    nod = x[1]\n",
    "                    print(\"nod\", nod, \"fun\", c, \"typewalk\", w)\n",
    "                    pre, cur_best, opt_walk = bt.dijkstra_directed_dis_gen(S, nod, events, events_reverse, neighbors, neighbors_inv, link_ind, b, c, w)\n",
    "                    pre2, cur_best2, opt_walk2 = bt.ford_bellman_directed_gen_dis(S, nod, events, events_reverse, neighbors, neighbors_inv, link_ind, b, c, w, com = 1)\n",
    "                    pre3, cur_best3, opt_walk3 = bt.bfs_directed_dis_gen(S, nod, events, events_reverse, neighbors, neighbors_inv, link_ind, b, c, w, com = 1)\n",
    "                    \n",
    "                    return S,nod,pre,pre3,cur_best,cur_best3\n",
    "    return True\n",
    "x = check(N,T,n,p)"
   ]
  },
  {
   "cell_type": "code",
   "execution_count": 13,
   "id": "45ed842c",
   "metadata": {},
   "outputs": [],
   "source": [
    "import time\n",
    "N = 40\n",
    "T = 12\n",
    "n = 20\n",
    "p = 1/(n*T)\n",
    "def check_time_synth(N,T,n,p, which=[\"dij\", \"bell\", \"bfs\"]):\n",
    "    tot = 0\n",
    "    tot2 = 0\n",
    "    tot3 = 0\n",
    "    window = [1,T]\n",
    "    for _ in range(N):\n",
    "        for c in [opt.co_sfp_im]: #, mw.Metawalk.co_short\n",
    "            for w in [ \"passive\"]: #\"active\",\n",
    "                S = sg.erdos_renyi_discrete(window, n, p)\n",
    "                events, events_reverse = bt.events_dic(S)\n",
    "#                 print(events)\n",
    "                link_ind = bt.link_index(S)\n",
    "                neighbors, neighbors_inv = bt.neighbors_direct(S)\n",
    "                b = operator.lt\n",
    "                for nod in S.nodes:\n",
    "                    if \"dij\" in which:\n",
    "                        st = time.time()\n",
    "                        pre, cur_best, opt_walk = bt.dijkstra_directed_dis_gen(S, nod, events, events_reverse, neighbors, neighbors_inv, link_ind, b, c, w)\n",
    "                        ed = time.time()\n",
    "                        tot += (ed - st)\n",
    "                    if \"bell\" in which:\n",
    "                        st = time.time()\n",
    "                        pre2, cur_best2, opt_walk2 = bt.ford_bellman_directed_gen_dis(S, nod, events, events_reverse, neighbors, neighbors_inv, link_ind, b, c, w)\n",
    "                        ed = time.time()\n",
    "                        tot2 += (ed - st)\n",
    "                    if \"bfs\" in which:\n",
    "                        st = time.time()\n",
    "                        pre3, cur_best3, opt_walk3 = bt.bfs_directed_dis_gen(S, nod, events, events_reverse, neighbors, neighbors_inv, link_ind, b, c, w)\n",
    "                        ed = time.time()\n",
    "                        tot3 += (ed - st)\n",
    "#     print(\"average dijkstra \", tot/(N*2*2), \"average bellman \", tot2/(N*2*2))\n",
    "#     print(\"gain\", tot/tot2)\n",
    "    return tot, tot2, tot3\n",
    "                \n",
    "# x = check_time_synth(N,T,n,p)"
   ]
  },
  {
   "cell_type": "code",
   "execution_count": 38,
   "id": "6fb10d47",
   "metadata": {},
   "outputs": [
    {
     "name": "stdout",
     "output_type": "stream",
     "text": [
      "4  104  204  304  404  504  604  704  "
     ]
    }
   ],
   "source": [
    "l = []\n",
    "l2 = []\n",
    "N = 800\n",
    "for n in range(4,N+1,100):\n",
    "    print(n, \" \", end = \"\")\n",
    "    T = 1\n",
    "    p = 1/(n*T)\n",
    "    repet = 2\n",
    "    l.append( (n,check_time_synth(repet,T,n,p)) )\n",
    "    l2.append( (n, n/4 ))"
   ]
  },
  {
   "cell_type": "code",
   "execution_count": 40,
   "id": "b57a65fc",
   "metadata": {},
   "outputs": [],
   "source": [
    "import math\n",
    "l2 = []\n",
    "for n in range(4,N+1,100):\n",
    "    l2.append( (n, n/math.log(n) ))"
   ]
  },
  {
   "cell_type": "code",
   "execution_count": 41,
   "id": "cdf3651d",
   "metadata": {},
   "outputs": [
    {
     "data": {
      "image/png": "[encoded data removed]",
      "text/plain": [
       "<Figure size 432x288 with 1 Axes>"
      ]
     },
     "metadata": {
      "needs_background": "light"
     },
     "output_type": "display_data"
    }
   ],
   "source": [
    "import matplotlib.pyplot as plt \n",
    "plt.plot(list(map(lambda x : x[0], l)), list(map(lambda x : x[1], l))\n",
    "         ,list(map(lambda x : x[0], l2)), list(map(lambda x : x[1], l2))\n",
    "        ) \n",
    "plt.show() "
   ]
  },
  {
   "cell_type": "code",
   "execution_count": 14,
   "id": "28513493",
   "metadata": {},
   "outputs": [
    {
     "name": "stdout",
     "output_type": "stream",
     "text": [
      "4  44  84  124  164  204  244  284  324  364  404  444  484  "
     ]
    }
   ],
   "source": [
    "l = []\n",
    "l2 = []\n",
    "N = 504\n",
    "for n in range(4,N+1,40):\n",
    "    print(n, \" \", end = \"\")\n",
    "    T = 5\n",
    "    p = 1/(2*n*T)\n",
    "    repet = 2\n",
    "    l.append( (n,check_time_synth(repet,T,n,p, which = [\"dij\", \"bfs\"])) )"
   ]
  },
  {
   "cell_type": "code",
   "execution_count": 15,
   "id": "afaf091c",
   "metadata": {},
   "outputs": [
    {
     "data": {
      "image/png": "[encoded data removed]",
      "text/plain": [
       "<Figure size 432x288 with 1 Axes>"
      ]
     },
     "metadata": {
      "needs_background": "light"
     },
     "output_type": "display_data"
    }
   ],
   "source": [
    "import matplotlib.pyplot as plt \n",
    "labels = ['dij', 'bellman', 'bfs']\n",
    "\n",
    "for i in [0,2]:\n",
    "# for i in range(len(labels)):\n",
    "    plt.plot(list(map(lambda x : x[0], l)), list(map(lambda x : x[1][i], l)), label = labels[i] )\n",
    "#          ,list(map(lambda x : x[0], l)), list(map(lambda x : x[1][1], l))\n",
    "#          ,list(map(lambda x : x[0], l)), list(map(lambda x : x[1][2], l))\n",
    "plt.legend()\n",
    "plt.show() "
   ]
  },
  {
   "cell_type": "code",
   "execution_count": null,
   "id": "260029af",
   "metadata": {},
   "outputs": [],
   "source": []
  }
 ],
 "metadata": {
  "kernelspec": {
   "display_name": "Python 3 (ipykernel)",
   "language": "python",
   "name": "python3"
  },
  "language_info": {
   "codemirror_mode": {
    "name": "ipython",
    "version": 3
   },
   "file_extension": ".py",
   "mimetype": "text/x-python",
   "name": "python",
   "nbconvert_exporter": "python",
   "pygments_lexer": "ipython3",
   "version": "3.10.12"
  }
 },
 "nbformat": 4,
 "nbformat_minor": 5
}
