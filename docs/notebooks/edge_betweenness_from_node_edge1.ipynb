{
 "cells": [
  {
   "cell_type": "code",
   "execution_count": 19,
   "metadata": {},
   "outputs": [
    {
     "name": "stdout",
     "output_type": "stream",
     "text": [
      "Processing /home/mehdi/Straph\n",
      "\u001b[33m  DEPRECATION: A future pip version will change local packages to be built in-place without first copying to a temporary directory. We recommend you use --use-feature=in-tree-build to test your packages with this new behavior before it becomes the default.\n",
      "   pip 21.3 will remove support for this functionality. You can find discussion regarding this at https://github.com/pypa/pip/issues/7555.\u001b[0m\n",
      "Building wheels for collected packages: straph\n",
      "  Building wheel for straph (setup.py) ... \u001b[?25ldone\n",
      "\u001b[?25h  Created wheel for straph: filename=straph-0.3-py3-none-any.whl size=124255 sha256=99baa21e9b214635adcaac27c8930c47c2240f730dd3997d770d1260f34ec2e2\n",
      "  Stored in directory: /tmp/pip-ephem-wheel-cache-stioz4u0/wheels/b5/a9/15/900863b02cb736e4f08449e03d1d2d6ad447e06de70afc5fed\n",
      "Successfully built straph\n",
      "Installing collected packages: straph\n",
      "  Attempting uninstall: straph\n",
      "    Found existing installation: straph 0.3\n",
      "    Uninstalling straph-0.3:\n",
      "      Successfully uninstalled straph-0.3\n",
      "Successfully installed straph-0.3\n",
      "\u001b[33mWARNING: You are using pip version 21.1.2; however, version 22.2.2 is available.\n",
      "You should consider upgrading via the '/home/mehdi/sage_github/sage/bin/python3 -m pip install --upgrade pip' command.\u001b[0m\n",
      "Note: you may need to restart the kernel to use updated packages.\n"
     ]
    }
   ],
   "source": [
    "pip install ../../"
   ]
  },
  {
   "cell_type": "code",
   "execution_count": 1,
   "metadata": {},
   "outputs": [],
   "source": [
    "nb_example = 1"
   ]
  },
  {
   "cell_type": "code",
   "execution_count": 2,
   "metadata": {},
   "outputs": [
    {
     "name": "stdout",
     "output_type": "stream",
     "text": [
      "Nb of Nodes :  4\n",
      "Nb of segmented nodes :  4.0\n",
      "Nb of links :  3\n",
      "Nb of segmented links :  3.0\n",
      "Nb of event times :  5\n"
     ]
    }
   ],
   "source": [
    "import matplotlib.pyplot as plt\n",
    "plt.rcParams[\"figure.figsize\"] = (25,20)\n",
    "import straph as sg\n",
    "import straph.betweenness as bt\n",
    "import straph.betweenness.volumes as vol\n",
    "path_directory = \"examples/\"\n",
    "S = sg.read_stream_graph(path_nodes=path_directory + \"edge\"+str(nb_example)+\"_nodes.sg\",\n",
    "                      path_links=path_directory + \"edge\"+ str(nb_example)+ \"_links.sg\")\n",
    "S.describe()"
   ]
  },
  {
   "cell_type": "code",
   "execution_count": 3,
   "metadata": {},
   "outputs": [],
   "source": [
    "bt.to_undirected(S)"
   ]
  },
  {
   "cell_type": "code",
   "execution_count": 4,
   "metadata": {},
   "outputs": [
    {
     "data": {
      "text/plain": [
       "<AxesSubplot:xlabel='t', ylabel='Nodes'>"
      ]
     },
     "execution_count": 4,
     "metadata": {},
     "output_type": "execute_result"
    },
    {
     "name": "stderr",
     "output_type": "stream",
     "text": [
      "findfont: Font family ['Garamond'] not found. Falling back to DejaVu Sans.\n"
     ]
    },
    {
     "data": {
      "image/png": "[encoded data removed]",
      "text/plain": [
       "<Figure size 1800x1440 with 1 Axes>"
      ]
     },
     "metadata": {
      "needs_background": "light"
     },
     "output_type": "display_data"
    }
   ],
   "source": [
    "S.plot()"
   ]
  },
  {
   "cell_type": "code",
   "execution_count": 5,
   "metadata": {},
   "outputs": [],
   "source": [
    "#for i in range(0,2*int(max(list(S.event_times())))):\n",
    "#    S.add_point(i/2)\n",
    "#S.sg_to_streamfig(\"stream_example\",\"eps\")\n",
    "nouveau = S.fragmented_stream_graph()"
   ]
  },
  {
   "cell_type": "code",
   "execution_count": 6,
   "metadata": {},
   "outputs": [],
   "source": [
    "#nouveau.plot()\n",
    "#plt.savefig(\"link_s_con.png\",dpi=300,bbox_inches ='tight' )"
   ]
  },
  {
   "cell_type": "code",
   "execution_count": 7,
   "metadata": {},
   "outputs": [],
   "source": [
    "events, events_reverse = bt.events_dic(nouveau)"
   ]
  },
  {
   "cell_type": "code",
   "execution_count": 8,
   "metadata": {},
   "outputs": [],
   "source": [
    "link_ind = bt.link_index(nouveau)\n",
    "neighbors, neighbors_inv = bt.neighbors_direct(nouveau)\n",
    "unt = bt.until(nouveau, events, events_reverse)"
   ]
  },
  {
   "cell_type": "code",
   "execution_count": 9,
   "metadata": {},
   "outputs": [
    {
     "data": {
      "text/plain": [
       "[[1.0, 1.0], [2.0, 3.0], [2.0, 2.0], [1.0, 1.0], [2.0, 3.0], [2.0, 2.0]]"
      ]
     },
     "execution_count": 9,
     "metadata": {},
     "output_type": "execute_result"
    }
   ],
   "source": [
    "nouveau.link_presence"
   ]
  },
  {
   "cell_type": "code",
   "execution_count": 10,
   "metadata": {},
   "outputs": [
    {
     "data": {
      "text/plain": [
       "[(0, 1), (1, 2), (2, 3), (1, 0), (2, 1), (3, 2)]"
      ]
     },
     "execution_count": 10,
     "metadata": {},
     "output_type": "execute_result"
    }
   ],
   "source": [
    "nouveau.links"
   ]
  },
  {
   "cell_type": "code",
   "execution_count": 11,
   "metadata": {},
   "outputs": [],
   "source": [
    "node = 0"
   ]
  },
  {
   "cell_type": "code",
   "execution_count": 12,
   "metadata": {},
   "outputs": [
    {
     "name": "stdout",
     "output_type": "stream",
     "text": [
      "laaaaaaaa\n",
      "avant debut crubest [{0.0: {0: (-inf, inf), 1: (-inf, inf)}, 1.0: {0: (-inf, inf), 1: (1.0, 0)}, 2.0: {0: (-inf, inf), 1: (-inf, inf)}, 3.0: {0: (-inf, inf), 1: (-inf, inf)}, 4.0: {0: (-inf, inf), 1: (-inf, inf)}}, {0.0: {0: (-inf, inf), 1: (-inf, inf)}, 1.0: {0: (-inf, inf), 1: (-inf, inf)}, 2.0: {0: (-inf, inf), 1: (-inf, inf)}, 3.0: {0: (-inf, inf), 1: (-inf, inf)}, 4.0: {0: (-inf, inf), 1: (-inf, inf)}}, {0.0: {0: (-inf, inf), 1: (-inf, inf)}, 1.0: {0: (-inf, inf), 1: (-inf, inf)}, 2.0: {0: (-inf, inf), 1: (-inf, inf)}, 3.0: {0: (-inf, inf), 1: (-inf, inf)}, 4.0: {0: (-inf, inf), 1: (-inf, inf)}}, {0.0: {0: (-inf, inf), 1: (-inf, inf)}, 1.0: {0: (-inf, inf), 1: (-inf, inf)}, 2.0: {0: (-inf, inf), 1: (-inf, inf)}, 3.0: {0: (-inf, inf), 1: (-inf, inf)}, 4.0: {0: (-inf, inf), 1: (-inf, inf)}}] pre [{0.0: {0: {}, 1: {}}, 1.0: {0: {}, 1: {(0, 0): (-1, -1)}}, 2.0: {0: {}, 1: {}}, 3.0: {0: {}, 1: {}}, 4.0: {0: {}, 1: {}}}, {0.0: {0: {}, 1: {}}, 1.0: {0: {}, 1: {}}, 2.0: {0: {}, 1: {}}, 3.0: {0: {}, 1: {}}, 4.0: {0: {}, 1: {}}}, {0.0: {0: {}, 1: {}}, 1.0: {0: {}, 1: {}}, 2.0: {0: {}, 1: {}}, 3.0: {0: {}, 1: {}}, 4.0: {0: {}, 1: {}}}, {0.0: {0: {}, 1: {}}, 1.0: {0: {}, 1: {}}, 2.0: {0: {}, 1: {}}, 3.0: {0: {}, 1: {}}, 4.0: {0: {}, 1: {}}}]\n",
      "nb_nodes 1 min ((0.0, 0), (0, 1.0, 1))\n",
      "apres boucle 1 cur_best {0.0: {0: (-inf, inf), 1: (-inf, inf)}, 1.0: {0: (-inf, inf), 1: (1.0, 0)}, 2.0: {0: (-inf, inf), 1: (-inf, inf)}, 3.0: {0: (-inf, inf), 1: (-inf, inf)}, 4.0: {0: (-inf, inf), 1: (-inf, inf)}} pre {0.0: {0: {}, 1: {}}, 1.0: {0: {}, 1: {(0, 0): (-1, -1)}}, 2.0: {0: {}, 1: {}}, 3.0: {0: {}, 1: {}}, 4.0: {0: {}, 1: {}}}\n",
      "cur_best[b][tp] {0: (-inf, inf), 1: (1.0, 1)}\n",
      "fin boucle 2a cur_best {0.0: {0: (-inf, inf), 1: (-inf, inf)}, 1.0: {0: (-inf, inf), 1: (1.0, 0)}, 2.0: {0: (-inf, inf), 1: (-inf, inf)}, 3.0: {0: (-inf, inf), 1: (-inf, inf)}, 4.0: {0: (-inf, inf), 1: (-inf, inf)}} pre {0.0: {0: {}, 1: {}}, 1.0: {0: {}, 1: {(0, 0): (-1, -1)}}, 2.0: {0: {}, 1: {}}, 3.0: {0: {}, 1: {}}, 4.0: {0: {}, 1: {}}}\n",
      "fin boucle 2b cur_best {0.0: {0: (-inf, inf), 1: (-inf, inf)}, 1.0: {0: (-inf, inf), 1: (1.0, 1)}, 2.0: {0: (-inf, inf), 1: (-inf, inf)}, 3.0: {0: (-inf, inf), 1: (-inf, inf)}, 4.0: {0: (-inf, inf), 1: (-inf, inf)}} pre {0.0: {0: {}, 1: {}}, 1.0: {0: {}, 1: {(0, 1.0, 1): (1.0, 1.0)}}, 2.0: {0: {}, 1: {}}, 3.0: {0: {}, 1: {}}, 4.0: {0: {}, 1: {}}}\n",
      "nb_nodes 1 min ((0.0, 1), (1, 1.0, 1))\n",
      "apres boucle 1 cur_best {0.0: {0: (-inf, inf), 1: (-inf, inf)}, 1.0: {0: (-inf, inf), 1: (1.0, 1)}, 2.0: {0: (-inf, inf), 1: (1.0, 1)}, 3.0: {0: (1.0, 1), 1: (1.0, 1)}, 4.0: {0: (-inf, inf), 1: (-inf, inf)}} pre {0.0: {0: {}, 1: {}}, 1.0: {0: {}, 1: {(0, 1.0, 1): (1.0, 1.0)}}, 2.0: {0: {}, 1: {}}, 3.0: {0: {}, 1: {}}, 4.0: {0: {}, 1: {}}}\n",
      "cur_best[b][tp] {0: (-inf, inf), 1: (1.0, 2)}\n",
      "fin boucle 2a cur_best {0.0: {0: (-inf, inf), 1: (-inf, inf)}, 1.0: {0: (-inf, inf), 1: (1.0, 1)}, 2.0: {0: (-inf, inf), 1: (1.0, 1)}, 3.0: {0: (1.0, 1), 1: (1.0, 1)}, 4.0: {0: (-inf, inf), 1: (-inf, inf)}} pre {0.0: {0: {}, 1: {}}, 1.0: {0: {}, 1: {(0, 1.0, 1): (1.0, 1.0)}}, 2.0: {0: {}, 1: {}}, 3.0: {0: {}, 1: {}}, 4.0: {0: {}, 1: {}}}\n",
      "fin boucle 2b cur_best {0.0: {0: (-inf, inf), 1: (-inf, inf)}, 1.0: {0: (-inf, inf), 1: (-inf, inf)}, 2.0: {0: (-inf, inf), 1: (1.0, 2)}, 3.0: {0: (-inf, inf), 1: (-inf, inf)}, 4.0: {0: (-inf, inf), 1: (-inf, inf)}} pre {0.0: {0: {}, 1: {}}, 1.0: {0: {}, 1: {}}, 2.0: {0: {}, 1: {(1, 1.0, 1): (2.0, 2.0)}}, 3.0: {0: {}, 1: {}}, 4.0: {0: {}, 1: {}}}\n",
      "cur_best[b][tp] {0: (1.0, 2), 1: (-inf, inf)}\n",
      "cur_best[b][tp] {0: (1.0, 2), 1: (1.0, 2)}\n",
      "fin boucle 2a cur_best {0.0: {0: (-inf, inf), 1: (-inf, inf)}, 1.0: {0: (-inf, inf), 1: (1.0, 1)}, 2.0: {0: (-inf, inf), 1: (1.0, 1)}, 3.0: {0: (1.0, 1), 1: (1.0, 1)}, 4.0: {0: (-inf, inf), 1: (-inf, inf)}} pre {0.0: {0: {}, 1: {}}, 1.0: {0: {}, 1: {(0, 1.0, 1): (1.0, 1.0)}}, 2.0: {0: {}, 1: {}}, 3.0: {0: {}, 1: {}}, 4.0: {0: {}, 1: {}}}\n",
      "fin boucle 2b cur_best {0.0: {0: (-inf, inf), 1: (-inf, inf)}, 1.0: {0: (-inf, inf), 1: (-inf, inf)}, 2.0: {0: (-inf, inf), 1: (1.0, 2)}, 3.0: {0: (1.0, 2), 1: (1.0, 2)}, 4.0: {0: (-inf, inf), 1: (-inf, inf)}} pre {0.0: {0: {}, 1: {}}, 1.0: {0: {}, 1: {}}, 2.0: {0: {}, 1: {(1, 1.0, 1): (2.0, 2.0)}}, 3.0: {0: {(1, 1.0, 1): (2.0, 3.0)}, 1: {(1, 1.0, 1): (3.0, 3.0)}}, 4.0: {0: {}, 1: {}}}\n",
      "fin boucle 2a cur_best {0.0: {0: (-inf, inf), 1: (-inf, inf)}, 1.0: {0: (-inf, inf), 1: (1.0, 1)}, 2.0: {0: (-inf, inf), 1: (1.0, 1)}, 3.0: {0: (1.0, 1), 1: (1.0, 1)}, 4.0: {0: (-inf, inf), 1: (-inf, inf)}} pre {0.0: {0: {}, 1: {}}, 1.0: {0: {}, 1: {(0, 1.0, 1): (1.0, 1.0)}}, 2.0: {0: {}, 1: {}}, 3.0: {0: {}, 1: {}}, 4.0: {0: {}, 1: {}}}\n",
      "fin boucle 2b cur_best {0.0: {0: (-inf, inf), 1: (-inf, inf)}, 1.0: {0: (-inf, inf), 1: (1.0, 0)}, 2.0: {0: (-inf, inf), 1: (-inf, inf)}, 3.0: {0: (-inf, inf), 1: (-inf, inf)}, 4.0: {0: (-inf, inf), 1: (-inf, inf)}} pre {0.0: {0: {}, 1: {}}, 1.0: {0: {}, 1: {(0, 0): (-1, -1)}}, 2.0: {0: {}, 1: {}}, 3.0: {0: {}, 1: {}}, 4.0: {0: {}, 1: {}}}\n",
      "nb_nodes 6 min ((1.0, 1), (1, 2.0, 1))\n",
      "apres boucle 1 cur_best {0.0: {0: (-inf, inf), 1: (-inf, inf)}, 1.0: {0: (-inf, inf), 1: (1.0, 1)}, 2.0: {0: (-inf, inf), 1: (1.0, 1)}, 3.0: {0: (1.0, 1), 1: (1.0, 1)}, 4.0: {0: (-inf, inf), 1: (-inf, inf)}} pre {0.0: {0: {}, 1: {}}, 1.0: {0: {}, 1: {(0, 1.0, 1): (1.0, 1.0)}}, 2.0: {0: {}, 1: {}}, 3.0: {0: {}, 1: {}}, 4.0: {0: {}, 1: {}}}\n",
      "fin boucle 2a cur_best {0.0: {0: (-inf, inf), 1: (-inf, inf)}, 1.0: {0: (-inf, inf), 1: (1.0, 1)}, 2.0: {0: (-inf, inf), 1: (1.0, 1)}, 3.0: {0: (1.0, 1), 1: (1.0, 1)}, 4.0: {0: (-inf, inf), 1: (-inf, inf)}} pre {0.0: {0: {}, 1: {}}, 1.0: {0: {}, 1: {(0, 1.0, 1): (1.0, 1.0)}}, 2.0: {0: {}, 1: {}}, 3.0: {0: {}, 1: {}}, 4.0: {0: {}, 1: {}}}\n",
      "fin boucle 2b cur_best {0.0: {0: (-inf, inf), 1: (-inf, inf)}, 1.0: {0: (-inf, inf), 1: (-inf, inf)}, 2.0: {0: (-inf, inf), 1: (1.0, 2)}, 3.0: {0: (1.0, 2), 1: (1.0, 2)}, 4.0: {0: (-inf, inf), 1: (-inf, inf)}} pre {0.0: {0: {}, 1: {}}, 1.0: {0: {}, 1: {}}, 2.0: {0: {}, 1: {(1, 1.0, 1): (2.0, 2.0)}}, 3.0: {0: {(1, 1.0, 1): (2.0, 3.0)}, 1: {(1, 1.0, 1): (3.0, 3.0)}}, 4.0: {0: {}, 1: {}}}\n",
      "fin boucle 2a cur_best {0.0: {0: (-inf, inf), 1: (-inf, inf)}, 1.0: {0: (-inf, inf), 1: (1.0, 1)}, 2.0: {0: (-inf, inf), 1: (1.0, 1)}, 3.0: {0: (1.0, 1), 1: (1.0, 1)}, 4.0: {0: (-inf, inf), 1: (-inf, inf)}} pre {0.0: {0: {}, 1: {}}, 1.0: {0: {}, 1: {(0, 1.0, 1): (1.0, 1.0)}}, 2.0: {0: {}, 1: {}}, 3.0: {0: {}, 1: {}}, 4.0: {0: {}, 1: {}}}\n",
      "fin boucle 2b cur_best {0.0: {0: (-inf, inf), 1: (-inf, inf)}, 1.0: {0: (-inf, inf), 1: (-inf, inf)}, 2.0: {0: (-inf, inf), 1: (1.0, 2)}, 3.0: {0: (1.0, 2), 1: (1.0, 2)}, 4.0: {0: (-inf, inf), 1: (-inf, inf)}} pre {0.0: {0: {}, 1: {}}, 1.0: {0: {}, 1: {}}, 2.0: {0: {}, 1: {(1, 1.0, 1): (2.0, 2.0)}}, 3.0: {0: {(1, 1.0, 1): (2.0, 3.0)}, 1: {(1, 1.0, 1): (3.0, 3.0)}}, 4.0: {0: {}, 1: {}}}\n",
      "nb_nodes 5 min ((1.0, 2), (2, 2.0, 1))\n",
      "apres boucle 1 cur_best {0.0: {0: (-inf, inf), 1: (-inf, inf)}, 1.0: {0: (-inf, inf), 1: (-inf, inf)}, 2.0: {0: (-inf, inf), 1: (1.0, 2)}, 3.0: {0: (1.0, 2), 1: (1.0, 2)}, 4.0: {0: (-inf, inf), 1: (-inf, inf)}} pre {0.0: {0: {}, 1: {}}, 1.0: {0: {}, 1: {}}, 2.0: {0: {}, 1: {(1, 1.0, 1): (2.0, 2.0)}}, 3.0: {0: {(1, 1.0, 1): (2.0, 3.0)}, 1: {(1, 1.0, 1): (3.0, 3.0)}}, 4.0: {0: {}, 1: {}}}\n",
      "cur_best[b][tp] {0: (-inf, inf), 1: (1.0, 3)}\n",
      "fin boucle 2a cur_best {0.0: {0: (-inf, inf), 1: (-inf, inf)}, 1.0: {0: (-inf, inf), 1: (-inf, inf)}, 2.0: {0: (-inf, inf), 1: (1.0, 2)}, 3.0: {0: (1.0, 2), 1: (1.0, 2)}, 4.0: {0: (-inf, inf), 1: (-inf, inf)}} pre {0.0: {0: {}, 1: {}}, 1.0: {0: {}, 1: {}}, 2.0: {0: {}, 1: {(1, 1.0, 1): (2.0, 2.0)}}, 3.0: {0: {(1, 1.0, 1): (2.0, 3.0)}, 1: {(1, 1.0, 1): (3.0, 3.0)}}, 4.0: {0: {}, 1: {}}}\n",
      "fin boucle 2b cur_best {0.0: {0: (-inf, inf), 1: (-inf, inf)}, 1.0: {0: (-inf, inf), 1: (-inf, inf)}, 2.0: {0: (-inf, inf), 1: (1.0, 3)}, 3.0: {0: (-inf, inf), 1: (-inf, inf)}, 4.0: {0: (-inf, inf), 1: (-inf, inf)}} pre {0.0: {0: {}, 1: {}}, 1.0: {0: {}, 1: {}}, 2.0: {0: {}, 1: {(2, 2.0, 1): (2.0, 2.0)}}, 3.0: {0: {}, 1: {}}, 4.0: {0: {}, 1: {}}}\n",
      "fin boucle 2a cur_best {0.0: {0: (-inf, inf), 1: (-inf, inf)}, 1.0: {0: (-inf, inf), 1: (-inf, inf)}, 2.0: {0: (-inf, inf), 1: (1.0, 2)}, 3.0: {0: (1.0, 2), 1: (1.0, 2)}, 4.0: {0: (-inf, inf), 1: (-inf, inf)}} pre {0.0: {0: {}, 1: {}}, 1.0: {0: {}, 1: {}}, 2.0: {0: {}, 1: {(1, 1.0, 1): (2.0, 2.0)}}, 3.0: {0: {(1, 1.0, 1): (2.0, 3.0)}, 1: {(1, 1.0, 1): (3.0, 3.0)}}, 4.0: {0: {}, 1: {}}}\n",
      "fin boucle 2b cur_best {0.0: {0: (-inf, inf), 1: (-inf, inf)}, 1.0: {0: (-inf, inf), 1: (1.0, 1)}, 2.0: {0: (-inf, inf), 1: (1.0, 1)}, 3.0: {0: (1.0, 1), 1: (1.0, 1)}, 4.0: {0: (-inf, inf), 1: (-inf, inf)}} pre {0.0: {0: {}, 1: {}}, 1.0: {0: {}, 1: {(0, 1.0, 1): (1.0, 1.0)}}, 2.0: {0: {}, 1: {}}, 3.0: {0: {}, 1: {}}, 4.0: {0: {}, 1: {}}}\n",
      "fin boucle 2a cur_best {0.0: {0: (-inf, inf), 1: (-inf, inf)}, 1.0: {0: (-inf, inf), 1: (-inf, inf)}, 2.0: {0: (-inf, inf), 1: (1.0, 2)}, 3.0: {0: (1.0, 2), 1: (1.0, 2)}, 4.0: {0: (-inf, inf), 1: (-inf, inf)}} pre {0.0: {0: {}, 1: {}}, 1.0: {0: {}, 1: {}}, 2.0: {0: {}, 1: {(1, 1.0, 1): (2.0, 2.0)}}, 3.0: {0: {(1, 1.0, 1): (2.0, 3.0)}, 1: {(1, 1.0, 1): (3.0, 3.0)}}, 4.0: {0: {}, 1: {}}}\n",
      "fin boucle 2b cur_best {0.0: {0: (-inf, inf), 1: (-inf, inf)}, 1.0: {0: (-inf, inf), 1: (1.0, 1)}, 2.0: {0: (-inf, inf), 1: (1.0, 1)}, 3.0: {0: (1.0, 1), 1: (1.0, 1)}, 4.0: {0: (-inf, inf), 1: (-inf, inf)}} pre {0.0: {0: {}, 1: {}}, 1.0: {0: {}, 1: {(0, 1.0, 1): (1.0, 1.0)}}, 2.0: {0: {}, 1: {}}, 3.0: {0: {}, 1: {}}, 4.0: {0: {}, 1: {}}}\n",
      "nb_nodes 5 min ((1.0, 3), (3, 2.0, 1))\n",
      "apres boucle 1 cur_best {0.0: {0: (-inf, inf), 1: (-inf, inf)}, 1.0: {0: (-inf, inf), 1: (-inf, inf)}, 2.0: {0: (-inf, inf), 1: (1.0, 3)}, 3.0: {0: (-inf, inf), 1: (-inf, inf)}, 4.0: {0: (-inf, inf), 1: (-inf, inf)}} pre {0.0: {0: {}, 1: {}}, 1.0: {0: {}, 1: {}}, 2.0: {0: {}, 1: {(2, 2.0, 1): (2.0, 2.0)}}, 3.0: {0: {}, 1: {}}, 4.0: {0: {}, 1: {}}}\n",
      "fin boucle 2a cur_best {0.0: {0: (-inf, inf), 1: (-inf, inf)}, 1.0: {0: (-inf, inf), 1: (-inf, inf)}, 2.0: {0: (-inf, inf), 1: (1.0, 3)}, 3.0: {0: (-inf, inf), 1: (-inf, inf)}, 4.0: {0: (-inf, inf), 1: (-inf, inf)}} pre {0.0: {0: {}, 1: {}}, 1.0: {0: {}, 1: {}}, 2.0: {0: {}, 1: {(2, 2.0, 1): (2.0, 2.0)}}, 3.0: {0: {}, 1: {}}, 4.0: {0: {}, 1: {}}}\n",
      "fin boucle 2b cur_best {0.0: {0: (-inf, inf), 1: (-inf, inf)}, 1.0: {0: (-inf, inf), 1: (-inf, inf)}, 2.0: {0: (-inf, inf), 1: (1.0, 2)}, 3.0: {0: (1.0, 2), 1: (1.0, 2)}, 4.0: {0: (-inf, inf), 1: (-inf, inf)}} pre {0.0: {0: {}, 1: {}}, 1.0: {0: {}, 1: {}}, 2.0: {0: {}, 1: {(1, 1.0, 1): (2.0, 2.0)}}, 3.0: {0: {(1, 1.0, 1): (2.0, 3.0)}, 1: {(1, 1.0, 1): (3.0, 3.0)}}, 4.0: {0: {}, 1: {}}}\n",
      "nb_nodes 4 min ((2.0, 1), (1, 3.0, 0))\n",
      "apres boucle 1 cur_best {0.0: {0: (-inf, inf), 1: (-inf, inf)}, 1.0: {0: (-inf, inf), 1: (1.0, 1)}, 2.0: {0: (-inf, inf), 1: (1.0, 1)}, 3.0: {0: (1.0, 1), 1: (1.0, 1)}, 4.0: {0: (-inf, inf), 1: (-inf, inf)}} pre {0.0: {0: {}, 1: {}}, 1.0: {0: {}, 1: {(0, 1.0, 1): (1.0, 1.0)}}, 2.0: {0: {}, 1: {}}, 3.0: {0: {}, 1: {}}, 4.0: {0: {}, 1: {}}}\n",
      "fin boucle 2a cur_best {0.0: {0: (-inf, inf), 1: (-inf, inf)}, 1.0: {0: (-inf, inf), 1: (1.0, 1)}, 2.0: {0: (-inf, inf), 1: (1.0, 1)}, 3.0: {0: (1.0, 1), 1: (1.0, 1)}, 4.0: {0: (-inf, inf), 1: (-inf, inf)}} pre {0.0: {0: {}, 1: {}}, 1.0: {0: {}, 1: {(0, 1.0, 1): (1.0, 1.0)}}, 2.0: {0: {}, 1: {}}, 3.0: {0: {}, 1: {}}, 4.0: {0: {}, 1: {}}}\n",
      "fin boucle 2b cur_best {0.0: {0: (-inf, inf), 1: (-inf, inf)}, 1.0: {0: (-inf, inf), 1: (-inf, inf)}, 2.0: {0: (-inf, inf), 1: (1.0, 2)}, 3.0: {0: (1.0, 2), 1: (1.0, 2)}, 4.0: {0: (-inf, inf), 1: (-inf, inf)}} pre {0.0: {0: {}, 1: {}}, 1.0: {0: {}, 1: {}}, 2.0: {0: {}, 1: {(1, 1.0, 1): (2.0, 2.0)}}, 3.0: {0: {(1, 1.0, 1): (2.0, 3.0)}, 1: {(1, 1.0, 1): (3.0, 3.0)}}, 4.0: {0: {}, 1: {}}}\n",
      "nb_nodes 3 min ((2.0, 1), (1, 3.0, 1))\n",
      "apres boucle 1 cur_best {0.0: {0: (-inf, inf), 1: (-inf, inf)}, 1.0: {0: (-inf, inf), 1: (1.0, 1)}, 2.0: {0: (-inf, inf), 1: (1.0, 1)}, 3.0: {0: (1.0, 1), 1: (1.0, 1)}, 4.0: {0: (-inf, inf), 1: (-inf, inf)}} pre {0.0: {0: {}, 1: {}}, 1.0: {0: {}, 1: {(0, 1.0, 1): (1.0, 1.0)}}, 2.0: {0: {}, 1: {}}, 3.0: {0: {}, 1: {}}, 4.0: {0: {}, 1: {}}}\n",
      "fin boucle 2a cur_best {0.0: {0: (-inf, inf), 1: (-inf, inf)}, 1.0: {0: (-inf, inf), 1: (1.0, 1)}, 2.0: {0: (-inf, inf), 1: (1.0, 1)}, 3.0: {0: (1.0, 1), 1: (1.0, 1)}, 4.0: {0: (-inf, inf), 1: (-inf, inf)}} pre {0.0: {0: {}, 1: {}}, 1.0: {0: {}, 1: {(0, 1.0, 1): (1.0, 1.0)}}, 2.0: {0: {}, 1: {}}, 3.0: {0: {}, 1: {}}, 4.0: {0: {}, 1: {}}}\n",
      "fin boucle 2b cur_best {0.0: {0: (-inf, inf), 1: (-inf, inf)}, 1.0: {0: (-inf, inf), 1: (-inf, inf)}, 2.0: {0: (-inf, inf), 1: (1.0, 2)}, 3.0: {0: (1.0, 2), 1: (1.0, 2)}, 4.0: {0: (-inf, inf), 1: (-inf, inf)}} pre {0.0: {0: {}, 1: {}}, 1.0: {0: {}, 1: {}}, 2.0: {0: {}, 1: {(1, 1.0, 1): (2.0, 2.0)}}, 3.0: {0: {(1, 1.0, 1): (2.0, 3.0)}, 1: {(1, 1.0, 1): (3.0, 3.0)}}, 4.0: {0: {}, 1: {}}}\n",
      "nb_nodes 2 min ((2.0, 2), (2, 3.0, 0))\n",
      "apres boucle 1 cur_best {0.0: {0: (-inf, inf), 1: (-inf, inf)}, 1.0: {0: (-inf, inf), 1: (-inf, inf)}, 2.0: {0: (-inf, inf), 1: (1.0, 2)}, 3.0: {0: (1.0, 2), 1: (1.0, 2)}, 4.0: {0: (-inf, inf), 1: (-inf, inf)}} pre {0.0: {0: {}, 1: {}}, 1.0: {0: {}, 1: {}}, 2.0: {0: {}, 1: {(1, 1.0, 1): (2.0, 2.0)}}, 3.0: {0: {(1, 1.0, 1): (2.0, 3.0)}, 1: {(1, 1.0, 1): (3.0, 3.0)}}, 4.0: {0: {}, 1: {}}}\n",
      "fin boucle 2a cur_best {0.0: {0: (-inf, inf), 1: (-inf, inf)}, 1.0: {0: (-inf, inf), 1: (-inf, inf)}, 2.0: {0: (-inf, inf), 1: (1.0, 2)}, 3.0: {0: (1.0, 2), 1: (1.0, 2)}, 4.0: {0: (-inf, inf), 1: (-inf, inf)}} pre {0.0: {0: {}, 1: {}}, 1.0: {0: {}, 1: {}}, 2.0: {0: {}, 1: {(1, 1.0, 1): (2.0, 2.0)}}, 3.0: {0: {(1, 1.0, 1): (2.0, 3.0)}, 1: {(1, 1.0, 1): (3.0, 3.0)}}, 4.0: {0: {}, 1: {}}}\n",
      "fin boucle 2b cur_best {0.0: {0: (-inf, inf), 1: (-inf, inf)}, 1.0: {0: (-inf, inf), 1: (1.0, 1)}, 2.0: {0: (-inf, inf), 1: (1.0, 1)}, 3.0: {0: (1.0, 1), 1: (1.0, 1)}, 4.0: {0: (-inf, inf), 1: (-inf, inf)}} pre {0.0: {0: {}, 1: {}}, 1.0: {0: {}, 1: {(0, 1.0, 1): (1.0, 1.0)}}, 2.0: {0: {}, 1: {}}, 3.0: {0: {}, 1: {}}, 4.0: {0: {}, 1: {}}}\n",
      "nb_nodes 1 min ((2.0, 2), (2, 3.0, 1))\n",
      "apres boucle 1 cur_best {0.0: {0: (-inf, inf), 1: (-inf, inf)}, 1.0: {0: (-inf, inf), 1: (-inf, inf)}, 2.0: {0: (-inf, inf), 1: (1.0, 2)}, 3.0: {0: (1.0, 2), 1: (1.0, 2)}, 4.0: {0: (-inf, inf), 1: (-inf, inf)}} pre {0.0: {0: {}, 1: {}}, 1.0: {0: {}, 1: {}}, 2.0: {0: {}, 1: {(1, 1.0, 1): (2.0, 2.0)}}, 3.0: {0: {(1, 1.0, 1): (2.0, 3.0)}, 1: {(1, 1.0, 1): (3.0, 3.0)}}, 4.0: {0: {}, 1: {}}}\n",
      "fin boucle 2a cur_best {0.0: {0: (-inf, inf), 1: (-inf, inf)}, 1.0: {0: (-inf, inf), 1: (-inf, inf)}, 2.0: {0: (-inf, inf), 1: (1.0, 2)}, 3.0: {0: (1.0, 2), 1: (1.0, 2)}, 4.0: {0: (-inf, inf), 1: (-inf, inf)}} pre {0.0: {0: {}, 1: {}}, 1.0: {0: {}, 1: {}}, 2.0: {0: {}, 1: {(1, 1.0, 1): (2.0, 2.0)}}, 3.0: {0: {(1, 1.0, 1): (2.0, 3.0)}, 1: {(1, 1.0, 1): (3.0, 3.0)}}, 4.0: {0: {}, 1: {}}}\n",
      "fin boucle 2b cur_best {0.0: {0: (-inf, inf), 1: (-inf, inf)}, 1.0: {0: (-inf, inf), 1: (1.0, 1)}, 2.0: {0: (-inf, inf), 1: (1.0, 1)}, 3.0: {0: (1.0, 1), 1: (1.0, 1)}, 4.0: {0: (-inf, inf), 1: (-inf, inf)}} pre {0.0: {0: {}, 1: {}}, 1.0: {0: {}, 1: {(0, 1.0, 1): (1.0, 1.0)}}, 2.0: {0: {}, 1: {}}, 3.0: {0: {}, 1: {}}, 4.0: {0: {}, 1: {}}}\n"
     ]
    }
   ],
   "source": [
    "pre, cur_best = bt.dijkstra_directed_edge(nouveau, node, events, events_reverse, neighbors, link_ind, neighbors_inv, unt)"
   ]
  },
  {
   "cell_type": "code",
   "execution_count": 18,
   "metadata": {},
   "outputs": [
    {
     "data": {
      "text/plain": [
       "{0.0: {0: {}, 1: {}},\n",
       " 1.0: {0: {}, 1: {}},\n",
       " 2.0: {0: {}, 1: {(1, 1.0, 1): (2.0, 2.0)}},\n",
       " 3.0: {0: {(1, 1.0, 1): (2.0, 3.0)}, 1: {(1, 1.0, 1): (3.0, 3.0)}},\n",
       " 4.0: {0: {}, 1: {}}}"
      ]
     },
     "execution_count": 18,
     "metadata": {},
     "output_type": "execute_result"
    }
   ],
   "source": [
    "pre[2]"
   ]
  },
  {
   "cell_type": "code",
   "execution_count": 13,
   "metadata": {},
   "outputs": [],
   "source": [
    "cur_b_arr = bt. cur_best_to_array_edge(nouveau, cur_best, events, events_reverse)"
   ]
  },
  {
   "cell_type": "code",
   "execution_count": 14,
   "metadata": {},
   "outputs": [],
   "source": [
    "pre2, cur_best2 = bt.dijkstra_directed(nouveau, node, events, events_reverse, neighbors, link_ind, neighbors_inv, unt)\n"
   ]
  },
  {
   "cell_type": "code",
   "execution_count": 16,
   "metadata": {},
   "outputs": [],
   "source": [
    "lat = bt.latencies(nouveau, cur_b_arr, events, events_reverse)\n",
    "lat_triplet, lat_rev_triplet = bt.latencies_without_0_and_rev(nouveau, lat, events)"
   ]
  },
  {
   "cell_type": "code",
   "execution_count": 17,
   "metadata": {},
   "outputs": [
    {
     "data": {
      "text/plain": [
       "[[1.0, 1.0, 1]]"
      ]
     },
     "execution_count": 17,
     "metadata": {},
     "output_type": "execute_result"
    }
   ],
   "source": [
    "lat_triplet[1]"
   ]
  },
  {
   "cell_type": "code",
   "execution_count": 13,
   "metadata": {},
   "outputs": [],
   "source": [
    "G = bt.predecessor_graph(nouveau, pre,node)\n",
    "GG = bt.graph_to_ordered(G, events, events_reverse)\n",
    "Gp = bt.instant_graphs(G)\n",
    "GT = bt.interval_graph(Gp)"
   ]
  },
  {
   "cell_type": "code",
   "execution_count": 14,
   "metadata": {},
   "outputs": [],
   "source": [
    "edge = bt.edges(nouveau)"
   ]
  },
  {
   "cell_type": "code",
   "execution_count": 15,
   "metadata": {},
   "outputs": [
    {
     "name": "stdout",
     "output_type": "stream",
     "text": [
      "1\n"
     ]
    }
   ],
   "source": [
    "before, after = bt.volume_instantenuous(nouveau, G, events, events_reverse, edge)\n",
    "mx = bt.max_volume_superposition(GT)\n",
    "print(mx)"
   ]
  },
  {
   "cell_type": "code",
   "execution_count": 16,
   "metadata": {},
   "outputs": [],
   "source": [
    "sigma = bt.volume_metapaths_at_t(G, node, cur_best, mx)\n",
    "f_edge = bt.dictionary_first_edge(G,  cur_best)\n",
    "sigma_r = bt.optimal_with_resting_con(nouveau, node, f_edge, events, G, sigma, cur_best, unt)"
   ]
  },
  {
   "cell_type": "code",
   "execution_count": 17,
   "metadata": {},
   "outputs": [
    {
     "data": {
      "text/plain": [
       "{(0, 0.0): vol(1,0),\n",
       " (0, 1.0): vol(1,0),\n",
       " (0, 2.0): vol(1,0),\n",
       " (0, 3.0): vol(1,0),\n",
       " (0, 4.0): vol(1,0),\n",
       " (1, 0.0): vol(0,0),\n",
       " (1, 1.0): vol(1,0),\n",
       " (1, 2.0): vol(1,0),\n",
       " (1, 3.0): vol(1,0),\n",
       " (1, 4.0): vol(1,0),\n",
       " (2, 0.0): vol(0,0),\n",
       " (2, 1.0): vol(0,0),\n",
       " (2, 2.0): vol(1,0),\n",
       " (2, 3.0): vol(1.0,1),\n",
       " (2, 4.0): vol(1.0,1),\n",
       " (3, 0.0): vol(0,0),\n",
       " (3, 1.0): vol(0,0),\n",
       " (3, 2.0): vol(1,0),\n",
       " (3, 3.0): vol(1,0),\n",
       " (3, 4.0): vol(1,0)}"
      ]
     },
     "execution_count": 17,
     "metadata": {},
     "output_type": "execute_result"
    }
   ],
   "source": [
    "sigma_r"
   ]
  },
  {
   "cell_type": "code",
   "execution_count": 18,
   "metadata": {},
   "outputs": [],
   "source": [
    "contri, prev_next = bt.contribution_each_latency_con(nouveau, lat_rev_triplet,events[0],events[len(events)-1], before, after)\n",
    "latence_arrival = {v : { y: [x,z] for (x,y,z) in lat_triplet[v] }  for v in nouveau.nodes }\n",
    "latence_depar = {v : { x : [y,z] for (x,y,z) in lat_triplet[v] }  for v in nouveau.nodes }"
   ]
  },
  {
   "cell_type": "code",
   "execution_count": 19,
   "metadata": {},
   "outputs": [],
   "source": [
    "preced = bt.preced_node(S, G,events,events_reverse)"
   ]
  },
  {
   "cell_type": "code",
   "execution_count": 20,
   "metadata": {},
   "outputs": [
    {
     "data": {
      "text/plain": [
       "{0: {1.0: 1.0},\n",
       " 1: {1.0: 1.0},\n",
       " 2: {2.0: 2.0, 3.0: 3.0, 4.0: 3.0},\n",
       " 3: {2.0: 2.0}}"
      ]
     },
     "execution_count": 20,
     "metadata": {},
     "output_type": "execute_result"
    }
   ],
   "source": [
    "preced"
   ]
  },
  {
   "cell_type": "code",
   "execution_count": 21,
   "metadata": {},
   "outputs": [],
   "source": [
    "deltasvvt = bt.dictionary_svvt(G, node, latence_arrival, contri, prev_next, sigma_r,  latence_depar)"
   ]
  },
  {
   "cell_type": "code",
   "execution_count": 22,
   "metadata": {},
   "outputs": [
    {
     "data": {
      "text/plain": [
       "{(0, 1.0): vol(0,0),\n",
       " (1, 1.0): vol(3.0,0),\n",
       " (2, 2.0): vol(2.0,0),\n",
       " (2, 3.0): vol(0,0),\n",
       " (3, 2.0): vol(2.0,0)}"
      ]
     },
     "execution_count": 22,
     "metadata": {},
     "output_type": "execute_result"
    }
   ],
   "source": [
    "deltasvvt"
   ]
  },
  {
   "cell_type": "code",
   "execution_count": 29,
   "metadata": {},
   "outputs": [],
   "source": [
    "contribution, edge_contri = bt.general_contribution_from_node(nouveau, G, node, GG, sigma_r, deltasvvt, events, events_reverse, pre, GT, unt, preced, edge = True)"
   ]
  },
  {
   "cell_type": "code",
   "execution_count": 30,
   "metadata": {},
   "outputs": [
    {
     "data": {
      "text/plain": [
       "{(1, 2, 3.0): vol(0,0),\n",
       " (2, 3, 2.0): vol(2.0,0),\n",
       " (1, 2, 2.0): vol(4.0,0),\n",
       " (0, 1, 1.0): vol(7.0,0)}"
      ]
     },
     "execution_count": 30,
     "metadata": {},
     "output_type": "execute_result"
    }
   ],
   "source": [
    "edge_contri"
   ]
  },
  {
   "cell_type": "code",
   "execution_count": null,
   "metadata": {},
   "outputs": [],
   "source": []
  }
 ],
 "metadata": {
  "kernelspec": {
   "display_name": "Python 3",
   "language": "python",
   "name": "python3"
  },
  "language_info": {
   "codemirror_mode": {
    "name": "ipython",
    "version": 3
   },
   "file_extension": ".py",
   "mimetype": "text/x-python",
   "name": "python",
   "nbconvert_exporter": "python",
   "pygments_lexer": "ipython3",
   "version": "3.9.5"
  }
 },
 "nbformat": 4,
 "nbformat_minor": 2
}
