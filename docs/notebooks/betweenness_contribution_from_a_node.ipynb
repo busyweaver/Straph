{
 "cells": [
  {
   "cell_type": "code",
   "execution_count": 3,
   "metadata": {},
   "outputs": [
    {
     "name": "stdout",
     "output_type": "stream",
     "text": [
      "Processing /home/mehdi/Straph\n",
      "\u001b[33m  DEPRECATION: A future pip version will change local packages to be built in-place without first copying to a temporary directory. We recommend you use --use-feature=in-tree-build to test your packages with this new behavior before it becomes the default.\n",
      "   pip 21.3 will remove support for this functionality. You can find discussion regarding this at https://github.com/pypa/pip/issues/7555.\u001b[0m\n",
      "Building wheels for collected packages: straph\n",
      "  Building wheel for straph (setup.py) ... \u001b[?25ldone\n",
      "\u001b[?25h  Created wheel for straph: filename=straph-0.3-py3-none-any.whl size=122307 sha256=5dd0a9ce65c7e19d96a04864b770709474f38208891258404cc75eeb6dd0f11a\n",
      "  Stored in directory: /tmp/pip-ephem-wheel-cache-suajo7np/wheels/b5/a9/15/900863b02cb736e4f08449e03d1d2d6ad447e06de70afc5fed\n",
      "Successfully built straph\n",
      "Installing collected packages: straph\n",
      "  Attempting uninstall: straph\n",
      "    Found existing installation: straph 0.3\n",
      "    Uninstalling straph-0.3:\n",
      "      Successfully uninstalled straph-0.3\n",
      "Successfully installed straph-0.3\n",
      "\u001b[33mWARNING: You are using pip version 21.1.2; however, version 22.2 is available.\n",
      "You should consider upgrading via the '/home/mehdi/sage_github/sage/bin/python3 -m pip install --upgrade pip' command.\u001b[0m\n",
      "Note: you may need to restart the kernel to use updated packages.\n"
     ]
    }
   ],
   "source": [
    "pip install ../../"
   ]
  },
  {
   "cell_type": "code",
   "execution_count": 1,
   "metadata": {},
   "outputs": [
    {
     "name": "stdout",
     "output_type": "stream",
     "text": [
      "Nb of Nodes :  6\n",
      "Nb of segmented nodes :  11.0\n",
      "Nb of links :  20\n",
      "Nb of segmented links :  34.0\n",
      "Nb of event times :  17\n"
     ]
    }
   ],
   "source": [
    "#sigmasv_links.sg\n",
    "import matplotlib.pyplot as plt\n",
    "plt.rcParams[\"figure.figsize\"] = (25,20)\n",
    "import straph as sg\n",
    "import straph.betweenness as bt\n",
    "import straph.betweenness.volumes as vol\n",
    "path_directory = \"examples/\"\n",
    "S = sg.read_stream_graph(path_nodes=path_directory + \"stream_ex_nodes.sg\",\n",
    "                      path_links=path_directory + \"stream_ex_links.sg\")\n",
    "S.describe()"
   ]
  },
  {
   "cell_type": "code",
   "execution_count": 4,
   "metadata": {},
   "outputs": [],
   "source": [
    "#for i in range(0,2*int(max(list(S.event_times())))):\n",
    "#    S.add_point(i/2)\n",
    "S.sg_to_streamfig(\"stream_example\",\"eps\")\n",
    "nouveau = S.fragmented_stream_graph()"
   ]
  },
  {
   "cell_type": "code",
   "execution_count": 5,
   "metadata": {},
   "outputs": [],
   "source": [
    "#nouveau.plot()\n",
    "#plt.savefig(\"link_s_con.png\",dpi=300,bbox_inches ='tight' )"
   ]
  },
  {
   "cell_type": "code",
   "execution_count": 7,
   "metadata": {},
   "outputs": [],
   "source": [
    "events, events_reverse = bt.events_dic(nouveau)"
   ]
  },
  {
   "cell_type": "code",
   "execution_count": 8,
   "metadata": {},
   "outputs": [],
   "source": [
    "link_ind = bt.link_index(nouveau)\n",
    "neighbors, neighbors_inv = bt.neighbors_direct(nouveau)\n",
    "unt = bt.until(nouveau, events, events_reverse)"
   ]
  },
  {
   "cell_type": "code",
   "execution_count": 9,
   "metadata": {},
   "outputs": [],
   "source": [
    "node = 0"
   ]
  },
  {
   "cell_type": "code",
   "execution_count": 10,
   "metadata": {},
   "outputs": [],
   "source": [
    "pre, cur_best = bt.dijkstra_directed(nouveau, node, events, events_reverse, neighbors, link_ind, neighbors_inv, unt)\n",
    "cur_b_arr = bt. cur_best_to_array(nouveau, cur_best, events, events_reverse)"
   ]
  },
  {
   "cell_type": "code",
   "execution_count": 12,
   "metadata": {},
   "outputs": [],
   "source": [
    "lat = bt.latencies(nouveau, cur_b_arr, events, events_reverse)\n",
    "lat_triplet, lat_rev_triplet = bt.latencies_without_0_and_rev(nouveau, lat, events)"
   ]
  },
  {
   "cell_type": "code",
   "execution_count": 13,
   "metadata": {},
   "outputs": [],
   "source": [
    "G = bt.predecessor_graph(nouveau, pre,node)\n",
    "GG = bt.graph_to_ordered(G, events, events_reverse)\n",
    "Gp = bt.instant_graphs(G)\n",
    "GT = bt.interval_graph(Gp)"
   ]
  },
  {
   "cell_type": "code",
   "execution_count": 14,
   "metadata": {},
   "outputs": [
    {
     "name": "stdout",
     "output_type": "stream",
     "text": [
      "2\n"
     ]
    }
   ],
   "source": [
    "before, after = bt.volume_instantenuous(nouveau, G, GT, events, events_reverse)\n",
    "mx = bt.max_volume_superposition(GT)\n",
    "print(mx)"
   ]
  },
  {
   "cell_type": "code",
   "execution_count": 15,
   "metadata": {},
   "outputs": [],
   "source": [
    "sigma = bt.volume_metapaths_at_t(G, node, cur_best, mx)\n",
    "f_edge = bt.dictionary_first_edge(G,  cur_best)\n",
    "sigma_r = bt.optimal_with_resting_con(nouveau, node, f_edge, events, G, sigma, cur_best, unt)"
   ]
  },
  {
   "cell_type": "code",
   "execution_count": 16,
   "metadata": {},
   "outputs": [
    {
     "data": {
      "text/plain": [
       "{(0, 0.0): vol(1,0),\n",
       " (0, 2.0): vol(1,0),\n",
       " (0, 2.5): vol(1,0),\n",
       " (0, 3.0): vol(1,0),\n",
       " (0, 4.0): vol(1,0),\n",
       " (0, 6.0): vol(1,0),\n",
       " (0, 7.0): vol(1,0),\n",
       " (0, 7.5): vol(1,0),\n",
       " (0, 8.0): vol(1,0),\n",
       " (0, 9.0): vol(1,0),\n",
       " (0, 10.0): vol(1,0),\n",
       " (0, 11.0): vol(1,0),\n",
       " (0, 12.0): vol(1,0),\n",
       " (0, 13.0): vol(1,0),\n",
       " (0, 13.5): vol(1,0),\n",
       " (0, 14.0): vol(1,0),\n",
       " (0, 15.0): vol(1,0),\n",
       " (1, 0.0): vol(0,0),\n",
       " (1, 2.0): vol(1,0),\n",
       " (1, 2.5): vol(1,0),\n",
       " (1, 3.0): vol(1,0),\n",
       " (1, 4.0): vol(1,0),\n",
       " (1, 6.0): vol(1,0),\n",
       " (1, 7.0): vol(1,0),\n",
       " (1, 7.5): vol(1,0),\n",
       " (1, 8.0): vol(1,0),\n",
       " (1, 9.0): vol(1,0),\n",
       " (1, 10.0): vol(1,0),\n",
       " (1, 11.0): vol(1,0),\n",
       " (1, 12.0): vol(1,0),\n",
       " (1, 13.0): vol(1,0),\n",
       " (1, 13.5): vol(1,0),\n",
       " (1, 14.0): vol(1,0),\n",
       " (1, 15.0): vol(1,0),\n",
       " (2, 0.0): vol(0,0),\n",
       " (2, 2.0): vol(1,0),\n",
       " (2, 2.5): vol(1,0),\n",
       " (2, 3.0): vol(1,0),\n",
       " (2, 4.0): vol(1,0),\n",
       " (2, 6.0): vol(1,0),\n",
       " (2, 7.0): vol(2,0),\n",
       " (2, 7.5): vol(0.5,1),\n",
       " (2, 8.0): vol(0.5,1),\n",
       " (2, 9.0): vol(0.5,1),\n",
       " (2, 10.0): vol(0.125,2),\n",
       " (2, 11.0): vol(0.125,2),\n",
       " (2, 12.0): vol(0.125,2),\n",
       " (2, 13.0): vol(1,0),\n",
       " (2, 13.5): vol(1,0),\n",
       " (2, 14.0): vol(1,0),\n",
       " (2, 15.0): vol(1,0),\n",
       " (3, 0.0): vol(0,0),\n",
       " (3, 2.0): vol(0,0),\n",
       " (3, 2.5): vol(0,0),\n",
       " (3, 3.0): vol(1,0),\n",
       " (3, 4.0): vol(1.0,1),\n",
       " (3, 6.0): vol(1.0,1),\n",
       " (3, 7.0): vol(2,0),\n",
       " (3, 7.5): vol(0.125,2),\n",
       " (3, 8.0): vol(0.125,2),\n",
       " (3, 9.0): vol(0.125,2),\n",
       " (3, 10.0): vol(0.125,2),\n",
       " (3, 11.0): vol(0.125,2),\n",
       " (3, 12.0): vol(0.125,2),\n",
       " (3, 13.0): vol(0.125,2),\n",
       " (3, 13.5): vol(0.125,2),\n",
       " (3, 14.0): vol(0.125,2),\n",
       " (3, 15.0): vol(0.125,2),\n",
       " (4, 0.0): vol(0,0),\n",
       " (4, 2.0): vol(0,0),\n",
       " (4, 2.5): vol(0,0),\n",
       " (4, 3.0): vol(0,0),\n",
       " (4, 4.0): vol(0,0),\n",
       " (4, 6.0): vol(1,0),\n",
       " (4, 7.0): vol(1,0),\n",
       " (4, 7.5): vol(1,0),\n",
       " (4, 8.0): vol(1,0),\n",
       " (4, 9.0): vol(1,0),\n",
       " (4, 10.0): vol(0.125,2),\n",
       " (4, 11.0): vol(0.125,2),\n",
       " (4, 12.0): vol(0.125,2),\n",
       " (4, 13.0): vol(0.125,2),\n",
       " (4, 13.5): vol(0.125,2),\n",
       " (4, 14.0): vol(1,0),\n",
       " (4, 15.0): vol(1,0),\n",
       " (5, 0.0): vol(0,0),\n",
       " (5, 2.0): vol(0,0),\n",
       " (5, 2.5): vol(0,0),\n",
       " (5, 3.0): vol(0,0),\n",
       " (5, 4.0): vol(0,0),\n",
       " (5, 6.0): vol(0,0),\n",
       " (5, 7.0): vol(0,0),\n",
       " (5, 7.5): vol(0,0),\n",
       " (5, 8.0): vol(0,0),\n",
       " (5, 9.0): vol(0,0),\n",
       " (5, 10.0): vol(0,0),\n",
       " (5, 11.0): vol(0.125,2),\n",
       " (5, 12.0): vol(0.125,2),\n",
       " (5, 13.0): vol(1,0),\n",
       " (5, 13.5): vol(1,0),\n",
       " (5, 14.0): vol(1,0),\n",
       " (5, 15.0): vol(1,0)}"
      ]
     },
     "execution_count": 16,
     "metadata": {},
     "output_type": "execute_result"
    }
   ],
   "source": [
    "sigma_r"
   ]
  },
  {
   "cell_type": "code",
   "execution_count": 17,
   "metadata": {},
   "outputs": [],
   "source": [
    "contri, prev_next = bt.contribution_each_latency_con(nouveau, lat_rev_triplet,events[0],events[len(events)-1], before, after)\n",
    "latence_arrival = {v : { y: [x,z] for (x,y,z) in lat_triplet[v] }  for v in nouveau.nodes }\n",
    "latence_depar = {v : { x : [y,z] for (x,y,z) in lat_triplet[v] }  for v in nouveau.nodes }"
   ]
  },
  {
   "cell_type": "code",
   "execution_count": 18,
   "metadata": {},
   "outputs": [],
   "source": [
    "deltasvvt = bt.dictionary_svvt(G, node, latence_arrival, contri, prev_next, sigma_r,  latence_depar)"
   ]
  },
  {
   "cell_type": "code",
   "execution_count": 19,
   "metadata": {},
   "outputs": [
    {
     "data": {
      "text/plain": [
       "{(0, 2.0): vol(0,0),\n",
       " (1, 2.0): vol(0,0),\n",
       " (0, 2.5): vol(0,0),\n",
       " (1, 2.5): vol(0,0),\n",
       " (0, 3.0): vol(0,0),\n",
       " (1, 3.0): vol(0,0),\n",
       " (0, 6.0): vol(0,0),\n",
       " (1, 6.0): vol(24.0,0),\n",
       " (0, 13.0): vol(0,0),\n",
       " (1, 13.0): vol(17.0,0),\n",
       " (2, 2.0): vol(0,0),\n",
       " (2, 2.5): vol(0,0),\n",
       " (2, 6.0): vol(24.5,0),\n",
       " (2, 7.0): vol(0,0),\n",
       " (2, 7.5): vol(0,0),\n",
       " (2, 8.0): vol(0,0),\n",
       " (3, 7.0): vol(28.0,0),\n",
       " (2, 10.0): vol(0,0),\n",
       " (3, 7.5): vol(0,0),\n",
       " (2, 13.0): vol(0,0),\n",
       " (0, 13.5): vol(0,0),\n",
       " (2, 13.5): vol(0,0),\n",
       " (3, 3.0): vol(30.0,0),\n",
       " (3, 4.0): vol(0,0),\n",
       " (4, 6.0): vol(54.0,0),\n",
       " (4, 10.0): vol(0,0),\n",
       " (5, 13.5): vol(0,0),\n",
       " (4, 14.0): vol(7.5,0),\n",
       " (5, 11.0): vol(12.0,0),\n",
       " (5, 13.0): vol(0,0)}"
      ]
     },
     "execution_count": 19,
     "metadata": {},
     "output_type": "execute_result"
    }
   ],
   "source": [
    "deltasvvt"
   ]
  },
  {
   "cell_type": "code",
   "execution_count": 20,
   "metadata": {},
   "outputs": [],
   "source": [
    "contribution = bt.general_contribution_from_node(nouveau, G, node, GG, sigma_r, deltasvvt, events, events_reverse, pre, GT, unt)"
   ]
  },
  {
   "cell_type": "code",
   "execution_count": 21,
   "metadata": {},
   "outputs": [
    {
     "data": {
      "text/plain": [
       "{2: {2.0: vol(0,0),\n",
       "  2.5: vol(30.0,0),\n",
       "  8.0: vol(0,0),\n",
       "  10.0: vol(0,0),\n",
       "  7.5: vol(0,0),\n",
       "  7.0: vol(28.0,0),\n",
       "  6.0: vol(38.5,0),\n",
       "  13.0: vol(0,0),\n",
       "  13.5: vol(7.5,0),\n",
       "  0.0: vol(0,0),\n",
       "  3.0: vol(0,0),\n",
       "  4.0: vol(0,0),\n",
       "  9.0: vol(0,0),\n",
       "  11.0: vol(0,0),\n",
       "  12.0: vol(0,0),\n",
       "  14.0: vol(0,0),\n",
       "  15.0: vol(0,0)},\n",
       " 1: {2.0: vol(0,0),\n",
       "  2.5: vol(30.0,0),\n",
       "  3.0: vol(0,0),\n",
       "  6.0: vol(154.5,0),\n",
       "  13.0: vol(17.0,0),\n",
       "  0.0: vol(0,0),\n",
       "  4.0: vol(0,0),\n",
       "  7.0: vol(0,0),\n",
       "  7.5: vol(0,0),\n",
       "  8.0: vol(0,0),\n",
       "  9.0: vol(0,0),\n",
       "  10.0: vol(0,0),\n",
       "  11.0: vol(0,0),\n",
       "  12.0: vol(0,0),\n",
       "  13.5: vol(0,0),\n",
       "  14.0: vol(0,0),\n",
       "  15.0: vol(0,0)},\n",
       " 0: {2.0: vol(0,0),\n",
       "  2.5: vol(30.0,0),\n",
       "  3.0: vol(0,0),\n",
       "  6.0: vol(154.5,0),\n",
       "  13.0: vol(17.0,0),\n",
       "  13.5: vol(7.5,0),\n",
       "  0.0: vol(0,0),\n",
       "  4.0: vol(0,0),\n",
       "  7.0: vol(0,0),\n",
       "  7.5: vol(0,0),\n",
       "  8.0: vol(0,0),\n",
       "  9.0: vol(0,0),\n",
       "  10.0: vol(0,0),\n",
       "  11.0: vol(0,0),\n",
       "  12.0: vol(0,0),\n",
       "  14.0: vol(0,0),\n",
       "  15.0: vol(0,0)},\n",
       " 3: {4.0: vol(0,0),\n",
       "  3.0: vol(30.0,0),\n",
       "  7.5: vol(12.0,0),\n",
       "  7.0: vol(28.0,0),\n",
       "  0.0: vol(0,0),\n",
       "  2.0: vol(0,0),\n",
       "  2.5: vol(0,0),\n",
       "  6.0: vol(0,0),\n",
       "  8.0: vol(0,0),\n",
       "  9.0: vol(0,0),\n",
       "  10.0: vol(0,0),\n",
       "  11.0: vol(0,0),\n",
       "  12.0: vol(0,0),\n",
       "  13.0: vol(0,0),\n",
       "  13.5: vol(0,0),\n",
       "  14.0: vol(0,0),\n",
       "  15.0: vol(0,0)},\n",
       " 5: {11.0: vol(12.0,0),\n",
       "  13.0: vol(0,0),\n",
       "  13.5: vol(7.5,0),\n",
       "  0.0: vol(0,0),\n",
       "  2.0: vol(0,0),\n",
       "  2.5: vol(0,0),\n",
       "  3.0: vol(0,0),\n",
       "  4.0: vol(0,0),\n",
       "  6.0: vol(0,0),\n",
       "  7.0: vol(0,0),\n",
       "  7.5: vol(0,0),\n",
       "  8.0: vol(0,0),\n",
       "  9.0: vol(0,0),\n",
       "  10.0: vol(0,0),\n",
       "  12.0: vol(0,0),\n",
       "  14.0: vol(0,0),\n",
       "  15.0: vol(0,0)},\n",
       " 4: {10.0: vol(0,0),\n",
       "  6.0: vol(54.0,0),\n",
       "  14.0: vol(7.5,0),\n",
       "  0.0: vol(0,0),\n",
       "  2.0: vol(0,0),\n",
       "  2.5: vol(0,0),\n",
       "  3.0: vol(0,0),\n",
       "  4.0: vol(0,0),\n",
       "  7.0: vol(0,0),\n",
       "  7.5: vol(0,0),\n",
       "  8.0: vol(0,0),\n",
       "  9.0: vol(0,0),\n",
       "  11.0: vol(0,0),\n",
       "  12.0: vol(0,0),\n",
       "  13.0: vol(0,0),\n",
       "  13.5: vol(0,0),\n",
       "  15.0: vol(0,0)}}"
      ]
     },
     "execution_count": 21,
     "metadata": {},
     "output_type": "execute_result"
    }
   ],
   "source": [
    "contribution"
   ]
  }
 ],
 "metadata": {
  "kernelspec": {
   "display_name": "Python 3",
   "language": "python",
   "name": "python3"
  },
  "language_info": {
   "codemirror_mode": {
    "name": "ipython",
    "version": 3
   },
   "file_extension": ".py",
   "mimetype": "text/x-python",
   "name": "python",
   "nbconvert_exporter": "python",
   "pygments_lexer": "ipython3",
   "version": "3.9.5"
  }
 },
 "nbformat": 4,
 "nbformat_minor": 2
}
