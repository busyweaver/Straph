{
 "cells": [
  {
   "cell_type": "code",
   "execution_count": 1,
   "metadata": {},
   "outputs": [
    {
     "name": "stdout",
     "output_type": "stream",
     "text": [
      "Defaulting to user installation because normal site-packages is not writeable\n",
      "Processing /home/mehdi/code/Straph\n",
      "  Preparing metadata (setup.py) ... \u001b[?25ldone\n",
      "\u001b[?25hBuilding wheels for collected packages: straph\n",
      "  Building wheel for straph (setup.py) ... \u001b[?25ldone\n",
      "\u001b[?25h  Created wheel for straph: filename=straph-0.3-py3-none-any.whl size=128930 sha256=ed5247167e0db287e00bfa020af42b5888e7edf9916986abf2447bf19ec18e03\n",
      "  Stored in directory: /tmp/pip-ephem-wheel-cache-20k5lcpr/wheels/37/09/70/7b86f721614374ec311fa16ed21dbb33c1959d2c6f80461dfd\n",
      "Successfully built straph\n",
      "Installing collected packages: straph\n",
      "  Attempting uninstall: straph\n",
      "    Found existing installation: straph 0.3\n",
      "    Uninstalling straph-0.3:\n",
      "      Successfully uninstalled straph-0.3\n",
      "Successfully installed straph-0.3\n",
      "Note: you may need to restart the kernel to use updated packages.\n"
     ]
    }
   ],
   "source": [
    "pip install ../../"
   ]
  },
  {
   "cell_type": "code",
   "execution_count": 1,
   "metadata": {},
   "outputs": [],
   "source": [
    "import straph as sg\n",
    "import pandas as pd\n",
    "import matplotlib.pyplot as plt\n",
    "import straph.betweenness as bt\n",
    "import numpy\n",
    "import time\n",
    "import os"
   ]
  },
  {
   "cell_type": "code",
   "execution_count": 2,
   "metadata": {},
   "outputs": [],
   "source": [
    "def check_betweenness(bet_moi, bet_mat):\n",
    "    nb_error = 0\n",
    "    nb_values = 0\n",
    "    for v in bet_moi.keys():\n",
    "        for t in bet_moi[v].keys():\n",
    "            nb_values += 1\n",
    "            if (v.lower() in bet_mat ):\n",
    "                if not (abs(bet_moi[v][t] - bet_mat[v.lower()][t]) < 1/100):\n",
    "                    nb_error +=1\n",
    "                    print(\"erreur \",v,t,\"=>   \", bet_moi[v][t], bet_mat[v.lower()][t])\n",
    "    return nb_error, nb_values"
   ]
  },
  {
   "cell_type": "code",
   "execution_count": 3,
   "metadata": {},
   "outputs": [
    {
     "name": "stdout",
     "output_type": "stream",
     "text": [
      "4\n",
      "4\n",
      "fin_undirec\n",
      "fin_to link stream\n",
      "fin_write to matthieu\n",
      "fin moi\n",
      "archive_code\n",
      "[11.69718070336091, 74.0114054620512, 86.91523388501271, 87.34426473108041, 100.0, 100.0]\n",
      "latency and distances finished\n",
      "fin mem\n",
      "fin mat\n",
      "fin check\n",
      "fin_undirec\n",
      "fin_to link stream\n",
      "fin_write to matthieu\n",
      "fin moi\n",
      "archive_code\n",
      "[3.1306041741462343, 26.69482142897417, 28.10494637843524, 28.18164179568262, 31.237406293581575, 35.22764352491333, 38.2754143882826, 41.19508818100606, 41.95653817197997, 43.15258000124548, 59.08643513982171, 59.238539734247354, 62.63879236534629, 65.72690960338475, 67.4352375458463, 98.55404271638497, 100.0]\n",
      "latency and distances finished\n",
      "fin mem\n",
      "fin mat\n",
      "fin check\n",
      "6\n",
      "6\n",
      "fin_undirec\n",
      "fin_to link stream\n",
      "fin_write to matthieu\n",
      "fin moi\n",
      "archive_code\n",
      "[2.360226908366714, 20.228088236736742, 31.207666060626373, 31.225527988632273, 50.20623707413129, 52.80267300874569, 55.66839993959935, 56.41286365770225, 58.97377475984348, 68.53578882813916, 76.44936162017433, 93.07110776561873, 95.92177121931262, 96.39452116759017, 97.43317426424942, 100.0, 100.0]\n",
      "latency and distances finished\n",
      "fin mem\n",
      "fin mat\n",
      "fin check\n",
      "fin_undirec\n",
      "fin_to link stream\n",
      "fin_write to matthieu\n",
      "fin moi\n",
      "archive_code\n",
      "[0.552693769936119, 82.242833859185, 86.18413908045213, 87.82767327186413, 98.78607375926642, 99.84413498327484, 100.0, 100.0]\n",
      "latency and distances finished\n",
      "fin mem\n",
      "fin mat\n",
      "fin check\n",
      "nb_error 0\n"
     ]
    }
   ],
   "source": [
    "nb_error = 0\n",
    "repet = 2\n",
    "res_moi = []\n",
    "res_matthieu = []\n",
    "res_matthieu_mem = []\n",
    "res_events = []\n",
    "for nb_node in range(4,7,2):\n",
    "    print(nb_node)\n",
    "    if nb_error > 0:\n",
    "        break\n",
    "    print(nb_node)\n",
    "    temps_moi = 0\n",
    "    temps_matthieu = 0\n",
    "    temps_matthieu_mem = 0\n",
    "    nb_values = 0\n",
    "    for rep in range(repet):\n",
    "        T = [0, 100]\n",
    "        occurrence_law_node = 'poisson'\n",
    "        presence_law_node = 'uniform'\n",
    "        occurrence_param_node = 3\n",
    "        presence_param_node = 25\n",
    "        occurrence_law_link = 'poisson'\n",
    "        presence_law_link = 'uniform'\n",
    "        occurrence_param_link = 5\n",
    "        presence_param_link = 15\n",
    "        p_link = numpy.sqrt(nb_node)/nb_node\n",
    "        S = sg.erdos_renyi(T,nb_node,occurrence_law_node,occurrence_param_node,presence_law_node,\n",
    "                   presence_param_node,\n",
    "                    occurrence_law_link,\n",
    "                    occurrence_param_link,\n",
    "                    presence_law_link,\n",
    "                    presence_param_link,\n",
    "                    p_link)\n",
    "        un_S = bt.to_undirected(S)\n",
    "        print(\"fin_undirec\")\n",
    "        SS = un_S.stream_graph_to_link_stream()\n",
    "        print(\"fin_to link stream\")\n",
    "        SS.write_to_matthieu_link_stream(\"any\")\n",
    "        print(\"fin_write to matthieu\")\n",
    "        start = time.time()\n",
    "        bt.simulations(SS, \"papier\")\n",
    "        end = time.time()\n",
    "        temps_moi += (end - start)\n",
    "        print(\"fin moi\")\n",
    "        \n",
    "        \n",
    "        bet_moi = bt.read_dictionary(\"papier_betweenness.pic\")\n",
    "        cmd = 'mv any_mat.ls archive_code/Test'\n",
    "        os.system(cmd)\n",
    "        \n",
    "        cmd = 'python2 archive_code/betweenness_memoise.py Test/any_mat.ls -1 res'\n",
    "        start = time.time()\n",
    "        os.system(cmd)\n",
    "        end = time.time()\n",
    "        temps_matthieu_mem += (end- start)\n",
    "        print(\"fin mem\")\n",
    "        \n",
    "        cmd = 'python2 archive_code/betweenness_all.py Test/any_mat.ls -1 res'\n",
    "        start = time.time()\n",
    "        os.system(cmd)\n",
    "        end = time.time()\n",
    "        temps_matthieu += (end- start)\n",
    "        print(\"fin mat\")\n",
    "        \n",
    "        bet_mat = bt.read_dictionary(\"res_betweenness.pic\")\n",
    "        error, values = check_betweenness(bet_moi, bet_mat)\n",
    "        nb_values += values\n",
    "        nb_error += error\n",
    "        print(\"fin check\")\n",
    "        if nb_error > 0:\n",
    "            SS.write_to_sg(\"examples/any\")\n",
    "            break\n",
    "    res_moi.append([nb_node, temps_moi/repet])\n",
    "    res_matthieu.append([nb_node, temps_matthieu/repet])\n",
    "    res_matthieu_mem.append([nb_node, temps_matthieu_mem/repet])\n",
    "    res_events.append([nb_node, nb_values/repet])\n",
    "\n",
    "        \n",
    "print(\"nb_error\",nb_error)"
   ]
  },
  {
   "cell_type": "code",
   "execution_count": 4,
   "metadata": {},
   "outputs": [
    {
     "name": "stdout",
     "output_type": "stream",
     "text": [
      "0\n"
     ]
    }
   ],
   "source": [
    "print(nb_error)"
   ]
  },
  {
   "cell_type": "code",
   "execution_count": 5,
   "metadata": {},
   "outputs": [
    {
     "data": {
      "text/plain": [
       "[[4, 0.025435447692871094], [6, 0.018483638763427734]]"
      ]
     },
     "execution_count": 5,
     "metadata": {},
     "output_type": "execute_result"
    }
   ],
   "source": [
    "res_moi"
   ]
  },
  {
   "cell_type": "code",
   "execution_count": 6,
   "metadata": {},
   "outputs": [
    {
     "data": {
      "text/plain": [
       "[[4, 0.037703752517700195], [6, 0.06073176860809326]]"
      ]
     },
     "execution_count": 6,
     "metadata": {},
     "output_type": "execute_result"
    }
   ],
   "source": [
    "res_matthieu_mem"
   ]
  },
  {
   "cell_type": "code",
   "execution_count": 7,
   "metadata": {},
   "outputs": [
    {
     "data": {
      "text/plain": [
       "[[4, 0.11840224266052246], [6, 0.3753080368041992]]"
      ]
     },
     "execution_count": 7,
     "metadata": {},
     "output_type": "execute_result"
    }
   ],
   "source": [
    "res_matthieu"
   ]
  },
  {
   "cell_type": "code",
   "execution_count": 8,
   "metadata": {},
   "outputs": [
    {
     "data": {
      "text/plain": [
       "[[4, 44.0], [6, 69.0]]"
      ]
     },
     "execution_count": 8,
     "metadata": {},
     "output_type": "execute_result"
    }
   ],
   "source": [
    "res_events"
   ]
  },
  {
   "cell_type": "code",
   "execution_count": 6,
   "metadata": {},
   "outputs": [],
   "source": [
    "#SS.write_to_sg(\"examples/erdos10\")\n"
   ]
  },
  {
   "cell_type": "code",
   "execution_count": 74,
   "metadata": {},
   "outputs": [
    {
     "data": {
      "image/png": "[encoded data removed]",
      "text/plain": [
       "<Figure size 432x288 with 1 Axes>"
      ]
     },
     "metadata": {
      "needs_background": "light"
     },
     "output_type": "display_data"
    }
   ],
   "source": [
    "import numpy as np\n",
    "import matplotlib.pyplot as plt\n",
    "plt.figure()\n",
    "plt.title('Time comparison of 3 algorithms')\n",
    "\n",
    "xs = [x[0] for x in res_moi]\n",
    "ys = [x[1] for x in res_moi]\n",
    "line1 = plt.plot(xs,ys, color='blue', alpha=0.7, label=\"brandes\")\n",
    "xss = [x[0] for x in res_matthieu]\n",
    "yss = [x[1] for x in res_matthieu]\n",
    "line2 = plt.plot(xss,yss, color='red', alpha=0.7, label=\"basic\")\n",
    "xsss = [x[0] for x in res_matthieu_mem]\n",
    "ysss = [x[1] for x in res_matthieu_mem]\n",
    "line3 = plt.plot(xsss,ysss, color='orange', alpha=0.7, label = \"basic mem\")\n",
    "\n",
    "plt.ylabel('time in seconds')\n",
    "plt.xlabel('number of nodes')\n",
    "plt.legend(loc='best')\n",
    "plt.grid( color='black', alpha=0.1, linestyle='dashdot')\n",
    "plt.savefig('time_comp_normal.png')\n",
    "plt.show()\n"
   ]
  },
  {
   "cell_type": "code",
   "execution_count": 75,
   "metadata": {},
   "outputs": [
    {
     "data": {
      "image/png": "[encoded data removed]",
      "text/plain": [
       "<Figure size 432x288 with 1 Axes>"
      ]
     },
     "metadata": {
      "needs_background": "light"
     },
     "output_type": "display_data"
    }
   ],
   "source": [
    "import numpy as np\n",
    "import math\n",
    "import matplotlib.pyplot as plt\n",
    "plt.figure()\n",
    "plt.title('Time comparison of 3 algorithms, log scale for time with basis 10')\n",
    "\n",
    "xs = [x[0] for x in res_moi]\n",
    "ys = [math.log(x[1],10) for x in res_moi]\n",
    "line1 = plt.plot(xs,ys, color='blue', alpha=0.7, label=\"brandes\")\n",
    "xss = [x[0] for x in res_matthieu]\n",
    "yss = [math.log(x[1],10) for x in res_matthieu]\n",
    "line2 = plt.plot(xss,yss, color='red', alpha=0.7, label=\"basic\")\n",
    "xsss = [x[0] for x in res_matthieu_mem]\n",
    "ysss = [math.log(x[1],10) for x in res_matthieu_mem]\n",
    "line3 = plt.plot(xsss,ysss, color='orange', alpha=0.7, label = \"basic mem\")\n",
    "\n",
    "plt.ylabel('log of time in seconds')\n",
    "plt.xlabel('number of nodes')\n",
    "plt.legend(loc='best')\n",
    "plt.grid( color='black', alpha=0.1, linestyle='dashdot')\n",
    "plt.savefig('time_comp_log.png')\n",
    "plt.show()\n"
   ]
  },
  {
   "cell_type": "code",
   "execution_count": null,
   "metadata": {},
   "outputs": [],
   "source": []
  }
 ],
 "metadata": {
  "kernelspec": {
   "display_name": "Python 3 (ipykernel)",
   "language": "python",
   "name": "python3"
  },
  "language_info": {
   "codemirror_mode": {
    "name": "ipython",
    "version": 3
   },
   "file_extension": ".py",
   "mimetype": "text/x-python",
   "name": "python",
   "nbconvert_exporter": "python",
   "pygments_lexer": "ipython3",
   "version": "3.10.6"
  }
 },
 "nbformat": 4,
 "nbformat_minor": 4
}
