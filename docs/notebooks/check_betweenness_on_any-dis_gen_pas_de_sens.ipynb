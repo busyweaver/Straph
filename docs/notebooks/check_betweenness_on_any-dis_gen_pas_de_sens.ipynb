{
 "cells": [
  {
   "cell_type": "code",
   "execution_count": 39,
   "metadata": {},
   "outputs": [
    {
     "name": "stdout",
     "output_type": "stream",
     "text": [
      "Processing /home/mehdi/Straph\n",
      "\u001b[33m  DEPRECATION: A future pip version will change local packages to be built in-place without first copying to a temporary directory. We recommend you use --use-feature=in-tree-build to test your packages with this new behavior before it becomes the default.\n",
      "   pip 21.3 will remove support for this functionality. You can find discussion regarding this at https://github.com/pypa/pip/issues/7555.\u001b[0m\n",
      "Building wheels for collected packages: straph\n",
      "  Building wheel for straph (setup.py) ... \u001b[?25ldone\n",
      "\u001b[?25h  Created wheel for straph: filename=straph-0.3-py3-none-any.whl size=128159 sha256=1bd3b00eaeb4a6618a2d70e2bfaa27a730934aa3b7337e8477b66ff0bed080dd\n",
      "  Stored in directory: /tmp/pip-ephem-wheel-cache-ee5hrjoj/wheels/b5/a9/15/900863b02cb736e4f08449e03d1d2d6ad447e06de70afc5fed\n",
      "Successfully built straph\n",
      "Installing collected packages: straph\n",
      "  Attempting uninstall: straph\n",
      "    Found existing installation: straph 0.3\n",
      "    Uninstalling straph-0.3:\n",
      "      Successfully uninstalled straph-0.3\n",
      "Successfully installed straph-0.3\n",
      "\u001b[33mWARNING: You are using pip version 21.1.2; however, version 22.2.2 is available.\n",
      "You should consider upgrading via the '/home/mehdi/sage_github/sage/bin/python3 -m pip install --upgrade pip' command.\u001b[0m\n",
      "Note: you may need to restart the kernel to use updated packages.\n"
     ]
    }
   ],
   "source": [
    "pip install ../../"
   ]
  },
  {
   "cell_type": "code",
   "execution_count": 1,
   "metadata": {},
   "outputs": [],
   "source": [
    "import straph as sg\n",
    "import pandas as pd\n",
    "import matplotlib.pyplot as plt\n",
    "import straph.betweenness as bt\n",
    "import numpy"
   ]
  },
  {
   "cell_type": "code",
   "execution_count": 2,
   "metadata": {},
   "outputs": [],
   "source": [
    "plt.rcParams[\"figure.figsize\"] = (12,9)"
   ]
  },
  {
   "cell_type": "code",
   "execution_count": 3,
   "metadata": {},
   "outputs": [
    {
     "name": "stdout",
     "output_type": "stream",
     "text": [
      "Nb of Nodes :  5\n",
      "Nb of segmented nodes :  5.0\n",
      "Nb of links :  15\n",
      "Nb of segmented links :  19.0\n",
      "Nb of event times :  6\n"
     ]
    }
   ],
   "source": [
    "T = [0,5]\n",
    "nb_node = 5\n",
    "prob = 0.1\n",
    "S = sg.erdos_renyi_discrete(T, nb_node,prob)\n",
    "S.describe()"
   ]
  },
  {
   "cell_type": "code",
   "execution_count": 4,
   "metadata": {},
   "outputs": [
    {
     "data": {
      "text/plain": [
       "<AxesSubplot:xlabel='t', ylabel='Nodes'>"
      ]
     },
     "execution_count": 4,
     "metadata": {},
     "output_type": "execute_result"
    },
    {
     "name": "stderr",
     "output_type": "stream",
     "text": [
      "findfont: Font family ['Garamond'] not found. Falling back to DejaVu Sans.\n"
     ]
    },
    {
     "data": {
      "image/png": "[encoded data removed]",
      "text/plain": [
       "<Figure size 864x648 with 1 Axes>"
      ]
     },
     "metadata": {
      "needs_background": "light"
     },
     "output_type": "display_data"
    }
   ],
   "source": [
    "S.plot()"
   ]
  },
  {
   "cell_type": "code",
   "execution_count": 5,
   "metadata": {},
   "outputs": [],
   "source": [
    "import straph.paths.meta_walks as mw\n",
    "import operator\n",
    "b = operator.lt\n",
    "walk_type = \"active\"\n",
    "fun =  mw.Metawalk.co_sfp"
   ]
  },
  {
   "cell_type": "code",
   "execution_count": 6,
   "metadata": {},
   "outputs": [],
   "source": [
    "bt.to_undirected(S)"
   ]
  },
  {
   "cell_type": "code",
   "execution_count": 7,
   "metadata": {},
   "outputs": [],
   "source": [
    "SS = S.stream_graph_to_link_stream()"
   ]
  },
  {
   "cell_type": "code",
   "execution_count": 8,
   "metadata": {},
   "outputs": [],
   "source": [
    "SS.write_to_matthieu_link_stream(\"any\")"
   ]
  },
  {
   "cell_type": "code",
   "execution_count": 23,
   "metadata": {},
   "outputs": [
    {
     "name": "stdout",
     "output_type": "stream",
     "text": [
      "0 out of 5\n",
      "finish optimal paths 1.8310546875e-05\n",
      "finish predecessor 2.110004425048828e-06 size pred 14\n",
      "remove and ordrered 9.330113728841146e-06 new size 14\n",
      "finish sigma\n",
      "finish sigma_r, sigma_tot 2.276897430419922e-06\n",
      "finish delta\n",
      "finish contribution 1.4821688334147136e-06\n",
      "1 out of 5\n",
      "finish optimal paths 2.1835168202718098e-05\n",
      "finish predecessor 2.300739288330078e-06 size pred 16\n",
      "remove and ordrered 1.0156631469726563e-05 new size 16\n",
      "finish sigma\n",
      "finish sigma_r, sigma_tot 1.8000602722167968e-06\n",
      "finish delta\n",
      "finish contribution 1.5020370483398437e-06\n",
      "2 out of 5\n",
      "finish optimal paths 2.5371710459391277e-05\n",
      "finish predecessor 2.304712931315104e-06 size pred 20\n",
      "remove and ordrered 1.1599063873291015e-05 new size 20\n",
      "finish sigma\n",
      "finish sigma_r, sigma_tot 2.2411346435546876e-06\n",
      "finish delta\n",
      "finish contribution 1.9192695617675783e-06\n",
      "3 out of 5\n",
      "finish optimal paths 2.5602181752522788e-05\n",
      "finish predecessor 4.291534423828125e-06 size pred 20\n",
      "remove and ordrered 1.0327498118082683e-05 new size 20\n",
      "finish sigma\n",
      "finish sigma_r, sigma_tot 1.7364819844563802e-06\n",
      "finish delta\n",
      "finish contribution 1.5060106913248697e-06\n",
      "4 out of 5\n",
      "finish optimal paths 1.5139579772949219e-05\n",
      "finish predecessor 1.4742215474446615e-06 size pred 14\n",
      "remove and ordrered 9.36587651570638e-06 new size 14\n",
      "finish sigma\n",
      "finish sigma_r, sigma_tot 1.5060106913248697e-06\n",
      "finish delta\n",
      "finish contribution 1.1642773946126303e-06\n"
     ]
    }
   ],
   "source": [
    "exact_between, betweenness ,features, general_contri = bt.betweenness_all_dis_gen(S, b, fun, walk_type, approx = -1)"
   ]
  },
  {
   "cell_type": "code",
   "execution_count": 24,
   "metadata": {},
   "outputs": [
    {
     "name": "stdout",
     "output_type": "stream",
     "text": [
      "0 out of 5\n",
      "finish optimal paths 2.2113323211669922e-05\n",
      "finish predecessor 2.1497408548990887e-06 size pred 14\n",
      "remove and ordrered 9.779135386149088e-06 new size 14\n",
      "finish sigma\n",
      "finish sigma_r, sigma_tot 2.1219253540039063e-06\n",
      "finish delta\n",
      "finish contribution 1.5934308369954428e-06\n",
      "1 out of 5\n",
      "finish optimal paths 2.1187464396158853e-05\n",
      "finish predecessor 2.4517377217610677e-06 size pred 16\n",
      "remove and ordrered 9.878476460774739e-06 new size 16\n",
      "finish sigma\n",
      "finish sigma_r, sigma_tot 1.8914540608723959e-06\n",
      "finish delta\n",
      "finish contribution 1.4623006184895834e-06\n",
      "2 out of 5\n",
      "finish optimal paths 2.8173128763834637e-05\n",
      "finish predecessor 2.3086865743001303e-06 size pred 20\n",
      "remove and ordrered 1.1150042215983073e-05 new size 20\n",
      "finish sigma\n",
      "finish sigma_r, sigma_tot 1.8874804178873699e-06\n",
      "finish delta\n",
      "finish contribution 1.8517176310221354e-06\n",
      "3 out of 5\n",
      "finish optimal paths 2.3996829986572267e-05\n",
      "finish predecessor 2.360343933105469e-06 size pred 20\n",
      "remove and ordrered 1.008907953898112e-05 new size 20\n",
      "finish sigma\n",
      "finish sigma_r, sigma_tot 1.6768773396809896e-06\n",
      "finish delta\n",
      "finish contribution 1.4623006184895834e-06\n",
      "4 out of 5\n",
      "finish optimal paths 1.4964739481608073e-05\n",
      "finish predecessor 1.7444292704264322e-06 size pred 14\n",
      "remove and ordrered 1.1169910430908203e-05 new size 14\n",
      "finish sigma\n",
      "finish sigma_r, sigma_tot 2.7219454447428384e-06\n",
      "finish delta\n",
      "finish contribution 1.9550323486328123e-06\n"
     ]
    }
   ],
   "source": [
    "import time\n",
    "start = time.time()\n",
    "bt.simulations_dis_gen(SS, \"papier\", b, fun, walk_type)\n",
    "end = time.time()"
   ]
  },
  {
   "cell_type": "code",
   "execution_count": 25,
   "metadata": {},
   "outputs": [
    {
     "name": "stdout",
     "output_type": "stream",
     "text": [
      "0.02493453025817871\n"
     ]
    }
   ],
   "source": [
    "print(end-start)"
   ]
  },
  {
   "cell_type": "code",
   "execution_count": 26,
   "metadata": {},
   "outputs": [],
   "source": [
    "bet_moi = bt.read_dictionary(\"papier_betweenness.pic\")"
   ]
  },
  {
   "cell_type": "code",
   "execution_count": 27,
   "metadata": {},
   "outputs": [
    {
     "data": {
      "text/plain": [
       "256"
      ]
     },
     "execution_count": 27,
     "metadata": {},
     "output_type": "execute_result"
    }
   ],
   "source": [
    "import os\n",
    "cmd = 'mv any_mat.ls archive_code/Test'\n",
    "os.system(cmd)"
   ]
  },
  {
   "cell_type": "code",
   "execution_count": 28,
   "metadata": {},
   "outputs": [],
   "source": [
    "import time\n",
    "start = time.time()\n",
    "import os\n",
    "cmd = 'python2 archive_code/betweenness_all.py Test/any_mat.ls -1 res'\n",
    "os.system(cmd)\n",
    "end = time.time()"
   ]
  },
  {
   "cell_type": "code",
   "execution_count": 29,
   "metadata": {},
   "outputs": [],
   "source": [
    "bet_mat = bt.read_dictionary(\"res_betweenness.pic\")"
   ]
  },
  {
   "cell_type": "code",
   "execution_count": 30,
   "metadata": {},
   "outputs": [
    {
     "data": {
      "text/plain": [
       "{'1': {0.0: 0.0, 1.0: 0.0, 2.0: 11.0, 3.0: 29.0, 4.0: 25.0, 5.0: 0.0},\n",
       " '0': {0.0: 0.0, 1.0: 0.0, 2.0: 0.0, 3.0: 44.0, 4.0: 14.0, 5.0: 0.0},\n",
       " '3': {0.0: 0.0, 1.0: 9.0, 2.0: 11.0, 3.0: 39.0, 4.0: 13.0, 5.0: 0.0},\n",
       " '2': {0.0: 0.0, 1.0: 9.0, 2.0: 0.0, 3.0: 52.0, 4.0: 0.0, 5.0: 0.0},\n",
       " '4': {0.0: 0.0, 1.0: 0.0, 2.0: 0.0, 3.0: 64.0, 4.0: 14.0, 5.0: 0.0}}"
      ]
     },
     "execution_count": 30,
     "metadata": {},
     "output_type": "execute_result"
    }
   ],
   "source": [
    "bet_mat"
   ]
  },
  {
   "cell_type": "code",
   "execution_count": 31,
   "metadata": {},
   "outputs": [
    {
     "data": {
      "text/plain": [
       "{'0': {0: 0.0, 1: 0.0, 2: 0.0, 3: 4.0, 4: 1.0, 5: 3.0},\n",
       " '1': {0: 0.3333333333333333,\n",
       "  1: 0.0,\n",
       "  2: 0.8333333333333333,\n",
       "  3: 0.6666666666666666,\n",
       "  4: 2.5,\n",
       "  5: 3.6666666666666665},\n",
       " '2': {0: 0.5, 1: 1.0, 2: 0.0, 3: 3.5, 4: 0.0, 5: 3.0},\n",
       " '3': {0: 0.3333333333333333,\n",
       "  1: 1.0,\n",
       "  2: 0.8333333333333333,\n",
       "  3: 3.0,\n",
       "  4: 1.8333333333333333,\n",
       "  5: 1.0},\n",
       " '4': {0: 0.5,\n",
       "  1: 0.0,\n",
       "  2: 0.0,\n",
       "  3: 3.1666666666666665,\n",
       "  4: 1.6666666666666665,\n",
       "  5: 2.6666666666666665}}"
      ]
     },
     "execution_count": 31,
     "metadata": {},
     "output_type": "execute_result"
    }
   ],
   "source": [
    "bet_moi"
   ]
  },
  {
   "cell_type": "code",
   "execution_count": null,
   "metadata": {},
   "outputs": [],
   "source": []
  },
  {
   "cell_type": "code",
   "execution_count": 32,
   "metadata": {},
   "outputs": [
    {
     "name": "stdout",
     "output_type": "stream",
     "text": [
      "erreur  0 3 =>    4.0 44.0\n",
      "erreur  0 4 =>    1.0 14.0\n",
      "erreur  0 5 =>    3.0 0.0\n",
      "erreur  1 0 =>    0.3333333333333333 0.0\n",
      "erreur  1 2 =>    0.8333333333333333 11.0\n",
      "erreur  1 3 =>    0.6666666666666666 29.0\n",
      "erreur  1 4 =>    2.5 25.0\n",
      "erreur  1 5 =>    3.6666666666666665 0.0\n",
      "erreur  2 0 =>    0.5 0.0\n",
      "erreur  2 1 =>    1.0 9.0\n",
      "erreur  2 3 =>    3.5 52.0\n",
      "erreur  2 5 =>    3.0 0.0\n",
      "erreur  3 0 =>    0.3333333333333333 0.0\n",
      "erreur  3 1 =>    1.0 9.0\n",
      "erreur  3 2 =>    0.8333333333333333 11.0\n",
      "erreur  3 3 =>    3.0 39.0\n",
      "erreur  3 4 =>    1.8333333333333333 13.0\n",
      "erreur  3 5 =>    1.0 0.0\n",
      "erreur  4 0 =>    0.5 0.0\n",
      "erreur  4 3 =>    3.1666666666666665 64.0\n",
      "erreur  4 4 =>    1.6666666666666665 14.0\n",
      "erreur  4 5 =>    2.6666666666666665 0.0\n"
     ]
    }
   ],
   "source": [
    "for v in bet_moi.keys():\n",
    "    for t in bet_moi[v].keys():\n",
    "        if (v.lower() in bet_mat ):\n",
    "            if not (abs(bet_moi[v][t] - bet_mat[v.lower()][t]) < 1/100):\n",
    "                print(\"erreur \",v,t,\"=>   \", bet_moi[v][t], bet_mat[v.lower()][t])"
   ]
  },
  {
   "cell_type": "code",
   "execution_count": 33,
   "metadata": {},
   "outputs": [],
   "source": [
    "#contribution check\n",
    "node = 0"
   ]
  },
  {
   "cell_type": "code",
   "execution_count": 34,
   "metadata": {},
   "outputs": [
    {
     "data": {
      "text/plain": [
       "0"
      ]
     },
     "execution_count": 34,
     "metadata": {},
     "output_type": "execute_result"
    }
   ],
   "source": [
    "import os\n",
    "cmd = 'python2 archive_code/betweenness_tout.py Test/any_mat.ls -1 ' + S.node_to_label[node].lower() + \" cont\"\n",
    "os.system(cmd)"
   ]
  },
  {
   "cell_type": "code",
   "execution_count": 35,
   "metadata": {},
   "outputs": [],
   "source": [
    "cont_mat = bt.read_dictionary(\"cont_contri.pic\")"
   ]
  },
  {
   "cell_type": "code",
   "execution_count": 38,
   "metadata": {},
   "outputs": [
    {
     "name": "stdout",
     "output_type": "stream",
     "text": [
      "erreur  3 4 =>    ( 0.0 ) 1.0\n",
      "erreur  3 3 =>    ( 1.0 ) 10.0\n",
      "erreur  2 3 =>    ( 1.0 ) 10.0\n",
      "erreur  1 5 =>    ( 0.5 ) 0.0\n",
      "erreur  1 4 =>    ( 0.5 ) 7.0\n",
      "erreur  1 3 =>    ( 0.0 ) 3.0\n",
      "erreur  0 5 =>    ( 1.5 ) 0.0\n",
      "erreur  0 4 =>    ( 0.5 ) 7.0\n",
      "erreur  0 3 =>    ( 2.0 ) 20.0\n",
      "erreur  4 5 =>    ( 1.0 ) 0.0\n",
      "erreur  4 4 =>    ( 0.0 ) 2.0\n",
      "erreur  4 3 =>    ( 0.0 ) 8.0\n"
     ]
    }
   ],
   "source": [
    "for v in general_contri[node].keys():\n",
    "    for t in general_contri[node][v].keys():\n",
    "        if S.node_to_label[v].lower() in cont_mat:\n",
    "            if abs(general_contri[node][v][t] - cont_mat[S.node_to_label[v].lower()][t]) > 1/100:\n",
    "                print(\"erreur \",v,t,\"=>   \", \"(\",general_contri[node][v][t],\")\" ,cont_mat[S.node_to_label[v].lower()][t])"
   ]
  },
  {
   "cell_type": "code",
   "execution_count": 27,
   "metadata": {},
   "outputs": [
    {
     "name": "stdout",
     "output_type": "stream",
     "text": [
      "python2 archive_code/betweenness_memoise.py Test/any_mat.ls -1 res\n",
      "archive_code\n",
      "[4.292341331544192, 18.153630976219148, 38.48480346296546, 39.57106229598435, 39.60586144005707, 40.557407966832145, 43.09224693979919, 44.14298861436873, 44.72548613914977, 46.991767362739246, 47.34837121915008, 47.66884766318105, 48.56635134337624, 48.607816129292, 49.01203120834529, 49.20304042384861, 49.310494682413456, 49.414397263265954, 49.89598570734869, 51.309946463221046, 51.337771148792214, 51.76492403245176, 51.779898563376214, 51.839418982888844, 52.98648925735928, 53.19309851232062, 55.299129757202024, 57.924940214582506, 58.19902372623584, 58.39264998002975, 58.74243354280465, 59.13730644314801, 60.0992644160528, 61.65676184746454, 62.803568346090174, 64.63288736923437, 65.9824505576728, 66.38669531203955, 67.21937010220222, 68.64316344428731, 69.13768230673543, 69.37063416569096, 69.86908611676219, 70.82750479037168, 70.8320893995261, 73.08569412608865, 73.20769555737274, 73.82852014701292, 73.83227280257381, 74.6386055798973, 74.65709199735666, 74.80400971843326, 75.19720676759528, 75.59103105681858, 76.56828131952992, 77.28038969039763, 77.63551777585009, 78.07746582068037, 79.03147289507643, 79.22775704920022, 79.43647332399576, 79.46989771962158, 82.08500603847828, 83.61810786653501, 84.93138748386028, 88.84376287181365, 89.56539839723901, 90.14661090477614, 98.28164296300706, 98.92297200618913, 99.90926495086265, 100.0, 100.0]\n",
      "latency and distances finished\n"
     ]
    }
   ],
   "source": [
    "import os\n",
    "import time\n",
    "cmd = 'python2 archive_code/betweenness_memoise.py Test/any_mat.ls -1 res'\n",
    "print (cmd)\n",
    "start = time.time()\n",
    "os.system(cmd)\n",
    "end = time.time()"
   ]
  },
  {
   "cell_type": "code",
   "execution_count": 28,
   "metadata": {},
   "outputs": [
    {
     "name": "stdout",
     "output_type": "stream",
     "text": [
      "281.2585198879242\n"
     ]
    }
   ],
   "source": [
    "print(end-start)"
   ]
  },
  {
   "cell_type": "code",
   "execution_count": 34,
   "metadata": {},
   "outputs": [],
   "source": [
    "SS.write_to_sg(\"examples/erdos8\")"
   ]
  },
  {
   "cell_type": "code",
   "execution_count": 3,
   "metadata": {},
   "outputs": [
    {
     "data": {
      "text/plain": [
       "1.0594630943592953"
      ]
     },
     "execution_count": 3,
     "metadata": {},
     "output_type": "execute_result"
    }
   ],
   "source": [
    "pow(2.0,(1/12))"
   ]
  },
  {
   "cell_type": "code",
   "execution_count": 4,
   "metadata": {},
   "outputs": [
    {
     "name": "stdout",
     "output_type": "stream",
     "text": [
      "0 0\n",
      "0 1\n",
      "0 2\n",
      "0 3\n",
      "1 0\n",
      "2 0\n",
      "2 1\n",
      "2 2\n",
      "2 3\n",
      "3 0\n",
      "3 1\n",
      "3 2\n",
      "3 3\n"
     ]
    }
   ],
   "source": [
    "for i in range(4):\n",
    "    for j in range(4):\n",
    "        if i==1 and j==1:\n",
    "            break\n",
    "        print(i,j)"
   ]
  },
  {
   "cell_type": "code",
   "execution_count": null,
   "metadata": {},
   "outputs": [],
   "source": []
  }
 ],
 "metadata": {
  "kernelspec": {
   "display_name": "Python 3 (ipykernel)",
   "language": "python",
   "name": "python3"
  },
  "language_info": {
   "codemirror_mode": {
    "name": "ipython",
    "version": 3
   },
   "file_extension": ".py",
   "mimetype": "text/x-python",
   "name": "python",
   "nbconvert_exporter": "python",
   "pygments_lexer": "ipython3",
   "version": "3.10.12"
  }
 },
 "nbformat": 4,
 "nbformat_minor": 4
}
